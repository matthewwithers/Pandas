{
 "metadata": {
  "language_info": {
   "codemirror_mode": {
    "name": "ipython",
    "version": 3
   },
   "file_extension": ".py",
   "mimetype": "text/x-python",
   "name": "python",
   "nbconvert_exporter": "python",
   "pygments_lexer": "ipython3",
   "version": "3.7.6"
  },
  "orig_nbformat": 2,
  "kernelspec": {
   "name": "python376jvsc74a57bd01334010457180b265d09b56daeed883170adb1c65c35741b4ba4ec40109d9a77",
   "display_name": "Python 3.7.6 64-bit ('base': conda)"
  }
 },
 "nbformat": 4,
 "nbformat_minor": 2,
 "cells": [
  {
   "cell_type": "code",
   "execution_count": 1,
   "metadata": {},
   "outputs": [
    {
     "output_type": "execute_result",
     "data": {
      "text/plain": [
       "          Company      Sector                     Industry         Location  \\\n",
       "Rank                                                                          \n",
       "1         Walmart   Retailing        General Merchandisers  Bentonville, AR   \n",
       "2     Exxon Mobil      Energy           Petroleum Refining       Irving, TX   \n",
       "3           Apple  Technology  Computers, Office Equipment    Cupertino, CA   \n",
       "\n",
       "      Revenue  Profits  Employees  \n",
       "Rank                               \n",
       "1      482130    14694    2300000  \n",
       "2      246204    16150      75600  \n",
       "3      233715    53394     110000  "
      ],
      "text/html": "<div>\n<style scoped>\n    .dataframe tbody tr th:only-of-type {\n        vertical-align: middle;\n    }\n\n    .dataframe tbody tr th {\n        vertical-align: top;\n    }\n\n    .dataframe thead th {\n        text-align: right;\n    }\n</style>\n<table border=\"1\" class=\"dataframe\">\n  <thead>\n    <tr style=\"text-align: right;\">\n      <th></th>\n      <th>Company</th>\n      <th>Sector</th>\n      <th>Industry</th>\n      <th>Location</th>\n      <th>Revenue</th>\n      <th>Profits</th>\n      <th>Employees</th>\n    </tr>\n    <tr>\n      <th>Rank</th>\n      <th></th>\n      <th></th>\n      <th></th>\n      <th></th>\n      <th></th>\n      <th></th>\n      <th></th>\n    </tr>\n  </thead>\n  <tbody>\n    <tr>\n      <th>1</th>\n      <td>Walmart</td>\n      <td>Retailing</td>\n      <td>General Merchandisers</td>\n      <td>Bentonville, AR</td>\n      <td>482130</td>\n      <td>14694</td>\n      <td>2300000</td>\n    </tr>\n    <tr>\n      <th>2</th>\n      <td>Exxon Mobil</td>\n      <td>Energy</td>\n      <td>Petroleum Refining</td>\n      <td>Irving, TX</td>\n      <td>246204</td>\n      <td>16150</td>\n      <td>75600</td>\n    </tr>\n    <tr>\n      <th>3</th>\n      <td>Apple</td>\n      <td>Technology</td>\n      <td>Computers, Office Equipment</td>\n      <td>Cupertino, CA</td>\n      <td>233715</td>\n      <td>53394</td>\n      <td>110000</td>\n    </tr>\n  </tbody>\n</table>\n</div>"
     },
     "metadata": {},
     "execution_count": 1
    }
   ],
   "source": [
    "import pandas as pd \n",
    "fortune = pd.read_csv('../Files/fortune1000.csv', index_col=\"Rank\")\n",
    "sectors = fortune.groupby(\"Sector\")\n",
    "fortune.head(3)"
   ]
  },
  {
   "cell_type": "code",
   "execution_count": 2,
   "metadata": {},
   "outputs": [],
   "source": [
    "# Retrieve a group with the .get_group() Method"
   ]
  },
  {
   "cell_type": "code",
   "execution_count": 8,
   "metadata": {},
   "outputs": [
    {
     "output_type": "execute_result",
     "data": {
      "text/plain": [
       "                   Company   Sector Industry             Location  Revenue  \\\n",
       "Rank                                                                         \n",
       "91                    Nike  Apparel  Apparel        Beaverton, OR    30601   \n",
       "231                     VF  Apparel  Apparel       Greensboro, NC    12377   \n",
       "340                    PVH  Apparel  Apparel         New York, NY     8020   \n",
       "354           Ralph Lauren  Apparel  Apparel         New York, NY     7620   \n",
       "448            Hanesbrands  Apparel  Apparel    Winston-Salem, NC     5732   \n",
       "547           Levi Strauss  Apparel  Apparel    San Francisco, CA     4495   \n",
       "575                  Coach  Apparel  Apparel         New York, NY     4192   \n",
       "597           Under Armour  Apparel  Apparel        Baltimore, MD     3963   \n",
       "683           Fossil Group  Apparel  Apparel       Richardson, TX     3229   \n",
       "695        Skechers U.S.A.  Apparel  Apparel  Manhattan Beach, CA     3159   \n",
       "726               Carter’s  Apparel  Apparel          Atlanta, GA     3014   \n",
       "794   Wolverine World Wide  Apparel  Apparel         Rockford, MI     2692   \n",
       "877    G-III Apparel Group  Apparel  Apparel         New York, NY     2344   \n",
       "882    Columbia Sportswear  Apparel  Apparel         Portland, OR     2326   \n",
       "917                  Guess  Apparel  Apparel      Los Angeles, CA     2204   \n",
       "\n",
       "      Profits  Employees  \n",
       "Rank                      \n",
       "91       3273      62600  \n",
       "231      1232      64000  \n",
       "340       572      26200  \n",
       "354       702      20000  \n",
       "448       429      65300  \n",
       "547       209      12500  \n",
       "575       402      12950  \n",
       "597       233       9600  \n",
       "683       221      15100  \n",
       "695       232       6400  \n",
       "726       238      16800  \n",
       "794       123       6550  \n",
       "877       114       8919  \n",
       "882       174       5978  \n",
       "917        82      13500  "
      ],
      "text/html": "<div>\n<style scoped>\n    .dataframe tbody tr th:only-of-type {\n        vertical-align: middle;\n    }\n\n    .dataframe tbody tr th {\n        vertical-align: top;\n    }\n\n    .dataframe thead th {\n        text-align: right;\n    }\n</style>\n<table border=\"1\" class=\"dataframe\">\n  <thead>\n    <tr style=\"text-align: right;\">\n      <th></th>\n      <th>Company</th>\n      <th>Sector</th>\n      <th>Industry</th>\n      <th>Location</th>\n      <th>Revenue</th>\n      <th>Profits</th>\n      <th>Employees</th>\n    </tr>\n    <tr>\n      <th>Rank</th>\n      <th></th>\n      <th></th>\n      <th></th>\n      <th></th>\n      <th></th>\n      <th></th>\n      <th></th>\n    </tr>\n  </thead>\n  <tbody>\n    <tr>\n      <th>91</th>\n      <td>Nike</td>\n      <td>Apparel</td>\n      <td>Apparel</td>\n      <td>Beaverton, OR</td>\n      <td>30601</td>\n      <td>3273</td>\n      <td>62600</td>\n    </tr>\n    <tr>\n      <th>231</th>\n      <td>VF</td>\n      <td>Apparel</td>\n      <td>Apparel</td>\n      <td>Greensboro, NC</td>\n      <td>12377</td>\n      <td>1232</td>\n      <td>64000</td>\n    </tr>\n    <tr>\n      <th>340</th>\n      <td>PVH</td>\n      <td>Apparel</td>\n      <td>Apparel</td>\n      <td>New York, NY</td>\n      <td>8020</td>\n      <td>572</td>\n      <td>26200</td>\n    </tr>\n    <tr>\n      <th>354</th>\n      <td>Ralph Lauren</td>\n      <td>Apparel</td>\n      <td>Apparel</td>\n      <td>New York, NY</td>\n      <td>7620</td>\n      <td>702</td>\n      <td>20000</td>\n    </tr>\n    <tr>\n      <th>448</th>\n      <td>Hanesbrands</td>\n      <td>Apparel</td>\n      <td>Apparel</td>\n      <td>Winston-Salem, NC</td>\n      <td>5732</td>\n      <td>429</td>\n      <td>65300</td>\n    </tr>\n    <tr>\n      <th>547</th>\n      <td>Levi Strauss</td>\n      <td>Apparel</td>\n      <td>Apparel</td>\n      <td>San Francisco, CA</td>\n      <td>4495</td>\n      <td>209</td>\n      <td>12500</td>\n    </tr>\n    <tr>\n      <th>575</th>\n      <td>Coach</td>\n      <td>Apparel</td>\n      <td>Apparel</td>\n      <td>New York, NY</td>\n      <td>4192</td>\n      <td>402</td>\n      <td>12950</td>\n    </tr>\n    <tr>\n      <th>597</th>\n      <td>Under Armour</td>\n      <td>Apparel</td>\n      <td>Apparel</td>\n      <td>Baltimore, MD</td>\n      <td>3963</td>\n      <td>233</td>\n      <td>9600</td>\n    </tr>\n    <tr>\n      <th>683</th>\n      <td>Fossil Group</td>\n      <td>Apparel</td>\n      <td>Apparel</td>\n      <td>Richardson, TX</td>\n      <td>3229</td>\n      <td>221</td>\n      <td>15100</td>\n    </tr>\n    <tr>\n      <th>695</th>\n      <td>Skechers U.S.A.</td>\n      <td>Apparel</td>\n      <td>Apparel</td>\n      <td>Manhattan Beach, CA</td>\n      <td>3159</td>\n      <td>232</td>\n      <td>6400</td>\n    </tr>\n    <tr>\n      <th>726</th>\n      <td>Carter’s</td>\n      <td>Apparel</td>\n      <td>Apparel</td>\n      <td>Atlanta, GA</td>\n      <td>3014</td>\n      <td>238</td>\n      <td>16800</td>\n    </tr>\n    <tr>\n      <th>794</th>\n      <td>Wolverine World Wide</td>\n      <td>Apparel</td>\n      <td>Apparel</td>\n      <td>Rockford, MI</td>\n      <td>2692</td>\n      <td>123</td>\n      <td>6550</td>\n    </tr>\n    <tr>\n      <th>877</th>\n      <td>G-III Apparel Group</td>\n      <td>Apparel</td>\n      <td>Apparel</td>\n      <td>New York, NY</td>\n      <td>2344</td>\n      <td>114</td>\n      <td>8919</td>\n    </tr>\n    <tr>\n      <th>882</th>\n      <td>Columbia Sportswear</td>\n      <td>Apparel</td>\n      <td>Apparel</td>\n      <td>Portland, OR</td>\n      <td>2326</td>\n      <td>174</td>\n      <td>5978</td>\n    </tr>\n    <tr>\n      <th>917</th>\n      <td>Guess</td>\n      <td>Apparel</td>\n      <td>Apparel</td>\n      <td>Los Angeles, CA</td>\n      <td>2204</td>\n      <td>82</td>\n      <td>13500</td>\n    </tr>\n  </tbody>\n</table>\n</div>"
     },
     "metadata": {},
     "execution_count": 8
    }
   ],
   "source": [
    "sectors.get_group('Energy')\n",
    "sectors.get_group('Technology')\n",
    "sectors.get_group('Apparel')"
   ]
  },
  {
   "cell_type": "code",
   "execution_count": 12,
   "metadata": {},
   "outputs": [
    {
     "output_type": "execute_result",
     "data": {
      "text/plain": [
       "                                   Revenue      Profits     Employees\n",
       "Sector                                                               \n",
       "Aerospace & Defense           17897.000000  1437.100000  48402.850000\n",
       "Apparel                        6397.866667   549.066667  23093.133333\n",
       "Business Services              5337.156863   553.470588  26687.254902\n",
       "Chemicals                      8129.900000   754.266667  15455.033333\n",
       "Energy                        12441.057377  -602.024590   9745.303279\n",
       "Engineering & Construction     5922.423077   204.000000  15642.615385\n",
       "Financials                    15950.784173  1872.007194  24172.287770\n",
       "Food and Drug Stores          32251.266667  1117.266667  93026.533333\n",
       "Food, Beverages & Tobacco     12929.465116  1195.744186  28177.488372\n",
       "Health Care                   21529.426667  1414.853333  35710.520000\n",
       "Hotels, Resturants & Leisure   6781.840000   827.880000  99369.800000\n",
       "Household Products             8383.464286   515.285714  23072.785714\n",
       "Industrials                   10816.978261   451.391304  33591.934783\n",
       "Materials                      6026.627907   102.976744  14840.069767\n",
       "Media                          8830.560000   973.880000  22012.560000\n",
       "Motor Vehicles & Parts        20105.833333  1079.083333  45106.666667\n",
       "Retailing                     18313.450000   597.875000  77845.362500\n",
       "Technology                    13505.882353  1769.343137  35087.735294\n",
       "Telecommunications            30788.933333  3242.466667  55497.866667\n",
       "Transportation                11347.444444  1226.916667  42688.694444\n",
       "Wholesalers                   11120.000000   205.825000  13139.925000"
      ],
      "text/html": "<div>\n<style scoped>\n    .dataframe tbody tr th:only-of-type {\n        vertical-align: middle;\n    }\n\n    .dataframe tbody tr th {\n        vertical-align: top;\n    }\n\n    .dataframe thead th {\n        text-align: right;\n    }\n</style>\n<table border=\"1\" class=\"dataframe\">\n  <thead>\n    <tr style=\"text-align: right;\">\n      <th></th>\n      <th>Revenue</th>\n      <th>Profits</th>\n      <th>Employees</th>\n    </tr>\n    <tr>\n      <th>Sector</th>\n      <th></th>\n      <th></th>\n      <th></th>\n    </tr>\n  </thead>\n  <tbody>\n    <tr>\n      <th>Aerospace &amp; Defense</th>\n      <td>17897.000000</td>\n      <td>1437.100000</td>\n      <td>48402.850000</td>\n    </tr>\n    <tr>\n      <th>Apparel</th>\n      <td>6397.866667</td>\n      <td>549.066667</td>\n      <td>23093.133333</td>\n    </tr>\n    <tr>\n      <th>Business Services</th>\n      <td>5337.156863</td>\n      <td>553.470588</td>\n      <td>26687.254902</td>\n    </tr>\n    <tr>\n      <th>Chemicals</th>\n      <td>8129.900000</td>\n      <td>754.266667</td>\n      <td>15455.033333</td>\n    </tr>\n    <tr>\n      <th>Energy</th>\n      <td>12441.057377</td>\n      <td>-602.024590</td>\n      <td>9745.303279</td>\n    </tr>\n    <tr>\n      <th>Engineering &amp; Construction</th>\n      <td>5922.423077</td>\n      <td>204.000000</td>\n      <td>15642.615385</td>\n    </tr>\n    <tr>\n      <th>Financials</th>\n      <td>15950.784173</td>\n      <td>1872.007194</td>\n      <td>24172.287770</td>\n    </tr>\n    <tr>\n      <th>Food and Drug Stores</th>\n      <td>32251.266667</td>\n      <td>1117.266667</td>\n      <td>93026.533333</td>\n    </tr>\n    <tr>\n      <th>Food, Beverages &amp; Tobacco</th>\n      <td>12929.465116</td>\n      <td>1195.744186</td>\n      <td>28177.488372</td>\n    </tr>\n    <tr>\n      <th>Health Care</th>\n      <td>21529.426667</td>\n      <td>1414.853333</td>\n      <td>35710.520000</td>\n    </tr>\n    <tr>\n      <th>Hotels, Resturants &amp; Leisure</th>\n      <td>6781.840000</td>\n      <td>827.880000</td>\n      <td>99369.800000</td>\n    </tr>\n    <tr>\n      <th>Household Products</th>\n      <td>8383.464286</td>\n      <td>515.285714</td>\n      <td>23072.785714</td>\n    </tr>\n    <tr>\n      <th>Industrials</th>\n      <td>10816.978261</td>\n      <td>451.391304</td>\n      <td>33591.934783</td>\n    </tr>\n    <tr>\n      <th>Materials</th>\n      <td>6026.627907</td>\n      <td>102.976744</td>\n      <td>14840.069767</td>\n    </tr>\n    <tr>\n      <th>Media</th>\n      <td>8830.560000</td>\n      <td>973.880000</td>\n      <td>22012.560000</td>\n    </tr>\n    <tr>\n      <th>Motor Vehicles &amp; Parts</th>\n      <td>20105.833333</td>\n      <td>1079.083333</td>\n      <td>45106.666667</td>\n    </tr>\n    <tr>\n      <th>Retailing</th>\n      <td>18313.450000</td>\n      <td>597.875000</td>\n      <td>77845.362500</td>\n    </tr>\n    <tr>\n      <th>Technology</th>\n      <td>13505.882353</td>\n      <td>1769.343137</td>\n      <td>35087.735294</td>\n    </tr>\n    <tr>\n      <th>Telecommunications</th>\n      <td>30788.933333</td>\n      <td>3242.466667</td>\n      <td>55497.866667</td>\n    </tr>\n    <tr>\n      <th>Transportation</th>\n      <td>11347.444444</td>\n      <td>1226.916667</td>\n      <td>42688.694444</td>\n    </tr>\n    <tr>\n      <th>Wholesalers</th>\n      <td>11120.000000</td>\n      <td>205.825000</td>\n      <td>13139.925000</td>\n    </tr>\n  </tbody>\n</table>\n</div>"
     },
     "metadata": {},
     "execution_count": 12
    }
   ],
   "source": [
    "sectors.max()\n",
    "sectors.min()\n",
    "sectors.sum()\n",
    "sectors.mean()"
   ]
  },
  {
   "cell_type": "code",
   "execution_count": 14,
   "metadata": {},
   "outputs": [
    {
     "output_type": "execute_result",
     "data": {
      "text/plain": [
       "Sector\n",
       "Aerospace & Defense              357940\n",
       "Apparel                           95968\n",
       "Business Services                272195\n",
       "Chemicals                        243897\n",
       "Energy                          1517809\n",
       "Engineering & Construction       153983\n",
       "Financials                      2217159\n",
       "Food and Drug Stores             483769\n",
       "Food, Beverages & Tobacco        555967\n",
       "Health Care                     1614707\n",
       "Hotels, Resturants & Leisure     169546\n",
       "Household Products               234737\n",
       "Industrials                      497581\n",
       "Materials                        259145\n",
       "Media                            220764\n",
       "Motor Vehicles & Parts           482540\n",
       "Retailing                       1465076\n",
       "Technology                      1377600\n",
       "Telecommunications               461834\n",
       "Transportation                   408508\n",
       "Wholesalers                      444800\n",
       "Name: Revenue, dtype: int64"
      ]
     },
     "metadata": {},
     "execution_count": 14
    }
   ],
   "source": [
    "sectors['Revenue'].sum()"
   ]
  },
  {
   "cell_type": "code",
   "execution_count": 23,
   "metadata": {},
   "outputs": [
    {
     "output_type": "execute_result",
     "data": {
      "text/plain": [
       "                              Revenue  Profits\n",
       "Sector                                        \n",
       "Aerospace & Defense            357940    28742\n",
       "Apparel                         95968     8236\n",
       "Business Services              272195    28227\n",
       "Chemicals                      243897    22628\n",
       "Energy                        1517809   -73447\n",
       "Engineering & Construction     153983     5304\n",
       "Financials                    2217159   260209\n",
       "Food and Drug Stores           483769    16759\n",
       "Food, Beverages & Tobacco      555967    51417\n",
       "Health Care                   1614707   106114\n",
       "Hotels, Resturants & Leisure   169546    20697\n",
       "Household Products             234737    14428\n",
       "Industrials                    497581    20764\n",
       "Materials                      259145     4428\n",
       "Media                          220764    24347\n",
       "Motor Vehicles & Parts         482540    25898\n",
       "Retailing                     1465076    47830\n",
       "Technology                    1377600   180473\n",
       "Telecommunications             461834    48637\n",
       "Transportation                 408508    44169\n",
       "Wholesalers                    444800     8233"
      ],
      "text/html": "<div>\n<style scoped>\n    .dataframe tbody tr th:only-of-type {\n        vertical-align: middle;\n    }\n\n    .dataframe tbody tr th {\n        vertical-align: top;\n    }\n\n    .dataframe thead th {\n        text-align: right;\n    }\n</style>\n<table border=\"1\" class=\"dataframe\">\n  <thead>\n    <tr style=\"text-align: right;\">\n      <th></th>\n      <th>Revenue</th>\n      <th>Profits</th>\n    </tr>\n    <tr>\n      <th>Sector</th>\n      <th></th>\n      <th></th>\n    </tr>\n  </thead>\n  <tbody>\n    <tr>\n      <th>Aerospace &amp; Defense</th>\n      <td>357940</td>\n      <td>28742</td>\n    </tr>\n    <tr>\n      <th>Apparel</th>\n      <td>95968</td>\n      <td>8236</td>\n    </tr>\n    <tr>\n      <th>Business Services</th>\n      <td>272195</td>\n      <td>28227</td>\n    </tr>\n    <tr>\n      <th>Chemicals</th>\n      <td>243897</td>\n      <td>22628</td>\n    </tr>\n    <tr>\n      <th>Energy</th>\n      <td>1517809</td>\n      <td>-73447</td>\n    </tr>\n    <tr>\n      <th>Engineering &amp; Construction</th>\n      <td>153983</td>\n      <td>5304</td>\n    </tr>\n    <tr>\n      <th>Financials</th>\n      <td>2217159</td>\n      <td>260209</td>\n    </tr>\n    <tr>\n      <th>Food and Drug Stores</th>\n      <td>483769</td>\n      <td>16759</td>\n    </tr>\n    <tr>\n      <th>Food, Beverages &amp; Tobacco</th>\n      <td>555967</td>\n      <td>51417</td>\n    </tr>\n    <tr>\n      <th>Health Care</th>\n      <td>1614707</td>\n      <td>106114</td>\n    </tr>\n    <tr>\n      <th>Hotels, Resturants &amp; Leisure</th>\n      <td>169546</td>\n      <td>20697</td>\n    </tr>\n    <tr>\n      <th>Household Products</th>\n      <td>234737</td>\n      <td>14428</td>\n    </tr>\n    <tr>\n      <th>Industrials</th>\n      <td>497581</td>\n      <td>20764</td>\n    </tr>\n    <tr>\n      <th>Materials</th>\n      <td>259145</td>\n      <td>4428</td>\n    </tr>\n    <tr>\n      <th>Media</th>\n      <td>220764</td>\n      <td>24347</td>\n    </tr>\n    <tr>\n      <th>Motor Vehicles &amp; Parts</th>\n      <td>482540</td>\n      <td>25898</td>\n    </tr>\n    <tr>\n      <th>Retailing</th>\n      <td>1465076</td>\n      <td>47830</td>\n    </tr>\n    <tr>\n      <th>Technology</th>\n      <td>1377600</td>\n      <td>180473</td>\n    </tr>\n    <tr>\n      <th>Telecommunications</th>\n      <td>461834</td>\n      <td>48637</td>\n    </tr>\n    <tr>\n      <th>Transportation</th>\n      <td>408508</td>\n      <td>44169</td>\n    </tr>\n    <tr>\n      <th>Wholesalers</th>\n      <td>444800</td>\n      <td>8233</td>\n    </tr>\n  </tbody>\n</table>\n</div>"
     },
     "metadata": {},
     "execution_count": 23
    }
   ],
   "source": [
    "sectors['Employees'].sum()\n",
    "sectors['Profits'].max()\n",
    "sectors[['Company','Profits']].min()\n",
    "sectors['Employees'].mean()\n",
    "sectors[['Revenue','Profits']].sum()"
   ]
  },
  {
   "cell_type": "code",
   "execution_count": null,
   "metadata": {},
   "outputs": [],
   "source": []
  }
 ]
}