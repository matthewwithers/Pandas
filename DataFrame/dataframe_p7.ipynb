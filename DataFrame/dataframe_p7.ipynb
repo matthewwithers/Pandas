{
 "metadata": {
  "language_info": {
   "codemirror_mode": {
    "name": "ipython",
    "version": 3
   },
   "file_extension": ".py",
   "mimetype": "text/x-python",
   "name": "python",
   "nbconvert_exporter": "python",
   "pygments_lexer": "ipython3",
   "version": "3.7.6"
  },
  "orig_nbformat": 2,
  "kernelspec": {
   "name": "python376jvsc74a57bd01334010457180b265d09b56daeed883170adb1c65c35741b4ba4ec40109d9a77",
   "display_name": "Python 3.7.6 64-bit ('base': conda)"
  }
 },
 "nbformat": 4,
 "nbformat_minor": 2,
 "cells": [
  {
   "cell_type": "code",
   "execution_count": 223,
   "metadata": {},
   "outputs": [
    {
     "output_type": "execute_result",
     "data": {
      "text/plain": [
       "                  Year         Actor         Director  Box Office  Budget  \\\n",
       "Film                                                                        \n",
       "A View to a Kill  1985   Roger Moore        John Glen       275.2    54.5   \n",
       "Casino Royale     2006  Daniel Craig  Martin Campbell       581.5   145.3   \n",
       "Casino Royale     1967   David Niven       Ken Hughes       315.0    85.0   \n",
       "\n",
       "                  Bond Actor Salary  \n",
       "Film                                 \n",
       "A View to a Kill                9.1  \n",
       "Casino Royale                   3.3  \n",
       "Casino Royale                   NaN  "
      ],
      "text/html": "<div>\n<style scoped>\n    .dataframe tbody tr th:only-of-type {\n        vertical-align: middle;\n    }\n\n    .dataframe tbody tr th {\n        vertical-align: top;\n    }\n\n    .dataframe thead th {\n        text-align: right;\n    }\n</style>\n<table border=\"1\" class=\"dataframe\">\n  <thead>\n    <tr style=\"text-align: right;\">\n      <th></th>\n      <th>Year</th>\n      <th>Actor</th>\n      <th>Director</th>\n      <th>Box Office</th>\n      <th>Budget</th>\n      <th>Bond Actor Salary</th>\n    </tr>\n    <tr>\n      <th>Film</th>\n      <th></th>\n      <th></th>\n      <th></th>\n      <th></th>\n      <th></th>\n      <th></th>\n    </tr>\n  </thead>\n  <tbody>\n    <tr>\n      <th>A View to a Kill</th>\n      <td>1985</td>\n      <td>Roger Moore</td>\n      <td>John Glen</td>\n      <td>275.2</td>\n      <td>54.5</td>\n      <td>9.1</td>\n    </tr>\n    <tr>\n      <th>Casino Royale</th>\n      <td>2006</td>\n      <td>Daniel Craig</td>\n      <td>Martin Campbell</td>\n      <td>581.5</td>\n      <td>145.3</td>\n      <td>3.3</td>\n    </tr>\n    <tr>\n      <th>Casino Royale</th>\n      <td>1967</td>\n      <td>David Niven</td>\n      <td>Ken Hughes</td>\n      <td>315.0</td>\n      <td>85.0</td>\n      <td>NaN</td>\n    </tr>\n  </tbody>\n</table>\n</div>"
     },
     "metadata": {},
     "execution_count": 223
    }
   ],
   "source": [
    "import pandas as pd \n",
    "bond = pd.read_csv('../pandas_data/jamesbond.csv', index_col=\"Film\")\n",
    "bond.sort_index(inplace=True)\n",
    "bond.head(3)"
   ]
  },
  {
   "cell_type": "code",
   "execution_count": 224,
   "metadata": {},
   "outputs": [
    {
     "output_type": "execute_result",
     "data": {
      "text/plain": [
       "                       Year         Actor        Director  Box Office  Budget  \\\n",
       "Film                                                                            \n",
       "Never Say Never Again  1983  Sean Connery  Irvin Kershner       380.0    86.0   \n",
       "The Spy Who Loved Me   1977   Roger Moore   Lewis Gilbert       533.0    45.1   \n",
       "Quantum of Solace      2008  Daniel Craig    Marc Forster       514.2   181.4   \n",
       "\n",
       "                       Bond Actor Salary  \n",
       "Film                                      \n",
       "Never Say Never Again                NaN  \n",
       "The Spy Who Loved Me                 NaN  \n",
       "Quantum of Solace                    8.1  "
      ],
      "text/html": "<div>\n<style scoped>\n    .dataframe tbody tr th:only-of-type {\n        vertical-align: middle;\n    }\n\n    .dataframe tbody tr th {\n        vertical-align: top;\n    }\n\n    .dataframe thead th {\n        text-align: right;\n    }\n</style>\n<table border=\"1\" class=\"dataframe\">\n  <thead>\n    <tr style=\"text-align: right;\">\n      <th></th>\n      <th>Year</th>\n      <th>Actor</th>\n      <th>Director</th>\n      <th>Box Office</th>\n      <th>Budget</th>\n      <th>Bond Actor Salary</th>\n    </tr>\n    <tr>\n      <th>Film</th>\n      <th></th>\n      <th></th>\n      <th></th>\n      <th></th>\n      <th></th>\n      <th></th>\n    </tr>\n  </thead>\n  <tbody>\n    <tr>\n      <th>Never Say Never Again</th>\n      <td>1983</td>\n      <td>Sean Connery</td>\n      <td>Irvin Kershner</td>\n      <td>380.0</td>\n      <td>86.0</td>\n      <td>NaN</td>\n    </tr>\n    <tr>\n      <th>The Spy Who Loved Me</th>\n      <td>1977</td>\n      <td>Roger Moore</td>\n      <td>Lewis Gilbert</td>\n      <td>533.0</td>\n      <td>45.1</td>\n      <td>NaN</td>\n    </tr>\n    <tr>\n      <th>Quantum of Solace</th>\n      <td>2008</td>\n      <td>Daniel Craig</td>\n      <td>Marc Forster</td>\n      <td>514.2</td>\n      <td>181.4</td>\n      <td>8.1</td>\n    </tr>\n  </tbody>\n</table>\n</div>"
     },
     "metadata": {},
     "execution_count": 224
    }
   ],
   "source": [
    "bond.sample(frac=.25) # Random dataframe rows\n",
    "bond.sample(n=3, axis=\"rows\")"
   ]
  },
  {
   "cell_type": "code",
   "execution_count": 225,
   "metadata": {},
   "outputs": [],
   "source": [
    "# The .nsmallest() and .nlargest() Methods"
   ]
  },
  {
   "cell_type": "code",
   "execution_count": 226,
   "metadata": {},
   "outputs": [
    {
     "output_type": "execute_result",
     "data": {
      "text/plain": [
       "             Year         Actor       Director  Box Office  Budget  \\\n",
       "Film                                                                 \n",
       "Skyfall      2012  Daniel Craig     Sam Mendes       943.5   170.2   \n",
       "Thunderball  1965  Sean Connery  Terence Young       848.1    41.9   \n",
       "Goldfinger   1964  Sean Connery   Guy Hamilton       820.4    18.6   \n",
       "\n",
       "             Bond Actor Salary  \n",
       "Film                            \n",
       "Skyfall                   14.5  \n",
       "Thunderball                4.7  \n",
       "Goldfinger                 3.2  "
      ],
      "text/html": "<div>\n<style scoped>\n    .dataframe tbody tr th:only-of-type {\n        vertical-align: middle;\n    }\n\n    .dataframe tbody tr th {\n        vertical-align: top;\n    }\n\n    .dataframe thead th {\n        text-align: right;\n    }\n</style>\n<table border=\"1\" class=\"dataframe\">\n  <thead>\n    <tr style=\"text-align: right;\">\n      <th></th>\n      <th>Year</th>\n      <th>Actor</th>\n      <th>Director</th>\n      <th>Box Office</th>\n      <th>Budget</th>\n      <th>Bond Actor Salary</th>\n    </tr>\n    <tr>\n      <th>Film</th>\n      <th></th>\n      <th></th>\n      <th></th>\n      <th></th>\n      <th></th>\n      <th></th>\n    </tr>\n  </thead>\n  <tbody>\n    <tr>\n      <th>Skyfall</th>\n      <td>2012</td>\n      <td>Daniel Craig</td>\n      <td>Sam Mendes</td>\n      <td>943.5</td>\n      <td>170.2</td>\n      <td>14.5</td>\n    </tr>\n    <tr>\n      <th>Thunderball</th>\n      <td>1965</td>\n      <td>Sean Connery</td>\n      <td>Terence Young</td>\n      <td>848.1</td>\n      <td>41.9</td>\n      <td>4.7</td>\n    </tr>\n    <tr>\n      <th>Goldfinger</th>\n      <td>1964</td>\n      <td>Sean Connery</td>\n      <td>Guy Hamilton</td>\n      <td>820.4</td>\n      <td>18.6</td>\n      <td>3.2</td>\n    </tr>\n  </tbody>\n</table>\n</div>"
     },
     "metadata": {},
     "execution_count": 226
    }
   ],
   "source": [
    "bond.sort_values('Box Office', ascending=False).head(3)"
   ]
  },
  {
   "cell_type": "code",
   "execution_count": 227,
   "metadata": {},
   "outputs": [
    {
     "output_type": "execute_result",
     "data": {
      "text/plain": [
       "             Year         Actor       Director  Box Office  Budget  \\\n",
       "Film                                                                 \n",
       "Skyfall      2012  Daniel Craig     Sam Mendes       943.5   170.2   \n",
       "Thunderball  1965  Sean Connery  Terence Young       848.1    41.9   \n",
       "Goldfinger   1964  Sean Connery   Guy Hamilton       820.4    18.6   \n",
       "\n",
       "             Bond Actor Salary  \n",
       "Film                            \n",
       "Skyfall                   14.5  \n",
       "Thunderball                4.7  \n",
       "Goldfinger                 3.2  "
      ],
      "text/html": "<div>\n<style scoped>\n    .dataframe tbody tr th:only-of-type {\n        vertical-align: middle;\n    }\n\n    .dataframe tbody tr th {\n        vertical-align: top;\n    }\n\n    .dataframe thead th {\n        text-align: right;\n    }\n</style>\n<table border=\"1\" class=\"dataframe\">\n  <thead>\n    <tr style=\"text-align: right;\">\n      <th></th>\n      <th>Year</th>\n      <th>Actor</th>\n      <th>Director</th>\n      <th>Box Office</th>\n      <th>Budget</th>\n      <th>Bond Actor Salary</th>\n    </tr>\n    <tr>\n      <th>Film</th>\n      <th></th>\n      <th></th>\n      <th></th>\n      <th></th>\n      <th></th>\n      <th></th>\n    </tr>\n  </thead>\n  <tbody>\n    <tr>\n      <th>Skyfall</th>\n      <td>2012</td>\n      <td>Daniel Craig</td>\n      <td>Sam Mendes</td>\n      <td>943.5</td>\n      <td>170.2</td>\n      <td>14.5</td>\n    </tr>\n    <tr>\n      <th>Thunderball</th>\n      <td>1965</td>\n      <td>Sean Connery</td>\n      <td>Terence Young</td>\n      <td>848.1</td>\n      <td>41.9</td>\n      <td>4.7</td>\n    </tr>\n    <tr>\n      <th>Goldfinger</th>\n      <td>1964</td>\n      <td>Sean Connery</td>\n      <td>Guy Hamilton</td>\n      <td>820.4</td>\n      <td>18.6</td>\n      <td>3.2</td>\n    </tr>\n  </tbody>\n</table>\n</div>"
     },
     "metadata": {},
     "execution_count": 227
    }
   ],
   "source": [
    "bond.nlargest(3,columns='Box Office')"
   ]
  },
  {
   "cell_type": "code",
   "execution_count": 228,
   "metadata": {},
   "outputs": [
    {
     "output_type": "execute_result",
     "data": {
      "text/plain": [
       "                                 Year           Actor       Director  \\\n",
       "Film                                                                   \n",
       "Licence to Kill                  1989  Timothy Dalton      John Glen   \n",
       "A View to a Kill                 1985     Roger Moore      John Glen   \n",
       "On Her Majesty's Secret Service  1969  George Lazenby  Peter R. Hunt   \n",
       "\n",
       "                                 Box Office  Budget  Bond Actor Salary  \n",
       "Film                                                                    \n",
       "Licence to Kill                       250.9    56.7                7.9  \n",
       "A View to a Kill                      275.2    54.5                9.1  \n",
       "On Her Majesty's Secret Service       291.5    37.3                0.6  "
      ],
      "text/html": "<div>\n<style scoped>\n    .dataframe tbody tr th:only-of-type {\n        vertical-align: middle;\n    }\n\n    .dataframe tbody tr th {\n        vertical-align: top;\n    }\n\n    .dataframe thead th {\n        text-align: right;\n    }\n</style>\n<table border=\"1\" class=\"dataframe\">\n  <thead>\n    <tr style=\"text-align: right;\">\n      <th></th>\n      <th>Year</th>\n      <th>Actor</th>\n      <th>Director</th>\n      <th>Box Office</th>\n      <th>Budget</th>\n      <th>Bond Actor Salary</th>\n    </tr>\n    <tr>\n      <th>Film</th>\n      <th></th>\n      <th></th>\n      <th></th>\n      <th></th>\n      <th></th>\n      <th></th>\n    </tr>\n  </thead>\n  <tbody>\n    <tr>\n      <th>Licence to Kill</th>\n      <td>1989</td>\n      <td>Timothy Dalton</td>\n      <td>John Glen</td>\n      <td>250.9</td>\n      <td>56.7</td>\n      <td>7.9</td>\n    </tr>\n    <tr>\n      <th>A View to a Kill</th>\n      <td>1985</td>\n      <td>Roger Moore</td>\n      <td>John Glen</td>\n      <td>275.2</td>\n      <td>54.5</td>\n      <td>9.1</td>\n    </tr>\n    <tr>\n      <th>On Her Majesty's Secret Service</th>\n      <td>1969</td>\n      <td>George Lazenby</td>\n      <td>Peter R. Hunt</td>\n      <td>291.5</td>\n      <td>37.3</td>\n      <td>0.6</td>\n    </tr>\n  </tbody>\n</table>\n</div>"
     },
     "metadata": {},
     "execution_count": 228
    }
   ],
   "source": [
    "bond.nsmallest(3,columns='Box Office')"
   ]
  },
  {
   "cell_type": "code",
   "execution_count": 229,
   "metadata": {},
   "outputs": [
    {
     "output_type": "execute_result",
     "data": {
      "text/plain": [
       "                   Year         Actor      Director  Box Office  Budget  \\\n",
       "Film                                                                      \n",
       "Spectre            2015  Daniel Craig    Sam Mendes       726.7   206.3   \n",
       "Quantum of Solace  2008  Daniel Craig  Marc Forster       514.2   181.4   \n",
       "Skyfall            2012  Daniel Craig    Sam Mendes       943.5   170.2   \n",
       "\n",
       "                   Bond Actor Salary  \n",
       "Film                                  \n",
       "Spectre                          NaN  \n",
       "Quantum of Solace                8.1  \n",
       "Skyfall                         14.5  "
      ],
      "text/html": "<div>\n<style scoped>\n    .dataframe tbody tr th:only-of-type {\n        vertical-align: middle;\n    }\n\n    .dataframe tbody tr th {\n        vertical-align: top;\n    }\n\n    .dataframe thead th {\n        text-align: right;\n    }\n</style>\n<table border=\"1\" class=\"dataframe\">\n  <thead>\n    <tr style=\"text-align: right;\">\n      <th></th>\n      <th>Year</th>\n      <th>Actor</th>\n      <th>Director</th>\n      <th>Box Office</th>\n      <th>Budget</th>\n      <th>Bond Actor Salary</th>\n    </tr>\n    <tr>\n      <th>Film</th>\n      <th></th>\n      <th></th>\n      <th></th>\n      <th></th>\n      <th></th>\n      <th></th>\n    </tr>\n  </thead>\n  <tbody>\n    <tr>\n      <th>Spectre</th>\n      <td>2015</td>\n      <td>Daniel Craig</td>\n      <td>Sam Mendes</td>\n      <td>726.7</td>\n      <td>206.3</td>\n      <td>NaN</td>\n    </tr>\n    <tr>\n      <th>Quantum of Solace</th>\n      <td>2008</td>\n      <td>Daniel Craig</td>\n      <td>Marc Forster</td>\n      <td>514.2</td>\n      <td>181.4</td>\n      <td>8.1</td>\n    </tr>\n    <tr>\n      <th>Skyfall</th>\n      <td>2012</td>\n      <td>Daniel Craig</td>\n      <td>Sam Mendes</td>\n      <td>943.5</td>\n      <td>170.2</td>\n      <td>14.5</td>\n    </tr>\n  </tbody>\n</table>\n</div>"
     },
     "metadata": {},
     "execution_count": 229
    }
   ],
   "source": [
    "bond.nlargest(3,columns=\"Budget\")"
   ]
  },
  {
   "cell_type": "code",
   "execution_count": 230,
   "metadata": {},
   "outputs": [
    {
     "output_type": "execute_result",
     "data": {
      "text/plain": [
       "                                 Year           Actor         Director  \\\n",
       "Film                                                                     \n",
       "Dr. No                           1962    Sean Connery    Terence Young   \n",
       "On Her Majesty's Secret Service  1969  George Lazenby    Peter R. Hunt   \n",
       "From Russia with Love            1963    Sean Connery    Terence Young   \n",
       "Goldfinger                       1964    Sean Connery     Guy Hamilton   \n",
       "Casino Royale                    2006    Daniel Craig  Martin Campbell   \n",
       "You Only Live Twice              1967    Sean Connery    Lewis Gilbert   \n",
       "\n",
       "                                 Box Office  Budget  Bond Actor Salary  \n",
       "Film                                                                    \n",
       "Dr. No                                448.8     7.0                0.6  \n",
       "On Her Majesty's Secret Service       291.5    37.3                0.6  \n",
       "From Russia with Love                 543.8    12.6                1.6  \n",
       "Goldfinger                            820.4    18.6                3.2  \n",
       "Casino Royale                         581.5   145.3                3.3  \n",
       "You Only Live Twice                   514.2    59.9                4.4  "
      ],
      "text/html": "<div>\n<style scoped>\n    .dataframe tbody tr th:only-of-type {\n        vertical-align: middle;\n    }\n\n    .dataframe tbody tr th {\n        vertical-align: top;\n    }\n\n    .dataframe thead th {\n        text-align: right;\n    }\n</style>\n<table border=\"1\" class=\"dataframe\">\n  <thead>\n    <tr style=\"text-align: right;\">\n      <th></th>\n      <th>Year</th>\n      <th>Actor</th>\n      <th>Director</th>\n      <th>Box Office</th>\n      <th>Budget</th>\n      <th>Bond Actor Salary</th>\n    </tr>\n    <tr>\n      <th>Film</th>\n      <th></th>\n      <th></th>\n      <th></th>\n      <th></th>\n      <th></th>\n      <th></th>\n    </tr>\n  </thead>\n  <tbody>\n    <tr>\n      <th>Dr. No</th>\n      <td>1962</td>\n      <td>Sean Connery</td>\n      <td>Terence Young</td>\n      <td>448.8</td>\n      <td>7.0</td>\n      <td>0.6</td>\n    </tr>\n    <tr>\n      <th>On Her Majesty's Secret Service</th>\n      <td>1969</td>\n      <td>George Lazenby</td>\n      <td>Peter R. Hunt</td>\n      <td>291.5</td>\n      <td>37.3</td>\n      <td>0.6</td>\n    </tr>\n    <tr>\n      <th>From Russia with Love</th>\n      <td>1963</td>\n      <td>Sean Connery</td>\n      <td>Terence Young</td>\n      <td>543.8</td>\n      <td>12.6</td>\n      <td>1.6</td>\n    </tr>\n    <tr>\n      <th>Goldfinger</th>\n      <td>1964</td>\n      <td>Sean Connery</td>\n      <td>Guy Hamilton</td>\n      <td>820.4</td>\n      <td>18.6</td>\n      <td>3.2</td>\n    </tr>\n    <tr>\n      <th>Casino Royale</th>\n      <td>2006</td>\n      <td>Daniel Craig</td>\n      <td>Martin Campbell</td>\n      <td>581.5</td>\n      <td>145.3</td>\n      <td>3.3</td>\n    </tr>\n    <tr>\n      <th>You Only Live Twice</th>\n      <td>1967</td>\n      <td>Sean Connery</td>\n      <td>Lewis Gilbert</td>\n      <td>514.2</td>\n      <td>59.9</td>\n      <td>4.4</td>\n    </tr>\n  </tbody>\n</table>\n</div>"
     },
     "metadata": {},
     "execution_count": 230
    }
   ],
   "source": [
    "bond.nsmallest(n=6,columns=['Bond Actor Salary'])"
   ]
  },
  {
   "cell_type": "code",
   "execution_count": 231,
   "metadata": {},
   "outputs": [
    {
     "output_type": "execute_result",
     "data": {
      "text/plain": [
       "Film\n",
       "Dr. No                   1962\n",
       "From Russia with Love    1963\n",
       "Name: Year, dtype: int64"
      ]
     },
     "metadata": {},
     "execution_count": 231
    }
   ],
   "source": [
    "bond['Box Office'].nlargest(1)\n",
    "bond['Year'].nsmallest(2)"
   ]
  },
  {
   "cell_type": "code",
   "execution_count": 232,
   "metadata": {},
   "outputs": [
    {
     "output_type": "execute_result",
     "data": {
      "text/plain": [
       "                  Year         Actor         Director  Box Office  Budget  \\\n",
       "Film                                                                        \n",
       "A View to a Kill  1985   Roger Moore        John Glen       275.2    54.5   \n",
       "Casino Royale     2006  Daniel Craig  Martin Campbell       581.5   145.3   \n",
       "Casino Royale     1967   David Niven       Ken Hughes       315.0    85.0   \n",
       "\n",
       "                  Bond Actor Salary  \n",
       "Film                                 \n",
       "A View to a Kill                9.1  \n",
       "Casino Royale                   3.3  \n",
       "Casino Royale                   NaN  "
      ],
      "text/html": "<div>\n<style scoped>\n    .dataframe tbody tr th:only-of-type {\n        vertical-align: middle;\n    }\n\n    .dataframe tbody tr th {\n        vertical-align: top;\n    }\n\n    .dataframe thead th {\n        text-align: right;\n    }\n</style>\n<table border=\"1\" class=\"dataframe\">\n  <thead>\n    <tr style=\"text-align: right;\">\n      <th></th>\n      <th>Year</th>\n      <th>Actor</th>\n      <th>Director</th>\n      <th>Box Office</th>\n      <th>Budget</th>\n      <th>Bond Actor Salary</th>\n    </tr>\n    <tr>\n      <th>Film</th>\n      <th></th>\n      <th></th>\n      <th></th>\n      <th></th>\n      <th></th>\n      <th></th>\n    </tr>\n  </thead>\n  <tbody>\n    <tr>\n      <th>A View to a Kill</th>\n      <td>1985</td>\n      <td>Roger Moore</td>\n      <td>John Glen</td>\n      <td>275.2</td>\n      <td>54.5</td>\n      <td>9.1</td>\n    </tr>\n    <tr>\n      <th>Casino Royale</th>\n      <td>2006</td>\n      <td>Daniel Craig</td>\n      <td>Martin Campbell</td>\n      <td>581.5</td>\n      <td>145.3</td>\n      <td>3.3</td>\n    </tr>\n    <tr>\n      <th>Casino Royale</th>\n      <td>1967</td>\n      <td>David Niven</td>\n      <td>Ken Hughes</td>\n      <td>315.0</td>\n      <td>85.0</td>\n      <td>NaN</td>\n    </tr>\n  </tbody>\n</table>\n</div>"
     },
     "metadata": {},
     "execution_count": 232
    }
   ],
   "source": [
    "# Filter with the Where Method\n",
    "bond.head(3)"
   ]
  },
  {
   "cell_type": "code",
   "execution_count": 233,
   "metadata": {},
   "outputs": [
    {
     "output_type": "execute_result",
     "data": {
      "text/plain": [
       "                       Year         Actor        Director  Box Office  Budget  \\\n",
       "Film                                                                            \n",
       "Diamonds Are Forever   1971  Sean Connery    Guy Hamilton       442.5    34.7   \n",
       "Dr. No                 1962  Sean Connery   Terence Young       448.8     7.0   \n",
       "From Russia with Love  1963  Sean Connery   Terence Young       543.8    12.6   \n",
       "Goldfinger             1964  Sean Connery    Guy Hamilton       820.4    18.6   \n",
       "Never Say Never Again  1983  Sean Connery  Irvin Kershner       380.0    86.0   \n",
       "Thunderball            1965  Sean Connery   Terence Young       848.1    41.9   \n",
       "You Only Live Twice    1967  Sean Connery   Lewis Gilbert       514.2    59.9   \n",
       "\n",
       "                       Bond Actor Salary  \n",
       "Film                                      \n",
       "Diamonds Are Forever                 5.8  \n",
       "Dr. No                               0.6  \n",
       "From Russia with Love                1.6  \n",
       "Goldfinger                           3.2  \n",
       "Never Say Never Again                NaN  \n",
       "Thunderball                          4.7  \n",
       "You Only Live Twice                  4.4  "
      ],
      "text/html": "<div>\n<style scoped>\n    .dataframe tbody tr th:only-of-type {\n        vertical-align: middle;\n    }\n\n    .dataframe tbody tr th {\n        vertical-align: top;\n    }\n\n    .dataframe thead th {\n        text-align: right;\n    }\n</style>\n<table border=\"1\" class=\"dataframe\">\n  <thead>\n    <tr style=\"text-align: right;\">\n      <th></th>\n      <th>Year</th>\n      <th>Actor</th>\n      <th>Director</th>\n      <th>Box Office</th>\n      <th>Budget</th>\n      <th>Bond Actor Salary</th>\n    </tr>\n    <tr>\n      <th>Film</th>\n      <th></th>\n      <th></th>\n      <th></th>\n      <th></th>\n      <th></th>\n      <th></th>\n    </tr>\n  </thead>\n  <tbody>\n    <tr>\n      <th>Diamonds Are Forever</th>\n      <td>1971</td>\n      <td>Sean Connery</td>\n      <td>Guy Hamilton</td>\n      <td>442.5</td>\n      <td>34.7</td>\n      <td>5.8</td>\n    </tr>\n    <tr>\n      <th>Dr. No</th>\n      <td>1962</td>\n      <td>Sean Connery</td>\n      <td>Terence Young</td>\n      <td>448.8</td>\n      <td>7.0</td>\n      <td>0.6</td>\n    </tr>\n    <tr>\n      <th>From Russia with Love</th>\n      <td>1963</td>\n      <td>Sean Connery</td>\n      <td>Terence Young</td>\n      <td>543.8</td>\n      <td>12.6</td>\n      <td>1.6</td>\n    </tr>\n    <tr>\n      <th>Goldfinger</th>\n      <td>1964</td>\n      <td>Sean Connery</td>\n      <td>Guy Hamilton</td>\n      <td>820.4</td>\n      <td>18.6</td>\n      <td>3.2</td>\n    </tr>\n    <tr>\n      <th>Never Say Never Again</th>\n      <td>1983</td>\n      <td>Sean Connery</td>\n      <td>Irvin Kershner</td>\n      <td>380.0</td>\n      <td>86.0</td>\n      <td>NaN</td>\n    </tr>\n    <tr>\n      <th>Thunderball</th>\n      <td>1965</td>\n      <td>Sean Connery</td>\n      <td>Terence Young</td>\n      <td>848.1</td>\n      <td>41.9</td>\n      <td>4.7</td>\n    </tr>\n    <tr>\n      <th>You Only Live Twice</th>\n      <td>1967</td>\n      <td>Sean Connery</td>\n      <td>Lewis Gilbert</td>\n      <td>514.2</td>\n      <td>59.9</td>\n      <td>4.4</td>\n    </tr>\n  </tbody>\n</table>\n</div>"
     },
     "metadata": {},
     "execution_count": 233
    }
   ],
   "source": [
    "condition = bond['Actor'] == 'Sean Connery'\n",
    "condition2 = bond['Box Office'] > 600\n",
    "bond[condition]"
   ]
  },
  {
   "cell_type": "code",
   "execution_count": 234,
   "metadata": {},
   "outputs": [
    {
     "output_type": "execute_result",
     "data": {
      "text/plain": [
       "                                   Year         Actor        Director  \\\n",
       "Film                                                                    \n",
       "A View to a Kill                    NaN           NaN             NaN   \n",
       "Casino Royale                       NaN           NaN             NaN   \n",
       "Casino Royale                       NaN           NaN             NaN   \n",
       "Diamonds Are Forever             1971.0  Sean Connery    Guy Hamilton   \n",
       "Die Another Day                     NaN           NaN             NaN   \n",
       "Dr. No                           1962.0  Sean Connery   Terence Young   \n",
       "For Your Eyes Only                  NaN           NaN             NaN   \n",
       "From Russia with Love            1963.0  Sean Connery   Terence Young   \n",
       "GoldenEye                           NaN           NaN             NaN   \n",
       "Goldfinger                       1964.0  Sean Connery    Guy Hamilton   \n",
       "Licence to Kill                     NaN           NaN             NaN   \n",
       "Live and Let Die                    NaN           NaN             NaN   \n",
       "Moonraker                           NaN           NaN             NaN   \n",
       "Never Say Never Again            1983.0  Sean Connery  Irvin Kershner   \n",
       "Octopussy                           NaN           NaN             NaN   \n",
       "On Her Majesty's Secret Service     NaN           NaN             NaN   \n",
       "Quantum of Solace                   NaN           NaN             NaN   \n",
       "Skyfall                             NaN           NaN             NaN   \n",
       "Spectre                             NaN           NaN             NaN   \n",
       "The Living Daylights                NaN           NaN             NaN   \n",
       "The Man with the Golden Gun         NaN           NaN             NaN   \n",
       "The Spy Who Loved Me                NaN           NaN             NaN   \n",
       "The World Is Not Enough             NaN           NaN             NaN   \n",
       "Thunderball                      1965.0  Sean Connery   Terence Young   \n",
       "Tomorrow Never Dies                 NaN           NaN             NaN   \n",
       "You Only Live Twice              1967.0  Sean Connery   Lewis Gilbert   \n",
       "\n",
       "                                 Box Office  Budget  Bond Actor Salary  \n",
       "Film                                                                    \n",
       "A View to a Kill                        NaN     NaN                NaN  \n",
       "Casino Royale                           NaN     NaN                NaN  \n",
       "Casino Royale                           NaN     NaN                NaN  \n",
       "Diamonds Are Forever                  442.5    34.7                5.8  \n",
       "Die Another Day                         NaN     NaN                NaN  \n",
       "Dr. No                                448.8     7.0                0.6  \n",
       "For Your Eyes Only                      NaN     NaN                NaN  \n",
       "From Russia with Love                 543.8    12.6                1.6  \n",
       "GoldenEye                               NaN     NaN                NaN  \n",
       "Goldfinger                            820.4    18.6                3.2  \n",
       "Licence to Kill                         NaN     NaN                NaN  \n",
       "Live and Let Die                        NaN     NaN                NaN  \n",
       "Moonraker                               NaN     NaN                NaN  \n",
       "Never Say Never Again                 380.0    86.0                NaN  \n",
       "Octopussy                               NaN     NaN                NaN  \n",
       "On Her Majesty's Secret Service         NaN     NaN                NaN  \n",
       "Quantum of Solace                       NaN     NaN                NaN  \n",
       "Skyfall                                 NaN     NaN                NaN  \n",
       "Spectre                                 NaN     NaN                NaN  \n",
       "The Living Daylights                    NaN     NaN                NaN  \n",
       "The Man with the Golden Gun             NaN     NaN                NaN  \n",
       "The Spy Who Loved Me                    NaN     NaN                NaN  \n",
       "The World Is Not Enough                 NaN     NaN                NaN  \n",
       "Thunderball                           848.1    41.9                4.7  \n",
       "Tomorrow Never Dies                     NaN     NaN                NaN  \n",
       "You Only Live Twice                   514.2    59.9                4.4  "
      ],
      "text/html": "<div>\n<style scoped>\n    .dataframe tbody tr th:only-of-type {\n        vertical-align: middle;\n    }\n\n    .dataframe tbody tr th {\n        vertical-align: top;\n    }\n\n    .dataframe thead th {\n        text-align: right;\n    }\n</style>\n<table border=\"1\" class=\"dataframe\">\n  <thead>\n    <tr style=\"text-align: right;\">\n      <th></th>\n      <th>Year</th>\n      <th>Actor</th>\n      <th>Director</th>\n      <th>Box Office</th>\n      <th>Budget</th>\n      <th>Bond Actor Salary</th>\n    </tr>\n    <tr>\n      <th>Film</th>\n      <th></th>\n      <th></th>\n      <th></th>\n      <th></th>\n      <th></th>\n      <th></th>\n    </tr>\n  </thead>\n  <tbody>\n    <tr>\n      <th>A View to a Kill</th>\n      <td>NaN</td>\n      <td>NaN</td>\n      <td>NaN</td>\n      <td>NaN</td>\n      <td>NaN</td>\n      <td>NaN</td>\n    </tr>\n    <tr>\n      <th>Casino Royale</th>\n      <td>NaN</td>\n      <td>NaN</td>\n      <td>NaN</td>\n      <td>NaN</td>\n      <td>NaN</td>\n      <td>NaN</td>\n    </tr>\n    <tr>\n      <th>Casino Royale</th>\n      <td>NaN</td>\n      <td>NaN</td>\n      <td>NaN</td>\n      <td>NaN</td>\n      <td>NaN</td>\n      <td>NaN</td>\n    </tr>\n    <tr>\n      <th>Diamonds Are Forever</th>\n      <td>1971.0</td>\n      <td>Sean Connery</td>\n      <td>Guy Hamilton</td>\n      <td>442.5</td>\n      <td>34.7</td>\n      <td>5.8</td>\n    </tr>\n    <tr>\n      <th>Die Another Day</th>\n      <td>NaN</td>\n      <td>NaN</td>\n      <td>NaN</td>\n      <td>NaN</td>\n      <td>NaN</td>\n      <td>NaN</td>\n    </tr>\n    <tr>\n      <th>Dr. No</th>\n      <td>1962.0</td>\n      <td>Sean Connery</td>\n      <td>Terence Young</td>\n      <td>448.8</td>\n      <td>7.0</td>\n      <td>0.6</td>\n    </tr>\n    <tr>\n      <th>For Your Eyes Only</th>\n      <td>NaN</td>\n      <td>NaN</td>\n      <td>NaN</td>\n      <td>NaN</td>\n      <td>NaN</td>\n      <td>NaN</td>\n    </tr>\n    <tr>\n      <th>From Russia with Love</th>\n      <td>1963.0</td>\n      <td>Sean Connery</td>\n      <td>Terence Young</td>\n      <td>543.8</td>\n      <td>12.6</td>\n      <td>1.6</td>\n    </tr>\n    <tr>\n      <th>GoldenEye</th>\n      <td>NaN</td>\n      <td>NaN</td>\n      <td>NaN</td>\n      <td>NaN</td>\n      <td>NaN</td>\n      <td>NaN</td>\n    </tr>\n    <tr>\n      <th>Goldfinger</th>\n      <td>1964.0</td>\n      <td>Sean Connery</td>\n      <td>Guy Hamilton</td>\n      <td>820.4</td>\n      <td>18.6</td>\n      <td>3.2</td>\n    </tr>\n    <tr>\n      <th>Licence to Kill</th>\n      <td>NaN</td>\n      <td>NaN</td>\n      <td>NaN</td>\n      <td>NaN</td>\n      <td>NaN</td>\n      <td>NaN</td>\n    </tr>\n    <tr>\n      <th>Live and Let Die</th>\n      <td>NaN</td>\n      <td>NaN</td>\n      <td>NaN</td>\n      <td>NaN</td>\n      <td>NaN</td>\n      <td>NaN</td>\n    </tr>\n    <tr>\n      <th>Moonraker</th>\n      <td>NaN</td>\n      <td>NaN</td>\n      <td>NaN</td>\n      <td>NaN</td>\n      <td>NaN</td>\n      <td>NaN</td>\n    </tr>\n    <tr>\n      <th>Never Say Never Again</th>\n      <td>1983.0</td>\n      <td>Sean Connery</td>\n      <td>Irvin Kershner</td>\n      <td>380.0</td>\n      <td>86.0</td>\n      <td>NaN</td>\n    </tr>\n    <tr>\n      <th>Octopussy</th>\n      <td>NaN</td>\n      <td>NaN</td>\n      <td>NaN</td>\n      <td>NaN</td>\n      <td>NaN</td>\n      <td>NaN</td>\n    </tr>\n    <tr>\n      <th>On Her Majesty's Secret Service</th>\n      <td>NaN</td>\n      <td>NaN</td>\n      <td>NaN</td>\n      <td>NaN</td>\n      <td>NaN</td>\n      <td>NaN</td>\n    </tr>\n    <tr>\n      <th>Quantum of Solace</th>\n      <td>NaN</td>\n      <td>NaN</td>\n      <td>NaN</td>\n      <td>NaN</td>\n      <td>NaN</td>\n      <td>NaN</td>\n    </tr>\n    <tr>\n      <th>Skyfall</th>\n      <td>NaN</td>\n      <td>NaN</td>\n      <td>NaN</td>\n      <td>NaN</td>\n      <td>NaN</td>\n      <td>NaN</td>\n    </tr>\n    <tr>\n      <th>Spectre</th>\n      <td>NaN</td>\n      <td>NaN</td>\n      <td>NaN</td>\n      <td>NaN</td>\n      <td>NaN</td>\n      <td>NaN</td>\n    </tr>\n    <tr>\n      <th>The Living Daylights</th>\n      <td>NaN</td>\n      <td>NaN</td>\n      <td>NaN</td>\n      <td>NaN</td>\n      <td>NaN</td>\n      <td>NaN</td>\n    </tr>\n    <tr>\n      <th>The Man with the Golden Gun</th>\n      <td>NaN</td>\n      <td>NaN</td>\n      <td>NaN</td>\n      <td>NaN</td>\n      <td>NaN</td>\n      <td>NaN</td>\n    </tr>\n    <tr>\n      <th>The Spy Who Loved Me</th>\n      <td>NaN</td>\n      <td>NaN</td>\n      <td>NaN</td>\n      <td>NaN</td>\n      <td>NaN</td>\n      <td>NaN</td>\n    </tr>\n    <tr>\n      <th>The World Is Not Enough</th>\n      <td>NaN</td>\n      <td>NaN</td>\n      <td>NaN</td>\n      <td>NaN</td>\n      <td>NaN</td>\n      <td>NaN</td>\n    </tr>\n    <tr>\n      <th>Thunderball</th>\n      <td>1965.0</td>\n      <td>Sean Connery</td>\n      <td>Terence Young</td>\n      <td>848.1</td>\n      <td>41.9</td>\n      <td>4.7</td>\n    </tr>\n    <tr>\n      <th>Tomorrow Never Dies</th>\n      <td>NaN</td>\n      <td>NaN</td>\n      <td>NaN</td>\n      <td>NaN</td>\n      <td>NaN</td>\n      <td>NaN</td>\n    </tr>\n    <tr>\n      <th>You Only Live Twice</th>\n      <td>1967.0</td>\n      <td>Sean Connery</td>\n      <td>Lewis Gilbert</td>\n      <td>514.2</td>\n      <td>59.9</td>\n      <td>4.4</td>\n    </tr>\n  </tbody>\n</table>\n</div>"
     },
     "metadata": {},
     "execution_count": 234
    }
   ],
   "source": [
    "bond.where(condition)"
   ]
  },
  {
   "cell_type": "code",
   "execution_count": 235,
   "metadata": {},
   "outputs": [
    {
     "output_type": "execute_result",
     "data": {
      "text/plain": [
       "               Year         Actor       Director  Box Office  Budget  \\\n",
       "Film                                                                   \n",
       "Goldfinger   1964.0  Sean Connery   Guy Hamilton       820.4    18.6   \n",
       "Thunderball  1965.0  Sean Connery  Terence Young       848.1    41.9   \n",
       "\n",
       "             Bond Actor Salary  \n",
       "Film                            \n",
       "Goldfinger                 3.2  \n",
       "Thunderball                4.7  "
      ],
      "text/html": "<div>\n<style scoped>\n    .dataframe tbody tr th:only-of-type {\n        vertical-align: middle;\n    }\n\n    .dataframe tbody tr th {\n        vertical-align: top;\n    }\n\n    .dataframe thead th {\n        text-align: right;\n    }\n</style>\n<table border=\"1\" class=\"dataframe\">\n  <thead>\n    <tr style=\"text-align: right;\">\n      <th></th>\n      <th>Year</th>\n      <th>Actor</th>\n      <th>Director</th>\n      <th>Box Office</th>\n      <th>Budget</th>\n      <th>Bond Actor Salary</th>\n    </tr>\n    <tr>\n      <th>Film</th>\n      <th></th>\n      <th></th>\n      <th></th>\n      <th></th>\n      <th></th>\n      <th></th>\n    </tr>\n  </thead>\n  <tbody>\n    <tr>\n      <th>Goldfinger</th>\n      <td>1964.0</td>\n      <td>Sean Connery</td>\n      <td>Guy Hamilton</td>\n      <td>820.4</td>\n      <td>18.6</td>\n      <td>3.2</td>\n    </tr>\n    <tr>\n      <th>Thunderball</th>\n      <td>1965.0</td>\n      <td>Sean Connery</td>\n      <td>Terence Young</td>\n      <td>848.1</td>\n      <td>41.9</td>\n      <td>4.7</td>\n    </tr>\n  </tbody>\n</table>\n</div>"
     },
     "metadata": {},
     "execution_count": 235
    }
   ],
   "source": [
    "bond.where(condition & condition2).dropna()"
   ]
  },
  {
   "cell_type": "code",
   "execution_count": 236,
   "metadata": {},
   "outputs": [],
   "source": [
    "# The .query() Method"
   ]
  },
  {
   "cell_type": "code",
   "execution_count": 237,
   "metadata": {},
   "outputs": [
    {
     "output_type": "execute_result",
     "data": {
      "text/plain": [
       "                      Year           Actor         Director  Box Office  \\\n",
       "Film                                                                      \n",
       "A View to a Kill      1985     Roger Moore        John Glen       275.2   \n",
       "Casino Royale         2006    Daniel Craig  Martin Campbell       581.5   \n",
       "Casino Royale         1967     David Niven       Ken Hughes       315.0   \n",
       "Diamonds Are Forever  1971    Sean Connery     Guy Hamilton       442.5   \n",
       "Die Another Day       2002  Pierce Brosnan     Lee Tamahori       465.4   \n",
       "\n",
       "                      Budget  Bond Actor Salary  \n",
       "Film                                             \n",
       "A View to a Kill        54.5                9.1  \n",
       "Casino Royale          145.3                3.3  \n",
       "Casino Royale           85.0                NaN  \n",
       "Diamonds Are Forever    34.7                5.8  \n",
       "Die Another Day        154.2               17.9  "
      ],
      "text/html": "<div>\n<style scoped>\n    .dataframe tbody tr th:only-of-type {\n        vertical-align: middle;\n    }\n\n    .dataframe tbody tr th {\n        vertical-align: top;\n    }\n\n    .dataframe thead th {\n        text-align: right;\n    }\n</style>\n<table border=\"1\" class=\"dataframe\">\n  <thead>\n    <tr style=\"text-align: right;\">\n      <th></th>\n      <th>Year</th>\n      <th>Actor</th>\n      <th>Director</th>\n      <th>Box Office</th>\n      <th>Budget</th>\n      <th>Bond Actor Salary</th>\n    </tr>\n    <tr>\n      <th>Film</th>\n      <th></th>\n      <th></th>\n      <th></th>\n      <th></th>\n      <th></th>\n      <th></th>\n    </tr>\n  </thead>\n  <tbody>\n    <tr>\n      <th>A View to a Kill</th>\n      <td>1985</td>\n      <td>Roger Moore</td>\n      <td>John Glen</td>\n      <td>275.2</td>\n      <td>54.5</td>\n      <td>9.1</td>\n    </tr>\n    <tr>\n      <th>Casino Royale</th>\n      <td>2006</td>\n      <td>Daniel Craig</td>\n      <td>Martin Campbell</td>\n      <td>581.5</td>\n      <td>145.3</td>\n      <td>3.3</td>\n    </tr>\n    <tr>\n      <th>Casino Royale</th>\n      <td>1967</td>\n      <td>David Niven</td>\n      <td>Ken Hughes</td>\n      <td>315.0</td>\n      <td>85.0</td>\n      <td>NaN</td>\n    </tr>\n    <tr>\n      <th>Diamonds Are Forever</th>\n      <td>1971</td>\n      <td>Sean Connery</td>\n      <td>Guy Hamilton</td>\n      <td>442.5</td>\n      <td>34.7</td>\n      <td>5.8</td>\n    </tr>\n    <tr>\n      <th>Die Another Day</th>\n      <td>2002</td>\n      <td>Pierce Brosnan</td>\n      <td>Lee Tamahori</td>\n      <td>465.4</td>\n      <td>154.2</td>\n      <td>17.9</td>\n    </tr>\n  </tbody>\n</table>\n</div>"
     },
     "metadata": {},
     "execution_count": 237
    }
   ],
   "source": [
    "bond.head()"
   ]
  },
  {
   "cell_type": "code",
   "execution_count": 238,
   "metadata": {},
   "outputs": [],
   "source": [
    "bond.columns = [column_name.replace(' ','_') for column_name in bond.columns]"
   ]
  },
  {
   "cell_type": "code",
   "execution_count": 239,
   "metadata": {},
   "outputs": [
    {
     "output_type": "execute_result",
     "data": {
      "text/plain": [
       "                  Year         Actor         Director  Box_Office  Budget  \\\n",
       "Film                                                                        \n",
       "A View to a Kill  1985   Roger Moore        John Glen       275.2    54.5   \n",
       "Casino Royale     2006  Daniel Craig  Martin Campbell       581.5   145.3   \n",
       "Casino Royale     1967   David Niven       Ken Hughes       315.0    85.0   \n",
       "\n",
       "                  Bond_Actor_Salary  \n",
       "Film                                 \n",
       "A View to a Kill                9.1  \n",
       "Casino Royale                   3.3  \n",
       "Casino Royale                   NaN  "
      ],
      "text/html": "<div>\n<style scoped>\n    .dataframe tbody tr th:only-of-type {\n        vertical-align: middle;\n    }\n\n    .dataframe tbody tr th {\n        vertical-align: top;\n    }\n\n    .dataframe thead th {\n        text-align: right;\n    }\n</style>\n<table border=\"1\" class=\"dataframe\">\n  <thead>\n    <tr style=\"text-align: right;\">\n      <th></th>\n      <th>Year</th>\n      <th>Actor</th>\n      <th>Director</th>\n      <th>Box_Office</th>\n      <th>Budget</th>\n      <th>Bond_Actor_Salary</th>\n    </tr>\n    <tr>\n      <th>Film</th>\n      <th></th>\n      <th></th>\n      <th></th>\n      <th></th>\n      <th></th>\n      <th></th>\n    </tr>\n  </thead>\n  <tbody>\n    <tr>\n      <th>A View to a Kill</th>\n      <td>1985</td>\n      <td>Roger Moore</td>\n      <td>John Glen</td>\n      <td>275.2</td>\n      <td>54.5</td>\n      <td>9.1</td>\n    </tr>\n    <tr>\n      <th>Casino Royale</th>\n      <td>2006</td>\n      <td>Daniel Craig</td>\n      <td>Martin Campbell</td>\n      <td>581.5</td>\n      <td>145.3</td>\n      <td>3.3</td>\n    </tr>\n    <tr>\n      <th>Casino Royale</th>\n      <td>1967</td>\n      <td>David Niven</td>\n      <td>Ken Hughes</td>\n      <td>315.0</td>\n      <td>85.0</td>\n      <td>NaN</td>\n    </tr>\n  </tbody>\n</table>\n</div>"
     },
     "metadata": {},
     "execution_count": 239
    }
   ],
   "source": [
    "bond.head(3)"
   ]
  },
  {
   "cell_type": "code",
   "execution_count": 240,
   "metadata": {},
   "outputs": [
    {
     "output_type": "execute_result",
     "data": {
      "text/plain": [
       "                       Year         Actor        Director  Box_Office  Budget  \\\n",
       "Film                                                                            \n",
       "Diamonds Are Forever   1971  Sean Connery    Guy Hamilton       442.5    34.7   \n",
       "Dr. No                 1962  Sean Connery   Terence Young       448.8     7.0   \n",
       "From Russia with Love  1963  Sean Connery   Terence Young       543.8    12.6   \n",
       "Goldfinger             1964  Sean Connery    Guy Hamilton       820.4    18.6   \n",
       "Never Say Never Again  1983  Sean Connery  Irvin Kershner       380.0    86.0   \n",
       "Thunderball            1965  Sean Connery   Terence Young       848.1    41.9   \n",
       "You Only Live Twice    1967  Sean Connery   Lewis Gilbert       514.2    59.9   \n",
       "\n",
       "                       Bond_Actor_Salary  \n",
       "Film                                      \n",
       "Diamonds Are Forever                 5.8  \n",
       "Dr. No                               0.6  \n",
       "From Russia with Love                1.6  \n",
       "Goldfinger                           3.2  \n",
       "Never Say Never Again                NaN  \n",
       "Thunderball                          4.7  \n",
       "You Only Live Twice                  4.4  "
      ],
      "text/html": "<div>\n<style scoped>\n    .dataframe tbody tr th:only-of-type {\n        vertical-align: middle;\n    }\n\n    .dataframe tbody tr th {\n        vertical-align: top;\n    }\n\n    .dataframe thead th {\n        text-align: right;\n    }\n</style>\n<table border=\"1\" class=\"dataframe\">\n  <thead>\n    <tr style=\"text-align: right;\">\n      <th></th>\n      <th>Year</th>\n      <th>Actor</th>\n      <th>Director</th>\n      <th>Box_Office</th>\n      <th>Budget</th>\n      <th>Bond_Actor_Salary</th>\n    </tr>\n    <tr>\n      <th>Film</th>\n      <th></th>\n      <th></th>\n      <th></th>\n      <th></th>\n      <th></th>\n      <th></th>\n    </tr>\n  </thead>\n  <tbody>\n    <tr>\n      <th>Diamonds Are Forever</th>\n      <td>1971</td>\n      <td>Sean Connery</td>\n      <td>Guy Hamilton</td>\n      <td>442.5</td>\n      <td>34.7</td>\n      <td>5.8</td>\n    </tr>\n    <tr>\n      <th>Dr. No</th>\n      <td>1962</td>\n      <td>Sean Connery</td>\n      <td>Terence Young</td>\n      <td>448.8</td>\n      <td>7.0</td>\n      <td>0.6</td>\n    </tr>\n    <tr>\n      <th>From Russia with Love</th>\n      <td>1963</td>\n      <td>Sean Connery</td>\n      <td>Terence Young</td>\n      <td>543.8</td>\n      <td>12.6</td>\n      <td>1.6</td>\n    </tr>\n    <tr>\n      <th>Goldfinger</th>\n      <td>1964</td>\n      <td>Sean Connery</td>\n      <td>Guy Hamilton</td>\n      <td>820.4</td>\n      <td>18.6</td>\n      <td>3.2</td>\n    </tr>\n    <tr>\n      <th>Never Say Never Again</th>\n      <td>1983</td>\n      <td>Sean Connery</td>\n      <td>Irvin Kershner</td>\n      <td>380.0</td>\n      <td>86.0</td>\n      <td>NaN</td>\n    </tr>\n    <tr>\n      <th>Thunderball</th>\n      <td>1965</td>\n      <td>Sean Connery</td>\n      <td>Terence Young</td>\n      <td>848.1</td>\n      <td>41.9</td>\n      <td>4.7</td>\n    </tr>\n    <tr>\n      <th>You Only Live Twice</th>\n      <td>1967</td>\n      <td>Sean Connery</td>\n      <td>Lewis Gilbert</td>\n      <td>514.2</td>\n      <td>59.9</td>\n      <td>4.4</td>\n    </tr>\n  </tbody>\n</table>\n</div>"
     },
     "metadata": {},
     "execution_count": 240
    }
   ],
   "source": [
    "bond.query('Actor == \"Sean Connery\"')"
   ]
  },
  {
   "cell_type": "code",
   "execution_count": 241,
   "metadata": {},
   "outputs": [
    {
     "output_type": "execute_result",
     "data": {
      "text/plain": [
       "                                 Year           Actor            Director  \\\n",
       "Film                                                                        \n",
       "Casino Royale                    2006    Daniel Craig     Martin Campbell   \n",
       "Casino Royale                    1967     David Niven          Ken Hughes   \n",
       "Die Another Day                  2002  Pierce Brosnan        Lee Tamahori   \n",
       "GoldenEye                        1995  Pierce Brosnan     Martin Campbell   \n",
       "Licence to Kill                  1989  Timothy Dalton           John Glen   \n",
       "On Her Majesty's Secret Service  1969  George Lazenby       Peter R. Hunt   \n",
       "Quantum of Solace                2008    Daniel Craig        Marc Forster   \n",
       "Skyfall                          2012    Daniel Craig          Sam Mendes   \n",
       "Spectre                          2015    Daniel Craig          Sam Mendes   \n",
       "The Living Daylights             1987  Timothy Dalton           John Glen   \n",
       "The World Is Not Enough          1999  Pierce Brosnan       Michael Apted   \n",
       "Tomorrow Never Dies              1997  Pierce Brosnan  Roger Spottiswoode   \n",
       "\n",
       "                                 Box_Office  Budget  Bond_Actor_Salary  \n",
       "Film                                                                    \n",
       "Casino Royale                         581.5   145.3                3.3  \n",
       "Casino Royale                         315.0    85.0                NaN  \n",
       "Die Another Day                       465.4   154.2               17.9  \n",
       "GoldenEye                             518.5    76.9                5.1  \n",
       "Licence to Kill                       250.9    56.7                7.9  \n",
       "On Her Majesty's Secret Service       291.5    37.3                0.6  \n",
       "Quantum of Solace                     514.2   181.4                8.1  \n",
       "Skyfall                               943.5   170.2               14.5  \n",
       "Spectre                               726.7   206.3                NaN  \n",
       "The Living Daylights                  313.5    68.8                5.2  \n",
       "The World Is Not Enough               439.5   158.3               13.5  \n",
       "Tomorrow Never Dies                   463.2   133.9               10.0  "
      ],
      "text/html": "<div>\n<style scoped>\n    .dataframe tbody tr th:only-of-type {\n        vertical-align: middle;\n    }\n\n    .dataframe tbody tr th {\n        vertical-align: top;\n    }\n\n    .dataframe thead th {\n        text-align: right;\n    }\n</style>\n<table border=\"1\" class=\"dataframe\">\n  <thead>\n    <tr style=\"text-align: right;\">\n      <th></th>\n      <th>Year</th>\n      <th>Actor</th>\n      <th>Director</th>\n      <th>Box_Office</th>\n      <th>Budget</th>\n      <th>Bond_Actor_Salary</th>\n    </tr>\n    <tr>\n      <th>Film</th>\n      <th></th>\n      <th></th>\n      <th></th>\n      <th></th>\n      <th></th>\n      <th></th>\n    </tr>\n  </thead>\n  <tbody>\n    <tr>\n      <th>Casino Royale</th>\n      <td>2006</td>\n      <td>Daniel Craig</td>\n      <td>Martin Campbell</td>\n      <td>581.5</td>\n      <td>145.3</td>\n      <td>3.3</td>\n    </tr>\n    <tr>\n      <th>Casino Royale</th>\n      <td>1967</td>\n      <td>David Niven</td>\n      <td>Ken Hughes</td>\n      <td>315.0</td>\n      <td>85.0</td>\n      <td>NaN</td>\n    </tr>\n    <tr>\n      <th>Die Another Day</th>\n      <td>2002</td>\n      <td>Pierce Brosnan</td>\n      <td>Lee Tamahori</td>\n      <td>465.4</td>\n      <td>154.2</td>\n      <td>17.9</td>\n    </tr>\n    <tr>\n      <th>GoldenEye</th>\n      <td>1995</td>\n      <td>Pierce Brosnan</td>\n      <td>Martin Campbell</td>\n      <td>518.5</td>\n      <td>76.9</td>\n      <td>5.1</td>\n    </tr>\n    <tr>\n      <th>Licence to Kill</th>\n      <td>1989</td>\n      <td>Timothy Dalton</td>\n      <td>John Glen</td>\n      <td>250.9</td>\n      <td>56.7</td>\n      <td>7.9</td>\n    </tr>\n    <tr>\n      <th>On Her Majesty's Secret Service</th>\n      <td>1969</td>\n      <td>George Lazenby</td>\n      <td>Peter R. Hunt</td>\n      <td>291.5</td>\n      <td>37.3</td>\n      <td>0.6</td>\n    </tr>\n    <tr>\n      <th>Quantum of Solace</th>\n      <td>2008</td>\n      <td>Daniel Craig</td>\n      <td>Marc Forster</td>\n      <td>514.2</td>\n      <td>181.4</td>\n      <td>8.1</td>\n    </tr>\n    <tr>\n      <th>Skyfall</th>\n      <td>2012</td>\n      <td>Daniel Craig</td>\n      <td>Sam Mendes</td>\n      <td>943.5</td>\n      <td>170.2</td>\n      <td>14.5</td>\n    </tr>\n    <tr>\n      <th>Spectre</th>\n      <td>2015</td>\n      <td>Daniel Craig</td>\n      <td>Sam Mendes</td>\n      <td>726.7</td>\n      <td>206.3</td>\n      <td>NaN</td>\n    </tr>\n    <tr>\n      <th>The Living Daylights</th>\n      <td>1987</td>\n      <td>Timothy Dalton</td>\n      <td>John Glen</td>\n      <td>313.5</td>\n      <td>68.8</td>\n      <td>5.2</td>\n    </tr>\n    <tr>\n      <th>The World Is Not Enough</th>\n      <td>1999</td>\n      <td>Pierce Brosnan</td>\n      <td>Michael Apted</td>\n      <td>439.5</td>\n      <td>158.3</td>\n      <td>13.5</td>\n    </tr>\n    <tr>\n      <th>Tomorrow Never Dies</th>\n      <td>1997</td>\n      <td>Pierce Brosnan</td>\n      <td>Roger Spottiswoode</td>\n      <td>463.2</td>\n      <td>133.9</td>\n      <td>10.0</td>\n    </tr>\n  </tbody>\n</table>\n</div>"
     },
     "metadata": {},
     "execution_count": 241
    }
   ],
   "source": [
    "condition = \"\"\"Director == 'Guy Hamilton'\"\"\"\n",
    "bond.query(condition)\n",
    "bond.query(\"Actor != 'Roger Moore'\")\n",
    "bond.query(\"Box_Office > 600\")\n",
    "bond.query(\"Actor == 'Roger Moore' or Director == 'John Glen'\")\n",
    "bond.query(\"Actor in ['Timothy Dalton','George Lazenby']\")\n",
    "bond.query(\"Actor not in ['Roger Moore','Sean Connery']\")"
   ]
  },
  {
   "cell_type": "code",
   "execution_count": 242,
   "metadata": {},
   "outputs": [],
   "source": [
    "# Review of the .apply() Method on Single Columns"
   ]
  },
  {
   "cell_type": "code",
   "execution_count": 243,
   "metadata": {},
   "outputs": [],
   "source": [
    "def convert_to_string_and_add_millions(number):\n",
    "    return str(number) + ' Millions!'"
   ]
  },
  {
   "cell_type": "code",
   "execution_count": 244,
   "metadata": {},
   "outputs": [],
   "source": [
    "# bond['Box_Office'] = bond['Box_Office'].apply(convert_to_string_and_add_millions)\n",
    "# bond['Budget'] = bond['Budget'].apply(convert_to_string_and_add_millions)\n",
    "columns = [\"Box_Office\",\"Budget\",\"Bond_Actor_Salary\"]"
   ]
  },
  {
   "cell_type": "code",
   "execution_count": 245,
   "metadata": {},
   "outputs": [],
   "source": [
    "for col in columns:\n",
    "    bond[col] = bond[col].apply(convert_to_string_and_add_millions)"
   ]
  },
  {
   "cell_type": "code",
   "execution_count": 246,
   "metadata": {},
   "outputs": [
    {
     "output_type": "execute_result",
     "data": {
      "text/plain": [
       "                  Year         Actor         Director       Box_Office  \\\n",
       "Film                                                                     \n",
       "A View to a Kill  1985   Roger Moore        John Glen  275.2 Millions!   \n",
       "Casino Royale     2006  Daniel Craig  Martin Campbell  581.5 Millions!   \n",
       "Casino Royale     1967   David Niven       Ken Hughes  315.0 Millions!   \n",
       "\n",
       "                           Budget Bond_Actor_Salary  \n",
       "Film                                                 \n",
       "A View to a Kill   54.5 Millions!     9.1 Millions!  \n",
       "Casino Royale     145.3 Millions!     3.3 Millions!  \n",
       "Casino Royale      85.0 Millions!     nan Millions!  "
      ],
      "text/html": "<div>\n<style scoped>\n    .dataframe tbody tr th:only-of-type {\n        vertical-align: middle;\n    }\n\n    .dataframe tbody tr th {\n        vertical-align: top;\n    }\n\n    .dataframe thead th {\n        text-align: right;\n    }\n</style>\n<table border=\"1\" class=\"dataframe\">\n  <thead>\n    <tr style=\"text-align: right;\">\n      <th></th>\n      <th>Year</th>\n      <th>Actor</th>\n      <th>Director</th>\n      <th>Box_Office</th>\n      <th>Budget</th>\n      <th>Bond_Actor_Salary</th>\n    </tr>\n    <tr>\n      <th>Film</th>\n      <th></th>\n      <th></th>\n      <th></th>\n      <th></th>\n      <th></th>\n      <th></th>\n    </tr>\n  </thead>\n  <tbody>\n    <tr>\n      <th>A View to a Kill</th>\n      <td>1985</td>\n      <td>Roger Moore</td>\n      <td>John Glen</td>\n      <td>275.2 Millions!</td>\n      <td>54.5 Millions!</td>\n      <td>9.1 Millions!</td>\n    </tr>\n    <tr>\n      <th>Casino Royale</th>\n      <td>2006</td>\n      <td>Daniel Craig</td>\n      <td>Martin Campbell</td>\n      <td>581.5 Millions!</td>\n      <td>145.3 Millions!</td>\n      <td>3.3 Millions!</td>\n    </tr>\n    <tr>\n      <th>Casino Royale</th>\n      <td>1967</td>\n      <td>David Niven</td>\n      <td>Ken Hughes</td>\n      <td>315.0 Millions!</td>\n      <td>85.0 Millions!</td>\n      <td>nan Millions!</td>\n    </tr>\n  </tbody>\n</table>\n</div>"
     },
     "metadata": {},
     "execution_count": 246
    }
   ],
   "source": [
    "bond.head(3)"
   ]
  },
  {
   "cell_type": "code",
   "execution_count": 247,
   "metadata": {},
   "outputs": [],
   "source": [
    "# The .apply() Method with Row Values"
   ]
  },
  {
   "cell_type": "code",
   "execution_count": 248,
   "metadata": {},
   "outputs": [
    {
     "output_type": "execute_result",
     "data": {
      "text/plain": [
       "                  Year         Actor         Director  Box Office  Budget  \\\n",
       "Film                                                                        \n",
       "A View to a Kill  1985   Roger Moore        John Glen       275.2    54.5   \n",
       "Casino Royale     2006  Daniel Craig  Martin Campbell       581.5   145.3   \n",
       "Casino Royale     1967   David Niven       Ken Hughes       315.0    85.0   \n",
       "\n",
       "                  Bond Actor Salary  \n",
       "Film                                 \n",
       "A View to a Kill                9.1  \n",
       "Casino Royale                   3.3  \n",
       "Casino Royale                   NaN  "
      ],
      "text/html": "<div>\n<style scoped>\n    .dataframe tbody tr th:only-of-type {\n        vertical-align: middle;\n    }\n\n    .dataframe tbody tr th {\n        vertical-align: top;\n    }\n\n    .dataframe thead th {\n        text-align: right;\n    }\n</style>\n<table border=\"1\" class=\"dataframe\">\n  <thead>\n    <tr style=\"text-align: right;\">\n      <th></th>\n      <th>Year</th>\n      <th>Actor</th>\n      <th>Director</th>\n      <th>Box Office</th>\n      <th>Budget</th>\n      <th>Bond Actor Salary</th>\n    </tr>\n    <tr>\n      <th>Film</th>\n      <th></th>\n      <th></th>\n      <th></th>\n      <th></th>\n      <th></th>\n      <th></th>\n    </tr>\n  </thead>\n  <tbody>\n    <tr>\n      <th>A View to a Kill</th>\n      <td>1985</td>\n      <td>Roger Moore</td>\n      <td>John Glen</td>\n      <td>275.2</td>\n      <td>54.5</td>\n      <td>9.1</td>\n    </tr>\n    <tr>\n      <th>Casino Royale</th>\n      <td>2006</td>\n      <td>Daniel Craig</td>\n      <td>Martin Campbell</td>\n      <td>581.5</td>\n      <td>145.3</td>\n      <td>3.3</td>\n    </tr>\n    <tr>\n      <th>Casino Royale</th>\n      <td>1967</td>\n      <td>David Niven</td>\n      <td>Ken Hughes</td>\n      <td>315.0</td>\n      <td>85.0</td>\n      <td>NaN</td>\n    </tr>\n  </tbody>\n</table>\n</div>"
     },
     "metadata": {},
     "execution_count": 248
    }
   ],
   "source": [
    "bond = pd.read_csv('../pandas_data/jamesbond.csv', index_col=\"Film\")\n",
    "bond.sort_index(inplace=True)\n",
    "bond.head(3)"
   ]
  },
  {
   "cell_type": "code",
   "execution_count": 249,
   "metadata": {},
   "outputs": [],
   "source": [
    "def good_movie(row):\n",
    "    \n",
    "    actor = row[1]\n",
    "    budget = row[4]\n",
    "\n",
    "    if actor == 'Pierce Brosnan':\n",
    "        return 'The Best'\n",
    "    elif actor == 'Roger Moore' and budget > 40:\n",
    "        return 'Enjoyable'\n",
    "    else:\n",
    "        return 'I have no clue'"
   ]
  },
  {
   "cell_type": "code",
   "execution_count": 250,
   "metadata": {},
   "outputs": [
    {
     "output_type": "execute_result",
     "data": {
      "text/plain": [
       "Film\n",
       "A View to a Kill                        Enjoyable\n",
       "Casino Royale                      I have no clue\n",
       "Casino Royale                      I have no clue\n",
       "Diamonds Are Forever               I have no clue\n",
       "Die Another Day                          The Best\n",
       "Dr. No                             I have no clue\n",
       "For Your Eyes Only                      Enjoyable\n",
       "From Russia with Love              I have no clue\n",
       "GoldenEye                                The Best\n",
       "Goldfinger                         I have no clue\n",
       "Licence to Kill                    I have no clue\n",
       "Live and Let Die                   I have no clue\n",
       "Moonraker                               Enjoyable\n",
       "Never Say Never Again              I have no clue\n",
       "Octopussy                               Enjoyable\n",
       "On Her Majesty's Secret Service    I have no clue\n",
       "Quantum of Solace                  I have no clue\n",
       "Skyfall                            I have no clue\n",
       "Spectre                            I have no clue\n",
       "The Living Daylights               I have no clue\n",
       "The Man with the Golden Gun        I have no clue\n",
       "The Spy Who Loved Me                    Enjoyable\n",
       "The World Is Not Enough                  The Best\n",
       "Thunderball                        I have no clue\n",
       "Tomorrow Never Dies                      The Best\n",
       "You Only Live Twice                I have no clue\n",
       "dtype: object"
      ]
     },
     "metadata": {},
     "execution_count": 250
    }
   ],
   "source": [
    "bond.apply(good_movie, axis='columns')"
   ]
  },
  {
   "cell_type": "code",
   "execution_count": 251,
   "metadata": {},
   "outputs": [
    {
     "output_type": "execute_result",
     "data": {
      "text/plain": [
       "                  Year         Actor         Director  Box Office  Budget  \\\n",
       "Film                                                                        \n",
       "A View to a Kill  1985   Roger Moore        John Glen       275.2    54.5   \n",
       "Casino Royale     2006  Daniel Craig  Martin Campbell       581.5   145.3   \n",
       "Casino Royale     1967   David Niven       Ken Hughes       315.0    85.0   \n",
       "\n",
       "                  Bond Actor Salary  \n",
       "Film                                 \n",
       "A View to a Kill                9.1  \n",
       "Casino Royale                   3.3  \n",
       "Casino Royale                   NaN  "
      ],
      "text/html": "<div>\n<style scoped>\n    .dataframe tbody tr th:only-of-type {\n        vertical-align: middle;\n    }\n\n    .dataframe tbody tr th {\n        vertical-align: top;\n    }\n\n    .dataframe thead th {\n        text-align: right;\n    }\n</style>\n<table border=\"1\" class=\"dataframe\">\n  <thead>\n    <tr style=\"text-align: right;\">\n      <th></th>\n      <th>Year</th>\n      <th>Actor</th>\n      <th>Director</th>\n      <th>Box Office</th>\n      <th>Budget</th>\n      <th>Bond Actor Salary</th>\n    </tr>\n    <tr>\n      <th>Film</th>\n      <th></th>\n      <th></th>\n      <th></th>\n      <th></th>\n      <th></th>\n      <th></th>\n    </tr>\n  </thead>\n  <tbody>\n    <tr>\n      <th>A View to a Kill</th>\n      <td>1985</td>\n      <td>Roger Moore</td>\n      <td>John Glen</td>\n      <td>275.2</td>\n      <td>54.5</td>\n      <td>9.1</td>\n    </tr>\n    <tr>\n      <th>Casino Royale</th>\n      <td>2006</td>\n      <td>Daniel Craig</td>\n      <td>Martin Campbell</td>\n      <td>581.5</td>\n      <td>145.3</td>\n      <td>3.3</td>\n    </tr>\n    <tr>\n      <th>Casino Royale</th>\n      <td>1967</td>\n      <td>David Niven</td>\n      <td>Ken Hughes</td>\n      <td>315.0</td>\n      <td>85.0</td>\n      <td>NaN</td>\n    </tr>\n  </tbody>\n</table>\n</div>"
     },
     "metadata": {},
     "execution_count": 251
    }
   ],
   "source": [
    "# The .copy() Method\n",
    "bond = pd.read_csv('../pandas_data/jamesbond.csv', index_col=\"Film\")\n",
    "bond.sort_index(inplace=True)\n",
    "bond.head(3)"
   ]
  },
  {
   "cell_type": "code",
   "execution_count": 252,
   "metadata": {},
   "outputs": [],
   "source": [
    "directors = bond['Director']"
   ]
  },
  {
   "cell_type": "code",
   "execution_count": 253,
   "metadata": {},
   "outputs": [
    {
     "output_type": "execute_result",
     "data": {
      "text/plain": [
       "Film\n",
       "A View to a Kill          John Glen\n",
       "Casino Royale       Martin Campbell\n",
       "Casino Royale            Ken Hughes\n",
       "Name: Director, dtype: object"
      ]
     },
     "metadata": {},
     "execution_count": 253
    }
   ],
   "source": [
    "directors.head(3)"
   ]
  },
  {
   "cell_type": "code",
   "execution_count": 254,
   "metadata": {},
   "outputs": [],
   "source": [
    "directors = bond['Director'].copy()"
   ]
  },
  {
   "cell_type": "code",
   "execution_count": 255,
   "metadata": {},
   "outputs": [
    {
     "output_type": "execute_result",
     "data": {
      "text/plain": [
       "Film\n",
       "A View to a Kill          John Glen\n",
       "Casino Royale       Martin Campbell\n",
       "Casino Royale            Ken Hughes\n",
       "Name: Director, dtype: object"
      ]
     },
     "metadata": {},
     "execution_count": 255
    }
   ],
   "source": [
    "directors.head(3)"
   ]
  },
  {
   "cell_type": "code",
   "execution_count": 256,
   "metadata": {},
   "outputs": [],
   "source": [
    "directors['A View to a Kill'] = 'Mister John Glen'"
   ]
  },
  {
   "cell_type": "code",
   "execution_count": 257,
   "metadata": {},
   "outputs": [
    {
     "output_type": "execute_result",
     "data": {
      "text/plain": [
       "Film\n",
       "A View to a Kill    Mister John Glen\n",
       "Casino Royale        Martin Campbell\n",
       "Casino Royale             Ken Hughes\n",
       "Name: Director, dtype: object"
      ]
     },
     "metadata": {},
     "execution_count": 257
    }
   ],
   "source": [
    "director.head(3)"
   ]
  },
  {
   "cell_type": "code",
   "execution_count": 259,
   "metadata": {},
   "outputs": [
    {
     "output_type": "execute_result",
     "data": {
      "text/plain": [
       "                  Year         Actor         Director  Box Office  Budget  \\\n",
       "Film                                                                        \n",
       "A View to a Kill  1985   Roger Moore        John Glen       275.2    54.5   \n",
       "Casino Royale     2006  Daniel Craig  Martin Campbell       581.5   145.3   \n",
       "Casino Royale     1967   David Niven       Ken Hughes       315.0    85.0   \n",
       "\n",
       "                  Bond Actor Salary  \n",
       "Film                                 \n",
       "A View to a Kill                9.1  \n",
       "Casino Royale                   3.3  \n",
       "Casino Royale                   NaN  "
      ],
      "text/html": "<div>\n<style scoped>\n    .dataframe tbody tr th:only-of-type {\n        vertical-align: middle;\n    }\n\n    .dataframe tbody tr th {\n        vertical-align: top;\n    }\n\n    .dataframe thead th {\n        text-align: right;\n    }\n</style>\n<table border=\"1\" class=\"dataframe\">\n  <thead>\n    <tr style=\"text-align: right;\">\n      <th></th>\n      <th>Year</th>\n      <th>Actor</th>\n      <th>Director</th>\n      <th>Box Office</th>\n      <th>Budget</th>\n      <th>Bond Actor Salary</th>\n    </tr>\n    <tr>\n      <th>Film</th>\n      <th></th>\n      <th></th>\n      <th></th>\n      <th></th>\n      <th></th>\n      <th></th>\n    </tr>\n  </thead>\n  <tbody>\n    <tr>\n      <th>A View to a Kill</th>\n      <td>1985</td>\n      <td>Roger Moore</td>\n      <td>John Glen</td>\n      <td>275.2</td>\n      <td>54.5</td>\n      <td>9.1</td>\n    </tr>\n    <tr>\n      <th>Casino Royale</th>\n      <td>2006</td>\n      <td>Daniel Craig</td>\n      <td>Martin Campbell</td>\n      <td>581.5</td>\n      <td>145.3</td>\n      <td>3.3</td>\n    </tr>\n    <tr>\n      <th>Casino Royale</th>\n      <td>1967</td>\n      <td>David Niven</td>\n      <td>Ken Hughes</td>\n      <td>315.0</td>\n      <td>85.0</td>\n      <td>NaN</td>\n    </tr>\n  </tbody>\n</table>\n</div>"
     },
     "metadata": {},
     "execution_count": 259
    }
   ],
   "source": [
    "bond.head(3)"
   ]
  },
  {
   "cell_type": "code",
   "execution_count": null,
   "metadata": {},
   "outputs": [],
   "source": []
  }
 ]
}