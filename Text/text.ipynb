{
 "metadata": {
  "language_info": {
   "codemirror_mode": {
    "name": "ipython",
    "version": 3
   },
   "file_extension": ".py",
   "mimetype": "text/x-python",
   "name": "python",
   "nbconvert_exporter": "python",
   "pygments_lexer": "ipython3",
   "version": "3.7.6"
  },
  "orig_nbformat": 2,
  "kernelspec": {
   "name": "python376jvsc74a57bd01334010457180b265d09b56daeed883170adb1c65c35741b4ba4ec40109d9a77",
   "display_name": "Python 3.7.6 64-bit ('base': conda)"
  }
 },
 "nbformat": 4,
 "nbformat_minor": 2,
 "cells": [
  {
   "cell_type": "code",
   "execution_count": 93,
   "metadata": {},
   "outputs": [],
   "source": [
    "import pandas as pd"
   ]
  },
  {
   "cell_type": "code",
   "execution_count": 94,
   "metadata": {},
   "outputs": [],
   "source": [
    "chicago = pd.read_csv('../pandas_data/chicago.csv')\n",
    "chicago['Department'] = chicago['Department'].astype('category')"
   ]
  },
  {
   "cell_type": "code",
   "execution_count": 95,
   "metadata": {},
   "outputs": [
    {
     "output_type": "execute_result",
     "data": {
      "text/plain": [
       "                  Name            Position Title        Department  \\\n",
       "0      AARON,  ELVIA J          WATER RATE TAKER       WATER MGMNT   \n",
       "1    AARON,  JEFFERY M            POLICE OFFICER            POLICE   \n",
       "2       AARON,  KARINA            POLICE OFFICER            POLICE   \n",
       "3  AARON,  KIMBERLEI R  CHIEF CONTRACT EXPEDITER  GENERAL SERVICES   \n",
       "4  ABAD JR,  VICENTE M         CIVIL ENGINEER IV       WATER MGMNT   \n",
       "\n",
       "  Employee Annual Salary  \n",
       "0              $90744.00  \n",
       "1              $84450.00  \n",
       "2              $84450.00  \n",
       "3              $89880.00  \n",
       "4             $106836.00  "
      ],
      "text/html": "<div>\n<style scoped>\n    .dataframe tbody tr th:only-of-type {\n        vertical-align: middle;\n    }\n\n    .dataframe tbody tr th {\n        vertical-align: top;\n    }\n\n    .dataframe thead th {\n        text-align: right;\n    }\n</style>\n<table border=\"1\" class=\"dataframe\">\n  <thead>\n    <tr style=\"text-align: right;\">\n      <th></th>\n      <th>Name</th>\n      <th>Position Title</th>\n      <th>Department</th>\n      <th>Employee Annual Salary</th>\n    </tr>\n  </thead>\n  <tbody>\n    <tr>\n      <th>0</th>\n      <td>AARON,  ELVIA J</td>\n      <td>WATER RATE TAKER</td>\n      <td>WATER MGMNT</td>\n      <td>$90744.00</td>\n    </tr>\n    <tr>\n      <th>1</th>\n      <td>AARON,  JEFFERY M</td>\n      <td>POLICE OFFICER</td>\n      <td>POLICE</td>\n      <td>$84450.00</td>\n    </tr>\n    <tr>\n      <th>2</th>\n      <td>AARON,  KARINA</td>\n      <td>POLICE OFFICER</td>\n      <td>POLICE</td>\n      <td>$84450.00</td>\n    </tr>\n    <tr>\n      <th>3</th>\n      <td>AARON,  KIMBERLEI R</td>\n      <td>CHIEF CONTRACT EXPEDITER</td>\n      <td>GENERAL SERVICES</td>\n      <td>$89880.00</td>\n    </tr>\n    <tr>\n      <th>4</th>\n      <td>ABAD JR,  VICENTE M</td>\n      <td>CIVIL ENGINEER IV</td>\n      <td>WATER MGMNT</td>\n      <td>$106836.00</td>\n    </tr>\n  </tbody>\n</table>\n</div>"
     },
     "metadata": {},
     "execution_count": 95
    }
   ],
   "source": [
    "chicago.head()"
   ]
  },
  {
   "cell_type": "code",
   "execution_count": 96,
   "metadata": {},
   "outputs": [
    {
     "output_type": "execute_result",
     "data": {
      "text/plain": [
       "Name                      31776\n",
       "Position Title             1093\n",
       "Department                   35\n",
       "Employee Annual Salary     1156\n",
       "dtype: int64"
      ]
     },
     "metadata": {},
     "execution_count": 96
    }
   ],
   "source": [
    "chicago.nunique()"
   ]
  },
  {
   "cell_type": "code",
   "execution_count": 97,
   "metadata": {},
   "outputs": [
    {
     "output_type": "execute_result",
     "data": {
      "text/plain": [
       "11"
      ]
     },
     "metadata": {},
     "execution_count": 97
    }
   ],
   "source": [
    "# Common String Methods - .lower(), .upper(), .title(), .len()\n",
    "\"Hello World\".lower()\n",
    "\"hello world\".upper()\n",
    "\"hello world\".title()\n",
    "len(\"Hello World\")"
   ]
  },
  {
   "cell_type": "code",
   "execution_count": 98,
   "metadata": {},
   "outputs": [
    {
     "output_type": "execute_result",
     "data": {
      "text/plain": [
       "0            Aaron,  Elvia J\n",
       "1          Aaron,  Jeffery M\n",
       "2             Aaron,  Karina\n",
       "3        Aaron,  Kimberlei R\n",
       "4        Abad Jr,  Vicente M\n",
       "                ...         \n",
       "32058     Zygowicz,  Peter J\n",
       "32059      Zymantas,  Mark E\n",
       "32060    Zyrkowski,  Carlo E\n",
       "32061    Zyskowski,  Dariusz\n",
       "32062                    NaN\n",
       "Name: Name, Length: 32063, dtype: object"
      ]
     },
     "metadata": {},
     "execution_count": 98
    }
   ],
   "source": [
    "chicago['Name'].str.lower().str.upper().str.title()"
   ]
  },
  {
   "cell_type": "code",
   "execution_count": 99,
   "metadata": {},
   "outputs": [],
   "source": [
    "chicago['Position Title'] = chicago['Position Title'].str.title()"
   ]
  },
  {
   "cell_type": "code",
   "execution_count": 100,
   "metadata": {},
   "outputs": [
    {
     "output_type": "execute_result",
     "data": {
      "text/plain": [
       "                Name    Position Title   Department Employee Annual Salary\n",
       "0    AARON,  ELVIA J  Water Rate Taker  WATER MGMNT              $90744.00\n",
       "1  AARON,  JEFFERY M    Police Officer       POLICE              $84450.00\n",
       "2     AARON,  KARINA    Police Officer       POLICE              $84450.00"
      ],
      "text/html": "<div>\n<style scoped>\n    .dataframe tbody tr th:only-of-type {\n        vertical-align: middle;\n    }\n\n    .dataframe tbody tr th {\n        vertical-align: top;\n    }\n\n    .dataframe thead th {\n        text-align: right;\n    }\n</style>\n<table border=\"1\" class=\"dataframe\">\n  <thead>\n    <tr style=\"text-align: right;\">\n      <th></th>\n      <th>Name</th>\n      <th>Position Title</th>\n      <th>Department</th>\n      <th>Employee Annual Salary</th>\n    </tr>\n  </thead>\n  <tbody>\n    <tr>\n      <th>0</th>\n      <td>AARON,  ELVIA J</td>\n      <td>Water Rate Taker</td>\n      <td>WATER MGMNT</td>\n      <td>$90744.00</td>\n    </tr>\n    <tr>\n      <th>1</th>\n      <td>AARON,  JEFFERY M</td>\n      <td>Police Officer</td>\n      <td>POLICE</td>\n      <td>$84450.00</td>\n    </tr>\n    <tr>\n      <th>2</th>\n      <td>AARON,  KARINA</td>\n      <td>Police Officer</td>\n      <td>POLICE</td>\n      <td>$84450.00</td>\n    </tr>\n  </tbody>\n</table>\n</div>"
     },
     "metadata": {},
     "execution_count": 100
    }
   ],
   "source": [
    "chicago.head(3)"
   ]
  },
  {
   "cell_type": "code",
   "execution_count": 101,
   "metadata": {},
   "outputs": [
    {
     "output_type": "execute_result",
     "data": {
      "text/plain": [
       "0        11.0\n",
       "1         6.0\n",
       "2         6.0\n",
       "3        16.0\n",
       "4        11.0\n",
       "         ... \n",
       "32058     6.0\n",
       "32059     6.0\n",
       "32060     6.0\n",
       "32061     4.0\n",
       "32062     NaN\n",
       "Name: Department, Length: 32063, dtype: float64"
      ]
     },
     "metadata": {},
     "execution_count": 101
    }
   ],
   "source": [
    "chicago['Department'].str.len()"
   ]
  },
  {
   "cell_type": "code",
   "execution_count": 102,
   "metadata": {},
   "outputs": [],
   "source": [
    "# The .str.replace() Method\n",
    "chicago = pd.read_csv('../pandas_data/chicago.csv').dropna(how=\"all\")\n",
    "chicago['Department'] = chicago['Department'].astype('category')"
   ]
  },
  {
   "cell_type": "code",
   "execution_count": 103,
   "metadata": {},
   "outputs": [
    {
     "output_type": "execute_result",
     "data": {
      "text/plain": [
       "'He!!o Wor!d'"
      ]
     },
     "metadata": {},
     "execution_count": 103
    }
   ],
   "source": [
    "\"Hello World\".replace(\"l\",\"!\")"
   ]
  },
  {
   "cell_type": "code",
   "execution_count": 104,
   "metadata": {},
   "outputs": [
    {
     "output_type": "execute_result",
     "data": {
      "text/plain": [
       "                      Name                  Position Title        Department  \\\n",
       "32057  ZYGADLO,  MICHAEL J  FRM OF MACHINISTS - AUTOMOTIVE  GENERAL SERVICES   \n",
       "32058   ZYGOWICZ,  PETER J                  POLICE OFFICER            POLICE   \n",
       "32059    ZYMANTAS,  MARK E                  POLICE OFFICER            POLICE   \n",
       "32060  ZYRKOWSKI,  CARLO E                  POLICE OFFICER            POLICE   \n",
       "32061  ZYSKOWSKI,  DARIUSZ         CHIEF DATA BASE ANALYST              DoIT   \n",
       "\n",
       "      Employee Annual Salary  \n",
       "32057              $99528.00  \n",
       "32058              $87384.00  \n",
       "32059              $84450.00  \n",
       "32060              $87384.00  \n",
       "32061             $113664.00  "
      ],
      "text/html": "<div>\n<style scoped>\n    .dataframe tbody tr th:only-of-type {\n        vertical-align: middle;\n    }\n\n    .dataframe tbody tr th {\n        vertical-align: top;\n    }\n\n    .dataframe thead th {\n        text-align: right;\n    }\n</style>\n<table border=\"1\" class=\"dataframe\">\n  <thead>\n    <tr style=\"text-align: right;\">\n      <th></th>\n      <th>Name</th>\n      <th>Position Title</th>\n      <th>Department</th>\n      <th>Employee Annual Salary</th>\n    </tr>\n  </thead>\n  <tbody>\n    <tr>\n      <th>32057</th>\n      <td>ZYGADLO,  MICHAEL J</td>\n      <td>FRM OF MACHINISTS - AUTOMOTIVE</td>\n      <td>GENERAL SERVICES</td>\n      <td>$99528.00</td>\n    </tr>\n    <tr>\n      <th>32058</th>\n      <td>ZYGOWICZ,  PETER J</td>\n      <td>POLICE OFFICER</td>\n      <td>POLICE</td>\n      <td>$87384.00</td>\n    </tr>\n    <tr>\n      <th>32059</th>\n      <td>ZYMANTAS,  MARK E</td>\n      <td>POLICE OFFICER</td>\n      <td>POLICE</td>\n      <td>$84450.00</td>\n    </tr>\n    <tr>\n      <th>32060</th>\n      <td>ZYRKOWSKI,  CARLO E</td>\n      <td>POLICE OFFICER</td>\n      <td>POLICE</td>\n      <td>$87384.00</td>\n    </tr>\n    <tr>\n      <th>32061</th>\n      <td>ZYSKOWSKI,  DARIUSZ</td>\n      <td>CHIEF DATA BASE ANALYST</td>\n      <td>DoIT</td>\n      <td>$113664.00</td>\n    </tr>\n  </tbody>\n</table>\n</div>"
     },
     "metadata": {},
     "execution_count": 104
    }
   ],
   "source": [
    "chicago.tail()"
   ]
  },
  {
   "cell_type": "code",
   "execution_count": 105,
   "metadata": {},
   "outputs": [],
   "source": [
    "chicago['Department'] = chicago['Department'].str.replace('MGMNT','MANAGEMENT')"
   ]
  },
  {
   "cell_type": "code",
   "execution_count": 106,
   "metadata": {},
   "outputs": [
    {
     "output_type": "execute_result",
     "data": {
      "text/plain": [
       "                  Name            Position Title        Department  \\\n",
       "0      AARON,  ELVIA J          WATER RATE TAKER  WATER MANAGEMENT   \n",
       "1    AARON,  JEFFERY M            POLICE OFFICER            POLICE   \n",
       "2       AARON,  KARINA            POLICE OFFICER            POLICE   \n",
       "3  AARON,  KIMBERLEI R  CHIEF CONTRACT EXPEDITER  GENERAL SERVICES   \n",
       "4  ABAD JR,  VICENTE M         CIVIL ENGINEER IV  WATER MANAGEMENT   \n",
       "\n",
       "  Employee Annual Salary  \n",
       "0              $90744.00  \n",
       "1              $84450.00  \n",
       "2              $84450.00  \n",
       "3              $89880.00  \n",
       "4             $106836.00  "
      ],
      "text/html": "<div>\n<style scoped>\n    .dataframe tbody tr th:only-of-type {\n        vertical-align: middle;\n    }\n\n    .dataframe tbody tr th {\n        vertical-align: top;\n    }\n\n    .dataframe thead th {\n        text-align: right;\n    }\n</style>\n<table border=\"1\" class=\"dataframe\">\n  <thead>\n    <tr style=\"text-align: right;\">\n      <th></th>\n      <th>Name</th>\n      <th>Position Title</th>\n      <th>Department</th>\n      <th>Employee Annual Salary</th>\n    </tr>\n  </thead>\n  <tbody>\n    <tr>\n      <th>0</th>\n      <td>AARON,  ELVIA J</td>\n      <td>WATER RATE TAKER</td>\n      <td>WATER MANAGEMENT</td>\n      <td>$90744.00</td>\n    </tr>\n    <tr>\n      <th>1</th>\n      <td>AARON,  JEFFERY M</td>\n      <td>POLICE OFFICER</td>\n      <td>POLICE</td>\n      <td>$84450.00</td>\n    </tr>\n    <tr>\n      <th>2</th>\n      <td>AARON,  KARINA</td>\n      <td>POLICE OFFICER</td>\n      <td>POLICE</td>\n      <td>$84450.00</td>\n    </tr>\n    <tr>\n      <th>3</th>\n      <td>AARON,  KIMBERLEI R</td>\n      <td>CHIEF CONTRACT EXPEDITER</td>\n      <td>GENERAL SERVICES</td>\n      <td>$89880.00</td>\n    </tr>\n    <tr>\n      <th>4</th>\n      <td>ABAD JR,  VICENTE M</td>\n      <td>CIVIL ENGINEER IV</td>\n      <td>WATER MANAGEMENT</td>\n      <td>$106836.00</td>\n    </tr>\n  </tbody>\n</table>\n</div>"
     },
     "metadata": {},
     "execution_count": 106
    }
   ],
   "source": [
    "chicago.head()"
   ]
  },
  {
   "cell_type": "code",
   "execution_count": 107,
   "metadata": {},
   "outputs": [],
   "source": [
    "chicago['Employee Annual Salary'] = chicago['Employee Annual Salary'].str.replace('$','').astype(float)"
   ]
  },
  {
   "cell_type": "code",
   "execution_count": 113,
   "metadata": {},
   "outputs": [
    {
     "output_type": "execute_result",
     "data": {
      "text/plain": [
       "15102    0.96\n",
       "Name: Employee Annual Salary, dtype: float64"
      ]
     },
     "metadata": {},
     "execution_count": 113
    }
   ],
   "source": [
    "chicago.head()\n",
    "chicago['Employee Annual Salary'].mean()\n",
    "chicago['Employee Annual Salary'].nlargest(1)\n",
    "chicago['Employee Annual Salary'].nsmallest(1)"
   ]
  },
  {
   "cell_type": "code",
   "execution_count": 114,
   "metadata": {},
   "outputs": [],
   "source": [
    "# Filtering with String Methods\n",
    "\n",
    "chicago = pd.read_csv('../pandas_data/chicago.csv').dropna(how=\"all\")\n",
    "chicago['Department'] = chicago['Department'].astype('category')"
   ]
  },
  {
   "cell_type": "code",
   "execution_count": 118,
   "metadata": {},
   "outputs": [
    {
     "output_type": "execute_result",
     "data": {
      "text/plain": [
       "                       Name                                 Position Title  \\\n",
       "0           AARON,  ELVIA J                               WATER RATE TAKER   \n",
       "554      ALUISE,  VINCENT G             FOREMAN OF WATER PIPE CONSTRUCTION   \n",
       "671         ANDER,  PERRY A                               WATER CHEMIST II   \n",
       "685     ANDERSON,  ANDREW J  DISTRICT SUPERINTENDENT OF WATER DISTRIBUTION   \n",
       "702       ANDERSON,  DONALD             FOREMAN OF WATER PIPE CONSTRUCTION   \n",
       "...                     ...                                            ...   \n",
       "29669        VERMA,  ANUPAM           MANAGING ENGINEER - WATER MANAGEMENT   \n",
       "30239   WASHINGTON,  JOSEPH                              WATER CHEMIST III   \n",
       "30544       WEST,  THOMAS R                   GEN SUPT OF WATER MANAGEMENT   \n",
       "30991    WILLIAMS,  MATTHEW             FOREMAN OF WATER PIPE CONSTRUCTION   \n",
       "31405  WOODRIDGE,  ROBERT L             FOREMAN OF WATER PIPE CONSTRUCTION   \n",
       "\n",
       "        Department Employee Annual Salary  \n",
       "0      WATER MGMNT              $90744.00  \n",
       "554    WATER MGMNT             $102440.00  \n",
       "671    WATER MGMNT              $82044.00  \n",
       "685    WATER MGMNT             $109272.00  \n",
       "702    WATER MGMNT             $102440.00  \n",
       "...            ...                    ...  \n",
       "29669  WATER MGMNT             $111192.00  \n",
       "30239  WATER MGMNT              $89676.00  \n",
       "30544  WATER MGMNT             $115704.00  \n",
       "30991  WATER MGMNT             $102440.00  \n",
       "31405  WATER MGMNT             $102440.00  \n",
       "\n",
       "[111 rows x 4 columns]"
      ],
      "text/html": "<div>\n<style scoped>\n    .dataframe tbody tr th:only-of-type {\n        vertical-align: middle;\n    }\n\n    .dataframe tbody tr th {\n        vertical-align: top;\n    }\n\n    .dataframe thead th {\n        text-align: right;\n    }\n</style>\n<table border=\"1\" class=\"dataframe\">\n  <thead>\n    <tr style=\"text-align: right;\">\n      <th></th>\n      <th>Name</th>\n      <th>Position Title</th>\n      <th>Department</th>\n      <th>Employee Annual Salary</th>\n    </tr>\n  </thead>\n  <tbody>\n    <tr>\n      <th>0</th>\n      <td>AARON,  ELVIA J</td>\n      <td>WATER RATE TAKER</td>\n      <td>WATER MGMNT</td>\n      <td>$90744.00</td>\n    </tr>\n    <tr>\n      <th>554</th>\n      <td>ALUISE,  VINCENT G</td>\n      <td>FOREMAN OF WATER PIPE CONSTRUCTION</td>\n      <td>WATER MGMNT</td>\n      <td>$102440.00</td>\n    </tr>\n    <tr>\n      <th>671</th>\n      <td>ANDER,  PERRY A</td>\n      <td>WATER CHEMIST II</td>\n      <td>WATER MGMNT</td>\n      <td>$82044.00</td>\n    </tr>\n    <tr>\n      <th>685</th>\n      <td>ANDERSON,  ANDREW J</td>\n      <td>DISTRICT SUPERINTENDENT OF WATER DISTRIBUTION</td>\n      <td>WATER MGMNT</td>\n      <td>$109272.00</td>\n    </tr>\n    <tr>\n      <th>702</th>\n      <td>ANDERSON,  DONALD</td>\n      <td>FOREMAN OF WATER PIPE CONSTRUCTION</td>\n      <td>WATER MGMNT</td>\n      <td>$102440.00</td>\n    </tr>\n    <tr>\n      <th>...</th>\n      <td>...</td>\n      <td>...</td>\n      <td>...</td>\n      <td>...</td>\n    </tr>\n    <tr>\n      <th>29669</th>\n      <td>VERMA,  ANUPAM</td>\n      <td>MANAGING ENGINEER - WATER MANAGEMENT</td>\n      <td>WATER MGMNT</td>\n      <td>$111192.00</td>\n    </tr>\n    <tr>\n      <th>30239</th>\n      <td>WASHINGTON,  JOSEPH</td>\n      <td>WATER CHEMIST III</td>\n      <td>WATER MGMNT</td>\n      <td>$89676.00</td>\n    </tr>\n    <tr>\n      <th>30544</th>\n      <td>WEST,  THOMAS R</td>\n      <td>GEN SUPT OF WATER MANAGEMENT</td>\n      <td>WATER MGMNT</td>\n      <td>$115704.00</td>\n    </tr>\n    <tr>\n      <th>30991</th>\n      <td>WILLIAMS,  MATTHEW</td>\n      <td>FOREMAN OF WATER PIPE CONSTRUCTION</td>\n      <td>WATER MGMNT</td>\n      <td>$102440.00</td>\n    </tr>\n    <tr>\n      <th>31405</th>\n      <td>WOODRIDGE,  ROBERT L</td>\n      <td>FOREMAN OF WATER PIPE CONSTRUCTION</td>\n      <td>WATER MGMNT</td>\n      <td>$102440.00</td>\n    </tr>\n  </tbody>\n</table>\n<p>111 rows × 4 columns</p>\n</div>"
     },
     "metadata": {},
     "execution_count": 118
    }
   ],
   "source": [
    "mask = chicago['Position Title'].str.lower().str.contains('water')\n",
    "chicago[mask]"
   ]
  },
  {
   "cell_type": "code",
   "execution_count": 122,
   "metadata": {},
   "outputs": [
    {
     "output_type": "execute_result",
     "data": {
      "text/plain": [
       "                          Name                        Position Title  \\\n",
       "184             AFROZ,  NAYYAR                          PSYCHIATRIST   \n",
       "308           ALARCON,  LUIS J            LOAN PROCESSING SPECIALIST   \n",
       "422           ALLAIN,  CAROLYN  SENIOR TELECOMMUNICATIONS SPECIALIST   \n",
       "472             ALLEN,  ROBERT                             MACHINIST   \n",
       "705        ANDERSON,  EDWARD M             SR PROCUREMENT SPECIALIST   \n",
       "...                        ...                                   ...   \n",
       "31667         YODER,  TERESA G                   ARCHIVAL SPECIALIST   \n",
       "31688  YOUNGBLOOM,  LAURENCE G        CRIMES SURVEILLANCE SPECIALIST   \n",
       "31717       YOUNG,  KIMBERLY M             SR PROCUREMENT SPECIALIST   \n",
       "31837            ZAPATA,  HUGO             SR PROCUREMENT SPECIALIST   \n",
       "31918        ZEMKE,  RICHARD P                             MACHINIST   \n",
       "\n",
       "                  Department Employee Annual Salary  \n",
       "184                   HEALTH              $99840.00  \n",
       "308    COMMUNITY DEVELOPMENT              $81948.00  \n",
       "422                     DoIT              $89880.00  \n",
       "472              WATER MGMNT              $94328.00  \n",
       "705              PROCUREMENT              $91476.00  \n",
       "...                      ...                    ...  \n",
       "31667         PUBLIC LIBRARY              $74304.00  \n",
       "31688                   OEMC              $19676.80  \n",
       "31717            PROCUREMENT              $68556.00  \n",
       "31837            PROCUREMENT              $87324.00  \n",
       "31918               AVIATION              $94328.00  \n",
       "\n",
       "[172 rows x 4 columns]"
      ],
      "text/html": "<div>\n<style scoped>\n    .dataframe tbody tr th:only-of-type {\n        vertical-align: middle;\n    }\n\n    .dataframe tbody tr th {\n        vertical-align: top;\n    }\n\n    .dataframe thead th {\n        text-align: right;\n    }\n</style>\n<table border=\"1\" class=\"dataframe\">\n  <thead>\n    <tr style=\"text-align: right;\">\n      <th></th>\n      <th>Name</th>\n      <th>Position Title</th>\n      <th>Department</th>\n      <th>Employee Annual Salary</th>\n    </tr>\n  </thead>\n  <tbody>\n    <tr>\n      <th>184</th>\n      <td>AFROZ,  NAYYAR</td>\n      <td>PSYCHIATRIST</td>\n      <td>HEALTH</td>\n      <td>$99840.00</td>\n    </tr>\n    <tr>\n      <th>308</th>\n      <td>ALARCON,  LUIS J</td>\n      <td>LOAN PROCESSING SPECIALIST</td>\n      <td>COMMUNITY DEVELOPMENT</td>\n      <td>$81948.00</td>\n    </tr>\n    <tr>\n      <th>422</th>\n      <td>ALLAIN,  CAROLYN</td>\n      <td>SENIOR TELECOMMUNICATIONS SPECIALIST</td>\n      <td>DoIT</td>\n      <td>$89880.00</td>\n    </tr>\n    <tr>\n      <th>472</th>\n      <td>ALLEN,  ROBERT</td>\n      <td>MACHINIST</td>\n      <td>WATER MGMNT</td>\n      <td>$94328.00</td>\n    </tr>\n    <tr>\n      <th>705</th>\n      <td>ANDERSON,  EDWARD M</td>\n      <td>SR PROCUREMENT SPECIALIST</td>\n      <td>PROCUREMENT</td>\n      <td>$91476.00</td>\n    </tr>\n    <tr>\n      <th>...</th>\n      <td>...</td>\n      <td>...</td>\n      <td>...</td>\n      <td>...</td>\n    </tr>\n    <tr>\n      <th>31667</th>\n      <td>YODER,  TERESA G</td>\n      <td>ARCHIVAL SPECIALIST</td>\n      <td>PUBLIC LIBRARY</td>\n      <td>$74304.00</td>\n    </tr>\n    <tr>\n      <th>31688</th>\n      <td>YOUNGBLOOM,  LAURENCE G</td>\n      <td>CRIMES SURVEILLANCE SPECIALIST</td>\n      <td>OEMC</td>\n      <td>$19676.80</td>\n    </tr>\n    <tr>\n      <th>31717</th>\n      <td>YOUNG,  KIMBERLY M</td>\n      <td>SR PROCUREMENT SPECIALIST</td>\n      <td>PROCUREMENT</td>\n      <td>$68556.00</td>\n    </tr>\n    <tr>\n      <th>31837</th>\n      <td>ZAPATA,  HUGO</td>\n      <td>SR PROCUREMENT SPECIALIST</td>\n      <td>PROCUREMENT</td>\n      <td>$87324.00</td>\n    </tr>\n    <tr>\n      <th>31918</th>\n      <td>ZEMKE,  RICHARD P</td>\n      <td>MACHINIST</td>\n      <td>AVIATION</td>\n      <td>$94328.00</td>\n    </tr>\n  </tbody>\n</table>\n<p>172 rows × 4 columns</p>\n</div>"
     },
     "metadata": {},
     "execution_count": 122
    }
   ],
   "source": [
    "chicago[chicago['Position Title'].str.lower().str.startswith('water')]\n",
    "chicago[chicago['Position Title'].str.lower().str.endswith('ist')]"
   ]
  },
  {
   "cell_type": "code",
   "execution_count": 123,
   "metadata": {},
   "outputs": [],
   "source": [
    "# More string methods - .strip() , .lstrip(), .rstrip()"
   ]
  },
  {
   "cell_type": "code",
   "execution_count": 126,
   "metadata": {},
   "outputs": [
    {
     "output_type": "execute_result",
     "data": {
      "text/plain": [
       "'Hello World'"
      ]
     },
     "metadata": {},
     "execution_count": 126
    }
   ],
   "source": [
    "\"  Hello World     \".strip()"
   ]
  },
  {
   "cell_type": "code",
   "execution_count": 131,
   "metadata": {},
   "outputs": [],
   "source": [
    "chicago['Name'] = chicago['Name'].str.strip()"
   ]
  },
  {
   "cell_type": "code",
   "execution_count": 134,
   "metadata": {},
   "outputs": [],
   "source": [
    "chicago['Position Title'] = chicago['Position Title'].str.strip()"
   ]
  },
  {
   "cell_type": "code",
   "execution_count": 135,
   "metadata": {},
   "outputs": [],
   "source": [
    "# String Methods on Index Columns"
   ]
  },
  {
   "cell_type": "code",
   "execution_count": 136,
   "metadata": {},
   "outputs": [],
   "source": [
    "chicago = pd.read_csv('../pandas_data/chicago.csv', index_col=\"Name\").dropna(how=\"all\")\n",
    "chicago['Department'] = chicago['Department'].astype('category')"
   ]
  },
  {
   "cell_type": "code",
   "execution_count": 142,
   "metadata": {},
   "outputs": [],
   "source": [
    "chicago.index = chicago.index.str.strip().str.title()"
   ]
  },
  {
   "cell_type": "code",
   "execution_count": 143,
   "metadata": {},
   "outputs": [
    {
     "output_type": "execute_result",
     "data": {
      "text/plain": [
       "                     Position Title   Department Employee Annual Salary\n",
       "Name                                                                   \n",
       "Aaron,  Elvia J    WATER RATE TAKER  WATER MGMNT              $90744.00\n",
       "Aaron,  Jeffery M    POLICE OFFICER       POLICE              $84450.00\n",
       "Aaron,  Karina       POLICE OFFICER       POLICE              $84450.00"
      ],
      "text/html": "<div>\n<style scoped>\n    .dataframe tbody tr th:only-of-type {\n        vertical-align: middle;\n    }\n\n    .dataframe tbody tr th {\n        vertical-align: top;\n    }\n\n    .dataframe thead th {\n        text-align: right;\n    }\n</style>\n<table border=\"1\" class=\"dataframe\">\n  <thead>\n    <tr style=\"text-align: right;\">\n      <th></th>\n      <th>Position Title</th>\n      <th>Department</th>\n      <th>Employee Annual Salary</th>\n    </tr>\n    <tr>\n      <th>Name</th>\n      <th></th>\n      <th></th>\n      <th></th>\n    </tr>\n  </thead>\n  <tbody>\n    <tr>\n      <th>Aaron,  Elvia J</th>\n      <td>WATER RATE TAKER</td>\n      <td>WATER MGMNT</td>\n      <td>$90744.00</td>\n    </tr>\n    <tr>\n      <th>Aaron,  Jeffery M</th>\n      <td>POLICE OFFICER</td>\n      <td>POLICE</td>\n      <td>$84450.00</td>\n    </tr>\n    <tr>\n      <th>Aaron,  Karina</th>\n      <td>POLICE OFFICER</td>\n      <td>POLICE</td>\n      <td>$84450.00</td>\n    </tr>\n  </tbody>\n</table>\n</div>"
     },
     "metadata": {},
     "execution_count": 143
    }
   ],
   "source": [
    "chicago.head(3)"
   ]
  },
  {
   "cell_type": "code",
   "execution_count": 146,
   "metadata": {},
   "outputs": [],
   "source": [
    "chicago.columns = chicago.columns.str.upper()"
   ]
  },
  {
   "cell_type": "code",
   "execution_count": 147,
   "metadata": {},
   "outputs": [
    {
     "output_type": "execute_result",
     "data": {
      "text/plain": [
       "                               POSITION TITLE        DEPARTMENT  \\\n",
       "Name                                                              \n",
       "Aaron,  Elvia J              WATER RATE TAKER       WATER MGMNT   \n",
       "Aaron,  Jeffery M              POLICE OFFICER            POLICE   \n",
       "Aaron,  Karina                 POLICE OFFICER            POLICE   \n",
       "Aaron,  Kimberlei R  CHIEF CONTRACT EXPEDITER  GENERAL SERVICES   \n",
       "Abad Jr,  Vicente M         CIVIL ENGINEER IV       WATER MGMNT   \n",
       "\n",
       "                    EMPLOYEE ANNUAL SALARY  \n",
       "Name                                        \n",
       "Aaron,  Elvia J                  $90744.00  \n",
       "Aaron,  Jeffery M                $84450.00  \n",
       "Aaron,  Karina                   $84450.00  \n",
       "Aaron,  Kimberlei R              $89880.00  \n",
       "Abad Jr,  Vicente M             $106836.00  "
      ],
      "text/html": "<div>\n<style scoped>\n    .dataframe tbody tr th:only-of-type {\n        vertical-align: middle;\n    }\n\n    .dataframe tbody tr th {\n        vertical-align: top;\n    }\n\n    .dataframe thead th {\n        text-align: right;\n    }\n</style>\n<table border=\"1\" class=\"dataframe\">\n  <thead>\n    <tr style=\"text-align: right;\">\n      <th></th>\n      <th>POSITION TITLE</th>\n      <th>DEPARTMENT</th>\n      <th>EMPLOYEE ANNUAL SALARY</th>\n    </tr>\n    <tr>\n      <th>Name</th>\n      <th></th>\n      <th></th>\n      <th></th>\n    </tr>\n  </thead>\n  <tbody>\n    <tr>\n      <th>Aaron,  Elvia J</th>\n      <td>WATER RATE TAKER</td>\n      <td>WATER MGMNT</td>\n      <td>$90744.00</td>\n    </tr>\n    <tr>\n      <th>Aaron,  Jeffery M</th>\n      <td>POLICE OFFICER</td>\n      <td>POLICE</td>\n      <td>$84450.00</td>\n    </tr>\n    <tr>\n      <th>Aaron,  Karina</th>\n      <td>POLICE OFFICER</td>\n      <td>POLICE</td>\n      <td>$84450.00</td>\n    </tr>\n    <tr>\n      <th>Aaron,  Kimberlei R</th>\n      <td>CHIEF CONTRACT EXPEDITER</td>\n      <td>GENERAL SERVICES</td>\n      <td>$89880.00</td>\n    </tr>\n    <tr>\n      <th>Abad Jr,  Vicente M</th>\n      <td>CIVIL ENGINEER IV</td>\n      <td>WATER MGMNT</td>\n      <td>$106836.00</td>\n    </tr>\n  </tbody>\n</table>\n</div>"
     },
     "metadata": {},
     "execution_count": 147
    }
   ],
   "source": [
    "chicago.head()"
   ]
  },
  {
   "cell_type": "code",
   "execution_count": 149,
   "metadata": {},
   "outputs": [
    {
     "output_type": "execute_result",
     "data": {
      "text/plain": [
       "                      Name                  Position Title        Department  \\\n",
       "32057  ZYGADLO,  MICHAEL J  FRM OF MACHINISTS - AUTOMOTIVE  GENERAL SERVICES   \n",
       "32058   ZYGOWICZ,  PETER J                  POLICE OFFICER            POLICE   \n",
       "32059    ZYMANTAS,  MARK E                  POLICE OFFICER            POLICE   \n",
       "32060  ZYRKOWSKI,  CARLO E                  POLICE OFFICER            POLICE   \n",
       "32061  ZYSKOWSKI,  DARIUSZ         CHIEF DATA BASE ANALYST              DoIT   \n",
       "\n",
       "      Employee Annual Salary  \n",
       "32057              $99528.00  \n",
       "32058              $87384.00  \n",
       "32059              $84450.00  \n",
       "32060              $87384.00  \n",
       "32061             $113664.00  "
      ],
      "text/html": "<div>\n<style scoped>\n    .dataframe tbody tr th:only-of-type {\n        vertical-align: middle;\n    }\n\n    .dataframe tbody tr th {\n        vertical-align: top;\n    }\n\n    .dataframe thead th {\n        text-align: right;\n    }\n</style>\n<table border=\"1\" class=\"dataframe\">\n  <thead>\n    <tr style=\"text-align: right;\">\n      <th></th>\n      <th>Name</th>\n      <th>Position Title</th>\n      <th>Department</th>\n      <th>Employee Annual Salary</th>\n    </tr>\n  </thead>\n  <tbody>\n    <tr>\n      <th>32057</th>\n      <td>ZYGADLO,  MICHAEL J</td>\n      <td>FRM OF MACHINISTS - AUTOMOTIVE</td>\n      <td>GENERAL SERVICES</td>\n      <td>$99528.00</td>\n    </tr>\n    <tr>\n      <th>32058</th>\n      <td>ZYGOWICZ,  PETER J</td>\n      <td>POLICE OFFICER</td>\n      <td>POLICE</td>\n      <td>$87384.00</td>\n    </tr>\n    <tr>\n      <th>32059</th>\n      <td>ZYMANTAS,  MARK E</td>\n      <td>POLICE OFFICER</td>\n      <td>POLICE</td>\n      <td>$84450.00</td>\n    </tr>\n    <tr>\n      <th>32060</th>\n      <td>ZYRKOWSKI,  CARLO E</td>\n      <td>POLICE OFFICER</td>\n      <td>POLICE</td>\n      <td>$87384.00</td>\n    </tr>\n    <tr>\n      <th>32061</th>\n      <td>ZYSKOWSKI,  DARIUSZ</td>\n      <td>CHIEF DATA BASE ANALYST</td>\n      <td>DoIT</td>\n      <td>$113664.00</td>\n    </tr>\n  </tbody>\n</table>\n</div>"
     },
     "metadata": {},
     "execution_count": 149
    }
   ],
   "source": [
    "# Split Strings by Characters with .str.split() Method\n",
    "\n",
    "chicago = pd.read_csv('../pandas_data/chicago.csv').dropna(how=\"all\")\n",
    "chicago['Department'] = chicago['Department'].astype('category')\n",
    "chicago.tail()"
   ]
  },
  {
   "cell_type": "code",
   "execution_count": 154,
   "metadata": {},
   "outputs": [
    {
     "output_type": "execute_result",
     "data": {
      "text/plain": [
       "['Hello', 'my', 'name', 'is', 'Boris']"
      ]
     },
     "metadata": {},
     "execution_count": 154
    }
   ],
   "source": [
    "\"Hello my name is Boris\".split(\" \")"
   ]
  },
  {
   "cell_type": "code",
   "execution_count": 170,
   "metadata": {},
   "outputs": [
    {
     "output_type": "execute_result",
     "data": {
      "text/plain": [
       "Williams     293\n",
       "Johnson      244\n",
       "Smith        241\n",
       "Brown        185\n",
       "Jones        183\n",
       "            ... \n",
       "Holifield      1\n",
       "Knapcik        1\n",
       "Wo             1\n",
       "De Julio       1\n",
       "Baljevich      1\n",
       "Name: Name, Length: 13829, dtype: int64"
      ]
     },
     "metadata": {},
     "execution_count": 170
    }
   ],
   "source": [
    "chicago['Name'].str.split(',').str.get(0).str.title().value_counts()"
   ]
  },
  {
   "cell_type": "code",
   "execution_count": 181,
   "metadata": {},
   "outputs": [
    {
     "output_type": "execute_result",
     "data": {
      "text/plain": [
       "Police                 10856\n",
       "Firefighter-Emt         1509\n",
       "Sergeant                1186\n",
       "Pool                     918\n",
       "Firefighter              810\n",
       "                       ...  \n",
       "Manager-O'Hare             1\n",
       "Intake                     1\n",
       "Glazier                    1\n",
       "Veterinarian-Hourly        1\n",
       "Manager-Fleet              1\n",
       "Name: Position Title, Length: 320, dtype: int64"
      ]
     },
     "metadata": {},
     "execution_count": 181
    }
   ],
   "source": [
    "chicago['Position Title'].str.split(' ').str.get(0).str.title().value_counts()"
   ]
  },
  {
   "cell_type": "code",
   "execution_count": null,
   "metadata": {},
   "outputs": [],
   "source": []
  }
 ]
}