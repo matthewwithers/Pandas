{
 "metadata": {
  "language_info": {
   "codemirror_mode": {
    "name": "ipython",
    "version": 3
   },
   "file_extension": ".py",
   "mimetype": "text/x-python",
   "name": "python",
   "nbconvert_exporter": "python",
   "pygments_lexer": "ipython3",
   "version": "3.7.6"
  },
  "orig_nbformat": 2,
  "kernelspec": {
   "name": "python376jvsc74a57bd01334010457180b265d09b56daeed883170adb1c65c35741b4ba4ec40109d9a77",
   "display_name": "Python 3.7.6 64-bit ('base': conda)"
  }
 },
 "nbformat": 4,
 "nbformat_minor": 2,
 "cells": [
  {
   "cell_type": "code",
   "execution_count": 2,
   "metadata": {},
   "outputs": [
    {
     "output_type": "execute_result",
     "data": {
      "text/plain": [
       "          Company      Sector                     Industry         Location  \\\n",
       "Rank                                                                          \n",
       "1         Walmart   Retailing        General Merchandisers  Bentonville, AR   \n",
       "2     Exxon Mobil      Energy           Petroleum Refining       Irving, TX   \n",
       "3           Apple  Technology  Computers, Office Equipment    Cupertino, CA   \n",
       "\n",
       "      Revenue  Profits  Employees  \n",
       "Rank                               \n",
       "1      482130    14694    2300000  \n",
       "2      246204    16150      75600  \n",
       "3      233715    53394     110000  "
      ],
      "text/html": "<div>\n<style scoped>\n    .dataframe tbody tr th:only-of-type {\n        vertical-align: middle;\n    }\n\n    .dataframe tbody tr th {\n        vertical-align: top;\n    }\n\n    .dataframe thead th {\n        text-align: right;\n    }\n</style>\n<table border=\"1\" class=\"dataframe\">\n  <thead>\n    <tr style=\"text-align: right;\">\n      <th></th>\n      <th>Company</th>\n      <th>Sector</th>\n      <th>Industry</th>\n      <th>Location</th>\n      <th>Revenue</th>\n      <th>Profits</th>\n      <th>Employees</th>\n    </tr>\n    <tr>\n      <th>Rank</th>\n      <th></th>\n      <th></th>\n      <th></th>\n      <th></th>\n      <th></th>\n      <th></th>\n      <th></th>\n    </tr>\n  </thead>\n  <tbody>\n    <tr>\n      <th>1</th>\n      <td>Walmart</td>\n      <td>Retailing</td>\n      <td>General Merchandisers</td>\n      <td>Bentonville, AR</td>\n      <td>482130</td>\n      <td>14694</td>\n      <td>2300000</td>\n    </tr>\n    <tr>\n      <th>2</th>\n      <td>Exxon Mobil</td>\n      <td>Energy</td>\n      <td>Petroleum Refining</td>\n      <td>Irving, TX</td>\n      <td>246204</td>\n      <td>16150</td>\n      <td>75600</td>\n    </tr>\n    <tr>\n      <th>3</th>\n      <td>Apple</td>\n      <td>Technology</td>\n      <td>Computers, Office Equipment</td>\n      <td>Cupertino, CA</td>\n      <td>233715</td>\n      <td>53394</td>\n      <td>110000</td>\n    </tr>\n  </tbody>\n</table>\n</div>"
     },
     "metadata": {},
     "execution_count": 2
    }
   ],
   "source": [
    "import pandas as pd \n",
    "fortune = pd.read_csv('../Files/fortune1000.csv', index_col=\"Rank\")\n",
    "sectors = fortune.groupby([\"Sector\",\"Industry\"])\n",
    "fortune.head(3)"
   ]
  },
  {
   "cell_type": "code",
   "execution_count": 6,
   "metadata": {},
   "outputs": [
    {
     "output_type": "execute_result",
     "data": {
      "text/plain": [
       "Sector               Industry                                     \n",
       "Aerospace & Defense  Aerospace and Defense                            48402.850000\n",
       "Apparel              Apparel                                          23093.133333\n",
       "Business Services    Advertising, marketing                           62050.000000\n",
       "                     Diversified Outsourcing Services                 50595.000000\n",
       "                     Education                                        15585.000000\n",
       "                                                                          ...     \n",
       "Transportation       Trucking, Truck Leasing                          18939.555556\n",
       "Wholesalers          Miscellaneous                                     9200.000000\n",
       "                     Wholesalers: Diversified                          9353.240000\n",
       "                     Wholesalers: Electronics and Office Equipment    20832.625000\n",
       "                     Wholesalers: Food and Grocery                    19317.500000\n",
       "Name: Employees, Length: 79, dtype: float64"
      ]
     },
     "metadata": {},
     "execution_count": 6
    }
   ],
   "source": [
    "sectors.size()\n",
    "sectors.sum()\n",
    "sectors['Revenue'].sum()\n",
    "sectors['Employees'].mean()"
   ]
  },
  {
   "cell_type": "code",
   "execution_count": 8,
   "metadata": {},
   "outputs": [
    {
     "output_type": "execute_result",
     "data": {
      "text/plain": [
       "          Company      Sector                     Industry         Location  \\\n",
       "Rank                                                                          \n",
       "1         Walmart   Retailing        General Merchandisers  Bentonville, AR   \n",
       "2     Exxon Mobil      Energy           Petroleum Refining       Irving, TX   \n",
       "3           Apple  Technology  Computers, Office Equipment    Cupertino, CA   \n",
       "\n",
       "      Revenue  Profits  Employees  \n",
       "Rank                               \n",
       "1      482130    14694    2300000  \n",
       "2      246204    16150      75600  \n",
       "3      233715    53394     110000  "
      ],
      "text/html": "<div>\n<style scoped>\n    .dataframe tbody tr th:only-of-type {\n        vertical-align: middle;\n    }\n\n    .dataframe tbody tr th {\n        vertical-align: top;\n    }\n\n    .dataframe thead th {\n        text-align: right;\n    }\n</style>\n<table border=\"1\" class=\"dataframe\">\n  <thead>\n    <tr style=\"text-align: right;\">\n      <th></th>\n      <th>Company</th>\n      <th>Sector</th>\n      <th>Industry</th>\n      <th>Location</th>\n      <th>Revenue</th>\n      <th>Profits</th>\n      <th>Employees</th>\n    </tr>\n    <tr>\n      <th>Rank</th>\n      <th></th>\n      <th></th>\n      <th></th>\n      <th></th>\n      <th></th>\n      <th></th>\n      <th></th>\n    </tr>\n  </thead>\n  <tbody>\n    <tr>\n      <th>1</th>\n      <td>Walmart</td>\n      <td>Retailing</td>\n      <td>General Merchandisers</td>\n      <td>Bentonville, AR</td>\n      <td>482130</td>\n      <td>14694</td>\n      <td>2300000</td>\n    </tr>\n    <tr>\n      <th>2</th>\n      <td>Exxon Mobil</td>\n      <td>Energy</td>\n      <td>Petroleum Refining</td>\n      <td>Irving, TX</td>\n      <td>246204</td>\n      <td>16150</td>\n      <td>75600</td>\n    </tr>\n    <tr>\n      <th>3</th>\n      <td>Apple</td>\n      <td>Technology</td>\n      <td>Computers, Office Equipment</td>\n      <td>Cupertino, CA</td>\n      <td>233715</td>\n      <td>53394</td>\n      <td>110000</td>\n    </tr>\n  </tbody>\n</table>\n</div>"
     },
     "metadata": {},
     "execution_count": 8
    }
   ],
   "source": [
    "# The .agg() Method\n",
    "fortune = pd.read_csv('../Files/fortune1000.csv', index_col=\"Rank\")\n",
    "sectors = fortune.groupby([\"Sector\"])\n",
    "fortune.head(3)"
   ]
  },
  {
   "cell_type": "code",
   "execution_count": 16,
   "metadata": {},
   "outputs": [
    {
     "output_type": "execute_result",
     "data": {
      "text/plain": [
       "                    Revenue               Profits     Employees\n",
       "                        sum          mean     sum          mean\n",
       "Sector                                                         \n",
       "Aerospace & Defense  357940  17897.000000   28742  48402.850000\n",
       "Apparel               95968   6397.866667    8236  23093.133333\n",
       "Business Services    272195   5337.156863   28227  26687.254902"
      ],
      "text/html": "<div>\n<style scoped>\n    .dataframe tbody tr th:only-of-type {\n        vertical-align: middle;\n    }\n\n    .dataframe tbody tr th {\n        vertical-align: top;\n    }\n\n    .dataframe thead tr th {\n        text-align: left;\n    }\n\n    .dataframe thead tr:last-of-type th {\n        text-align: right;\n    }\n</style>\n<table border=\"1\" class=\"dataframe\">\n  <thead>\n    <tr>\n      <th></th>\n      <th colspan=\"2\" halign=\"left\">Revenue</th>\n      <th>Profits</th>\n      <th>Employees</th>\n    </tr>\n    <tr>\n      <th></th>\n      <th>sum</th>\n      <th>mean</th>\n      <th>sum</th>\n      <th>mean</th>\n    </tr>\n    <tr>\n      <th>Sector</th>\n      <th></th>\n      <th></th>\n      <th></th>\n      <th></th>\n    </tr>\n  </thead>\n  <tbody>\n    <tr>\n      <th>Aerospace &amp; Defense</th>\n      <td>357940</td>\n      <td>17897.000000</td>\n      <td>28742</td>\n      <td>48402.850000</td>\n    </tr>\n    <tr>\n      <th>Apparel</th>\n      <td>95968</td>\n      <td>6397.866667</td>\n      <td>8236</td>\n      <td>23093.133333</td>\n    </tr>\n    <tr>\n      <th>Business Services</th>\n      <td>272195</td>\n      <td>5337.156863</td>\n      <td>28227</td>\n      <td>26687.254902</td>\n    </tr>\n  </tbody>\n</table>\n</div>"
     },
     "metadata": {},
     "execution_count": 16
    }
   ],
   "source": [
    "sectors.agg({\n",
    "    \"Revenue\":[\"sum\",\"mean\"],\n",
    "    \"Profits\":\"sum\",\n",
    "    \"Employees\":\"mean\"\n",
    "}).head(3)"
   ]
  },
  {
   "cell_type": "code",
   "execution_count": 15,
   "metadata": {},
   "outputs": [
    {
     "output_type": "execute_result",
     "data": {
      "text/plain": [
       "                    Revenue                       Profits                      \\\n",
       "                       size     sum          mean    size    sum         mean   \n",
       "Sector                                                                          \n",
       "Aerospace & Defense      20  357940  17897.000000      20  28742  1437.100000   \n",
       "Apparel                  15   95968   6397.866667      15   8236   549.066667   \n",
       "Business Services        51  272195   5337.156863      51  28227   553.470588   \n",
       "\n",
       "                    Employees                         \n",
       "                         size      sum          mean  \n",
       "Sector                                                \n",
       "Aerospace & Defense        20   968057  48402.850000  \n",
       "Apparel                    15   346397  23093.133333  \n",
       "Business Services          51  1361050  26687.254902  "
      ],
      "text/html": "<div>\n<style scoped>\n    .dataframe tbody tr th:only-of-type {\n        vertical-align: middle;\n    }\n\n    .dataframe tbody tr th {\n        vertical-align: top;\n    }\n\n    .dataframe thead tr th {\n        text-align: left;\n    }\n\n    .dataframe thead tr:last-of-type th {\n        text-align: right;\n    }\n</style>\n<table border=\"1\" class=\"dataframe\">\n  <thead>\n    <tr>\n      <th></th>\n      <th colspan=\"3\" halign=\"left\">Revenue</th>\n      <th colspan=\"3\" halign=\"left\">Profits</th>\n      <th colspan=\"3\" halign=\"left\">Employees</th>\n    </tr>\n    <tr>\n      <th></th>\n      <th>size</th>\n      <th>sum</th>\n      <th>mean</th>\n      <th>size</th>\n      <th>sum</th>\n      <th>mean</th>\n      <th>size</th>\n      <th>sum</th>\n      <th>mean</th>\n    </tr>\n    <tr>\n      <th>Sector</th>\n      <th></th>\n      <th></th>\n      <th></th>\n      <th></th>\n      <th></th>\n      <th></th>\n      <th></th>\n      <th></th>\n      <th></th>\n    </tr>\n  </thead>\n  <tbody>\n    <tr>\n      <th>Aerospace &amp; Defense</th>\n      <td>20</td>\n      <td>357940</td>\n      <td>17897.000000</td>\n      <td>20</td>\n      <td>28742</td>\n      <td>1437.100000</td>\n      <td>20</td>\n      <td>968057</td>\n      <td>48402.850000</td>\n    </tr>\n    <tr>\n      <th>Apparel</th>\n      <td>15</td>\n      <td>95968</td>\n      <td>6397.866667</td>\n      <td>15</td>\n      <td>8236</td>\n      <td>549.066667</td>\n      <td>15</td>\n      <td>346397</td>\n      <td>23093.133333</td>\n    </tr>\n    <tr>\n      <th>Business Services</th>\n      <td>51</td>\n      <td>272195</td>\n      <td>5337.156863</td>\n      <td>51</td>\n      <td>28227</td>\n      <td>553.470588</td>\n      <td>51</td>\n      <td>1361050</td>\n      <td>26687.254902</td>\n    </tr>\n  </tbody>\n</table>\n</div>"
     },
     "metadata": {},
     "execution_count": 15
    }
   ],
   "source": [
    "sectors.agg([\n",
    "    \"size\",\"sum\",\"mean\"\n",
    "]).head(3)"
   ]
  },
  {
   "cell_type": "code",
   "execution_count": 18,
   "metadata": {},
   "outputs": [
    {
     "output_type": "execute_result",
     "data": {
      "text/plain": [
       "          Company      Sector                     Industry         Location  \\\n",
       "Rank                                                                          \n",
       "1         Walmart   Retailing        General Merchandisers  Bentonville, AR   \n",
       "2     Exxon Mobil      Energy           Petroleum Refining       Irving, TX   \n",
       "3           Apple  Technology  Computers, Office Equipment    Cupertino, CA   \n",
       "\n",
       "      Revenue  Profits  Employees  \n",
       "Rank                               \n",
       "1      482130    14694    2300000  \n",
       "2      246204    16150      75600  \n",
       "3      233715    53394     110000  "
      ],
      "text/html": "<div>\n<style scoped>\n    .dataframe tbody tr th:only-of-type {\n        vertical-align: middle;\n    }\n\n    .dataframe tbody tr th {\n        vertical-align: top;\n    }\n\n    .dataframe thead th {\n        text-align: right;\n    }\n</style>\n<table border=\"1\" class=\"dataframe\">\n  <thead>\n    <tr style=\"text-align: right;\">\n      <th></th>\n      <th>Company</th>\n      <th>Sector</th>\n      <th>Industry</th>\n      <th>Location</th>\n      <th>Revenue</th>\n      <th>Profits</th>\n      <th>Employees</th>\n    </tr>\n    <tr>\n      <th>Rank</th>\n      <th></th>\n      <th></th>\n      <th></th>\n      <th></th>\n      <th></th>\n      <th></th>\n      <th></th>\n    </tr>\n  </thead>\n  <tbody>\n    <tr>\n      <th>1</th>\n      <td>Walmart</td>\n      <td>Retailing</td>\n      <td>General Merchandisers</td>\n      <td>Bentonville, AR</td>\n      <td>482130</td>\n      <td>14694</td>\n      <td>2300000</td>\n    </tr>\n    <tr>\n      <th>2</th>\n      <td>Exxon Mobil</td>\n      <td>Energy</td>\n      <td>Petroleum Refining</td>\n      <td>Irving, TX</td>\n      <td>246204</td>\n      <td>16150</td>\n      <td>75600</td>\n    </tr>\n    <tr>\n      <th>3</th>\n      <td>Apple</td>\n      <td>Technology</td>\n      <td>Computers, Office Equipment</td>\n      <td>Cupertino, CA</td>\n      <td>233715</td>\n      <td>53394</td>\n      <td>110000</td>\n    </tr>\n  </tbody>\n</table>\n</div>"
     },
     "metadata": {},
     "execution_count": 18
    }
   ],
   "source": [
    "# Iterating through Groups\n",
    "fortune = pd.read_csv('../Files/fortune1000.csv', index_col=\"Rank\")\n",
    "sectors = fortune.groupby([\"Sector\"])\n",
    "fortune.head(3)"
   ]
  },
  {
   "cell_type": "code",
   "execution_count": 21,
   "metadata": {},
   "outputs": [
    {
     "output_type": "execute_result",
     "data": {
      "text/plain": [
       "Empty DataFrame\n",
       "Columns: [Company, Sector, Industry, Location, Revenue, Profits, Employees]\n",
       "Index: []"
      ],
      "text/html": "<div>\n<style scoped>\n    .dataframe tbody tr th:only-of-type {\n        vertical-align: middle;\n    }\n\n    .dataframe tbody tr th {\n        vertical-align: top;\n    }\n\n    .dataframe thead th {\n        text-align: right;\n    }\n</style>\n<table border=\"1\" class=\"dataframe\">\n  <thead>\n    <tr style=\"text-align: right;\">\n      <th></th>\n      <th>Company</th>\n      <th>Sector</th>\n      <th>Industry</th>\n      <th>Location</th>\n      <th>Revenue</th>\n      <th>Profits</th>\n      <th>Employees</th>\n    </tr>\n  </thead>\n  <tbody>\n  </tbody>\n</table>\n</div>"
     },
     "metadata": {},
     "execution_count": 21
    }
   ],
   "source": [
    "df = pd.DataFrame(columns= fortune.columns)\n",
    "df"
   ]
  },
  {
   "cell_type": "code",
   "execution_count": 27,
   "metadata": {},
   "outputs": [],
   "source": [
    "for sector, data in sectors:\n",
    "    highest_revenue_company_in_group = data.nlargest(1,'Revenue')\n",
    "    df = df.append(highest_revenue_company_in_group)"
   ]
  },
  {
   "cell_type": "code",
   "execution_count": 30,
   "metadata": {},
   "outputs": [
    {
     "output_type": "execute_result",
     "data": {
      "text/plain": [
       "                    Company                        Sector  \\\n",
       "24                   Boeing           Aerospace & Defense   \n",
       "91                     Nike                       Apparel   \n",
       "144           ManpowerGroup             Business Services   \n",
       "56             Dow Chemical                     Chemicals   \n",
       "2               Exxon Mobil                        Energy   \n",
       "155                   Fluor    Engineering & Construction   \n",
       "4        Berkshire Hathaway                    Financials   \n",
       "7                CVS Health          Food and Drug Stores   \n",
       "41   Archer Daniels Midland     Food, Beverages & Tobacco   \n",
       "5                  McKesson                   Health Care   \n",
       "109              McDonald’s  Hotels, Resturants & Leisure   \n",
       "34         Procter & Gamble            Household Products   \n",
       "11         General Electric                   Industrials   \n",
       "126                   Alcoa                     Materials   \n",
       "53                   Disney                         Media   \n",
       "8            General Motors        Motor Vehicles & Parts   \n",
       "1                   Walmart                     Retailing   \n",
       "3                     Apple                    Technology   \n",
       "10                     AT&T            Telecommunications   \n",
       "48                      UPS                Transportation   \n",
       "57                    Sysco                   Wholesalers   \n",
       "\n",
       "                                     Industry           Location Revenue  \\\n",
       "24                      Aerospace and Defense        Chicago, IL   96114   \n",
       "91                                    Apparel      Beaverton, OR   30601   \n",
       "144                            Temporary Help      Milwaukee, WI   19330   \n",
       "56                                  Chemicals        Midland, MI   48778   \n",
       "2                          Petroleum Refining         Irving, TX  246204   \n",
       "155                 Engineering, Construction         Irving, TX   18114   \n",
       "4    Insurance: Property and Casualty (Stock)          Omaha, NE  210821   \n",
       "7                        Food and Drug Stores     Woonsocket, RI  153290   \n",
       "41                            Food Production        Chicago, IL   67702   \n",
       "5                    Wholesalers: Health Care  San Francisco, CA  181241   \n",
       "109                             Food Services      Oak Brook, IL   25413   \n",
       "34            Household and Personal Products     Cincinnati, OH   78756   \n",
       "11                       Industrial Machinery      Fairfield, CT  140389   \n",
       "126                                    Metals       New York, NY   22534   \n",
       "53                              Entertainment        Burbank, CA   52465   \n",
       "8                    Motor Vehicles and Parts        Detroit, MI  152356   \n",
       "1                       General Merchandisers    Bentonville, AR  482130   \n",
       "3                 Computers, Office Equipment      Cupertino, CA  233715   \n",
       "10                         Telecommunications         Dallas, TX  146801   \n",
       "48        Mail, Package, and Freight Delivery        Atlanta, GA   58363   \n",
       "57              Wholesalers: Food and Grocery        Houston, TX   48681   \n",
       "\n",
       "    Profits Employees  \n",
       "24     5176    161400  \n",
       "91     3273     62600  \n",
       "144     419     27000  \n",
       "56     7685     49495  \n",
       "2     16150     75600  \n",
       "155     413     38758  \n",
       "4     24083    331000  \n",
       "7      5237    199000  \n",
       "41     1849     32300  \n",
       "5      1476     70400  \n",
       "109    4529    420000  \n",
       "34     7036    110000  \n",
       "11    -6126    333000  \n",
       "126    -322     60000  \n",
       "53     8382    185000  \n",
       "8      9687    215000  \n",
       "1     14694   2300000  \n",
       "3     53394    110000  \n",
       "10    13345    281450  \n",
       "48     4844    341240  \n",
       "57      687     51700  "
      ],
      "text/html": "<div>\n<style scoped>\n    .dataframe tbody tr th:only-of-type {\n        vertical-align: middle;\n    }\n\n    .dataframe tbody tr th {\n        vertical-align: top;\n    }\n\n    .dataframe thead th {\n        text-align: right;\n    }\n</style>\n<table border=\"1\" class=\"dataframe\">\n  <thead>\n    <tr style=\"text-align: right;\">\n      <th></th>\n      <th>Company</th>\n      <th>Sector</th>\n      <th>Industry</th>\n      <th>Location</th>\n      <th>Revenue</th>\n      <th>Profits</th>\n      <th>Employees</th>\n    </tr>\n  </thead>\n  <tbody>\n    <tr>\n      <th>24</th>\n      <td>Boeing</td>\n      <td>Aerospace &amp; Defense</td>\n      <td>Aerospace and Defense</td>\n      <td>Chicago, IL</td>\n      <td>96114</td>\n      <td>5176</td>\n      <td>161400</td>\n    </tr>\n    <tr>\n      <th>91</th>\n      <td>Nike</td>\n      <td>Apparel</td>\n      <td>Apparel</td>\n      <td>Beaverton, OR</td>\n      <td>30601</td>\n      <td>3273</td>\n      <td>62600</td>\n    </tr>\n    <tr>\n      <th>144</th>\n      <td>ManpowerGroup</td>\n      <td>Business Services</td>\n      <td>Temporary Help</td>\n      <td>Milwaukee, WI</td>\n      <td>19330</td>\n      <td>419</td>\n      <td>27000</td>\n    </tr>\n    <tr>\n      <th>56</th>\n      <td>Dow Chemical</td>\n      <td>Chemicals</td>\n      <td>Chemicals</td>\n      <td>Midland, MI</td>\n      <td>48778</td>\n      <td>7685</td>\n      <td>49495</td>\n    </tr>\n    <tr>\n      <th>2</th>\n      <td>Exxon Mobil</td>\n      <td>Energy</td>\n      <td>Petroleum Refining</td>\n      <td>Irving, TX</td>\n      <td>246204</td>\n      <td>16150</td>\n      <td>75600</td>\n    </tr>\n    <tr>\n      <th>155</th>\n      <td>Fluor</td>\n      <td>Engineering &amp; Construction</td>\n      <td>Engineering, Construction</td>\n      <td>Irving, TX</td>\n      <td>18114</td>\n      <td>413</td>\n      <td>38758</td>\n    </tr>\n    <tr>\n      <th>4</th>\n      <td>Berkshire Hathaway</td>\n      <td>Financials</td>\n      <td>Insurance: Property and Casualty (Stock)</td>\n      <td>Omaha, NE</td>\n      <td>210821</td>\n      <td>24083</td>\n      <td>331000</td>\n    </tr>\n    <tr>\n      <th>7</th>\n      <td>CVS Health</td>\n      <td>Food and Drug Stores</td>\n      <td>Food and Drug Stores</td>\n      <td>Woonsocket, RI</td>\n      <td>153290</td>\n      <td>5237</td>\n      <td>199000</td>\n    </tr>\n    <tr>\n      <th>41</th>\n      <td>Archer Daniels Midland</td>\n      <td>Food, Beverages &amp; Tobacco</td>\n      <td>Food Production</td>\n      <td>Chicago, IL</td>\n      <td>67702</td>\n      <td>1849</td>\n      <td>32300</td>\n    </tr>\n    <tr>\n      <th>5</th>\n      <td>McKesson</td>\n      <td>Health Care</td>\n      <td>Wholesalers: Health Care</td>\n      <td>San Francisco, CA</td>\n      <td>181241</td>\n      <td>1476</td>\n      <td>70400</td>\n    </tr>\n    <tr>\n      <th>109</th>\n      <td>McDonald’s</td>\n      <td>Hotels, Resturants &amp; Leisure</td>\n      <td>Food Services</td>\n      <td>Oak Brook, IL</td>\n      <td>25413</td>\n      <td>4529</td>\n      <td>420000</td>\n    </tr>\n    <tr>\n      <th>34</th>\n      <td>Procter &amp; Gamble</td>\n      <td>Household Products</td>\n      <td>Household and Personal Products</td>\n      <td>Cincinnati, OH</td>\n      <td>78756</td>\n      <td>7036</td>\n      <td>110000</td>\n    </tr>\n    <tr>\n      <th>11</th>\n      <td>General Electric</td>\n      <td>Industrials</td>\n      <td>Industrial Machinery</td>\n      <td>Fairfield, CT</td>\n      <td>140389</td>\n      <td>-6126</td>\n      <td>333000</td>\n    </tr>\n    <tr>\n      <th>126</th>\n      <td>Alcoa</td>\n      <td>Materials</td>\n      <td>Metals</td>\n      <td>New York, NY</td>\n      <td>22534</td>\n      <td>-322</td>\n      <td>60000</td>\n    </tr>\n    <tr>\n      <th>53</th>\n      <td>Disney</td>\n      <td>Media</td>\n      <td>Entertainment</td>\n      <td>Burbank, CA</td>\n      <td>52465</td>\n      <td>8382</td>\n      <td>185000</td>\n    </tr>\n    <tr>\n      <th>8</th>\n      <td>General Motors</td>\n      <td>Motor Vehicles &amp; Parts</td>\n      <td>Motor Vehicles and Parts</td>\n      <td>Detroit, MI</td>\n      <td>152356</td>\n      <td>9687</td>\n      <td>215000</td>\n    </tr>\n    <tr>\n      <th>1</th>\n      <td>Walmart</td>\n      <td>Retailing</td>\n      <td>General Merchandisers</td>\n      <td>Bentonville, AR</td>\n      <td>482130</td>\n      <td>14694</td>\n      <td>2300000</td>\n    </tr>\n    <tr>\n      <th>3</th>\n      <td>Apple</td>\n      <td>Technology</td>\n      <td>Computers, Office Equipment</td>\n      <td>Cupertino, CA</td>\n      <td>233715</td>\n      <td>53394</td>\n      <td>110000</td>\n    </tr>\n    <tr>\n      <th>10</th>\n      <td>AT&amp;T</td>\n      <td>Telecommunications</td>\n      <td>Telecommunications</td>\n      <td>Dallas, TX</td>\n      <td>146801</td>\n      <td>13345</td>\n      <td>281450</td>\n    </tr>\n    <tr>\n      <th>48</th>\n      <td>UPS</td>\n      <td>Transportation</td>\n      <td>Mail, Package, and Freight Delivery</td>\n      <td>Atlanta, GA</td>\n      <td>58363</td>\n      <td>4844</td>\n      <td>341240</td>\n    </tr>\n    <tr>\n      <th>57</th>\n      <td>Sysco</td>\n      <td>Wholesalers</td>\n      <td>Wholesalers: Food and Grocery</td>\n      <td>Houston, TX</td>\n      <td>48681</td>\n      <td>687</td>\n      <td>51700</td>\n    </tr>\n  </tbody>\n</table>\n</div>"
     },
     "metadata": {},
     "execution_count": 30
    }
   ],
   "source": [
    "df"
   ]
  },
  {
   "cell_type": "code",
   "execution_count": 34,
   "metadata": {},
   "outputs": [
    {
     "output_type": "execute_result",
     "data": {
      "text/plain": [
       "Empty DataFrame\n",
       "Columns: [Company, Sector, Industry, Location, Revenue, Profits, Employees]\n",
       "Index: []"
      ],
      "text/html": "<div>\n<style scoped>\n    .dataframe tbody tr th:only-of-type {\n        vertical-align: middle;\n    }\n\n    .dataframe tbody tr th {\n        vertical-align: top;\n    }\n\n    .dataframe thead th {\n        text-align: right;\n    }\n</style>\n<table border=\"1\" class=\"dataframe\">\n  <thead>\n    <tr style=\"text-align: right;\">\n      <th></th>\n      <th>Company</th>\n      <th>Sector</th>\n      <th>Industry</th>\n      <th>Location</th>\n      <th>Revenue</th>\n      <th>Profits</th>\n      <th>Employees</th>\n    </tr>\n  </thead>\n  <tbody>\n  </tbody>\n</table>\n</div>"
     },
     "metadata": {},
     "execution_count": 34
    }
   ],
   "source": [
    "cities = fortune.groupby('Location')\n",
    "df = pd.DataFrame(columns= fortune.columns)\n",
    "df"
   ]
  },
  {
   "cell_type": "code",
   "execution_count": 35,
   "metadata": {},
   "outputs": [
    {
     "output_type": "execute_result",
     "data": {
      "text/plain": [
       "                      Company                        Sector  \\\n",
       "138       Abbott Laboratories                   Health Care   \n",
       "169    Goodyear Tire & Rubber        Motor Vehicles & Parts   \n",
       "288  Air Products & Chemicals                     Chemicals   \n",
       "830     Benchmark Electronics                    Technology   \n",
       "374    Casey’s General Stores                     Retailing   \n",
       "..                        ...                           ...   \n",
       "7                  CVS Health          Food and Drug Stores   \n",
       "506   Hanover Insurance Group                    Financials   \n",
       "764      Penn National Gaming  Hotels, Resturants & Leisure   \n",
       "773            Bon-Ton Stores                     Retailing   \n",
       "932             Herman Miller            Household Products   \n",
       "\n",
       "                                           Industry         Location Revenue  \\\n",
       "138                  Medical Products and Equipment  Abbott Park, IL   20661   \n",
       "169                        Motor Vehicles and Parts        Akron, OH   16443   \n",
       "288                                       Chemicals    Allentown, PA    9895   \n",
       "830  Semiconductors and Other Electronic Components     Angleton, TX    2541   \n",
       "374                      Specialty Retailers: Other       Ankeny, IA    7052   \n",
       "..                                              ...              ...     ...   \n",
       "7                              Food and Drug Stores   Woonsocket, RI  153290   \n",
       "506        Insurance: Property and Casualty (Stock)    Worcester, MA    5034   \n",
       "764                        Hotels, Casinos, Resorts   Wyomissing, PA    2838   \n",
       "773                           General Merchandisers         York, PA    2790   \n",
       "932                     Home Equipment, Furnishings      Zeeland, MI    2142   \n",
       "\n",
       "    Profits Employees  \n",
       "138    4423     74000  \n",
       "169     307     66000  \n",
       "288    1278     19550  \n",
       "830      95     10500  \n",
       "374     181     22408  \n",
       "..      ...       ...  \n",
       "7      5237    199000  \n",
       "506     332      4800  \n",
       "764       1     18204  \n",
       "773     -57     24100  \n",
       "932      98      7510  \n",
       "\n",
       "[416 rows x 7 columns]"
      ],
      "text/html": "<div>\n<style scoped>\n    .dataframe tbody tr th:only-of-type {\n        vertical-align: middle;\n    }\n\n    .dataframe tbody tr th {\n        vertical-align: top;\n    }\n\n    .dataframe thead th {\n        text-align: right;\n    }\n</style>\n<table border=\"1\" class=\"dataframe\">\n  <thead>\n    <tr style=\"text-align: right;\">\n      <th></th>\n      <th>Company</th>\n      <th>Sector</th>\n      <th>Industry</th>\n      <th>Location</th>\n      <th>Revenue</th>\n      <th>Profits</th>\n      <th>Employees</th>\n    </tr>\n  </thead>\n  <tbody>\n    <tr>\n      <th>138</th>\n      <td>Abbott Laboratories</td>\n      <td>Health Care</td>\n      <td>Medical Products and Equipment</td>\n      <td>Abbott Park, IL</td>\n      <td>20661</td>\n      <td>4423</td>\n      <td>74000</td>\n    </tr>\n    <tr>\n      <th>169</th>\n      <td>Goodyear Tire &amp; Rubber</td>\n      <td>Motor Vehicles &amp; Parts</td>\n      <td>Motor Vehicles and Parts</td>\n      <td>Akron, OH</td>\n      <td>16443</td>\n      <td>307</td>\n      <td>66000</td>\n    </tr>\n    <tr>\n      <th>288</th>\n      <td>Air Products &amp; Chemicals</td>\n      <td>Chemicals</td>\n      <td>Chemicals</td>\n      <td>Allentown, PA</td>\n      <td>9895</td>\n      <td>1278</td>\n      <td>19550</td>\n    </tr>\n    <tr>\n      <th>830</th>\n      <td>Benchmark Electronics</td>\n      <td>Technology</td>\n      <td>Semiconductors and Other Electronic Components</td>\n      <td>Angleton, TX</td>\n      <td>2541</td>\n      <td>95</td>\n      <td>10500</td>\n    </tr>\n    <tr>\n      <th>374</th>\n      <td>Casey’s General Stores</td>\n      <td>Retailing</td>\n      <td>Specialty Retailers: Other</td>\n      <td>Ankeny, IA</td>\n      <td>7052</td>\n      <td>181</td>\n      <td>22408</td>\n    </tr>\n    <tr>\n      <th>...</th>\n      <td>...</td>\n      <td>...</td>\n      <td>...</td>\n      <td>...</td>\n      <td>...</td>\n      <td>...</td>\n      <td>...</td>\n    </tr>\n    <tr>\n      <th>7</th>\n      <td>CVS Health</td>\n      <td>Food and Drug Stores</td>\n      <td>Food and Drug Stores</td>\n      <td>Woonsocket, RI</td>\n      <td>153290</td>\n      <td>5237</td>\n      <td>199000</td>\n    </tr>\n    <tr>\n      <th>506</th>\n      <td>Hanover Insurance Group</td>\n      <td>Financials</td>\n      <td>Insurance: Property and Casualty (Stock)</td>\n      <td>Worcester, MA</td>\n      <td>5034</td>\n      <td>332</td>\n      <td>4800</td>\n    </tr>\n    <tr>\n      <th>764</th>\n      <td>Penn National Gaming</td>\n      <td>Hotels, Resturants &amp; Leisure</td>\n      <td>Hotels, Casinos, Resorts</td>\n      <td>Wyomissing, PA</td>\n      <td>2838</td>\n      <td>1</td>\n      <td>18204</td>\n    </tr>\n    <tr>\n      <th>773</th>\n      <td>Bon-Ton Stores</td>\n      <td>Retailing</td>\n      <td>General Merchandisers</td>\n      <td>York, PA</td>\n      <td>2790</td>\n      <td>-57</td>\n      <td>24100</td>\n    </tr>\n    <tr>\n      <th>932</th>\n      <td>Herman Miller</td>\n      <td>Household Products</td>\n      <td>Home Equipment, Furnishings</td>\n      <td>Zeeland, MI</td>\n      <td>2142</td>\n      <td>98</td>\n      <td>7510</td>\n    </tr>\n  </tbody>\n</table>\n<p>416 rows × 7 columns</p>\n</div>"
     },
     "metadata": {},
     "execution_count": 35
    }
   ],
   "source": [
    "for city, data in cities:\n",
    "    highest_revenue_in_city = data.nlargest(1,'Revenue')\n",
    "    df = df.append(highest_revenue_in_city)\n",
    "df"
   ]
  },
  {
   "cell_type": "code",
   "execution_count": null,
   "metadata": {},
   "outputs": [],
   "source": []
  }
 ]
}