{
 "metadata": {
  "language_info": {
   "codemirror_mode": {
    "name": "ipython",
    "version": 3
   },
   "file_extension": ".py",
   "mimetype": "text/x-python",
   "name": "python",
   "nbconvert_exporter": "python",
   "pygments_lexer": "ipython3",
   "version": "3.7.6"
  },
  "orig_nbformat": 2,
  "kernelspec": {
   "name": "python376jvsc74a57bd01334010457180b265d09b56daeed883170adb1c65c35741b4ba4ec40109d9a77",
   "display_name": "Python 3.7.6 64-bit ('base': conda)"
  }
 },
 "nbformat": 4,
 "nbformat_minor": 2,
 "cells": [
  {
   "cell_type": "code",
   "execution_count": 35,
   "metadata": {},
   "outputs": [
    {
     "output_type": "execute_result",
     "data": {
      "text/plain": [
       "                      Price in US Dollars\n",
       "Date       Country                       \n",
       "2010-01-01 Argentina                 1.84\n",
       "           Australia                 3.98\n",
       "           Brazil                    4.76"
      ],
      "text/html": "<div>\n<style scoped>\n    .dataframe tbody tr th:only-of-type {\n        vertical-align: middle;\n    }\n\n    .dataframe tbody tr th {\n        vertical-align: top;\n    }\n\n    .dataframe thead th {\n        text-align: right;\n    }\n</style>\n<table border=\"1\" class=\"dataframe\">\n  <thead>\n    <tr style=\"text-align: right;\">\n      <th></th>\n      <th></th>\n      <th>Price in US Dollars</th>\n    </tr>\n    <tr>\n      <th>Date</th>\n      <th>Country</th>\n      <th></th>\n    </tr>\n  </thead>\n  <tbody>\n    <tr>\n      <th rowspan=\"3\" valign=\"top\">2010-01-01</th>\n      <th>Argentina</th>\n      <td>1.84</td>\n    </tr>\n    <tr>\n      <th>Australia</th>\n      <td>3.98</td>\n    </tr>\n    <tr>\n      <th>Brazil</th>\n      <td>4.76</td>\n    </tr>\n  </tbody>\n</table>\n</div>"
     },
     "metadata": {},
     "execution_count": 35
    }
   ],
   "source": [
    "import pandas as pd\n",
    "mac = pd.read_csv('../Files/bigmac.csv', parse_dates=['Date'], index_col=['Date','Country'])\n",
    "mac.sort_index(inplace=True)\n",
    "mac.head(3)"
   ]
  },
  {
   "cell_type": "code",
   "execution_count": 36,
   "metadata": {},
   "outputs": [],
   "source": [
    "# Change index level name with the set_names() Method"
   ]
  },
  {
   "cell_type": "code",
   "execution_count": 37,
   "metadata": {},
   "outputs": [],
   "source": [
    "mac.index.set_names(names=['Day','Location'], inplace=True)"
   ]
  },
  {
   "cell_type": "code",
   "execution_count": 38,
   "metadata": {},
   "outputs": [
    {
     "output_type": "execute_result",
     "data": {
      "text/plain": [
       "                      Price in US Dollars\n",
       "Day        Location                      \n",
       "2010-01-01 Argentina                 1.84\n",
       "           Australia                 3.98\n",
       "           Brazil                    4.76\n",
       "           Britain                   3.67\n",
       "           Canada                    3.97"
      ],
      "text/html": "<div>\n<style scoped>\n    .dataframe tbody tr th:only-of-type {\n        vertical-align: middle;\n    }\n\n    .dataframe tbody tr th {\n        vertical-align: top;\n    }\n\n    .dataframe thead th {\n        text-align: right;\n    }\n</style>\n<table border=\"1\" class=\"dataframe\">\n  <thead>\n    <tr style=\"text-align: right;\">\n      <th></th>\n      <th></th>\n      <th>Price in US Dollars</th>\n    </tr>\n    <tr>\n      <th>Day</th>\n      <th>Location</th>\n      <th></th>\n    </tr>\n  </thead>\n  <tbody>\n    <tr>\n      <th rowspan=\"5\" valign=\"top\">2010-01-01</th>\n      <th>Argentina</th>\n      <td>1.84</td>\n    </tr>\n    <tr>\n      <th>Australia</th>\n      <td>3.98</td>\n    </tr>\n    <tr>\n      <th>Brazil</th>\n      <td>4.76</td>\n    </tr>\n    <tr>\n      <th>Britain</th>\n      <td>3.67</td>\n    </tr>\n    <tr>\n      <th>Canada</th>\n      <td>3.97</td>\n    </tr>\n  </tbody>\n</table>\n</div>"
     },
     "metadata": {},
     "execution_count": 38
    }
   ],
   "source": [
    "mac.head()"
   ]
  },
  {
   "cell_type": "code",
   "execution_count": 39,
   "metadata": {},
   "outputs": [
    {
     "output_type": "execute_result",
     "data": {
      "text/plain": [
       "MultiIndex([('2010-01-01',      'Argentina'),\n",
       "            ('2010-01-01',      'Australia'),\n",
       "            ('2010-01-01',         'Brazil'),\n",
       "            ('2010-01-01',        'Britain'),\n",
       "            ('2010-01-01',         'Canada'),\n",
       "            ('2010-01-01',          'Chile'),\n",
       "            ('2010-01-01',          'China'),\n",
       "            ('2010-01-01',       'Colombia'),\n",
       "            ('2010-01-01',     'Costa Rica'),\n",
       "            ('2010-01-01', 'Czech Republic'),\n",
       "            ...\n",
       "            ('2016-01-01',    'Switzerland'),\n",
       "            ('2016-01-01',         'Taiwan'),\n",
       "            ('2016-01-01',       'Thailand'),\n",
       "            ('2016-01-01',         'Turkey'),\n",
       "            ('2016-01-01',            'UAE'),\n",
       "            ('2016-01-01',        'Ukraine'),\n",
       "            ('2016-01-01',  'United States'),\n",
       "            ('2016-01-01',        'Uruguay'),\n",
       "            ('2016-01-01',      'Venezuela'),\n",
       "            ('2016-01-01',        'Vietnam')],\n",
       "           names=['Date', 'Location'], length=652)"
      ]
     },
     "metadata": {},
     "execution_count": 39
    }
   ],
   "source": [
    "mac.index.set_names(names='Day', level=0)\n",
    "mac.index.set_names(names='Date', level='Day')"
   ]
  },
  {
   "cell_type": "code",
   "execution_count": 40,
   "metadata": {},
   "outputs": [],
   "source": [
    "# The sort_index() Method on a MultiIndex DataFrame\n",
    "mac = pd.read_csv('../Files/bigmac.csv', parse_dates=['Date'], index_col=['Date','Country'])"
   ]
  },
  {
   "cell_type": "code",
   "execution_count": 41,
   "metadata": {},
   "outputs": [
    {
     "output_type": "execute_result",
     "data": {
      "text/plain": [
       "                      Price in US Dollars\n",
       "Date       Country                       \n",
       "2016-01-01 Argentina                 2.39\n",
       "           Australia                 3.74\n",
       "           Brazil                    3.35"
      ],
      "text/html": "<div>\n<style scoped>\n    .dataframe tbody tr th:only-of-type {\n        vertical-align: middle;\n    }\n\n    .dataframe tbody tr th {\n        vertical-align: top;\n    }\n\n    .dataframe thead th {\n        text-align: right;\n    }\n</style>\n<table border=\"1\" class=\"dataframe\">\n  <thead>\n    <tr style=\"text-align: right;\">\n      <th></th>\n      <th></th>\n      <th>Price in US Dollars</th>\n    </tr>\n    <tr>\n      <th>Date</th>\n      <th>Country</th>\n      <th></th>\n    </tr>\n  </thead>\n  <tbody>\n    <tr>\n      <th rowspan=\"3\" valign=\"top\">2016-01-01</th>\n      <th>Argentina</th>\n      <td>2.39</td>\n    </tr>\n    <tr>\n      <th>Australia</th>\n      <td>3.74</td>\n    </tr>\n    <tr>\n      <th>Brazil</th>\n      <td>3.35</td>\n    </tr>\n  </tbody>\n</table>\n</div>"
     },
     "metadata": {},
     "execution_count": 41
    }
   ],
   "source": [
    "mac.head(3)"
   ]
  },
  {
   "cell_type": "code",
   "execution_count": 42,
   "metadata": {},
   "outputs": [
    {
     "output_type": "execute_result",
     "data": {
      "text/plain": [
       "                      Price in US Dollars\n",
       "Date       Country                       \n",
       "2016-01-01 Vietnam                   2.67\n",
       "2015-07-01 Vietnam                   2.75\n",
       "2015-01-01 Vietnam                   2.81\n",
       "2014-07-01 Vietnam                   2.83\n",
       "2014-01-01 Vietnam                   2.84\n",
       "...                                   ...\n",
       "2012-07-01 Argentina                 4.16\n",
       "2012-01-01 Argentina                 4.64\n",
       "2011-07-01 Argentina                 4.84\n",
       "2010-07-01 Argentina                 3.56\n",
       "2010-01-01 Argentina                 1.84\n",
       "\n",
       "[652 rows x 1 columns]"
      ],
      "text/html": "<div>\n<style scoped>\n    .dataframe tbody tr th:only-of-type {\n        vertical-align: middle;\n    }\n\n    .dataframe tbody tr th {\n        vertical-align: top;\n    }\n\n    .dataframe thead th {\n        text-align: right;\n    }\n</style>\n<table border=\"1\" class=\"dataframe\">\n  <thead>\n    <tr style=\"text-align: right;\">\n      <th></th>\n      <th></th>\n      <th>Price in US Dollars</th>\n    </tr>\n    <tr>\n      <th>Date</th>\n      <th>Country</th>\n      <th></th>\n    </tr>\n  </thead>\n  <tbody>\n    <tr>\n      <th>2016-01-01</th>\n      <th>Vietnam</th>\n      <td>2.67</td>\n    </tr>\n    <tr>\n      <th>2015-07-01</th>\n      <th>Vietnam</th>\n      <td>2.75</td>\n    </tr>\n    <tr>\n      <th>2015-01-01</th>\n      <th>Vietnam</th>\n      <td>2.81</td>\n    </tr>\n    <tr>\n      <th>2014-07-01</th>\n      <th>Vietnam</th>\n      <td>2.83</td>\n    </tr>\n    <tr>\n      <th>2014-01-01</th>\n      <th>Vietnam</th>\n      <td>2.84</td>\n    </tr>\n    <tr>\n      <th>...</th>\n      <th>...</th>\n      <td>...</td>\n    </tr>\n    <tr>\n      <th>2012-07-01</th>\n      <th>Argentina</th>\n      <td>4.16</td>\n    </tr>\n    <tr>\n      <th>2012-01-01</th>\n      <th>Argentina</th>\n      <td>4.64</td>\n    </tr>\n    <tr>\n      <th>2011-07-01</th>\n      <th>Argentina</th>\n      <td>4.84</td>\n    </tr>\n    <tr>\n      <th>2010-07-01</th>\n      <th>Argentina</th>\n      <td>3.56</td>\n    </tr>\n    <tr>\n      <th>2010-01-01</th>\n      <th>Argentina</th>\n      <td>1.84</td>\n    </tr>\n  </tbody>\n</table>\n<p>652 rows × 1 columns</p>\n</div>"
     },
     "metadata": {},
     "execution_count": 42
    }
   ],
   "source": [
    "mac.sort_index()\n",
    "mac.sort_index(ascending=[True,False])\n",
    "mac.sort_index(ascending=[False,True], inplace=True)\n",
    "mac.sort_index(level=0)\n",
    "mac.sort_index(level=1)\n",
    "mac.sort_index(level='Country', ascending=False)"
   ]
  },
  {
   "cell_type": "code",
   "execution_count": 46,
   "metadata": {},
   "outputs": [],
   "source": [
    "# Extract Rows from a MultiIntex DataFrame\n",
    "mac = pd.read_csv('../Files/bigmac.csv', parse_dates=['Date'], index_col=['Date','Country'])\n",
    "mac.sort_index(inplace=True)"
   ]
  },
  {
   "cell_type": "code",
   "execution_count": 47,
   "metadata": {},
   "outputs": [
    {
     "output_type": "execute_result",
     "data": {
      "text/plain": [
       "                      Price in US Dollars\n",
       "Date       Country                       \n",
       "2010-01-01 Argentina                 1.84\n",
       "           Australia                 3.98\n",
       "           Brazil                    4.76"
      ],
      "text/html": "<div>\n<style scoped>\n    .dataframe tbody tr th:only-of-type {\n        vertical-align: middle;\n    }\n\n    .dataframe tbody tr th {\n        vertical-align: top;\n    }\n\n    .dataframe thead th {\n        text-align: right;\n    }\n</style>\n<table border=\"1\" class=\"dataframe\">\n  <thead>\n    <tr style=\"text-align: right;\">\n      <th></th>\n      <th></th>\n      <th>Price in US Dollars</th>\n    </tr>\n    <tr>\n      <th>Date</th>\n      <th>Country</th>\n      <th></th>\n    </tr>\n  </thead>\n  <tbody>\n    <tr>\n      <th rowspan=\"3\" valign=\"top\">2010-01-01</th>\n      <th>Argentina</th>\n      <td>1.84</td>\n    </tr>\n    <tr>\n      <th>Australia</th>\n      <td>3.98</td>\n    </tr>\n    <tr>\n      <th>Brazil</th>\n      <td>4.76</td>\n    </tr>\n  </tbody>\n</table>\n</div>"
     },
     "metadata": {},
     "execution_count": 47
    }
   ],
   "source": [
    "mac.head(3)"
   ]
  },
  {
   "cell_type": "code",
   "execution_count": 57,
   "metadata": {},
   "outputs": [
    {
     "output_type": "execute_result",
     "data": {
      "text/plain": [
       "           Price in US Dollars\n",
       "Country                       \n",
       "Argentina                 1.84\n",
       "Australia                 3.98\n",
       "Brazil                    4.76"
      ],
      "text/html": "<div>\n<style scoped>\n    .dataframe tbody tr th:only-of-type {\n        vertical-align: middle;\n    }\n\n    .dataframe tbody tr th {\n        vertical-align: top;\n    }\n\n    .dataframe thead th {\n        text-align: right;\n    }\n</style>\n<table border=\"1\" class=\"dataframe\">\n  <thead>\n    <tr style=\"text-align: right;\">\n      <th></th>\n      <th>Price in US Dollars</th>\n    </tr>\n    <tr>\n      <th>Country</th>\n      <th></th>\n    </tr>\n  </thead>\n  <tbody>\n    <tr>\n      <th>Argentina</th>\n      <td>1.84</td>\n    </tr>\n    <tr>\n      <th>Australia</th>\n      <td>3.98</td>\n    </tr>\n    <tr>\n      <th>Brazil</th>\n      <td>4.76</td>\n    </tr>\n  </tbody>\n</table>\n</div>"
     },
     "metadata": {},
     "execution_count": 57
    }
   ],
   "source": [
    "mac.loc['2010-01-01','Argentina']\n",
    "mac.loc['2010-01-01','Price in US Dollars'].head()\n",
    "mac.loc[('2010-01-01','Argentina'), \"Price in US Dollars\"]\n",
    "mac.loc[('2010-01-01',)].head(3)"
   ]
  },
  {
   "cell_type": "code",
   "execution_count": 58,
   "metadata": {},
   "outputs": [
    {
     "output_type": "execute_result",
     "data": {
      "text/plain": [
       "                      Price in US Dollars\n",
       "Date       Country                       \n",
       "2010-01-01 Argentina                 1.84\n",
       "           Australia                 3.98\n",
       "           Brazil                    4.76"
      ],
      "text/html": "<div>\n<style scoped>\n    .dataframe tbody tr th:only-of-type {\n        vertical-align: middle;\n    }\n\n    .dataframe tbody tr th {\n        vertical-align: top;\n    }\n\n    .dataframe thead th {\n        text-align: right;\n    }\n</style>\n<table border=\"1\" class=\"dataframe\">\n  <thead>\n    <tr style=\"text-align: right;\">\n      <th></th>\n      <th></th>\n      <th>Price in US Dollars</th>\n    </tr>\n    <tr>\n      <th>Date</th>\n      <th>Country</th>\n      <th></th>\n    </tr>\n  </thead>\n  <tbody>\n    <tr>\n      <th rowspan=\"3\" valign=\"top\">2010-01-01</th>\n      <th>Argentina</th>\n      <td>1.84</td>\n    </tr>\n    <tr>\n      <th>Australia</th>\n      <td>3.98</td>\n    </tr>\n    <tr>\n      <th>Brazil</th>\n      <td>4.76</td>\n    </tr>\n  </tbody>\n</table>\n</div>"
     },
     "metadata": {},
     "execution_count": 58
    }
   ],
   "source": [
    "mac.head(3)"
   ]
  },
  {
   "cell_type": "code",
   "execution_count": 64,
   "metadata": {},
   "outputs": [
    {
     "output_type": "execute_result",
     "data": {
      "text/plain": [
       "                      Price in US Dollars\n",
       "Date       Country                       \n",
       "2010-01-01 Denmark                   5.99\n",
       "           Singapore                 3.19\n",
       "2010-07-01 Colombia                  4.39"
      ],
      "text/html": "<div>\n<style scoped>\n    .dataframe tbody tr th:only-of-type {\n        vertical-align: middle;\n    }\n\n    .dataframe tbody tr th {\n        vertical-align: top;\n    }\n\n    .dataframe thead th {\n        text-align: right;\n    }\n</style>\n<table border=\"1\" class=\"dataframe\">\n  <thead>\n    <tr style=\"text-align: right;\">\n      <th></th>\n      <th></th>\n      <th>Price in US Dollars</th>\n    </tr>\n    <tr>\n      <th>Date</th>\n      <th>Country</th>\n      <th></th>\n    </tr>\n  </thead>\n  <tbody>\n    <tr>\n      <th rowspan=\"2\" valign=\"top\">2010-01-01</th>\n      <th>Denmark</th>\n      <td>5.99</td>\n    </tr>\n    <tr>\n      <th>Singapore</th>\n      <td>3.19</td>\n    </tr>\n    <tr>\n      <th>2010-07-01</th>\n      <th>Colombia</th>\n      <td>4.39</td>\n    </tr>\n  </tbody>\n</table>\n</div>"
     },
     "metadata": {},
     "execution_count": 64
    }
   ],
   "source": [
    "mac.iloc[[10,30,50]]"
   ]
  },
  {
   "cell_type": "code",
   "execution_count": 65,
   "metadata": {},
   "outputs": [
    {
     "output_type": "execute_result",
     "data": {
      "text/plain": [
       "                      Price in US Dollars\n",
       "Date       Country                       \n",
       "2010-01-01 Argentina                 1.84\n",
       "           Australia                 3.98\n",
       "           Brazil                    4.76"
      ],
      "text/html": "<div>\n<style scoped>\n    .dataframe tbody tr th:only-of-type {\n        vertical-align: middle;\n    }\n\n    .dataframe tbody tr th {\n        vertical-align: top;\n    }\n\n    .dataframe thead th {\n        text-align: right;\n    }\n</style>\n<table border=\"1\" class=\"dataframe\">\n  <thead>\n    <tr style=\"text-align: right;\">\n      <th></th>\n      <th></th>\n      <th>Price in US Dollars</th>\n    </tr>\n    <tr>\n      <th>Date</th>\n      <th>Country</th>\n      <th></th>\n    </tr>\n  </thead>\n  <tbody>\n    <tr>\n      <th rowspan=\"3\" valign=\"top\">2010-01-01</th>\n      <th>Argentina</th>\n      <td>1.84</td>\n    </tr>\n    <tr>\n      <th>Australia</th>\n      <td>3.98</td>\n    </tr>\n    <tr>\n      <th>Brazil</th>\n      <td>4.76</td>\n    </tr>\n  </tbody>\n</table>\n</div>"
     },
     "metadata": {},
     "execution_count": 65
    }
   ],
   "source": [
    "# The transpose Method\n",
    "mac = pd.read_csv('../Files/bigmac.csv', parse_dates=['Date'], index_col=['Date','Country'])\n",
    "mac.sort_index(inplace=True)\n",
    "mac.head(3)"
   ]
  },
  {
   "cell_type": "code",
   "execution_count": 67,
   "metadata": {},
   "outputs": [],
   "source": [
    "mac = mac.transpose()"
   ]
  },
  {
   "cell_type": "code",
   "execution_count": 68,
   "metadata": {},
   "outputs": [
    {
     "output_type": "execute_result",
     "data": {
      "text/plain": [
       "Date                2010-01-01                                              \\\n",
       "Country              Argentina Australia Brazil Britain Canada Chile China   \n",
       "Price in US Dollars       1.84      3.98   4.76    3.67   3.97  3.18  1.83   \n",
       "\n",
       "Date                                                    ...  2016-01-01  \\\n",
       "Country             Colombia Costa Rica Czech Republic  ... Switzerland   \n",
       "Price in US Dollars     3.91       3.52           3.71  ...        6.44   \n",
       "\n",
       "Date                                                                    \\\n",
       "Country             Taiwan Thailand Turkey   UAE Ukraine United States   \n",
       "Price in US Dollars   2.08     3.09   3.41  3.54    1.54          4.93   \n",
       "\n",
       "Date                                           \n",
       "Country             Uruguay Venezuela Vietnam  \n",
       "Price in US Dollars    3.74      0.66    2.67  \n",
       "\n",
       "[1 rows x 652 columns]"
      ],
      "text/html": "<div>\n<style scoped>\n    .dataframe tbody tr th:only-of-type {\n        vertical-align: middle;\n    }\n\n    .dataframe tbody tr th {\n        vertical-align: top;\n    }\n\n    .dataframe thead tr th {\n        text-align: left;\n    }\n</style>\n<table border=\"1\" class=\"dataframe\">\n  <thead>\n    <tr>\n      <th>Date</th>\n      <th colspan=\"10\" halign=\"left\">2010-01-01</th>\n      <th>...</th>\n      <th colspan=\"10\" halign=\"left\">2016-01-01</th>\n    </tr>\n    <tr>\n      <th>Country</th>\n      <th>Argentina</th>\n      <th>Australia</th>\n      <th>Brazil</th>\n      <th>Britain</th>\n      <th>Canada</th>\n      <th>Chile</th>\n      <th>China</th>\n      <th>Colombia</th>\n      <th>Costa Rica</th>\n      <th>Czech Republic</th>\n      <th>...</th>\n      <th>Switzerland</th>\n      <th>Taiwan</th>\n      <th>Thailand</th>\n      <th>Turkey</th>\n      <th>UAE</th>\n      <th>Ukraine</th>\n      <th>United States</th>\n      <th>Uruguay</th>\n      <th>Venezuela</th>\n      <th>Vietnam</th>\n    </tr>\n  </thead>\n  <tbody>\n    <tr>\n      <th>Price in US Dollars</th>\n      <td>1.84</td>\n      <td>3.98</td>\n      <td>4.76</td>\n      <td>3.67</td>\n      <td>3.97</td>\n      <td>3.18</td>\n      <td>1.83</td>\n      <td>3.91</td>\n      <td>3.52</td>\n      <td>3.71</td>\n      <td>...</td>\n      <td>6.44</td>\n      <td>2.08</td>\n      <td>3.09</td>\n      <td>3.41</td>\n      <td>3.54</td>\n      <td>1.54</td>\n      <td>4.93</td>\n      <td>3.74</td>\n      <td>0.66</td>\n      <td>2.67</td>\n    </tr>\n  </tbody>\n</table>\n<p>1 rows × 652 columns</p>\n</div>"
     },
     "metadata": {},
     "execution_count": 68
    }
   ],
   "source": [
    "mac.head(3)"
   ]
  },
  {
   "cell_type": "code",
   "execution_count": 73,
   "metadata": {},
   "outputs": [
    {
     "output_type": "execute_result",
     "data": {
      "text/plain": [
       "Date                2010-01-01                     \n",
       "Country                 Canada Chile China Colombia\n",
       "Price in US Dollars       3.97  3.18  1.83     3.91"
      ],
      "text/html": "<div>\n<style scoped>\n    .dataframe tbody tr th:only-of-type {\n        vertical-align: middle;\n    }\n\n    .dataframe tbody tr th {\n        vertical-align: top;\n    }\n\n    .dataframe thead tr th {\n        text-align: left;\n    }\n</style>\n<table border=\"1\" class=\"dataframe\">\n  <thead>\n    <tr>\n      <th>Date</th>\n      <th colspan=\"4\" halign=\"left\">2010-01-01</th>\n    </tr>\n    <tr>\n      <th>Country</th>\n      <th>Canada</th>\n      <th>Chile</th>\n      <th>China</th>\n      <th>Colombia</th>\n    </tr>\n  </thead>\n  <tbody>\n    <tr>\n      <th>Price in US Dollars</th>\n      <td>3.97</td>\n      <td>3.18</td>\n      <td>1.83</td>\n      <td>3.91</td>\n    </tr>\n  </tbody>\n</table>\n</div>"
     },
     "metadata": {},
     "execution_count": 73
    }
   ],
   "source": [
    "mac.loc[(\"Price in US Dollars\",), ('2010-01-01','Canada') : ('2010-01-01','Columbia')]"
   ]
  },
  {
   "cell_type": "code",
   "execution_count": 74,
   "metadata": {},
   "outputs": [
    {
     "output_type": "execute_result",
     "data": {
      "text/plain": [
       "                      Price in US Dollars\n",
       "Date       Country                       \n",
       "2010-01-01 Argentina                 1.84\n",
       "           Australia                 3.98\n",
       "           Brazil                    4.76"
      ],
      "text/html": "<div>\n<style scoped>\n    .dataframe tbody tr th:only-of-type {\n        vertical-align: middle;\n    }\n\n    .dataframe tbody tr th {\n        vertical-align: top;\n    }\n\n    .dataframe thead th {\n        text-align: right;\n    }\n</style>\n<table border=\"1\" class=\"dataframe\">\n  <thead>\n    <tr style=\"text-align: right;\">\n      <th></th>\n      <th></th>\n      <th>Price in US Dollars</th>\n    </tr>\n    <tr>\n      <th>Date</th>\n      <th>Country</th>\n      <th></th>\n    </tr>\n  </thead>\n  <tbody>\n    <tr>\n      <th rowspan=\"3\" valign=\"top\">2010-01-01</th>\n      <th>Argentina</th>\n      <td>1.84</td>\n    </tr>\n    <tr>\n      <th>Australia</th>\n      <td>3.98</td>\n    </tr>\n    <tr>\n      <th>Brazil</th>\n      <td>4.76</td>\n    </tr>\n  </tbody>\n</table>\n</div>"
     },
     "metadata": {},
     "execution_count": 74
    }
   ],
   "source": [
    "# The swaplevel Method\n",
    "mac = pd.read_csv('../Files/bigmac.csv', parse_dates=['Date'], index_col=['Date','Country'])\n",
    "mac.sort_index(inplace=True)\n",
    "mac.head(3)"
   ]
  },
  {
   "cell_type": "code",
   "execution_count": 76,
   "metadata": {},
   "outputs": [
    {
     "output_type": "execute_result",
     "data": {
      "text/plain": [
       "                      Price in US Dollars\n",
       "Country   Date                           \n",
       "Argentina 2010-01-01                 1.84\n",
       "Australia 2010-01-01                 3.98\n",
       "Brazil    2010-01-01                 4.76"
      ],
      "text/html": "<div>\n<style scoped>\n    .dataframe tbody tr th:only-of-type {\n        vertical-align: middle;\n    }\n\n    .dataframe tbody tr th {\n        vertical-align: top;\n    }\n\n    .dataframe thead th {\n        text-align: right;\n    }\n</style>\n<table border=\"1\" class=\"dataframe\">\n  <thead>\n    <tr style=\"text-align: right;\">\n      <th></th>\n      <th></th>\n      <th>Price in US Dollars</th>\n    </tr>\n    <tr>\n      <th>Country</th>\n      <th>Date</th>\n      <th></th>\n    </tr>\n  </thead>\n  <tbody>\n    <tr>\n      <th>Argentina</th>\n      <th>2010-01-01</th>\n      <td>1.84</td>\n    </tr>\n    <tr>\n      <th>Australia</th>\n      <th>2010-01-01</th>\n      <td>3.98</td>\n    </tr>\n    <tr>\n      <th>Brazil</th>\n      <th>2010-01-01</th>\n      <td>4.76</td>\n    </tr>\n  </tbody>\n</table>\n</div>"
     },
     "metadata": {},
     "execution_count": 76
    }
   ],
   "source": [
    "mac.swaplevel().head(3)"
   ]
  },
  {
   "cell_type": "code",
   "execution_count": 78,
   "metadata": {},
   "outputs": [
    {
     "output_type": "execute_result",
     "data": {
      "text/plain": [
       "                      Price in US Dollars\n",
       "Country   Date                           \n",
       "Argentina 2010-01-01                 1.84\n",
       "Australia 2010-01-01                 3.98\n",
       "Brazil    2010-01-01                 4.76"
      ],
      "text/html": "<div>\n<style scoped>\n    .dataframe tbody tr th:only-of-type {\n        vertical-align: middle;\n    }\n\n    .dataframe tbody tr th {\n        vertical-align: top;\n    }\n\n    .dataframe thead th {\n        text-align: right;\n    }\n</style>\n<table border=\"1\" class=\"dataframe\">\n  <thead>\n    <tr style=\"text-align: right;\">\n      <th></th>\n      <th></th>\n      <th>Price in US Dollars</th>\n    </tr>\n    <tr>\n      <th>Country</th>\n      <th>Date</th>\n      <th></th>\n    </tr>\n  </thead>\n  <tbody>\n    <tr>\n      <th>Argentina</th>\n      <th>2010-01-01</th>\n      <td>1.84</td>\n    </tr>\n    <tr>\n      <th>Australia</th>\n      <th>2010-01-01</th>\n      <td>3.98</td>\n    </tr>\n    <tr>\n      <th>Brazil</th>\n      <th>2010-01-01</th>\n      <td>4.76</td>\n    </tr>\n  </tbody>\n</table>\n</div>"
     },
     "metadata": {},
     "execution_count": 78
    }
   ],
   "source": [
    "mac.swaplevel('Date','Country').head(3)"
   ]
  },
  {
   "cell_type": "code",
   "execution_count": 80,
   "metadata": {},
   "outputs": [
    {
     "output_type": "execute_result",
     "data": {
      "text/plain": [
       "                      Price in US Dollars\n",
       "Country   Date                           \n",
       "Argentina 2010-01-01                 1.84\n",
       "Australia 2010-01-01                 3.98\n",
       "Brazil    2010-01-01                 4.76"
      ],
      "text/html": "<div>\n<style scoped>\n    .dataframe tbody tr th:only-of-type {\n        vertical-align: middle;\n    }\n\n    .dataframe tbody tr th {\n        vertical-align: top;\n    }\n\n    .dataframe thead th {\n        text-align: right;\n    }\n</style>\n<table border=\"1\" class=\"dataframe\">\n  <thead>\n    <tr style=\"text-align: right;\">\n      <th></th>\n      <th></th>\n      <th>Price in US Dollars</th>\n    </tr>\n    <tr>\n      <th>Country</th>\n      <th>Date</th>\n      <th></th>\n    </tr>\n  </thead>\n  <tbody>\n    <tr>\n      <th>Argentina</th>\n      <th>2010-01-01</th>\n      <td>1.84</td>\n    </tr>\n    <tr>\n      <th>Australia</th>\n      <th>2010-01-01</th>\n      <td>3.98</td>\n    </tr>\n    <tr>\n      <th>Brazil</th>\n      <th>2010-01-01</th>\n      <td>4.76</td>\n    </tr>\n  </tbody>\n</table>\n</div>"
     },
     "metadata": {},
     "execution_count": 80
    }
   ],
   "source": [
    "mac.swaplevel(0,1).head(3)"
   ]
  },
  {
   "cell_type": "code",
   "execution_count": 81,
   "metadata": {},
   "outputs": [],
   "source": [
    "mac = mac.swaplevel('Date','Country')"
   ]
  },
  {
   "cell_type": "code",
   "execution_count": 82,
   "metadata": {},
   "outputs": [
    {
     "output_type": "execute_result",
     "data": {
      "text/plain": [
       "                      Price in US Dollars\n",
       "Country   Date                           \n",
       "Argentina 2010-01-01                 1.84\n",
       "Australia 2010-01-01                 3.98\n",
       "Brazil    2010-01-01                 4.76"
      ],
      "text/html": "<div>\n<style scoped>\n    .dataframe tbody tr th:only-of-type {\n        vertical-align: middle;\n    }\n\n    .dataframe tbody tr th {\n        vertical-align: top;\n    }\n\n    .dataframe thead th {\n        text-align: right;\n    }\n</style>\n<table border=\"1\" class=\"dataframe\">\n  <thead>\n    <tr style=\"text-align: right;\">\n      <th></th>\n      <th></th>\n      <th>Price in US Dollars</th>\n    </tr>\n    <tr>\n      <th>Country</th>\n      <th>Date</th>\n      <th></th>\n    </tr>\n  </thead>\n  <tbody>\n    <tr>\n      <th>Argentina</th>\n      <th>2010-01-01</th>\n      <td>1.84</td>\n    </tr>\n    <tr>\n      <th>Australia</th>\n      <th>2010-01-01</th>\n      <td>3.98</td>\n    </tr>\n    <tr>\n      <th>Brazil</th>\n      <th>2010-01-01</th>\n      <td>4.76</td>\n    </tr>\n  </tbody>\n</table>\n</div>"
     },
     "metadata": {},
     "execution_count": 82
    }
   ],
   "source": [
    "mac.head(3)"
   ]
  },
  {
   "cell_type": "code",
   "execution_count": null,
   "metadata": {},
   "outputs": [],
   "source": []
  }
 ]
}