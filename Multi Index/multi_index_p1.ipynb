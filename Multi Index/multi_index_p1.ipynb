{
 "metadata": {
  "language_info": {
   "codemirror_mode": {
    "name": "ipython",
    "version": 3
   },
   "file_extension": ".py",
   "mimetype": "text/x-python",
   "name": "python",
   "nbconvert_exporter": "python",
   "pygments_lexer": "ipython3",
   "version": "3.7.6"
  },
  "orig_nbformat": 2,
  "kernelspec": {
   "name": "python376jvsc74a57bd01334010457180b265d09b56daeed883170adb1c65c35741b4ba4ec40109d9a77",
   "display_name": "Python 3.7.6 64-bit ('base': conda)"
  }
 },
 "nbformat": 4,
 "nbformat_minor": 2,
 "cells": [
  {
   "cell_type": "code",
   "execution_count": 31,
   "metadata": {},
   "outputs": [],
   "source": [
    "import pandas as pd "
   ]
  },
  {
   "cell_type": "code",
   "execution_count": 32,
   "metadata": {},
   "outputs": [],
   "source": [
    "mac = pd.read_csv('../Files/bigmac.csv', parse_dates=['Date'])\n",
    "mac['Country'] = mac['Country'].astype('category')"
   ]
  },
  {
   "cell_type": "code",
   "execution_count": 33,
   "metadata": {},
   "outputs": [
    {
     "output_type": "stream",
     "name": "stdout",
     "text": [
      "<class 'pandas.core.frame.DataFrame'>\nRangeIndex: 652 entries, 0 to 651\nData columns (total 3 columns):\n #   Column               Non-Null Count  Dtype         \n---  ------               --------------  -----         \n 0   Date                 652 non-null    datetime64[ns]\n 1   Country              652 non-null    category      \n 2   Price in US Dollars  652 non-null    float64       \ndtypes: category(1), datetime64[ns](1), float64(1)\nmemory usage: 13.9 KB\n"
     ]
    }
   ],
   "source": [
    "mac.info()"
   ]
  },
  {
   "cell_type": "code",
   "execution_count": 34,
   "metadata": {},
   "outputs": [
    {
     "output_type": "execute_result",
     "data": {
      "text/plain": [
       "Date                   datetime64[ns]\n",
       "Country                      category\n",
       "Price in US Dollars           float64\n",
       "dtype: object"
      ]
     },
     "metadata": {},
     "execution_count": 34
    }
   ],
   "source": [
    "mac.dtypes"
   ]
  },
  {
   "cell_type": "code",
   "execution_count": 35,
   "metadata": {},
   "outputs": [],
   "source": [
    "# Create a Multindex with the set_index() Method"
   ]
  },
  {
   "cell_type": "code",
   "execution_count": 36,
   "metadata": {},
   "outputs": [],
   "source": [
    "mac.nunique()\n",
    "mac.set_index(keys=['Date','Country'], inplace=True)"
   ]
  },
  {
   "cell_type": "code",
   "execution_count": 39,
   "metadata": {},
   "outputs": [
    {
     "output_type": "execute_result",
     "data": {
      "text/plain": [
       "                      Price in US Dollars\n",
       "Date       Country                       \n",
       "2010-01-01 Argentina                 1.84\n",
       "           Australia                 3.98\n",
       "           Brazil                    4.76\n",
       "           Britain                   3.67\n",
       "           Canada                    3.97"
      ],
      "text/html": "<div>\n<style scoped>\n    .dataframe tbody tr th:only-of-type {\n        vertical-align: middle;\n    }\n\n    .dataframe tbody tr th {\n        vertical-align: top;\n    }\n\n    .dataframe thead th {\n        text-align: right;\n    }\n</style>\n<table border=\"1\" class=\"dataframe\">\n  <thead>\n    <tr style=\"text-align: right;\">\n      <th></th>\n      <th></th>\n      <th>Price in US Dollars</th>\n    </tr>\n    <tr>\n      <th>Date</th>\n      <th>Country</th>\n      <th></th>\n    </tr>\n  </thead>\n  <tbody>\n    <tr>\n      <th rowspan=\"5\" valign=\"top\">2010-01-01</th>\n      <th>Argentina</th>\n      <td>1.84</td>\n    </tr>\n    <tr>\n      <th>Australia</th>\n      <td>3.98</td>\n    </tr>\n    <tr>\n      <th>Brazil</th>\n      <td>4.76</td>\n    </tr>\n    <tr>\n      <th>Britain</th>\n      <td>3.67</td>\n    </tr>\n    <tr>\n      <th>Canada</th>\n      <td>3.97</td>\n    </tr>\n  </tbody>\n</table>\n</div>"
     },
     "metadata": {},
     "execution_count": 39
    }
   ],
   "source": [
    "mac.sort_index(inplace=True)\n",
    "mac.head()"
   ]
  },
  {
   "cell_type": "code",
   "execution_count": 40,
   "metadata": {},
   "outputs": [
    {
     "output_type": "execute_result",
     "data": {
      "text/plain": [
       "MultiIndex([('2010-01-01',      'Argentina'),\n",
       "            ('2010-01-01',      'Australia'),\n",
       "            ('2010-01-01',         'Brazil'),\n",
       "            ('2010-01-01',        'Britain'),\n",
       "            ('2010-01-01',         'Canada'),\n",
       "            ('2010-01-01',          'Chile'),\n",
       "            ('2010-01-01',          'China'),\n",
       "            ('2010-01-01',       'Colombia'),\n",
       "            ('2010-01-01',     'Costa Rica'),\n",
       "            ('2010-01-01', 'Czech Republic'),\n",
       "            ...\n",
       "            ('2016-01-01',    'Switzerland'),\n",
       "            ('2016-01-01',         'Taiwan'),\n",
       "            ('2016-01-01',       'Thailand'),\n",
       "            ('2016-01-01',         'Turkey'),\n",
       "            ('2016-01-01',            'UAE'),\n",
       "            ('2016-01-01',        'Ukraine'),\n",
       "            ('2016-01-01',  'United States'),\n",
       "            ('2016-01-01',        'Uruguay'),\n",
       "            ('2016-01-01',      'Venezuela'),\n",
       "            ('2016-01-01',        'Vietnam')],\n",
       "           names=['Date', 'Country'], length=652)"
      ]
     },
     "metadata": {},
     "execution_count": 40
    }
   ],
   "source": [
    "mac.index"
   ]
  },
  {
   "cell_type": "code",
   "execution_count": 41,
   "metadata": {},
   "outputs": [
    {
     "output_type": "execute_result",
     "data": {
      "text/plain": [
       "FrozenList(['Date', 'Country'])"
      ]
     },
     "metadata": {},
     "execution_count": 41
    }
   ],
   "source": [
    "mac.index.names"
   ]
  },
  {
   "cell_type": "code",
   "execution_count": 43,
   "metadata": {},
   "outputs": [
    {
     "output_type": "execute_result",
     "data": {
      "text/plain": [
       "pandas.core.indexes.multi.MultiIndex"
      ]
     },
     "metadata": {},
     "execution_count": 43
    }
   ],
   "source": [
    "type(mac.index)"
   ]
  },
  {
   "cell_type": "code",
   "execution_count": 46,
   "metadata": {},
   "outputs": [
    {
     "output_type": "execute_result",
     "data": {
      "text/plain": [
       "(Timestamp('2010-01-01 00:00:00'), 'Denmark')"
      ]
     },
     "metadata": {},
     "execution_count": 46
    }
   ],
   "source": [
    "mac.index[0]\n",
    "mac.index[10]"
   ]
  },
  {
   "cell_type": "code",
   "execution_count": null,
   "metadata": {},
   "outputs": [],
   "source": []
  }
 ]
}