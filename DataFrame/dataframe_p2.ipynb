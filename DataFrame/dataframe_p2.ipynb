{
 "metadata": {
  "language_info": {
   "codemirror_mode": {
    "name": "ipython",
    "version": 3
   },
   "file_extension": ".py",
   "mimetype": "text/x-python",
   "name": "python",
   "nbconvert_exporter": "python",
   "pygments_lexer": "ipython3",
   "version": "3.7.6"
  },
  "orig_nbformat": 2,
  "kernelspec": {
   "name": "python376jvsc74a57bd01334010457180b265d09b56daeed883170adb1c65c35741b4ba4ec40109d9a77",
   "display_name": "Python 3.7.6 64-bit ('base': conda)"
  }
 },
 "nbformat": 4,
 "nbformat_minor": 2,
 "cells": [
  {
   "cell_type": "code",
   "execution_count": 2,
   "metadata": {},
   "outputs": [],
   "source": [
    "import pandas as pd "
   ]
  },
  {
   "cell_type": "code",
   "execution_count": 3,
   "metadata": {},
   "outputs": [
    {
     "output_type": "execute_result",
     "data": {
      "text/plain": [
       "        New York  Los Angeles  Miami\n",
       "Date                                \n",
       "1/1/16       985          122    499\n",
       "1/2/16       738          788    534\n",
       "1/3/16        14           20    933\n",
       "1/4/16       730          904    885\n",
       "1/5/16       114           71    253"
      ],
      "text/html": "<div>\n<style scoped>\n    .dataframe tbody tr th:only-of-type {\n        vertical-align: middle;\n    }\n\n    .dataframe tbody tr th {\n        vertical-align: top;\n    }\n\n    .dataframe thead th {\n        text-align: right;\n    }\n</style>\n<table border=\"1\" class=\"dataframe\">\n  <thead>\n    <tr style=\"text-align: right;\">\n      <th></th>\n      <th>New York</th>\n      <th>Los Angeles</th>\n      <th>Miami</th>\n    </tr>\n    <tr>\n      <th>Date</th>\n      <th></th>\n      <th></th>\n      <th></th>\n    </tr>\n  </thead>\n  <tbody>\n    <tr>\n      <th>1/1/16</th>\n      <td>985</td>\n      <td>122</td>\n      <td>499</td>\n    </tr>\n    <tr>\n      <th>1/2/16</th>\n      <td>738</td>\n      <td>788</td>\n      <td>534</td>\n    </tr>\n    <tr>\n      <th>1/3/16</th>\n      <td>14</td>\n      <td>20</td>\n      <td>933</td>\n    </tr>\n    <tr>\n      <th>1/4/16</th>\n      <td>730</td>\n      <td>904</td>\n      <td>885</td>\n    </tr>\n    <tr>\n      <th>1/5/16</th>\n      <td>114</td>\n      <td>71</td>\n      <td>253</td>\n    </tr>\n  </tbody>\n</table>\n</div>"
     },
     "metadata": {},
     "execution_count": 3
    }
   ],
   "source": [
    "rev = pd.read_csv(\"../Files/revenue.csv\", index_col=\"Date\")\n",
    "rev.head()"
   ]
  },
  {
   "cell_type": "code",
   "execution_count": 4,
   "metadata": {},
   "outputs": [],
   "source": [
    "s = pd.Series([1,2,3])"
   ]
  },
  {
   "cell_type": "code",
   "execution_count": 5,
   "metadata": {},
   "outputs": [
    {
     "output_type": "execute_result",
     "data": {
      "text/plain": [
       "6"
      ]
     },
     "metadata": {},
     "execution_count": 5
    }
   ],
   "source": [
    "s.sum()"
   ]
  },
  {
   "cell_type": "code",
   "execution_count": 6,
   "metadata": {},
   "outputs": [
    {
     "output_type": "execute_result",
     "data": {
      "text/plain": [
       "Date\n",
       "1/1/16     1606\n",
       "1/2/16     2060\n",
       "1/3/16      967\n",
       "1/4/16     2519\n",
       "1/5/16      438\n",
       "1/6/16     1935\n",
       "1/7/16     1234\n",
       "1/8/16     2313\n",
       "1/9/16     2623\n",
       "1/10/16     555\n",
       "dtype: int64"
      ]
     },
     "metadata": {},
     "execution_count": 6
    }
   ],
   "source": [
    "rev.sum(axis=\"columns\") "
   ]
  },
  {
   "cell_type": "code",
   "execution_count": 7,
   "metadata": {},
   "outputs": [],
   "source": [
    "# Select one column from a dataframe\n",
    "nba = pd.read_csv(\"../Files/nba.csv\")"
   ]
  },
  {
   "cell_type": "code",
   "execution_count": 8,
   "metadata": {},
   "outputs": [
    {
     "output_type": "execute_result",
     "data": {
      "text/plain": [
       "            Name            Team  Number Position   Age Height  Weight  \\\n",
       "0  Avery Bradley  Boston Celtics     0.0       PG  25.0    6-2   180.0   \n",
       "1    Jae Crowder  Boston Celtics    99.0       SF  25.0    6-6   235.0   \n",
       "2   John Holland  Boston Celtics    30.0       SG  27.0    6-5   205.0   \n",
       "3    R.J. Hunter  Boston Celtics    28.0       SG  22.0    6-5   185.0   \n",
       "4  Jonas Jerebko  Boston Celtics     8.0       PF  29.0   6-10   231.0   \n",
       "\n",
       "             College     Salary  \n",
       "0              Texas  7730337.0  \n",
       "1          Marquette  6796117.0  \n",
       "2  Boston University        NaN  \n",
       "3      Georgia State  1148640.0  \n",
       "4                NaN  5000000.0  "
      ],
      "text/html": "<div>\n<style scoped>\n    .dataframe tbody tr th:only-of-type {\n        vertical-align: middle;\n    }\n\n    .dataframe tbody tr th {\n        vertical-align: top;\n    }\n\n    .dataframe thead th {\n        text-align: right;\n    }\n</style>\n<table border=\"1\" class=\"dataframe\">\n  <thead>\n    <tr style=\"text-align: right;\">\n      <th></th>\n      <th>Name</th>\n      <th>Team</th>\n      <th>Number</th>\n      <th>Position</th>\n      <th>Age</th>\n      <th>Height</th>\n      <th>Weight</th>\n      <th>College</th>\n      <th>Salary</th>\n    </tr>\n  </thead>\n  <tbody>\n    <tr>\n      <th>0</th>\n      <td>Avery Bradley</td>\n      <td>Boston Celtics</td>\n      <td>0.0</td>\n      <td>PG</td>\n      <td>25.0</td>\n      <td>6-2</td>\n      <td>180.0</td>\n      <td>Texas</td>\n      <td>7730337.0</td>\n    </tr>\n    <tr>\n      <th>1</th>\n      <td>Jae Crowder</td>\n      <td>Boston Celtics</td>\n      <td>99.0</td>\n      <td>SF</td>\n      <td>25.0</td>\n      <td>6-6</td>\n      <td>235.0</td>\n      <td>Marquette</td>\n      <td>6796117.0</td>\n    </tr>\n    <tr>\n      <th>2</th>\n      <td>John Holland</td>\n      <td>Boston Celtics</td>\n      <td>30.0</td>\n      <td>SG</td>\n      <td>27.0</td>\n      <td>6-5</td>\n      <td>205.0</td>\n      <td>Boston University</td>\n      <td>NaN</td>\n    </tr>\n    <tr>\n      <th>3</th>\n      <td>R.J. Hunter</td>\n      <td>Boston Celtics</td>\n      <td>28.0</td>\n      <td>SG</td>\n      <td>22.0</td>\n      <td>6-5</td>\n      <td>185.0</td>\n      <td>Georgia State</td>\n      <td>1148640.0</td>\n    </tr>\n    <tr>\n      <th>4</th>\n      <td>Jonas Jerebko</td>\n      <td>Boston Celtics</td>\n      <td>8.0</td>\n      <td>PF</td>\n      <td>29.0</td>\n      <td>6-10</td>\n      <td>231.0</td>\n      <td>NaN</td>\n      <td>5000000.0</td>\n    </tr>\n  </tbody>\n</table>\n</div>"
     },
     "metadata": {},
     "execution_count": 8
    }
   ],
   "source": [
    "nba.head()"
   ]
  },
  {
   "cell_type": "code",
   "execution_count": 9,
   "metadata": {},
   "outputs": [
    {
     "output_type": "execute_result",
     "data": {
      "text/plain": [
       "            Name  Number\n",
       "0  Avery Bradley     0.0\n",
       "1    Jae Crowder    99.0\n",
       "2   John Holland    30.0\n",
       "3    R.J. Hunter    28.0\n",
       "4  Jonas Jerebko     8.0"
      ],
      "text/html": "<div>\n<style scoped>\n    .dataframe tbody tr th:only-of-type {\n        vertical-align: middle;\n    }\n\n    .dataframe tbody tr th {\n        vertical-align: top;\n    }\n\n    .dataframe thead th {\n        text-align: right;\n    }\n</style>\n<table border=\"1\" class=\"dataframe\">\n  <thead>\n    <tr style=\"text-align: right;\">\n      <th></th>\n      <th>Name</th>\n      <th>Number</th>\n    </tr>\n  </thead>\n  <tbody>\n    <tr>\n      <th>0</th>\n      <td>Avery Bradley</td>\n      <td>0.0</td>\n    </tr>\n    <tr>\n      <th>1</th>\n      <td>Jae Crowder</td>\n      <td>99.0</td>\n    </tr>\n    <tr>\n      <th>2</th>\n      <td>John Holland</td>\n      <td>30.0</td>\n    </tr>\n    <tr>\n      <th>3</th>\n      <td>R.J. Hunter</td>\n      <td>28.0</td>\n    </tr>\n    <tr>\n      <th>4</th>\n      <td>Jonas Jerebko</td>\n      <td>8.0</td>\n    </tr>\n  </tbody>\n</table>\n</div>"
     },
     "metadata": {},
     "execution_count": 9
    }
   ],
   "source": [
    "# nba.Name\n",
    "# nba.Number\n",
    "# nba.Salary\n",
    "nba[\"Name\"]\n",
    "nba[[\"Name\",\"Number\"]].head()"
   ]
  },
  {
   "cell_type": "code",
   "execution_count": 10,
   "metadata": {},
   "outputs": [
    {
     "output_type": "execute_result",
     "data": {
      "text/plain": [
       "            Name            Team  Number Position   Age Height  Weight  \\\n",
       "0  Avery Bradley  Boston Celtics     0.0       PG  25.0    6-2   180.0   \n",
       "1    Jae Crowder  Boston Celtics    99.0       SF  25.0    6-6   235.0   \n",
       "2   John Holland  Boston Celtics    30.0       SG  27.0    6-5   205.0   \n",
       "3    R.J. Hunter  Boston Celtics    28.0       SG  22.0    6-5   185.0   \n",
       "4  Jonas Jerebko  Boston Celtics     8.0       PF  29.0   6-10   231.0   \n",
       "\n",
       "             College     Salary  \n",
       "0              Texas  7730337.0  \n",
       "1          Marquette  6796117.0  \n",
       "2  Boston University        NaN  \n",
       "3      Georgia State  1148640.0  \n",
       "4                NaN  5000000.0  "
      ],
      "text/html": "<div>\n<style scoped>\n    .dataframe tbody tr th:only-of-type {\n        vertical-align: middle;\n    }\n\n    .dataframe tbody tr th {\n        vertical-align: top;\n    }\n\n    .dataframe thead th {\n        text-align: right;\n    }\n</style>\n<table border=\"1\" class=\"dataframe\">\n  <thead>\n    <tr style=\"text-align: right;\">\n      <th></th>\n      <th>Name</th>\n      <th>Team</th>\n      <th>Number</th>\n      <th>Position</th>\n      <th>Age</th>\n      <th>Height</th>\n      <th>Weight</th>\n      <th>College</th>\n      <th>Salary</th>\n    </tr>\n  </thead>\n  <tbody>\n    <tr>\n      <th>0</th>\n      <td>Avery Bradley</td>\n      <td>Boston Celtics</td>\n      <td>0.0</td>\n      <td>PG</td>\n      <td>25.0</td>\n      <td>6-2</td>\n      <td>180.0</td>\n      <td>Texas</td>\n      <td>7730337.0</td>\n    </tr>\n    <tr>\n      <th>1</th>\n      <td>Jae Crowder</td>\n      <td>Boston Celtics</td>\n      <td>99.0</td>\n      <td>SF</td>\n      <td>25.0</td>\n      <td>6-6</td>\n      <td>235.0</td>\n      <td>Marquette</td>\n      <td>6796117.0</td>\n    </tr>\n    <tr>\n      <th>2</th>\n      <td>John Holland</td>\n      <td>Boston Celtics</td>\n      <td>30.0</td>\n      <td>SG</td>\n      <td>27.0</td>\n      <td>6-5</td>\n      <td>205.0</td>\n      <td>Boston University</td>\n      <td>NaN</td>\n    </tr>\n    <tr>\n      <th>3</th>\n      <td>R.J. Hunter</td>\n      <td>Boston Celtics</td>\n      <td>28.0</td>\n      <td>SG</td>\n      <td>22.0</td>\n      <td>6-5</td>\n      <td>185.0</td>\n      <td>Georgia State</td>\n      <td>1148640.0</td>\n    </tr>\n    <tr>\n      <th>4</th>\n      <td>Jonas Jerebko</td>\n      <td>Boston Celtics</td>\n      <td>8.0</td>\n      <td>PF</td>\n      <td>29.0</td>\n      <td>6-10</td>\n      <td>231.0</td>\n      <td>NaN</td>\n      <td>5000000.0</td>\n    </tr>\n  </tbody>\n</table>\n</div>"
     },
     "metadata": {},
     "execution_count": 10
    }
   ],
   "source": [
    "nba.head()"
   ]
  },
  {
   "cell_type": "code",
   "execution_count": 11,
   "metadata": {},
   "outputs": [
    {
     "output_type": "execute_result",
     "data": {
      "text/plain": [
       "            Name            Team  Number            College\n",
       "0  Avery Bradley  Boston Celtics     0.0              Texas\n",
       "1    Jae Crowder  Boston Celtics    99.0          Marquette\n",
       "2   John Holland  Boston Celtics    30.0  Boston University"
      ],
      "text/html": "<div>\n<style scoped>\n    .dataframe tbody tr th:only-of-type {\n        vertical-align: middle;\n    }\n\n    .dataframe tbody tr th {\n        vertical-align: top;\n    }\n\n    .dataframe thead th {\n        text-align: right;\n    }\n</style>\n<table border=\"1\" class=\"dataframe\">\n  <thead>\n    <tr style=\"text-align: right;\">\n      <th></th>\n      <th>Name</th>\n      <th>Team</th>\n      <th>Number</th>\n      <th>College</th>\n    </tr>\n  </thead>\n  <tbody>\n    <tr>\n      <th>0</th>\n      <td>Avery Bradley</td>\n      <td>Boston Celtics</td>\n      <td>0.0</td>\n      <td>Texas</td>\n    </tr>\n    <tr>\n      <th>1</th>\n      <td>Jae Crowder</td>\n      <td>Boston Celtics</td>\n      <td>99.0</td>\n      <td>Marquette</td>\n    </tr>\n    <tr>\n      <th>2</th>\n      <td>John Holland</td>\n      <td>Boston Celtics</td>\n      <td>30.0</td>\n      <td>Boston University</td>\n    </tr>\n  </tbody>\n</table>\n</div>"
     },
     "metadata": {},
     "execution_count": 11
    }
   ],
   "source": [
    "nba[[\"Name\",\"Team\",\"Number\",\"College\"]].head(3)"
   ]
  },
  {
   "cell_type": "code",
   "execution_count": 12,
   "metadata": {},
   "outputs": [
    {
     "output_type": "execute_result",
     "data": {
      "text/plain": [
       "      Salary            Team           Name\n",
       "0  7730337.0  Boston Celtics  Avery Bradley\n",
       "1  6796117.0  Boston Celtics    Jae Crowder\n",
       "2        NaN  Boston Celtics   John Holland\n",
       "3  1148640.0  Boston Celtics    R.J. Hunter\n",
       "4  5000000.0  Boston Celtics  Jonas Jerebko"
      ],
      "text/html": "<div>\n<style scoped>\n    .dataframe tbody tr th:only-of-type {\n        vertical-align: middle;\n    }\n\n    .dataframe tbody tr th {\n        vertical-align: top;\n    }\n\n    .dataframe thead th {\n        text-align: right;\n    }\n</style>\n<table border=\"1\" class=\"dataframe\">\n  <thead>\n    <tr style=\"text-align: right;\">\n      <th></th>\n      <th>Salary</th>\n      <th>Team</th>\n      <th>Name</th>\n    </tr>\n  </thead>\n  <tbody>\n    <tr>\n      <th>0</th>\n      <td>7730337.0</td>\n      <td>Boston Celtics</td>\n      <td>Avery Bradley</td>\n    </tr>\n    <tr>\n      <th>1</th>\n      <td>6796117.0</td>\n      <td>Boston Celtics</td>\n      <td>Jae Crowder</td>\n    </tr>\n    <tr>\n      <th>2</th>\n      <td>NaN</td>\n      <td>Boston Celtics</td>\n      <td>John Holland</td>\n    </tr>\n    <tr>\n      <th>3</th>\n      <td>1148640.0</td>\n      <td>Boston Celtics</td>\n      <td>R.J. Hunter</td>\n    </tr>\n    <tr>\n      <th>4</th>\n      <td>5000000.0</td>\n      <td>Boston Celtics</td>\n      <td>Jonas Jerebko</td>\n    </tr>\n  </tbody>\n</table>\n</div>"
     },
     "metadata": {},
     "execution_count": 12
    }
   ],
   "source": [
    "select = [\"Salary\",\"Team\",\"Name\"]\n",
    "nba[select].head()"
   ]
  },
  {
   "cell_type": "code",
   "execution_count": 13,
   "metadata": {},
   "outputs": [],
   "source": [
    "# Adding columns to an existing Dataframe"
   ]
  },
  {
   "cell_type": "code",
   "execution_count": 14,
   "metadata": {},
   "outputs": [
    {
     "output_type": "execute_result",
     "data": {
      "text/plain": [
       "            Name            Team  Number Position   Age Height  Weight  \\\n",
       "0  Avery Bradley  Boston Celtics     0.0       PG  25.0    6-2   180.0   \n",
       "1    Jae Crowder  Boston Celtics    99.0       SF  25.0    6-6   235.0   \n",
       "2   John Holland  Boston Celtics    30.0       SG  27.0    6-5   205.0   \n",
       "3    R.J. Hunter  Boston Celtics    28.0       SG  22.0    6-5   185.0   \n",
       "4  Jonas Jerebko  Boston Celtics     8.0       PF  29.0   6-10   231.0   \n",
       "\n",
       "             College     Salary  \n",
       "0              Texas  7730337.0  \n",
       "1          Marquette  6796117.0  \n",
       "2  Boston University        NaN  \n",
       "3      Georgia State  1148640.0  \n",
       "4                NaN  5000000.0  "
      ],
      "text/html": "<div>\n<style scoped>\n    .dataframe tbody tr th:only-of-type {\n        vertical-align: middle;\n    }\n\n    .dataframe tbody tr th {\n        vertical-align: top;\n    }\n\n    .dataframe thead th {\n        text-align: right;\n    }\n</style>\n<table border=\"1\" class=\"dataframe\">\n  <thead>\n    <tr style=\"text-align: right;\">\n      <th></th>\n      <th>Name</th>\n      <th>Team</th>\n      <th>Number</th>\n      <th>Position</th>\n      <th>Age</th>\n      <th>Height</th>\n      <th>Weight</th>\n      <th>College</th>\n      <th>Salary</th>\n    </tr>\n  </thead>\n  <tbody>\n    <tr>\n      <th>0</th>\n      <td>Avery Bradley</td>\n      <td>Boston Celtics</td>\n      <td>0.0</td>\n      <td>PG</td>\n      <td>25.0</td>\n      <td>6-2</td>\n      <td>180.0</td>\n      <td>Texas</td>\n      <td>7730337.0</td>\n    </tr>\n    <tr>\n      <th>1</th>\n      <td>Jae Crowder</td>\n      <td>Boston Celtics</td>\n      <td>99.0</td>\n      <td>SF</td>\n      <td>25.0</td>\n      <td>6-6</td>\n      <td>235.0</td>\n      <td>Marquette</td>\n      <td>6796117.0</td>\n    </tr>\n    <tr>\n      <th>2</th>\n      <td>John Holland</td>\n      <td>Boston Celtics</td>\n      <td>30.0</td>\n      <td>SG</td>\n      <td>27.0</td>\n      <td>6-5</td>\n      <td>205.0</td>\n      <td>Boston University</td>\n      <td>NaN</td>\n    </tr>\n    <tr>\n      <th>3</th>\n      <td>R.J. Hunter</td>\n      <td>Boston Celtics</td>\n      <td>28.0</td>\n      <td>SG</td>\n      <td>22.0</td>\n      <td>6-5</td>\n      <td>185.0</td>\n      <td>Georgia State</td>\n      <td>1148640.0</td>\n    </tr>\n    <tr>\n      <th>4</th>\n      <td>Jonas Jerebko</td>\n      <td>Boston Celtics</td>\n      <td>8.0</td>\n      <td>PF</td>\n      <td>29.0</td>\n      <td>6-10</td>\n      <td>231.0</td>\n      <td>NaN</td>\n      <td>5000000.0</td>\n    </tr>\n  </tbody>\n</table>\n</div>"
     },
     "metadata": {},
     "execution_count": 14
    }
   ],
   "source": [
    "nba.head()"
   ]
  },
  {
   "cell_type": "code",
   "execution_count": 15,
   "metadata": {},
   "outputs": [],
   "source": [
    "nba[\"Sport\"] = \"Basketball\""
   ]
  },
  {
   "cell_type": "code",
   "execution_count": 16,
   "metadata": {},
   "outputs": [
    {
     "output_type": "execute_result",
     "data": {
      "text/plain": [
       "            Name            Team  Number Position   Age Height  Weight  \\\n",
       "0  Avery Bradley  Boston Celtics     0.0       PG  25.0    6-2   180.0   \n",
       "1    Jae Crowder  Boston Celtics    99.0       SF  25.0    6-6   235.0   \n",
       "2   John Holland  Boston Celtics    30.0       SG  27.0    6-5   205.0   \n",
       "\n",
       "             College     Salary       Sport  \n",
       "0              Texas  7730337.0  Basketball  \n",
       "1          Marquette  6796117.0  Basketball  \n",
       "2  Boston University        NaN  Basketball  "
      ],
      "text/html": "<div>\n<style scoped>\n    .dataframe tbody tr th:only-of-type {\n        vertical-align: middle;\n    }\n\n    .dataframe tbody tr th {\n        vertical-align: top;\n    }\n\n    .dataframe thead th {\n        text-align: right;\n    }\n</style>\n<table border=\"1\" class=\"dataframe\">\n  <thead>\n    <tr style=\"text-align: right;\">\n      <th></th>\n      <th>Name</th>\n      <th>Team</th>\n      <th>Number</th>\n      <th>Position</th>\n      <th>Age</th>\n      <th>Height</th>\n      <th>Weight</th>\n      <th>College</th>\n      <th>Salary</th>\n      <th>Sport</th>\n    </tr>\n  </thead>\n  <tbody>\n    <tr>\n      <th>0</th>\n      <td>Avery Bradley</td>\n      <td>Boston Celtics</td>\n      <td>0.0</td>\n      <td>PG</td>\n      <td>25.0</td>\n      <td>6-2</td>\n      <td>180.0</td>\n      <td>Texas</td>\n      <td>7730337.0</td>\n      <td>Basketball</td>\n    </tr>\n    <tr>\n      <th>1</th>\n      <td>Jae Crowder</td>\n      <td>Boston Celtics</td>\n      <td>99.0</td>\n      <td>SF</td>\n      <td>25.0</td>\n      <td>6-6</td>\n      <td>235.0</td>\n      <td>Marquette</td>\n      <td>6796117.0</td>\n      <td>Basketball</td>\n    </tr>\n    <tr>\n      <th>2</th>\n      <td>John Holland</td>\n      <td>Boston Celtics</td>\n      <td>30.0</td>\n      <td>SG</td>\n      <td>27.0</td>\n      <td>6-5</td>\n      <td>205.0</td>\n      <td>Boston University</td>\n      <td>NaN</td>\n      <td>Basketball</td>\n    </tr>\n  </tbody>\n</table>\n</div>"
     },
     "metadata": {},
     "execution_count": 16
    }
   ],
   "source": [
    "nba.head(3)"
   ]
  },
  {
   "cell_type": "code",
   "execution_count": 17,
   "metadata": {},
   "outputs": [],
   "source": [
    "nba[\"League\"] = \"National Basketball Association\""
   ]
  },
  {
   "cell_type": "code",
   "execution_count": 18,
   "metadata": {},
   "outputs": [
    {
     "output_type": "execute_result",
     "data": {
      "text/plain": [
       "            Name            Team  Number Position   Age Height  Weight  \\\n",
       "0  Avery Bradley  Boston Celtics     0.0       PG  25.0    6-2   180.0   \n",
       "1    Jae Crowder  Boston Celtics    99.0       SF  25.0    6-6   235.0   \n",
       "2   John Holland  Boston Celtics    30.0       SG  27.0    6-5   205.0   \n",
       "\n",
       "             College     Salary       Sport                           League  \n",
       "0              Texas  7730337.0  Basketball  National Basketball Association  \n",
       "1          Marquette  6796117.0  Basketball  National Basketball Association  \n",
       "2  Boston University        NaN  Basketball  National Basketball Association  "
      ],
      "text/html": "<div>\n<style scoped>\n    .dataframe tbody tr th:only-of-type {\n        vertical-align: middle;\n    }\n\n    .dataframe tbody tr th {\n        vertical-align: top;\n    }\n\n    .dataframe thead th {\n        text-align: right;\n    }\n</style>\n<table border=\"1\" class=\"dataframe\">\n  <thead>\n    <tr style=\"text-align: right;\">\n      <th></th>\n      <th>Name</th>\n      <th>Team</th>\n      <th>Number</th>\n      <th>Position</th>\n      <th>Age</th>\n      <th>Height</th>\n      <th>Weight</th>\n      <th>College</th>\n      <th>Salary</th>\n      <th>Sport</th>\n      <th>League</th>\n    </tr>\n  </thead>\n  <tbody>\n    <tr>\n      <th>0</th>\n      <td>Avery Bradley</td>\n      <td>Boston Celtics</td>\n      <td>0.0</td>\n      <td>PG</td>\n      <td>25.0</td>\n      <td>6-2</td>\n      <td>180.0</td>\n      <td>Texas</td>\n      <td>7730337.0</td>\n      <td>Basketball</td>\n      <td>National Basketball Association</td>\n    </tr>\n    <tr>\n      <th>1</th>\n      <td>Jae Crowder</td>\n      <td>Boston Celtics</td>\n      <td>99.0</td>\n      <td>SF</td>\n      <td>25.0</td>\n      <td>6-6</td>\n      <td>235.0</td>\n      <td>Marquette</td>\n      <td>6796117.0</td>\n      <td>Basketball</td>\n      <td>National Basketball Association</td>\n    </tr>\n    <tr>\n      <th>2</th>\n      <td>John Holland</td>\n      <td>Boston Celtics</td>\n      <td>30.0</td>\n      <td>SG</td>\n      <td>27.0</td>\n      <td>6-5</td>\n      <td>205.0</td>\n      <td>Boston University</td>\n      <td>NaN</td>\n      <td>Basketball</td>\n      <td>National Basketball Association</td>\n    </tr>\n  </tbody>\n</table>\n</div>"
     },
     "metadata": {},
     "execution_count": 18
    }
   ],
   "source": [
    "nba.head(3)"
   ]
  },
  {
   "cell_type": "code",
   "execution_count": 19,
   "metadata": {},
   "outputs": [],
   "source": [
    "nba = pd.read_csv(\"../Files/nba.csv\")"
   ]
  },
  {
   "cell_type": "code",
   "execution_count": 20,
   "metadata": {},
   "outputs": [
    {
     "output_type": "execute_result",
     "data": {
      "text/plain": [
       "            Name            Team  Number Position   Age Height  Weight  \\\n",
       "0  Avery Bradley  Boston Celtics     0.0       PG  25.0    6-2   180.0   \n",
       "1    Jae Crowder  Boston Celtics    99.0       SF  25.0    6-6   235.0   \n",
       "2   John Holland  Boston Celtics    30.0       SG  27.0    6-5   205.0   \n",
       "3    R.J. Hunter  Boston Celtics    28.0       SG  22.0    6-5   185.0   \n",
       "4  Jonas Jerebko  Boston Celtics     8.0       PF  29.0   6-10   231.0   \n",
       "\n",
       "             College     Salary  \n",
       "0              Texas  7730337.0  \n",
       "1          Marquette  6796117.0  \n",
       "2  Boston University        NaN  \n",
       "3      Georgia State  1148640.0  \n",
       "4                NaN  5000000.0  "
      ],
      "text/html": "<div>\n<style scoped>\n    .dataframe tbody tr th:only-of-type {\n        vertical-align: middle;\n    }\n\n    .dataframe tbody tr th {\n        vertical-align: top;\n    }\n\n    .dataframe thead th {\n        text-align: right;\n    }\n</style>\n<table border=\"1\" class=\"dataframe\">\n  <thead>\n    <tr style=\"text-align: right;\">\n      <th></th>\n      <th>Name</th>\n      <th>Team</th>\n      <th>Number</th>\n      <th>Position</th>\n      <th>Age</th>\n      <th>Height</th>\n      <th>Weight</th>\n      <th>College</th>\n      <th>Salary</th>\n    </tr>\n  </thead>\n  <tbody>\n    <tr>\n      <th>0</th>\n      <td>Avery Bradley</td>\n      <td>Boston Celtics</td>\n      <td>0.0</td>\n      <td>PG</td>\n      <td>25.0</td>\n      <td>6-2</td>\n      <td>180.0</td>\n      <td>Texas</td>\n      <td>7730337.0</td>\n    </tr>\n    <tr>\n      <th>1</th>\n      <td>Jae Crowder</td>\n      <td>Boston Celtics</td>\n      <td>99.0</td>\n      <td>SF</td>\n      <td>25.0</td>\n      <td>6-6</td>\n      <td>235.0</td>\n      <td>Marquette</td>\n      <td>6796117.0</td>\n    </tr>\n    <tr>\n      <th>2</th>\n      <td>John Holland</td>\n      <td>Boston Celtics</td>\n      <td>30.0</td>\n      <td>SG</td>\n      <td>27.0</td>\n      <td>6-5</td>\n      <td>205.0</td>\n      <td>Boston University</td>\n      <td>NaN</td>\n    </tr>\n    <tr>\n      <th>3</th>\n      <td>R.J. Hunter</td>\n      <td>Boston Celtics</td>\n      <td>28.0</td>\n      <td>SG</td>\n      <td>22.0</td>\n      <td>6-5</td>\n      <td>185.0</td>\n      <td>Georgia State</td>\n      <td>1148640.0</td>\n    </tr>\n    <tr>\n      <th>4</th>\n      <td>Jonas Jerebko</td>\n      <td>Boston Celtics</td>\n      <td>8.0</td>\n      <td>PF</td>\n      <td>29.0</td>\n      <td>6-10</td>\n      <td>231.0</td>\n      <td>NaN</td>\n      <td>5000000.0</td>\n    </tr>\n  </tbody>\n</table>\n</div>"
     },
     "metadata": {},
     "execution_count": 20
    }
   ],
   "source": [
    "nba.head()"
   ]
  },
  {
   "cell_type": "code",
   "execution_count": 21,
   "metadata": {},
   "outputs": [],
   "source": [
    "nba.insert(3, column=\"Sport\", value=\"Basketball\")"
   ]
  },
  {
   "cell_type": "code",
   "execution_count": 22,
   "metadata": {},
   "outputs": [
    {
     "output_type": "execute_result",
     "data": {
      "text/plain": [
       "            Name            Team  Number       Sport Position   Age Height  \\\n",
       "0  Avery Bradley  Boston Celtics     0.0  Basketball       PG  25.0    6-2   \n",
       "1    Jae Crowder  Boston Celtics    99.0  Basketball       SF  25.0    6-6   \n",
       "2   John Holland  Boston Celtics    30.0  Basketball       SG  27.0    6-5   \n",
       "\n",
       "   Weight            College     Salary  \n",
       "0   180.0              Texas  7730337.0  \n",
       "1   235.0          Marquette  6796117.0  \n",
       "2   205.0  Boston University        NaN  "
      ],
      "text/html": "<div>\n<style scoped>\n    .dataframe tbody tr th:only-of-type {\n        vertical-align: middle;\n    }\n\n    .dataframe tbody tr th {\n        vertical-align: top;\n    }\n\n    .dataframe thead th {\n        text-align: right;\n    }\n</style>\n<table border=\"1\" class=\"dataframe\">\n  <thead>\n    <tr style=\"text-align: right;\">\n      <th></th>\n      <th>Name</th>\n      <th>Team</th>\n      <th>Number</th>\n      <th>Sport</th>\n      <th>Position</th>\n      <th>Age</th>\n      <th>Height</th>\n      <th>Weight</th>\n      <th>College</th>\n      <th>Salary</th>\n    </tr>\n  </thead>\n  <tbody>\n    <tr>\n      <th>0</th>\n      <td>Avery Bradley</td>\n      <td>Boston Celtics</td>\n      <td>0.0</td>\n      <td>Basketball</td>\n      <td>PG</td>\n      <td>25.0</td>\n      <td>6-2</td>\n      <td>180.0</td>\n      <td>Texas</td>\n      <td>7730337.0</td>\n    </tr>\n    <tr>\n      <th>1</th>\n      <td>Jae Crowder</td>\n      <td>Boston Celtics</td>\n      <td>99.0</td>\n      <td>Basketball</td>\n      <td>SF</td>\n      <td>25.0</td>\n      <td>6-6</td>\n      <td>235.0</td>\n      <td>Marquette</td>\n      <td>6796117.0</td>\n    </tr>\n    <tr>\n      <th>2</th>\n      <td>John Holland</td>\n      <td>Boston Celtics</td>\n      <td>30.0</td>\n      <td>Basketball</td>\n      <td>SG</td>\n      <td>27.0</td>\n      <td>6-5</td>\n      <td>205.0</td>\n      <td>Boston University</td>\n      <td>NaN</td>\n    </tr>\n  </tbody>\n</table>\n</div>"
     },
     "metadata": {},
     "execution_count": 22
    }
   ],
   "source": [
    "nba.head(3)"
   ]
  },
  {
   "cell_type": "code",
   "execution_count": 23,
   "metadata": {},
   "outputs": [],
   "source": [
    "nba.insert(7,column=\"Leage\",value=\"National Basketball League\")"
   ]
  },
  {
   "cell_type": "code",
   "execution_count": 24,
   "metadata": {},
   "outputs": [
    {
     "output_type": "execute_result",
     "data": {
      "text/plain": [
       "            Name            Team  Number       Sport Position   Age Height  \\\n",
       "0  Avery Bradley  Boston Celtics     0.0  Basketball       PG  25.0    6-2   \n",
       "1    Jae Crowder  Boston Celtics    99.0  Basketball       SF  25.0    6-6   \n",
       "2   John Holland  Boston Celtics    30.0  Basketball       SG  27.0    6-5   \n",
       "\n",
       "                        Leage  Weight            College     Salary  \n",
       "0  National Basketball League   180.0              Texas  7730337.0  \n",
       "1  National Basketball League   235.0          Marquette  6796117.0  \n",
       "2  National Basketball League   205.0  Boston University        NaN  "
      ],
      "text/html": "<div>\n<style scoped>\n    .dataframe tbody tr th:only-of-type {\n        vertical-align: middle;\n    }\n\n    .dataframe tbody tr th {\n        vertical-align: top;\n    }\n\n    .dataframe thead th {\n        text-align: right;\n    }\n</style>\n<table border=\"1\" class=\"dataframe\">\n  <thead>\n    <tr style=\"text-align: right;\">\n      <th></th>\n      <th>Name</th>\n      <th>Team</th>\n      <th>Number</th>\n      <th>Sport</th>\n      <th>Position</th>\n      <th>Age</th>\n      <th>Height</th>\n      <th>Leage</th>\n      <th>Weight</th>\n      <th>College</th>\n      <th>Salary</th>\n    </tr>\n  </thead>\n  <tbody>\n    <tr>\n      <th>0</th>\n      <td>Avery Bradley</td>\n      <td>Boston Celtics</td>\n      <td>0.0</td>\n      <td>Basketball</td>\n      <td>PG</td>\n      <td>25.0</td>\n      <td>6-2</td>\n      <td>National Basketball League</td>\n      <td>180.0</td>\n      <td>Texas</td>\n      <td>7730337.0</td>\n    </tr>\n    <tr>\n      <th>1</th>\n      <td>Jae Crowder</td>\n      <td>Boston Celtics</td>\n      <td>99.0</td>\n      <td>Basketball</td>\n      <td>SF</td>\n      <td>25.0</td>\n      <td>6-6</td>\n      <td>National Basketball League</td>\n      <td>235.0</td>\n      <td>Marquette</td>\n      <td>6796117.0</td>\n    </tr>\n    <tr>\n      <th>2</th>\n      <td>John Holland</td>\n      <td>Boston Celtics</td>\n      <td>30.0</td>\n      <td>Basketball</td>\n      <td>SG</td>\n      <td>27.0</td>\n      <td>6-5</td>\n      <td>National Basketball League</td>\n      <td>205.0</td>\n      <td>Boston University</td>\n      <td>NaN</td>\n    </tr>\n  </tbody>\n</table>\n</div>"
     },
     "metadata": {},
     "execution_count": 24
    }
   ],
   "source": [
    "nba.head(3)"
   ]
  },
  {
   "cell_type": "code",
   "execution_count": 25,
   "metadata": {},
   "outputs": [],
   "source": [
    "# Broadcasting Operations"
   ]
  },
  {
   "cell_type": "code",
   "execution_count": 26,
   "metadata": {},
   "outputs": [],
   "source": [
    "nba[\"Age\"].add(5)\n",
    "nba[\"Age\"] + 5\n",
    "nba[\"Salary\"].sub(5000000)\n",
    "nba[\"Salary\"] - 5000000\n",
    "nba.insert(9,\"Weight in Kilo\",nba[\"Weight\"].mul(0.453592))"
   ]
  },
  {
   "cell_type": "code",
   "execution_count": 27,
   "metadata": {},
   "outputs": [
    {
     "output_type": "execute_result",
     "data": {
      "text/plain": [
       "            Name            Team  Number       Sport Position   Age Height  \\\n",
       "0  Avery Bradley  Boston Celtics     0.0  Basketball       PG  25.0    6-2   \n",
       "1    Jae Crowder  Boston Celtics    99.0  Basketball       SF  25.0    6-6   \n",
       "2   John Holland  Boston Celtics    30.0  Basketball       SG  27.0    6-5   \n",
       "\n",
       "                        Leage  Weight  Weight in Kilo            College  \\\n",
       "0  National Basketball League   180.0        81.64656              Texas   \n",
       "1  National Basketball League   235.0       106.59412          Marquette   \n",
       "2  National Basketball League   205.0        92.98636  Boston University   \n",
       "\n",
       "      Salary  \n",
       "0  7730337.0  \n",
       "1  6796117.0  \n",
       "2        NaN  "
      ],
      "text/html": "<div>\n<style scoped>\n    .dataframe tbody tr th:only-of-type {\n        vertical-align: middle;\n    }\n\n    .dataframe tbody tr th {\n        vertical-align: top;\n    }\n\n    .dataframe thead th {\n        text-align: right;\n    }\n</style>\n<table border=\"1\" class=\"dataframe\">\n  <thead>\n    <tr style=\"text-align: right;\">\n      <th></th>\n      <th>Name</th>\n      <th>Team</th>\n      <th>Number</th>\n      <th>Sport</th>\n      <th>Position</th>\n      <th>Age</th>\n      <th>Height</th>\n      <th>Leage</th>\n      <th>Weight</th>\n      <th>Weight in Kilo</th>\n      <th>College</th>\n      <th>Salary</th>\n    </tr>\n  </thead>\n  <tbody>\n    <tr>\n      <th>0</th>\n      <td>Avery Bradley</td>\n      <td>Boston Celtics</td>\n      <td>0.0</td>\n      <td>Basketball</td>\n      <td>PG</td>\n      <td>25.0</td>\n      <td>6-2</td>\n      <td>National Basketball League</td>\n      <td>180.0</td>\n      <td>81.64656</td>\n      <td>Texas</td>\n      <td>7730337.0</td>\n    </tr>\n    <tr>\n      <th>1</th>\n      <td>Jae Crowder</td>\n      <td>Boston Celtics</td>\n      <td>99.0</td>\n      <td>Basketball</td>\n      <td>SF</td>\n      <td>25.0</td>\n      <td>6-6</td>\n      <td>National Basketball League</td>\n      <td>235.0</td>\n      <td>106.59412</td>\n      <td>Marquette</td>\n      <td>6796117.0</td>\n    </tr>\n    <tr>\n      <th>2</th>\n      <td>John Holland</td>\n      <td>Boston Celtics</td>\n      <td>30.0</td>\n      <td>Basketball</td>\n      <td>SG</td>\n      <td>27.0</td>\n      <td>6-5</td>\n      <td>National Basketball League</td>\n      <td>205.0</td>\n      <td>92.98636</td>\n      <td>Boston University</td>\n      <td>NaN</td>\n    </tr>\n  </tbody>\n</table>\n</div>"
     },
     "metadata": {},
     "execution_count": 27
    }
   ],
   "source": [
    "nba.head(3)"
   ]
  },
  {
   "cell_type": "code",
   "execution_count": 28,
   "metadata": {},
   "outputs": [
    {
     "output_type": "execute_result",
     "data": {
      "text/plain": [
       "New Orleans Pelicans      19\n",
       "Memphis Grizzlies         18\n",
       "Milwaukee Bucks           16\n",
       "New York Knicks           16\n",
       "Portland Trail Blazers    15\n",
       "Toronto Raptors           15\n",
       "San Antonio Spurs         15\n",
       "Cleveland Cavaliers       15\n",
       "Washington Wizards        15\n",
       "Detroit Pistons           15\n",
       "Atlanta Hawks             15\n",
       "Oklahoma City Thunder     15\n",
       "Charlotte Hornets         15\n",
       "Denver Nuggets            15\n",
       "Phoenix Suns              15\n",
       "Indiana Pacers            15\n",
       "Brooklyn Nets             15\n",
       "Sacramento Kings          15\n",
       "Dallas Mavericks          15\n",
       "Boston Celtics            15\n",
       "Utah Jazz                 15\n",
       "Los Angeles Clippers      15\n",
       "Philadelphia 76ers        15\n",
       "Miami Heat                15\n",
       "Chicago Bulls             15\n",
       "Golden State Warriors     15\n",
       "Los Angeles Lakers        15\n",
       "Houston Rockets           15\n",
       "Orlando Magic             14\n",
       "Minnesota Timberwolves    14\n",
       "Name: Team, dtype: int64"
      ]
     },
     "metadata": {},
     "execution_count": 28
    }
   ],
   "source": [
    "nba[\"Team\"].value_counts()"
   ]
  },
  {
   "cell_type": "code",
   "execution_count": 29,
   "metadata": {},
   "outputs": [
    {
     "output_type": "execute_result",
     "data": {
      "text/plain": [
       "SG    102\n",
       "Name: Position, dtype: int64"
      ]
     },
     "metadata": {},
     "execution_count": 29
    }
   ],
   "source": [
    "nba[\"Position\"].value_counts().head(1)"
   ]
  },
  {
   "cell_type": "code",
   "execution_count": 30,
   "metadata": {},
   "outputs": [
    {
     "output_type": "execute_result",
     "data": {
      "text/plain": [
       "307.0    1\n",
       "Name: Weight, dtype: int64"
      ]
     },
     "metadata": {},
     "execution_count": 30
    }
   ],
   "source": [
    "nba[\"Weight\"].value_counts().tail(1)"
   ]
  },
  {
   "cell_type": "code",
   "execution_count": 31,
   "metadata": {},
   "outputs": [
    {
     "output_type": "execute_result",
     "data": {
      "text/plain": [
       "947276.0     31\n",
       "845059.0     18\n",
       "525093.0     13\n",
       "981348.0      6\n",
       "1100602.0     5\n",
       "             ..\n",
       "1242720.0     1\n",
       "2489530.0     1\n",
       "5103120.0     1\n",
       "9463484.0     1\n",
       "700902.0      1\n",
       "Name: Salary, Length: 309, dtype: int64"
      ]
     },
     "metadata": {},
     "execution_count": 31
    }
   ],
   "source": [
    "nba[\"Salary\"].value_counts()"
   ]
  },
  {
   "cell_type": "code",
   "execution_count": 32,
   "metadata": {},
   "outputs": [],
   "source": [
    "nba.dropna(how=\"all\", inplace=True)"
   ]
  },
  {
   "cell_type": "code",
   "execution_count": 33,
   "metadata": {},
   "outputs": [
    {
     "output_type": "execute_result",
     "data": {
      "text/plain": [
       "             Name       Team  Number       Sport Position   Age Height  \\\n",
       "453  Shelvin Mack  Utah Jazz     8.0  Basketball       PG  26.0    6-3   \n",
       "454     Raul Neto  Utah Jazz    25.0  Basketball       PG  24.0    6-1   \n",
       "455  Tibor Pleiss  Utah Jazz    21.0  Basketball        C  26.0    7-3   \n",
       "456   Jeff Withey  Utah Jazz    24.0  Basketball        C  26.0    7-0   \n",
       "457           NaN        NaN     NaN  Basketball      NaN   NaN    NaN   \n",
       "\n",
       "                          Leage  Weight  Weight in Kilo College     Salary  \n",
       "453  National Basketball League   203.0       92.079176  Butler  2433333.0  \n",
       "454  National Basketball League   179.0       81.192968     NaN   900000.0  \n",
       "455  National Basketball League   256.0      116.119552     NaN  2900000.0  \n",
       "456  National Basketball League   231.0      104.779752  Kansas   947276.0  \n",
       "457  National Basketball League     NaN             NaN     NaN        NaN  "
      ],
      "text/html": "<div>\n<style scoped>\n    .dataframe tbody tr th:only-of-type {\n        vertical-align: middle;\n    }\n\n    .dataframe tbody tr th {\n        vertical-align: top;\n    }\n\n    .dataframe thead th {\n        text-align: right;\n    }\n</style>\n<table border=\"1\" class=\"dataframe\">\n  <thead>\n    <tr style=\"text-align: right;\">\n      <th></th>\n      <th>Name</th>\n      <th>Team</th>\n      <th>Number</th>\n      <th>Sport</th>\n      <th>Position</th>\n      <th>Age</th>\n      <th>Height</th>\n      <th>Leage</th>\n      <th>Weight</th>\n      <th>Weight in Kilo</th>\n      <th>College</th>\n      <th>Salary</th>\n    </tr>\n  </thead>\n  <tbody>\n    <tr>\n      <th>453</th>\n      <td>Shelvin Mack</td>\n      <td>Utah Jazz</td>\n      <td>8.0</td>\n      <td>Basketball</td>\n      <td>PG</td>\n      <td>26.0</td>\n      <td>6-3</td>\n      <td>National Basketball League</td>\n      <td>203.0</td>\n      <td>92.079176</td>\n      <td>Butler</td>\n      <td>2433333.0</td>\n    </tr>\n    <tr>\n      <th>454</th>\n      <td>Raul Neto</td>\n      <td>Utah Jazz</td>\n      <td>25.0</td>\n      <td>Basketball</td>\n      <td>PG</td>\n      <td>24.0</td>\n      <td>6-1</td>\n      <td>National Basketball League</td>\n      <td>179.0</td>\n      <td>81.192968</td>\n      <td>NaN</td>\n      <td>900000.0</td>\n    </tr>\n    <tr>\n      <th>455</th>\n      <td>Tibor Pleiss</td>\n      <td>Utah Jazz</td>\n      <td>21.0</td>\n      <td>Basketball</td>\n      <td>C</td>\n      <td>26.0</td>\n      <td>7-3</td>\n      <td>National Basketball League</td>\n      <td>256.0</td>\n      <td>116.119552</td>\n      <td>NaN</td>\n      <td>2900000.0</td>\n    </tr>\n    <tr>\n      <th>456</th>\n      <td>Jeff Withey</td>\n      <td>Utah Jazz</td>\n      <td>24.0</td>\n      <td>Basketball</td>\n      <td>C</td>\n      <td>26.0</td>\n      <td>7-0</td>\n      <td>National Basketball League</td>\n      <td>231.0</td>\n      <td>104.779752</td>\n      <td>Kansas</td>\n      <td>947276.0</td>\n    </tr>\n    <tr>\n      <th>457</th>\n      <td>NaN</td>\n      <td>NaN</td>\n      <td>NaN</td>\n      <td>Basketball</td>\n      <td>NaN</td>\n      <td>NaN</td>\n      <td>NaN</td>\n      <td>National Basketball League</td>\n      <td>NaN</td>\n      <td>NaN</td>\n      <td>NaN</td>\n      <td>NaN</td>\n    </tr>\n  </tbody>\n</table>\n</div>"
     },
     "metadata": {},
     "execution_count": 33
    }
   ],
   "source": [
    "nba.tail()"
   ]
  },
  {
   "cell_type": "code",
   "execution_count": 34,
   "metadata": {},
   "outputs": [
    {
     "output_type": "execute_result",
     "data": {
      "text/plain": [
       "              Name            Team  Number       Sport Position   Age Height  \\\n",
       "0    Avery Bradley  Boston Celtics     0.0  Basketball       PG  25.0    6-2   \n",
       "1      Jae Crowder  Boston Celtics    99.0  Basketball       SF  25.0    6-6   \n",
       "3      R.J. Hunter  Boston Celtics    28.0  Basketball       SG  22.0    6-5   \n",
       "6    Jordan Mickey  Boston Celtics    55.0  Basketball       PF  21.0    6-8   \n",
       "7     Kelly Olynyk  Boston Celtics    41.0  Basketball        C  25.0    7-0   \n",
       "..             ...             ...     ...         ...      ...   ...    ...   \n",
       "449    Rodney Hood       Utah Jazz     5.0  Basketball       SG  23.0    6-8   \n",
       "451  Chris Johnson       Utah Jazz    23.0  Basketball       SF  26.0    6-6   \n",
       "452     Trey Lyles       Utah Jazz    41.0  Basketball       PF  20.0   6-10   \n",
       "453   Shelvin Mack       Utah Jazz     8.0  Basketball       PG  26.0    6-3   \n",
       "456    Jeff Withey       Utah Jazz    24.0  Basketball        C  26.0    7-0   \n",
       "\n",
       "                          Leage  Weight  Weight in Kilo        College  \\\n",
       "0    National Basketball League   180.0       81.646560          Texas   \n",
       "1    National Basketball League   235.0      106.594120      Marquette   \n",
       "3    National Basketball League   185.0       83.914520  Georgia State   \n",
       "6    National Basketball League   235.0      106.594120            LSU   \n",
       "7    National Basketball League   238.0      107.954896        Gonzaga   \n",
       "..                          ...     ...             ...            ...   \n",
       "449  National Basketball League   206.0       93.439952           Duke   \n",
       "451  National Basketball League   206.0       93.439952         Dayton   \n",
       "452  National Basketball League   234.0      106.140528       Kentucky   \n",
       "453  National Basketball League   203.0       92.079176         Butler   \n",
       "456  National Basketball League   231.0      104.779752         Kansas   \n",
       "\n",
       "        Salary  \n",
       "0    7730337.0  \n",
       "1    6796117.0  \n",
       "3    1148640.0  \n",
       "6    1170960.0  \n",
       "7    2165160.0  \n",
       "..         ...  \n",
       "449  1348440.0  \n",
       "451   981348.0  \n",
       "452  2239800.0  \n",
       "453  2433333.0  \n",
       "456   947276.0  \n",
       "\n",
       "[364 rows x 12 columns]"
      ],
      "text/html": "<div>\n<style scoped>\n    .dataframe tbody tr th:only-of-type {\n        vertical-align: middle;\n    }\n\n    .dataframe tbody tr th {\n        vertical-align: top;\n    }\n\n    .dataframe thead th {\n        text-align: right;\n    }\n</style>\n<table border=\"1\" class=\"dataframe\">\n  <thead>\n    <tr style=\"text-align: right;\">\n      <th></th>\n      <th>Name</th>\n      <th>Team</th>\n      <th>Number</th>\n      <th>Sport</th>\n      <th>Position</th>\n      <th>Age</th>\n      <th>Height</th>\n      <th>Leage</th>\n      <th>Weight</th>\n      <th>Weight in Kilo</th>\n      <th>College</th>\n      <th>Salary</th>\n    </tr>\n  </thead>\n  <tbody>\n    <tr>\n      <th>0</th>\n      <td>Avery Bradley</td>\n      <td>Boston Celtics</td>\n      <td>0.0</td>\n      <td>Basketball</td>\n      <td>PG</td>\n      <td>25.0</td>\n      <td>6-2</td>\n      <td>National Basketball League</td>\n      <td>180.0</td>\n      <td>81.646560</td>\n      <td>Texas</td>\n      <td>7730337.0</td>\n    </tr>\n    <tr>\n      <th>1</th>\n      <td>Jae Crowder</td>\n      <td>Boston Celtics</td>\n      <td>99.0</td>\n      <td>Basketball</td>\n      <td>SF</td>\n      <td>25.0</td>\n      <td>6-6</td>\n      <td>National Basketball League</td>\n      <td>235.0</td>\n      <td>106.594120</td>\n      <td>Marquette</td>\n      <td>6796117.0</td>\n    </tr>\n    <tr>\n      <th>3</th>\n      <td>R.J. Hunter</td>\n      <td>Boston Celtics</td>\n      <td>28.0</td>\n      <td>Basketball</td>\n      <td>SG</td>\n      <td>22.0</td>\n      <td>6-5</td>\n      <td>National Basketball League</td>\n      <td>185.0</td>\n      <td>83.914520</td>\n      <td>Georgia State</td>\n      <td>1148640.0</td>\n    </tr>\n    <tr>\n      <th>6</th>\n      <td>Jordan Mickey</td>\n      <td>Boston Celtics</td>\n      <td>55.0</td>\n      <td>Basketball</td>\n      <td>PF</td>\n      <td>21.0</td>\n      <td>6-8</td>\n      <td>National Basketball League</td>\n      <td>235.0</td>\n      <td>106.594120</td>\n      <td>LSU</td>\n      <td>1170960.0</td>\n    </tr>\n    <tr>\n      <th>7</th>\n      <td>Kelly Olynyk</td>\n      <td>Boston Celtics</td>\n      <td>41.0</td>\n      <td>Basketball</td>\n      <td>C</td>\n      <td>25.0</td>\n      <td>7-0</td>\n      <td>National Basketball League</td>\n      <td>238.0</td>\n      <td>107.954896</td>\n      <td>Gonzaga</td>\n      <td>2165160.0</td>\n    </tr>\n    <tr>\n      <th>...</th>\n      <td>...</td>\n      <td>...</td>\n      <td>...</td>\n      <td>...</td>\n      <td>...</td>\n      <td>...</td>\n      <td>...</td>\n      <td>...</td>\n      <td>...</td>\n      <td>...</td>\n      <td>...</td>\n      <td>...</td>\n    </tr>\n    <tr>\n      <th>449</th>\n      <td>Rodney Hood</td>\n      <td>Utah Jazz</td>\n      <td>5.0</td>\n      <td>Basketball</td>\n      <td>SG</td>\n      <td>23.0</td>\n      <td>6-8</td>\n      <td>National Basketball League</td>\n      <td>206.0</td>\n      <td>93.439952</td>\n      <td>Duke</td>\n      <td>1348440.0</td>\n    </tr>\n    <tr>\n      <th>451</th>\n      <td>Chris Johnson</td>\n      <td>Utah Jazz</td>\n      <td>23.0</td>\n      <td>Basketball</td>\n      <td>SF</td>\n      <td>26.0</td>\n      <td>6-6</td>\n      <td>National Basketball League</td>\n      <td>206.0</td>\n      <td>93.439952</td>\n      <td>Dayton</td>\n      <td>981348.0</td>\n    </tr>\n    <tr>\n      <th>452</th>\n      <td>Trey Lyles</td>\n      <td>Utah Jazz</td>\n      <td>41.0</td>\n      <td>Basketball</td>\n      <td>PF</td>\n      <td>20.0</td>\n      <td>6-10</td>\n      <td>National Basketball League</td>\n      <td>234.0</td>\n      <td>106.140528</td>\n      <td>Kentucky</td>\n      <td>2239800.0</td>\n    </tr>\n    <tr>\n      <th>453</th>\n      <td>Shelvin Mack</td>\n      <td>Utah Jazz</td>\n      <td>8.0</td>\n      <td>Basketball</td>\n      <td>PG</td>\n      <td>26.0</td>\n      <td>6-3</td>\n      <td>National Basketball League</td>\n      <td>203.0</td>\n      <td>92.079176</td>\n      <td>Butler</td>\n      <td>2433333.0</td>\n    </tr>\n    <tr>\n      <th>456</th>\n      <td>Jeff Withey</td>\n      <td>Utah Jazz</td>\n      <td>24.0</td>\n      <td>Basketball</td>\n      <td>C</td>\n      <td>26.0</td>\n      <td>7-0</td>\n      <td>National Basketball League</td>\n      <td>231.0</td>\n      <td>104.779752</td>\n      <td>Kansas</td>\n      <td>947276.0</td>\n    </tr>\n  </tbody>\n</table>\n<p>364 rows × 12 columns</p>\n</div>"
     },
     "metadata": {},
     "execution_count": 34
    }
   ],
   "source": [
    "nba.dropna()"
   ]
  },
  {
   "cell_type": "code",
   "execution_count": 35,
   "metadata": {},
   "outputs": [
    {
     "output_type": "execute_result",
     "data": {
      "text/plain": [
       "              Name            Team  Number       Sport Position   Age Height  \\\n",
       "0    Avery Bradley  Boston Celtics     0.0  Basketball       PG  25.0    6-2   \n",
       "1      Jae Crowder  Boston Celtics    99.0  Basketball       SF  25.0    6-6   \n",
       "3      R.J. Hunter  Boston Celtics    28.0  Basketball       SG  22.0    6-5   \n",
       "6    Jordan Mickey  Boston Celtics    55.0  Basketball       PF  21.0    6-8   \n",
       "7     Kelly Olynyk  Boston Celtics    41.0  Basketball        C  25.0    7-0   \n",
       "..             ...             ...     ...         ...      ...   ...    ...   \n",
       "449    Rodney Hood       Utah Jazz     5.0  Basketball       SG  23.0    6-8   \n",
       "451  Chris Johnson       Utah Jazz    23.0  Basketball       SF  26.0    6-6   \n",
       "452     Trey Lyles       Utah Jazz    41.0  Basketball       PF  20.0   6-10   \n",
       "453   Shelvin Mack       Utah Jazz     8.0  Basketball       PG  26.0    6-3   \n",
       "456    Jeff Withey       Utah Jazz    24.0  Basketball        C  26.0    7-0   \n",
       "\n",
       "                          Leage  Weight  Weight in Kilo        College  \\\n",
       "0    National Basketball League   180.0       81.646560          Texas   \n",
       "1    National Basketball League   235.0      106.594120      Marquette   \n",
       "3    National Basketball League   185.0       83.914520  Georgia State   \n",
       "6    National Basketball League   235.0      106.594120            LSU   \n",
       "7    National Basketball League   238.0      107.954896        Gonzaga   \n",
       "..                          ...     ...             ...            ...   \n",
       "449  National Basketball League   206.0       93.439952           Duke   \n",
       "451  National Basketball League   206.0       93.439952         Dayton   \n",
       "452  National Basketball League   234.0      106.140528       Kentucky   \n",
       "453  National Basketball League   203.0       92.079176         Butler   \n",
       "456  National Basketball League   231.0      104.779752         Kansas   \n",
       "\n",
       "        Salary  \n",
       "0    7730337.0  \n",
       "1    6796117.0  \n",
       "3    1148640.0  \n",
       "6    1170960.0  \n",
       "7    2165160.0  \n",
       "..         ...  \n",
       "449  1348440.0  \n",
       "451   981348.0  \n",
       "452  2239800.0  \n",
       "453  2433333.0  \n",
       "456   947276.0  \n",
       "\n",
       "[364 rows x 12 columns]"
      ],
      "text/html": "<div>\n<style scoped>\n    .dataframe tbody tr th:only-of-type {\n        vertical-align: middle;\n    }\n\n    .dataframe tbody tr th {\n        vertical-align: top;\n    }\n\n    .dataframe thead th {\n        text-align: right;\n    }\n</style>\n<table border=\"1\" class=\"dataframe\">\n  <thead>\n    <tr style=\"text-align: right;\">\n      <th></th>\n      <th>Name</th>\n      <th>Team</th>\n      <th>Number</th>\n      <th>Sport</th>\n      <th>Position</th>\n      <th>Age</th>\n      <th>Height</th>\n      <th>Leage</th>\n      <th>Weight</th>\n      <th>Weight in Kilo</th>\n      <th>College</th>\n      <th>Salary</th>\n    </tr>\n  </thead>\n  <tbody>\n    <tr>\n      <th>0</th>\n      <td>Avery Bradley</td>\n      <td>Boston Celtics</td>\n      <td>0.0</td>\n      <td>Basketball</td>\n      <td>PG</td>\n      <td>25.0</td>\n      <td>6-2</td>\n      <td>National Basketball League</td>\n      <td>180.0</td>\n      <td>81.646560</td>\n      <td>Texas</td>\n      <td>7730337.0</td>\n    </tr>\n    <tr>\n      <th>1</th>\n      <td>Jae Crowder</td>\n      <td>Boston Celtics</td>\n      <td>99.0</td>\n      <td>Basketball</td>\n      <td>SF</td>\n      <td>25.0</td>\n      <td>6-6</td>\n      <td>National Basketball League</td>\n      <td>235.0</td>\n      <td>106.594120</td>\n      <td>Marquette</td>\n      <td>6796117.0</td>\n    </tr>\n    <tr>\n      <th>3</th>\n      <td>R.J. Hunter</td>\n      <td>Boston Celtics</td>\n      <td>28.0</td>\n      <td>Basketball</td>\n      <td>SG</td>\n      <td>22.0</td>\n      <td>6-5</td>\n      <td>National Basketball League</td>\n      <td>185.0</td>\n      <td>83.914520</td>\n      <td>Georgia State</td>\n      <td>1148640.0</td>\n    </tr>\n    <tr>\n      <th>6</th>\n      <td>Jordan Mickey</td>\n      <td>Boston Celtics</td>\n      <td>55.0</td>\n      <td>Basketball</td>\n      <td>PF</td>\n      <td>21.0</td>\n      <td>6-8</td>\n      <td>National Basketball League</td>\n      <td>235.0</td>\n      <td>106.594120</td>\n      <td>LSU</td>\n      <td>1170960.0</td>\n    </tr>\n    <tr>\n      <th>7</th>\n      <td>Kelly Olynyk</td>\n      <td>Boston Celtics</td>\n      <td>41.0</td>\n      <td>Basketball</td>\n      <td>C</td>\n      <td>25.0</td>\n      <td>7-0</td>\n      <td>National Basketball League</td>\n      <td>238.0</td>\n      <td>107.954896</td>\n      <td>Gonzaga</td>\n      <td>2165160.0</td>\n    </tr>\n    <tr>\n      <th>...</th>\n      <td>...</td>\n      <td>...</td>\n      <td>...</td>\n      <td>...</td>\n      <td>...</td>\n      <td>...</td>\n      <td>...</td>\n      <td>...</td>\n      <td>...</td>\n      <td>...</td>\n      <td>...</td>\n      <td>...</td>\n    </tr>\n    <tr>\n      <th>449</th>\n      <td>Rodney Hood</td>\n      <td>Utah Jazz</td>\n      <td>5.0</td>\n      <td>Basketball</td>\n      <td>SG</td>\n      <td>23.0</td>\n      <td>6-8</td>\n      <td>National Basketball League</td>\n      <td>206.0</td>\n      <td>93.439952</td>\n      <td>Duke</td>\n      <td>1348440.0</td>\n    </tr>\n    <tr>\n      <th>451</th>\n      <td>Chris Johnson</td>\n      <td>Utah Jazz</td>\n      <td>23.0</td>\n      <td>Basketball</td>\n      <td>SF</td>\n      <td>26.0</td>\n      <td>6-6</td>\n      <td>National Basketball League</td>\n      <td>206.0</td>\n      <td>93.439952</td>\n      <td>Dayton</td>\n      <td>981348.0</td>\n    </tr>\n    <tr>\n      <th>452</th>\n      <td>Trey Lyles</td>\n      <td>Utah Jazz</td>\n      <td>41.0</td>\n      <td>Basketball</td>\n      <td>PF</td>\n      <td>20.0</td>\n      <td>6-10</td>\n      <td>National Basketball League</td>\n      <td>234.0</td>\n      <td>106.140528</td>\n      <td>Kentucky</td>\n      <td>2239800.0</td>\n    </tr>\n    <tr>\n      <th>453</th>\n      <td>Shelvin Mack</td>\n      <td>Utah Jazz</td>\n      <td>8.0</td>\n      <td>Basketball</td>\n      <td>PG</td>\n      <td>26.0</td>\n      <td>6-3</td>\n      <td>National Basketball League</td>\n      <td>203.0</td>\n      <td>92.079176</td>\n      <td>Butler</td>\n      <td>2433333.0</td>\n    </tr>\n    <tr>\n      <th>456</th>\n      <td>Jeff Withey</td>\n      <td>Utah Jazz</td>\n      <td>24.0</td>\n      <td>Basketball</td>\n      <td>C</td>\n      <td>26.0</td>\n      <td>7-0</td>\n      <td>National Basketball League</td>\n      <td>231.0</td>\n      <td>104.779752</td>\n      <td>Kansas</td>\n      <td>947276.0</td>\n    </tr>\n  </tbody>\n</table>\n<p>364 rows × 12 columns</p>\n</div>"
     },
     "metadata": {},
     "execution_count": 35
    }
   ],
   "source": [
    "nba.dropna(subset=[\"Salary\",\"College\"])"
   ]
  },
  {
   "cell_type": "code",
   "execution_count": 36,
   "metadata": {},
   "outputs": [
    {
     "output_type": "execute_result",
     "data": {
      "text/plain": [
       "            Name            Team  Number Position   Age Height  Weight  \\\n",
       "0  Avery Bradley  Boston Celtics     0.0       PG  25.0    6-2   180.0   \n",
       "1    Jae Crowder  Boston Celtics    99.0       SF  25.0    6-6   235.0   \n",
       "2   John Holland  Boston Celtics    30.0       SG  27.0    6-5   205.0   \n",
       "3    R.J. Hunter  Boston Celtics    28.0       SG  22.0    6-5   185.0   \n",
       "4  Jonas Jerebko  Boston Celtics     8.0       PF  29.0   6-10   231.0   \n",
       "\n",
       "             College     Salary  \n",
       "0              Texas  7730337.0  \n",
       "1          Marquette  6796117.0  \n",
       "2  Boston University        NaN  \n",
       "3      Georgia State  1148640.0  \n",
       "4                NaN  5000000.0  "
      ],
      "text/html": "<div>\n<style scoped>\n    .dataframe tbody tr th:only-of-type {\n        vertical-align: middle;\n    }\n\n    .dataframe tbody tr th {\n        vertical-align: top;\n    }\n\n    .dataframe thead th {\n        text-align: right;\n    }\n</style>\n<table border=\"1\" class=\"dataframe\">\n  <thead>\n    <tr style=\"text-align: right;\">\n      <th></th>\n      <th>Name</th>\n      <th>Team</th>\n      <th>Number</th>\n      <th>Position</th>\n      <th>Age</th>\n      <th>Height</th>\n      <th>Weight</th>\n      <th>College</th>\n      <th>Salary</th>\n    </tr>\n  </thead>\n  <tbody>\n    <tr>\n      <th>0</th>\n      <td>Avery Bradley</td>\n      <td>Boston Celtics</td>\n      <td>0.0</td>\n      <td>PG</td>\n      <td>25.0</td>\n      <td>6-2</td>\n      <td>180.0</td>\n      <td>Texas</td>\n      <td>7730337.0</td>\n    </tr>\n    <tr>\n      <th>1</th>\n      <td>Jae Crowder</td>\n      <td>Boston Celtics</td>\n      <td>99.0</td>\n      <td>SF</td>\n      <td>25.0</td>\n      <td>6-6</td>\n      <td>235.0</td>\n      <td>Marquette</td>\n      <td>6796117.0</td>\n    </tr>\n    <tr>\n      <th>2</th>\n      <td>John Holland</td>\n      <td>Boston Celtics</td>\n      <td>30.0</td>\n      <td>SG</td>\n      <td>27.0</td>\n      <td>6-5</td>\n      <td>205.0</td>\n      <td>Boston University</td>\n      <td>NaN</td>\n    </tr>\n    <tr>\n      <th>3</th>\n      <td>R.J. Hunter</td>\n      <td>Boston Celtics</td>\n      <td>28.0</td>\n      <td>SG</td>\n      <td>22.0</td>\n      <td>6-5</td>\n      <td>185.0</td>\n      <td>Georgia State</td>\n      <td>1148640.0</td>\n    </tr>\n    <tr>\n      <th>4</th>\n      <td>Jonas Jerebko</td>\n      <td>Boston Celtics</td>\n      <td>8.0</td>\n      <td>PF</td>\n      <td>29.0</td>\n      <td>6-10</td>\n      <td>231.0</td>\n      <td>NaN</td>\n      <td>5000000.0</td>\n    </tr>\n  </tbody>\n</table>\n</div>"
     },
     "metadata": {},
     "execution_count": 36
    }
   ],
   "source": [
    "nba = pd.read_csv(\"../Files/nba.csv\")\n",
    "nba.head()"
   ]
  },
  {
   "cell_type": "code",
   "execution_count": 37,
   "metadata": {},
   "outputs": [],
   "source": [
    "nba['Salary'].fillna(0, inplace=True)"
   ]
  },
  {
   "cell_type": "code",
   "execution_count": 38,
   "metadata": {},
   "outputs": [],
   "source": [
    "nba['College'].fillna('No College', inplace=True)"
   ]
  },
  {
   "cell_type": "code",
   "execution_count": 39,
   "metadata": {},
   "outputs": [
    {
     "output_type": "execute_result",
     "data": {
      "text/plain": [
       "            Name            Team  Number Position   Age Height  Weight  \\\n",
       "0  Avery Bradley  Boston Celtics     0.0       PG  25.0    6-2   180.0   \n",
       "1    Jae Crowder  Boston Celtics    99.0       SF  25.0    6-6   235.0   \n",
       "2   John Holland  Boston Celtics    30.0       SG  27.0    6-5   205.0   \n",
       "3    R.J. Hunter  Boston Celtics    28.0       SG  22.0    6-5   185.0   \n",
       "4  Jonas Jerebko  Boston Celtics     8.0       PF  29.0   6-10   231.0   \n",
       "\n",
       "             College     Salary  \n",
       "0              Texas  7730337.0  \n",
       "1          Marquette  6796117.0  \n",
       "2  Boston University        0.0  \n",
       "3      Georgia State  1148640.0  \n",
       "4               None  5000000.0  "
      ],
      "text/html": "<div>\n<style scoped>\n    .dataframe tbody tr th:only-of-type {\n        vertical-align: middle;\n    }\n\n    .dataframe tbody tr th {\n        vertical-align: top;\n    }\n\n    .dataframe thead th {\n        text-align: right;\n    }\n</style>\n<table border=\"1\" class=\"dataframe\">\n  <thead>\n    <tr style=\"text-align: right;\">\n      <th></th>\n      <th>Name</th>\n      <th>Team</th>\n      <th>Number</th>\n      <th>Position</th>\n      <th>Age</th>\n      <th>Height</th>\n      <th>Weight</th>\n      <th>College</th>\n      <th>Salary</th>\n    </tr>\n  </thead>\n  <tbody>\n    <tr>\n      <th>0</th>\n      <td>Avery Bradley</td>\n      <td>Boston Celtics</td>\n      <td>0.0</td>\n      <td>PG</td>\n      <td>25.0</td>\n      <td>6-2</td>\n      <td>180.0</td>\n      <td>Texas</td>\n      <td>7730337.0</td>\n    </tr>\n    <tr>\n      <th>1</th>\n      <td>Jae Crowder</td>\n      <td>Boston Celtics</td>\n      <td>99.0</td>\n      <td>SF</td>\n      <td>25.0</td>\n      <td>6-6</td>\n      <td>235.0</td>\n      <td>Marquette</td>\n      <td>6796117.0</td>\n    </tr>\n    <tr>\n      <th>2</th>\n      <td>John Holland</td>\n      <td>Boston Celtics</td>\n      <td>30.0</td>\n      <td>SG</td>\n      <td>27.0</td>\n      <td>6-5</td>\n      <td>205.0</td>\n      <td>Boston University</td>\n      <td>0.0</td>\n    </tr>\n    <tr>\n      <th>3</th>\n      <td>R.J. Hunter</td>\n      <td>Boston Celtics</td>\n      <td>28.0</td>\n      <td>SG</td>\n      <td>22.0</td>\n      <td>6-5</td>\n      <td>185.0</td>\n      <td>Georgia State</td>\n      <td>1148640.0</td>\n    </tr>\n    <tr>\n      <th>4</th>\n      <td>Jonas Jerebko</td>\n      <td>Boston Celtics</td>\n      <td>8.0</td>\n      <td>PF</td>\n      <td>29.0</td>\n      <td>6-10</td>\n      <td>231.0</td>\n      <td>None</td>\n      <td>5000000.0</td>\n    </tr>\n  </tbody>\n</table>\n</div>"
     },
     "metadata": {},
     "execution_count": 39
    }
   ],
   "source": [
    "nba = pd.read_csv(\"../Files/nba.csv\").dropna(how=\"all\")\n",
    "nba['Salary'].fillna(0, inplace=True)\n",
    "nba['College'].fillna('None', inplace=True)\n",
    "nba.head()"
   ]
  },
  {
   "cell_type": "code",
   "execution_count": 40,
   "metadata": {},
   "outputs": [
    {
     "output_type": "execute_result",
     "data": {
      "text/plain": [
       "Name         object\n",
       "Team         object\n",
       "Number      float64\n",
       "Position     object\n",
       "Age         float64\n",
       "Height       object\n",
       "Weight      float64\n",
       "College      object\n",
       "Salary      float64\n",
       "dtype: object"
      ]
     },
     "metadata": {},
     "execution_count": 40
    }
   ],
   "source": [
    "nba.dtypes"
   ]
  },
  {
   "cell_type": "code",
   "execution_count": 41,
   "metadata": {},
   "outputs": [
    {
     "output_type": "stream",
     "name": "stdout",
     "text": [
      "<class 'pandas.core.frame.DataFrame'>\nInt64Index: 457 entries, 0 to 456\nData columns (total 9 columns):\n #   Column    Non-Null Count  Dtype  \n---  ------    --------------  -----  \n 0   Name      457 non-null    object \n 1   Team      457 non-null    object \n 2   Number    457 non-null    float64\n 3   Position  457 non-null    object \n 4   Age       457 non-null    float64\n 5   Height    457 non-null    object \n 6   Weight    457 non-null    float64\n 7   College   457 non-null    object \n 8   Salary    457 non-null    float64\ndtypes: float64(4), object(5)\nmemory usage: 35.7+ KB\n"
     ]
    }
   ],
   "source": [
    "nba.info()"
   ]
  },
  {
   "cell_type": "code",
   "execution_count": 42,
   "metadata": {},
   "outputs": [],
   "source": [
    "nba['Salary'] = nba['Salary'].astype(\"int\")\n",
    "nba['Age'] = nba['Age'].astype(\"int\")\n",
    "nba['Number'] = nba['Number'].astype(\"int\")"
   ]
  },
  {
   "cell_type": "code",
   "execution_count": 43,
   "metadata": {},
   "outputs": [
    {
     "output_type": "stream",
     "name": "stdout",
     "text": [
      "<class 'pandas.core.frame.DataFrame'>\nInt64Index: 457 entries, 0 to 456\nData columns (total 9 columns):\n #   Column    Non-Null Count  Dtype  \n---  ------    --------------  -----  \n 0   Name      457 non-null    object \n 1   Team      457 non-null    object \n 2   Number    457 non-null    int64  \n 3   Position  457 non-null    object \n 4   Age       457 non-null    int64  \n 5   Height    457 non-null    object \n 6   Weight    457 non-null    float64\n 7   College   457 non-null    object \n 8   Salary    457 non-null    int64  \ndtypes: float64(1), int64(3), object(5)\nmemory usage: 35.7+ KB\n"
     ]
    }
   ],
   "source": [
    "nba.info()"
   ]
  },
  {
   "cell_type": "code",
   "execution_count": 44,
   "metadata": {},
   "outputs": [
    {
     "output_type": "execute_result",
     "data": {
      "text/plain": [
       "            Name            Team  Number Position  Age Height  Weight  \\\n",
       "0  Avery Bradley  Boston Celtics       0       PG   25    6-2   180.0   \n",
       "1    Jae Crowder  Boston Celtics      99       SF   25    6-6   235.0   \n",
       "2   John Holland  Boston Celtics      30       SG   27    6-5   205.0   \n",
       "\n",
       "             College   Salary  \n",
       "0              Texas  7730337  \n",
       "1          Marquette  6796117  \n",
       "2  Boston University        0  "
      ],
      "text/html": "<div>\n<style scoped>\n    .dataframe tbody tr th:only-of-type {\n        vertical-align: middle;\n    }\n\n    .dataframe tbody tr th {\n        vertical-align: top;\n    }\n\n    .dataframe thead th {\n        text-align: right;\n    }\n</style>\n<table border=\"1\" class=\"dataframe\">\n  <thead>\n    <tr style=\"text-align: right;\">\n      <th></th>\n      <th>Name</th>\n      <th>Team</th>\n      <th>Number</th>\n      <th>Position</th>\n      <th>Age</th>\n      <th>Height</th>\n      <th>Weight</th>\n      <th>College</th>\n      <th>Salary</th>\n    </tr>\n  </thead>\n  <tbody>\n    <tr>\n      <th>0</th>\n      <td>Avery Bradley</td>\n      <td>Boston Celtics</td>\n      <td>0</td>\n      <td>PG</td>\n      <td>25</td>\n      <td>6-2</td>\n      <td>180.0</td>\n      <td>Texas</td>\n      <td>7730337</td>\n    </tr>\n    <tr>\n      <th>1</th>\n      <td>Jae Crowder</td>\n      <td>Boston Celtics</td>\n      <td>99</td>\n      <td>SF</td>\n      <td>25</td>\n      <td>6-6</td>\n      <td>235.0</td>\n      <td>Marquette</td>\n      <td>6796117</td>\n    </tr>\n    <tr>\n      <th>2</th>\n      <td>John Holland</td>\n      <td>Boston Celtics</td>\n      <td>30</td>\n      <td>SG</td>\n      <td>27</td>\n      <td>6-5</td>\n      <td>205.0</td>\n      <td>Boston University</td>\n      <td>0</td>\n    </tr>\n  </tbody>\n</table>\n</div>"
     },
     "metadata": {},
     "execution_count": 44
    }
   ],
   "source": [
    "nba.head(3)"
   ]
  },
  {
   "cell_type": "code",
   "execution_count": 45,
   "metadata": {},
   "outputs": [
    {
     "output_type": "execute_result",
     "data": {
      "text/plain": [
       "5"
      ]
     },
     "metadata": {},
     "execution_count": 45
    }
   ],
   "source": [
    "nba['Position'].nunique()"
   ]
  },
  {
   "cell_type": "code",
   "execution_count": 46,
   "metadata": {},
   "outputs": [],
   "source": [
    "nba[\"position\"] = nba['Position'].astype(\"category\")\n",
    "nba[\"Team\"] = nba['Team'].astype(\"category\")"
   ]
  },
  {
   "cell_type": "code",
   "execution_count": 47,
   "metadata": {},
   "outputs": [
    {
     "output_type": "stream",
     "name": "stdout",
     "text": [
      "<class 'pandas.core.frame.DataFrame'>\nInt64Index: 457 entries, 0 to 456\nData columns (total 10 columns):\n #   Column    Non-Null Count  Dtype   \n---  ------    --------------  -----   \n 0   Name      457 non-null    object  \n 1   Team      457 non-null    category\n 2   Number    457 non-null    int64   \n 3   Position  457 non-null    object  \n 4   Age       457 non-null    int64   \n 5   Height    457 non-null    object  \n 6   Weight    457 non-null    float64 \n 7   College   457 non-null    object  \n 8   Salary    457 non-null    int64   \n 9   position  457 non-null    category\ndtypes: category(2), float64(1), int64(3), object(4)\nmemory usage: 34.7+ KB\n"
     ]
    }
   ],
   "source": [
    "nba.info()"
   ]
  },
  {
   "cell_type": "code",
   "execution_count": 48,
   "metadata": {},
   "outputs": [],
   "source": [
    "# Sort a Dataframe with the .sort_values() Method\n",
    "nba = pd.read_csv(\"../Files/nba.csv\")"
   ]
  },
  {
   "cell_type": "code",
   "execution_count": 49,
   "metadata": {},
   "outputs": [
    {
     "output_type": "execute_result",
     "data": {
      "text/plain": [
       "               Name                    Team  Number Position   Age Height  \\\n",
       "304    Andre Miller       San Antonio Spurs    24.0       PG  40.0    6-3   \n",
       "400   Kevin Garnett  Minnesota Timberwolves    21.0       PF  40.0   6-11   \n",
       "298      Tim Duncan       San Antonio Spurs    21.0        C  40.0   6-11   \n",
       "261    Vince Carter       Memphis Grizzlies    15.0       SG  39.0    6-6   \n",
       "102  Pablo Prigioni    Los Angeles Clippers     9.0       PG  39.0    6-3   \n",
       "..              ...                     ...     ...      ...   ...    ...   \n",
       "401      Tyus Jones  Minnesota Timberwolves     1.0       PG  20.0    6-2   \n",
       "60   Christian Wood      Philadelphia 76ers    35.0       PF  20.0   6-11   \n",
       "226   Rashad Vaughn         Milwaukee Bucks    20.0       SG  19.0    6-6   \n",
       "122    Devin Booker            Phoenix Suns     1.0       SG  19.0    6-6   \n",
       "457             NaN                     NaN     NaN      NaN   NaN    NaN   \n",
       "\n",
       "     Weight         College     Salary  \n",
       "304   200.0            Utah   250750.0  \n",
       "400   240.0             NaN  8500000.0  \n",
       "298   250.0     Wake Forest  5250000.0  \n",
       "261   220.0  North Carolina  4088019.0  \n",
       "102   185.0             NaN   947726.0  \n",
       "..      ...             ...        ...  \n",
       "401   195.0            Duke  1282080.0  \n",
       "60    220.0            UNLV   525093.0  \n",
       "226   202.0            UNLV  1733040.0  \n",
       "122   206.0        Kentucky  2127840.0  \n",
       "457     NaN             NaN        NaN  \n",
       "\n",
       "[458 rows x 9 columns]"
      ],
      "text/html": "<div>\n<style scoped>\n    .dataframe tbody tr th:only-of-type {\n        vertical-align: middle;\n    }\n\n    .dataframe tbody tr th {\n        vertical-align: top;\n    }\n\n    .dataframe thead th {\n        text-align: right;\n    }\n</style>\n<table border=\"1\" class=\"dataframe\">\n  <thead>\n    <tr style=\"text-align: right;\">\n      <th></th>\n      <th>Name</th>\n      <th>Team</th>\n      <th>Number</th>\n      <th>Position</th>\n      <th>Age</th>\n      <th>Height</th>\n      <th>Weight</th>\n      <th>College</th>\n      <th>Salary</th>\n    </tr>\n  </thead>\n  <tbody>\n    <tr>\n      <th>304</th>\n      <td>Andre Miller</td>\n      <td>San Antonio Spurs</td>\n      <td>24.0</td>\n      <td>PG</td>\n      <td>40.0</td>\n      <td>6-3</td>\n      <td>200.0</td>\n      <td>Utah</td>\n      <td>250750.0</td>\n    </tr>\n    <tr>\n      <th>400</th>\n      <td>Kevin Garnett</td>\n      <td>Minnesota Timberwolves</td>\n      <td>21.0</td>\n      <td>PF</td>\n      <td>40.0</td>\n      <td>6-11</td>\n      <td>240.0</td>\n      <td>NaN</td>\n      <td>8500000.0</td>\n    </tr>\n    <tr>\n      <th>298</th>\n      <td>Tim Duncan</td>\n      <td>San Antonio Spurs</td>\n      <td>21.0</td>\n      <td>C</td>\n      <td>40.0</td>\n      <td>6-11</td>\n      <td>250.0</td>\n      <td>Wake Forest</td>\n      <td>5250000.0</td>\n    </tr>\n    <tr>\n      <th>261</th>\n      <td>Vince Carter</td>\n      <td>Memphis Grizzlies</td>\n      <td>15.0</td>\n      <td>SG</td>\n      <td>39.0</td>\n      <td>6-6</td>\n      <td>220.0</td>\n      <td>North Carolina</td>\n      <td>4088019.0</td>\n    </tr>\n    <tr>\n      <th>102</th>\n      <td>Pablo Prigioni</td>\n      <td>Los Angeles Clippers</td>\n      <td>9.0</td>\n      <td>PG</td>\n      <td>39.0</td>\n      <td>6-3</td>\n      <td>185.0</td>\n      <td>NaN</td>\n      <td>947726.0</td>\n    </tr>\n    <tr>\n      <th>...</th>\n      <td>...</td>\n      <td>...</td>\n      <td>...</td>\n      <td>...</td>\n      <td>...</td>\n      <td>...</td>\n      <td>...</td>\n      <td>...</td>\n      <td>...</td>\n    </tr>\n    <tr>\n      <th>401</th>\n      <td>Tyus Jones</td>\n      <td>Minnesota Timberwolves</td>\n      <td>1.0</td>\n      <td>PG</td>\n      <td>20.0</td>\n      <td>6-2</td>\n      <td>195.0</td>\n      <td>Duke</td>\n      <td>1282080.0</td>\n    </tr>\n    <tr>\n      <th>60</th>\n      <td>Christian Wood</td>\n      <td>Philadelphia 76ers</td>\n      <td>35.0</td>\n      <td>PF</td>\n      <td>20.0</td>\n      <td>6-11</td>\n      <td>220.0</td>\n      <td>UNLV</td>\n      <td>525093.0</td>\n    </tr>\n    <tr>\n      <th>226</th>\n      <td>Rashad Vaughn</td>\n      <td>Milwaukee Bucks</td>\n      <td>20.0</td>\n      <td>SG</td>\n      <td>19.0</td>\n      <td>6-6</td>\n      <td>202.0</td>\n      <td>UNLV</td>\n      <td>1733040.0</td>\n    </tr>\n    <tr>\n      <th>122</th>\n      <td>Devin Booker</td>\n      <td>Phoenix Suns</td>\n      <td>1.0</td>\n      <td>SG</td>\n      <td>19.0</td>\n      <td>6-6</td>\n      <td>206.0</td>\n      <td>Kentucky</td>\n      <td>2127840.0</td>\n    </tr>\n    <tr>\n      <th>457</th>\n      <td>NaN</td>\n      <td>NaN</td>\n      <td>NaN</td>\n      <td>NaN</td>\n      <td>NaN</td>\n      <td>NaN</td>\n      <td>NaN</td>\n      <td>NaN</td>\n      <td>NaN</td>\n    </tr>\n  </tbody>\n</table>\n<p>458 rows × 9 columns</p>\n</div>"
     },
     "metadata": {},
     "execution_count": 49
    }
   ],
   "source": [
    "nba.sort_values(\"Name\", ascending=False)\n",
    "nba.sort_values(\"Age\", ascending=False)\n"
   ]
  },
  {
   "cell_type": "code",
   "execution_count": 50,
   "metadata": {},
   "outputs": [
    {
     "output_type": "execute_result",
     "data": {
      "text/plain": [
       "                       Name                  Team  Number Position   Age  \\\n",
       "2              John Holland        Boston Celtics    30.0       SG  27.0   \n",
       "46              Elton Brand    Philadelphia 76ers    42.0       PF  37.0   \n",
       "171           Dahntay Jones   Cleveland Cavaliers    30.0       SG  35.0   \n",
       "264           Jordan Farmar     Memphis Grizzlies     4.0       PG  29.0   \n",
       "269            Ray McCallum     Memphis Grizzlies     5.0       PG  24.0   \n",
       "..                      ...                   ...     ...      ...   ...   \n",
       "175            Jordan McRae   Cleveland Cavaliers    12.0       SG  25.0   \n",
       "135           Alan Williams          Phoenix Suns    15.0        C  23.0   \n",
       "291         Orlando Johnson  New Orleans Pelicans     0.0       SG  27.0   \n",
       "130            Phil Pressey          Phoenix Suns    25.0       PG  25.0   \n",
       "32   Thanasis Antetokounmpo       New York Knicks    43.0       SF  23.0   \n",
       "\n",
       "    Height  Weight            College    Salary  \n",
       "2      6-5   205.0  Boston University       NaN  \n",
       "46     6-9   254.0               Duke       NaN  \n",
       "171    6-6   225.0               Duke       NaN  \n",
       "264    6-2   180.0               UCLA       NaN  \n",
       "269    6-3   190.0            Detroit       NaN  \n",
       "..     ...     ...                ...       ...  \n",
       "175    6-5   179.0          Tennessee  111196.0  \n",
       "135    6-8   260.0   UC Santa Barbara   83397.0  \n",
       "291    6-5   220.0   UC Santa Barbara   55722.0  \n",
       "130   5-11   175.0           Missouri   55722.0  \n",
       "32     6-7   205.0                NaN   30888.0  \n",
       "\n",
       "[458 rows x 9 columns]"
      ],
      "text/html": "<div>\n<style scoped>\n    .dataframe tbody tr th:only-of-type {\n        vertical-align: middle;\n    }\n\n    .dataframe tbody tr th {\n        vertical-align: top;\n    }\n\n    .dataframe thead th {\n        text-align: right;\n    }\n</style>\n<table border=\"1\" class=\"dataframe\">\n  <thead>\n    <tr style=\"text-align: right;\">\n      <th></th>\n      <th>Name</th>\n      <th>Team</th>\n      <th>Number</th>\n      <th>Position</th>\n      <th>Age</th>\n      <th>Height</th>\n      <th>Weight</th>\n      <th>College</th>\n      <th>Salary</th>\n    </tr>\n  </thead>\n  <tbody>\n    <tr>\n      <th>2</th>\n      <td>John Holland</td>\n      <td>Boston Celtics</td>\n      <td>30.0</td>\n      <td>SG</td>\n      <td>27.0</td>\n      <td>6-5</td>\n      <td>205.0</td>\n      <td>Boston University</td>\n      <td>NaN</td>\n    </tr>\n    <tr>\n      <th>46</th>\n      <td>Elton Brand</td>\n      <td>Philadelphia 76ers</td>\n      <td>42.0</td>\n      <td>PF</td>\n      <td>37.0</td>\n      <td>6-9</td>\n      <td>254.0</td>\n      <td>Duke</td>\n      <td>NaN</td>\n    </tr>\n    <tr>\n      <th>171</th>\n      <td>Dahntay Jones</td>\n      <td>Cleveland Cavaliers</td>\n      <td>30.0</td>\n      <td>SG</td>\n      <td>35.0</td>\n      <td>6-6</td>\n      <td>225.0</td>\n      <td>Duke</td>\n      <td>NaN</td>\n    </tr>\n    <tr>\n      <th>264</th>\n      <td>Jordan Farmar</td>\n      <td>Memphis Grizzlies</td>\n      <td>4.0</td>\n      <td>PG</td>\n      <td>29.0</td>\n      <td>6-2</td>\n      <td>180.0</td>\n      <td>UCLA</td>\n      <td>NaN</td>\n    </tr>\n    <tr>\n      <th>269</th>\n      <td>Ray McCallum</td>\n      <td>Memphis Grizzlies</td>\n      <td>5.0</td>\n      <td>PG</td>\n      <td>24.0</td>\n      <td>6-3</td>\n      <td>190.0</td>\n      <td>Detroit</td>\n      <td>NaN</td>\n    </tr>\n    <tr>\n      <th>...</th>\n      <td>...</td>\n      <td>...</td>\n      <td>...</td>\n      <td>...</td>\n      <td>...</td>\n      <td>...</td>\n      <td>...</td>\n      <td>...</td>\n      <td>...</td>\n    </tr>\n    <tr>\n      <th>175</th>\n      <td>Jordan McRae</td>\n      <td>Cleveland Cavaliers</td>\n      <td>12.0</td>\n      <td>SG</td>\n      <td>25.0</td>\n      <td>6-5</td>\n      <td>179.0</td>\n      <td>Tennessee</td>\n      <td>111196.0</td>\n    </tr>\n    <tr>\n      <th>135</th>\n      <td>Alan Williams</td>\n      <td>Phoenix Suns</td>\n      <td>15.0</td>\n      <td>C</td>\n      <td>23.0</td>\n      <td>6-8</td>\n      <td>260.0</td>\n      <td>UC Santa Barbara</td>\n      <td>83397.0</td>\n    </tr>\n    <tr>\n      <th>291</th>\n      <td>Orlando Johnson</td>\n      <td>New Orleans Pelicans</td>\n      <td>0.0</td>\n      <td>SG</td>\n      <td>27.0</td>\n      <td>6-5</td>\n      <td>220.0</td>\n      <td>UC Santa Barbara</td>\n      <td>55722.0</td>\n    </tr>\n    <tr>\n      <th>130</th>\n      <td>Phil Pressey</td>\n      <td>Phoenix Suns</td>\n      <td>25.0</td>\n      <td>PG</td>\n      <td>25.0</td>\n      <td>5-11</td>\n      <td>175.0</td>\n      <td>Missouri</td>\n      <td>55722.0</td>\n    </tr>\n    <tr>\n      <th>32</th>\n      <td>Thanasis Antetokounmpo</td>\n      <td>New York Knicks</td>\n      <td>43.0</td>\n      <td>SF</td>\n      <td>23.0</td>\n      <td>6-7</td>\n      <td>205.0</td>\n      <td>NaN</td>\n      <td>30888.0</td>\n    </tr>\n  </tbody>\n</table>\n<p>458 rows × 9 columns</p>\n</div>"
     },
     "metadata": {},
     "execution_count": 50
    }
   ],
   "source": [
    "nba.sort_values(\"Salary\", ascending=False,na_position=\"first\")"
   ]
  },
  {
   "cell_type": "code",
   "execution_count": 51,
   "metadata": {},
   "outputs": [],
   "source": [
    "# Sort a Dataframe with the sort_values() Methods"
   ]
  },
  {
   "cell_type": "code",
   "execution_count": 52,
   "metadata": {},
   "outputs": [],
   "source": [
    "nba.sort_values([\"Team\",\"Name\"], ascending=[True,False], inplace=True)"
   ]
  },
  {
   "cell_type": "code",
   "execution_count": 53,
   "metadata": {},
   "outputs": [
    {
     "output_type": "execute_result",
     "data": {
      "text/plain": [
       "                 Name           Team  Number Position   Age Height  Weight  \\\n",
       "322    Walter Tavares  Atlanta Hawks    22.0        C  24.0    7-3   260.0   \n",
       "310  Tim Hardaway Jr.  Atlanta Hawks    10.0       SG  24.0    6-6   205.0   \n",
       "321    Tiago Splitter  Atlanta Hawks    11.0        C  31.0   6-11   245.0   \n",
       "320   Thabo Sefolosha  Atlanta Hawks    25.0       SF  32.0    6-7   220.0   \n",
       "315      Paul Millsap  Atlanta Hawks     4.0       PF  31.0    6-8   246.0   \n",
       "\n",
       "            College      Salary  \n",
       "322             NaN   1000000.0  \n",
       "310        Michigan   1304520.0  \n",
       "321             NaN   9756250.0  \n",
       "320             NaN   4000000.0  \n",
       "315  Louisiana Tech  18671659.0  "
      ],
      "text/html": "<div>\n<style scoped>\n    .dataframe tbody tr th:only-of-type {\n        vertical-align: middle;\n    }\n\n    .dataframe tbody tr th {\n        vertical-align: top;\n    }\n\n    .dataframe thead th {\n        text-align: right;\n    }\n</style>\n<table border=\"1\" class=\"dataframe\">\n  <thead>\n    <tr style=\"text-align: right;\">\n      <th></th>\n      <th>Name</th>\n      <th>Team</th>\n      <th>Number</th>\n      <th>Position</th>\n      <th>Age</th>\n      <th>Height</th>\n      <th>Weight</th>\n      <th>College</th>\n      <th>Salary</th>\n    </tr>\n  </thead>\n  <tbody>\n    <tr>\n      <th>322</th>\n      <td>Walter Tavares</td>\n      <td>Atlanta Hawks</td>\n      <td>22.0</td>\n      <td>C</td>\n      <td>24.0</td>\n      <td>7-3</td>\n      <td>260.0</td>\n      <td>NaN</td>\n      <td>1000000.0</td>\n    </tr>\n    <tr>\n      <th>310</th>\n      <td>Tim Hardaway Jr.</td>\n      <td>Atlanta Hawks</td>\n      <td>10.0</td>\n      <td>SG</td>\n      <td>24.0</td>\n      <td>6-6</td>\n      <td>205.0</td>\n      <td>Michigan</td>\n      <td>1304520.0</td>\n    </tr>\n    <tr>\n      <th>321</th>\n      <td>Tiago Splitter</td>\n      <td>Atlanta Hawks</td>\n      <td>11.0</td>\n      <td>C</td>\n      <td>31.0</td>\n      <td>6-11</td>\n      <td>245.0</td>\n      <td>NaN</td>\n      <td>9756250.0</td>\n    </tr>\n    <tr>\n      <th>320</th>\n      <td>Thabo Sefolosha</td>\n      <td>Atlanta Hawks</td>\n      <td>25.0</td>\n      <td>SF</td>\n      <td>32.0</td>\n      <td>6-7</td>\n      <td>220.0</td>\n      <td>NaN</td>\n      <td>4000000.0</td>\n    </tr>\n    <tr>\n      <th>315</th>\n      <td>Paul Millsap</td>\n      <td>Atlanta Hawks</td>\n      <td>4.0</td>\n      <td>PF</td>\n      <td>31.0</td>\n      <td>6-8</td>\n      <td>246.0</td>\n      <td>Louisiana Tech</td>\n      <td>18671659.0</td>\n    </tr>\n  </tbody>\n</table>\n</div>"
     },
     "metadata": {},
     "execution_count": 53
    }
   ],
   "source": [
    "nba.head()"
   ]
  },
  {
   "cell_type": "code",
   "execution_count": 54,
   "metadata": {},
   "outputs": [
    {
     "output_type": "execute_result",
     "data": {
      "text/plain": [
       "              Name            Team  Number Position   Age Height  Weight  \\\n",
       "457            NaN             NaN     NaN      NaN   NaN    NaN     NaN   \n",
       "456    Jeff Withey       Utah Jazz    24.0        C  26.0    7-0   231.0   \n",
       "455   Tibor Pleiss       Utah Jazz    21.0        C  26.0    7-3   256.0   \n",
       "454      Raul Neto       Utah Jazz    25.0       PG  24.0    6-1   179.0   \n",
       "453   Shelvin Mack       Utah Jazz     8.0       PG  26.0    6-3   203.0   \n",
       "..             ...             ...     ...      ...   ...    ...     ...   \n",
       "4    Jonas Jerebko  Boston Celtics     8.0       PF  29.0   6-10   231.0   \n",
       "3      R.J. Hunter  Boston Celtics    28.0       SG  22.0    6-5   185.0   \n",
       "2     John Holland  Boston Celtics    30.0       SG  27.0    6-5   205.0   \n",
       "1      Jae Crowder  Boston Celtics    99.0       SF  25.0    6-6   235.0   \n",
       "0    Avery Bradley  Boston Celtics     0.0       PG  25.0    6-2   180.0   \n",
       "\n",
       "               College     Salary  \n",
       "457                NaN        NaN  \n",
       "456             Kansas   947276.0  \n",
       "455                NaN  2900000.0  \n",
       "454                NaN   900000.0  \n",
       "453             Butler  2433333.0  \n",
       "..                 ...        ...  \n",
       "4                  NaN  5000000.0  \n",
       "3        Georgia State  1148640.0  \n",
       "2    Boston University        NaN  \n",
       "1            Marquette  6796117.0  \n",
       "0                Texas  7730337.0  \n",
       "\n",
       "[458 rows x 9 columns]"
      ],
      "text/html": "<div>\n<style scoped>\n    .dataframe tbody tr th:only-of-type {\n        vertical-align: middle;\n    }\n\n    .dataframe tbody tr th {\n        vertical-align: top;\n    }\n\n    .dataframe thead th {\n        text-align: right;\n    }\n</style>\n<table border=\"1\" class=\"dataframe\">\n  <thead>\n    <tr style=\"text-align: right;\">\n      <th></th>\n      <th>Name</th>\n      <th>Team</th>\n      <th>Number</th>\n      <th>Position</th>\n      <th>Age</th>\n      <th>Height</th>\n      <th>Weight</th>\n      <th>College</th>\n      <th>Salary</th>\n    </tr>\n  </thead>\n  <tbody>\n    <tr>\n      <th>457</th>\n      <td>NaN</td>\n      <td>NaN</td>\n      <td>NaN</td>\n      <td>NaN</td>\n      <td>NaN</td>\n      <td>NaN</td>\n      <td>NaN</td>\n      <td>NaN</td>\n      <td>NaN</td>\n    </tr>\n    <tr>\n      <th>456</th>\n      <td>Jeff Withey</td>\n      <td>Utah Jazz</td>\n      <td>24.0</td>\n      <td>C</td>\n      <td>26.0</td>\n      <td>7-0</td>\n      <td>231.0</td>\n      <td>Kansas</td>\n      <td>947276.0</td>\n    </tr>\n    <tr>\n      <th>455</th>\n      <td>Tibor Pleiss</td>\n      <td>Utah Jazz</td>\n      <td>21.0</td>\n      <td>C</td>\n      <td>26.0</td>\n      <td>7-3</td>\n      <td>256.0</td>\n      <td>NaN</td>\n      <td>2900000.0</td>\n    </tr>\n    <tr>\n      <th>454</th>\n      <td>Raul Neto</td>\n      <td>Utah Jazz</td>\n      <td>25.0</td>\n      <td>PG</td>\n      <td>24.0</td>\n      <td>6-1</td>\n      <td>179.0</td>\n      <td>NaN</td>\n      <td>900000.0</td>\n    </tr>\n    <tr>\n      <th>453</th>\n      <td>Shelvin Mack</td>\n      <td>Utah Jazz</td>\n      <td>8.0</td>\n      <td>PG</td>\n      <td>26.0</td>\n      <td>6-3</td>\n      <td>203.0</td>\n      <td>Butler</td>\n      <td>2433333.0</td>\n    </tr>\n    <tr>\n      <th>...</th>\n      <td>...</td>\n      <td>...</td>\n      <td>...</td>\n      <td>...</td>\n      <td>...</td>\n      <td>...</td>\n      <td>...</td>\n      <td>...</td>\n      <td>...</td>\n    </tr>\n    <tr>\n      <th>4</th>\n      <td>Jonas Jerebko</td>\n      <td>Boston Celtics</td>\n      <td>8.0</td>\n      <td>PF</td>\n      <td>29.0</td>\n      <td>6-10</td>\n      <td>231.0</td>\n      <td>NaN</td>\n      <td>5000000.0</td>\n    </tr>\n    <tr>\n      <th>3</th>\n      <td>R.J. Hunter</td>\n      <td>Boston Celtics</td>\n      <td>28.0</td>\n      <td>SG</td>\n      <td>22.0</td>\n      <td>6-5</td>\n      <td>185.0</td>\n      <td>Georgia State</td>\n      <td>1148640.0</td>\n    </tr>\n    <tr>\n      <th>2</th>\n      <td>John Holland</td>\n      <td>Boston Celtics</td>\n      <td>30.0</td>\n      <td>SG</td>\n      <td>27.0</td>\n      <td>6-5</td>\n      <td>205.0</td>\n      <td>Boston University</td>\n      <td>NaN</td>\n    </tr>\n    <tr>\n      <th>1</th>\n      <td>Jae Crowder</td>\n      <td>Boston Celtics</td>\n      <td>99.0</td>\n      <td>SF</td>\n      <td>25.0</td>\n      <td>6-6</td>\n      <td>235.0</td>\n      <td>Marquette</td>\n      <td>6796117.0</td>\n    </tr>\n    <tr>\n      <th>0</th>\n      <td>Avery Bradley</td>\n      <td>Boston Celtics</td>\n      <td>0.0</td>\n      <td>PG</td>\n      <td>25.0</td>\n      <td>6-2</td>\n      <td>180.0</td>\n      <td>Texas</td>\n      <td>7730337.0</td>\n    </tr>\n  </tbody>\n</table>\n<p>458 rows × 9 columns</p>\n</div>"
     },
     "metadata": {},
     "execution_count": 54
    }
   ],
   "source": [
    "nba.sort_index(ascending=False)"
   ]
  },
  {
   "cell_type": "code",
   "execution_count": 55,
   "metadata": {},
   "outputs": [],
   "source": [
    "nba = pd.read_csv(\"../Files/nba.csv\")\n",
    "nba.dropna(how=\"all\")\n",
    "nba['Salary'] = nba['Salary'].fillna(0).astype('int')\n"
   ]
  },
  {
   "cell_type": "code",
   "execution_count": 56,
   "metadata": {},
   "outputs": [],
   "source": [
    "nba[\"Salary Rank\"] = nba['Salary'].rank(ascending=False).astype(\"int\")"
   ]
  },
  {
   "cell_type": "code",
   "execution_count": 57,
   "metadata": {},
   "outputs": [
    {
     "output_type": "execute_result",
     "data": {
      "text/plain": [
       "            Name            Team  Number Position   Age Height  Weight  \\\n",
       "0  Avery Bradley  Boston Celtics     0.0       PG  25.0    6-2   180.0   \n",
       "1    Jae Crowder  Boston Celtics    99.0       SF  25.0    6-6   235.0   \n",
       "2   John Holland  Boston Celtics    30.0       SG  27.0    6-5   205.0   \n",
       "3    R.J. Hunter  Boston Celtics    28.0       SG  22.0    6-5   185.0   \n",
       "4  Jonas Jerebko  Boston Celtics     8.0       PF  29.0   6-10   231.0   \n",
       "\n",
       "             College   Salary  Salary Rank  \n",
       "0              Texas  7730337           97  \n",
       "1          Marquette  6796117          110  \n",
       "2  Boston University        0          452  \n",
       "3      Georgia State  1148640          322  \n",
       "4                NaN  5000000          147  "
      ],
      "text/html": "<div>\n<style scoped>\n    .dataframe tbody tr th:only-of-type {\n        vertical-align: middle;\n    }\n\n    .dataframe tbody tr th {\n        vertical-align: top;\n    }\n\n    .dataframe thead th {\n        text-align: right;\n    }\n</style>\n<table border=\"1\" class=\"dataframe\">\n  <thead>\n    <tr style=\"text-align: right;\">\n      <th></th>\n      <th>Name</th>\n      <th>Team</th>\n      <th>Number</th>\n      <th>Position</th>\n      <th>Age</th>\n      <th>Height</th>\n      <th>Weight</th>\n      <th>College</th>\n      <th>Salary</th>\n      <th>Salary Rank</th>\n    </tr>\n  </thead>\n  <tbody>\n    <tr>\n      <th>0</th>\n      <td>Avery Bradley</td>\n      <td>Boston Celtics</td>\n      <td>0.0</td>\n      <td>PG</td>\n      <td>25.0</td>\n      <td>6-2</td>\n      <td>180.0</td>\n      <td>Texas</td>\n      <td>7730337</td>\n      <td>97</td>\n    </tr>\n    <tr>\n      <th>1</th>\n      <td>Jae Crowder</td>\n      <td>Boston Celtics</td>\n      <td>99.0</td>\n      <td>SF</td>\n      <td>25.0</td>\n      <td>6-6</td>\n      <td>235.0</td>\n      <td>Marquette</td>\n      <td>6796117</td>\n      <td>110</td>\n    </tr>\n    <tr>\n      <th>2</th>\n      <td>John Holland</td>\n      <td>Boston Celtics</td>\n      <td>30.0</td>\n      <td>SG</td>\n      <td>27.0</td>\n      <td>6-5</td>\n      <td>205.0</td>\n      <td>Boston University</td>\n      <td>0</td>\n      <td>452</td>\n    </tr>\n    <tr>\n      <th>3</th>\n      <td>R.J. Hunter</td>\n      <td>Boston Celtics</td>\n      <td>28.0</td>\n      <td>SG</td>\n      <td>22.0</td>\n      <td>6-5</td>\n      <td>185.0</td>\n      <td>Georgia State</td>\n      <td>1148640</td>\n      <td>322</td>\n    </tr>\n    <tr>\n      <th>4</th>\n      <td>Jonas Jerebko</td>\n      <td>Boston Celtics</td>\n      <td>8.0</td>\n      <td>PF</td>\n      <td>29.0</td>\n      <td>6-10</td>\n      <td>231.0</td>\n      <td>NaN</td>\n      <td>5000000</td>\n      <td>147</td>\n    </tr>\n  </tbody>\n</table>\n</div>"
     },
     "metadata": {},
     "execution_count": 57
    }
   ],
   "source": [
    "nba.head()"
   ]
  },
  {
   "cell_type": "code",
   "execution_count": 59,
   "metadata": {},
   "outputs": [
    {
     "output_type": "execute_result",
     "data": {
      "text/plain": [
       "                Name                    Team  Number Position   Age Height  \\\n",
       "109      Kobe Bryant      Los Angeles Lakers    24.0       SF  37.0    6-6   \n",
       "169     LeBron James     Cleveland Cavaliers    23.0       SF  31.0    6-8   \n",
       "33   Carmelo Anthony         New York Knicks     7.0       SF  32.0    6-8   \n",
       "251    Dwight Howard         Houston Rockets    12.0        C  30.0   6-11   \n",
       "339       Chris Bosh              Miami Heat     1.0       PF  32.0   6-11   \n",
       "..               ...                     ...     ...      ...   ...    ...   \n",
       "269     Ray McCallum       Memphis Grizzlies     5.0       PG  24.0    6-3   \n",
       "409       Greg Smith  Minnesota Timberwolves     4.0       PF  25.0   6-10   \n",
       "2       John Holland          Boston Celtics    30.0       SG  27.0    6-5   \n",
       "264    Jordan Farmar       Memphis Grizzlies     4.0       PG  29.0    6-2   \n",
       "457              NaN                     NaN     NaN      NaN   NaN    NaN   \n",
       "\n",
       "     Weight            College    Salary  Salary Rank  \n",
       "109   212.0                NaN  25000000            1  \n",
       "169   250.0                NaN  22970500            2  \n",
       "33    240.0           Syracuse  22875000            3  \n",
       "251   265.0                NaN  22359364            4  \n",
       "339   235.0       Georgia Tech  22192730            5  \n",
       "..      ...                ...       ...          ...  \n",
       "269   190.0            Detroit         0          452  \n",
       "409   250.0       Fresno State         0          452  \n",
       "2     205.0  Boston University         0          452  \n",
       "264   180.0               UCLA         0          452  \n",
       "457     NaN                NaN         0          452  \n",
       "\n",
       "[458 rows x 10 columns]"
      ],
      "text/html": "<div>\n<style scoped>\n    .dataframe tbody tr th:only-of-type {\n        vertical-align: middle;\n    }\n\n    .dataframe tbody tr th {\n        vertical-align: top;\n    }\n\n    .dataframe thead th {\n        text-align: right;\n    }\n</style>\n<table border=\"1\" class=\"dataframe\">\n  <thead>\n    <tr style=\"text-align: right;\">\n      <th></th>\n      <th>Name</th>\n      <th>Team</th>\n      <th>Number</th>\n      <th>Position</th>\n      <th>Age</th>\n      <th>Height</th>\n      <th>Weight</th>\n      <th>College</th>\n      <th>Salary</th>\n      <th>Salary Rank</th>\n    </tr>\n  </thead>\n  <tbody>\n    <tr>\n      <th>109</th>\n      <td>Kobe Bryant</td>\n      <td>Los Angeles Lakers</td>\n      <td>24.0</td>\n      <td>SF</td>\n      <td>37.0</td>\n      <td>6-6</td>\n      <td>212.0</td>\n      <td>NaN</td>\n      <td>25000000</td>\n      <td>1</td>\n    </tr>\n    <tr>\n      <th>169</th>\n      <td>LeBron James</td>\n      <td>Cleveland Cavaliers</td>\n      <td>23.0</td>\n      <td>SF</td>\n      <td>31.0</td>\n      <td>6-8</td>\n      <td>250.0</td>\n      <td>NaN</td>\n      <td>22970500</td>\n      <td>2</td>\n    </tr>\n    <tr>\n      <th>33</th>\n      <td>Carmelo Anthony</td>\n      <td>New York Knicks</td>\n      <td>7.0</td>\n      <td>SF</td>\n      <td>32.0</td>\n      <td>6-8</td>\n      <td>240.0</td>\n      <td>Syracuse</td>\n      <td>22875000</td>\n      <td>3</td>\n    </tr>\n    <tr>\n      <th>251</th>\n      <td>Dwight Howard</td>\n      <td>Houston Rockets</td>\n      <td>12.0</td>\n      <td>C</td>\n      <td>30.0</td>\n      <td>6-11</td>\n      <td>265.0</td>\n      <td>NaN</td>\n      <td>22359364</td>\n      <td>4</td>\n    </tr>\n    <tr>\n      <th>339</th>\n      <td>Chris Bosh</td>\n      <td>Miami Heat</td>\n      <td>1.0</td>\n      <td>PF</td>\n      <td>32.0</td>\n      <td>6-11</td>\n      <td>235.0</td>\n      <td>Georgia Tech</td>\n      <td>22192730</td>\n      <td>5</td>\n    </tr>\n    <tr>\n      <th>...</th>\n      <td>...</td>\n      <td>...</td>\n      <td>...</td>\n      <td>...</td>\n      <td>...</td>\n      <td>...</td>\n      <td>...</td>\n      <td>...</td>\n      <td>...</td>\n      <td>...</td>\n    </tr>\n    <tr>\n      <th>269</th>\n      <td>Ray McCallum</td>\n      <td>Memphis Grizzlies</td>\n      <td>5.0</td>\n      <td>PG</td>\n      <td>24.0</td>\n      <td>6-3</td>\n      <td>190.0</td>\n      <td>Detroit</td>\n      <td>0</td>\n      <td>452</td>\n    </tr>\n    <tr>\n      <th>409</th>\n      <td>Greg Smith</td>\n      <td>Minnesota Timberwolves</td>\n      <td>4.0</td>\n      <td>PF</td>\n      <td>25.0</td>\n      <td>6-10</td>\n      <td>250.0</td>\n      <td>Fresno State</td>\n      <td>0</td>\n      <td>452</td>\n    </tr>\n    <tr>\n      <th>2</th>\n      <td>John Holland</td>\n      <td>Boston Celtics</td>\n      <td>30.0</td>\n      <td>SG</td>\n      <td>27.0</td>\n      <td>6-5</td>\n      <td>205.0</td>\n      <td>Boston University</td>\n      <td>0</td>\n      <td>452</td>\n    </tr>\n    <tr>\n      <th>264</th>\n      <td>Jordan Farmar</td>\n      <td>Memphis Grizzlies</td>\n      <td>4.0</td>\n      <td>PG</td>\n      <td>29.0</td>\n      <td>6-2</td>\n      <td>180.0</td>\n      <td>UCLA</td>\n      <td>0</td>\n      <td>452</td>\n    </tr>\n    <tr>\n      <th>457</th>\n      <td>NaN</td>\n      <td>NaN</td>\n      <td>NaN</td>\n      <td>NaN</td>\n      <td>NaN</td>\n      <td>NaN</td>\n      <td>NaN</td>\n      <td>NaN</td>\n      <td>0</td>\n      <td>452</td>\n    </tr>\n  </tbody>\n</table>\n<p>458 rows × 10 columns</p>\n</div>"
     },
     "metadata": {},
     "execution_count": 59
    }
   ],
   "source": [
    "nba.sort_values(by=\"Salary\", ascending=False)"
   ]
  },
  {
   "cell_type": "code",
   "execution_count": null,
   "metadata": {},
   "outputs": [],
   "source": []
  }
 ]
}