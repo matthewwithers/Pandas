{
 "metadata": {
  "language_info": {
   "codemirror_mode": {
    "name": "ipython",
    "version": 3
   },
   "file_extension": ".py",
   "mimetype": "text/x-python",
   "name": "python",
   "nbconvert_exporter": "python",
   "pygments_lexer": "ipython3",
   "version": "3.7.6"
  },
  "orig_nbformat": 2,
  "kernelspec": {
   "name": "python376jvsc74a57bd01334010457180b265d09b56daeed883170adb1c65c35741b4ba4ec40109d9a77",
   "display_name": "Python 3.7.6 64-bit ('base': conda)"
  }
 },
 "nbformat": 4,
 "nbformat_minor": 2,
 "cells": [
  {
   "cell_type": "code",
   "execution_count": 1,
   "metadata": {},
   "outputs": [],
   "source": [
    "import pandas as pd"
   ]
  },
  {
   "cell_type": "code",
   "execution_count": 4,
   "metadata": {},
   "outputs": [
    {
     "output_type": "execute_result",
     "data": {
      "text/plain": [
       "0    50.12\n",
       "1    54.10\n",
       "2    54.65\n",
       "3    52.38\n",
       "4    52.95\n",
       "Name: Stock Price, dtype: float64"
      ]
     },
     "metadata": {},
     "execution_count": 4
    }
   ],
   "source": [
    "google = pd.read_csv('../pandas_data/google_stock_price.csv',squeeze=True)\n",
    "google.head()"
   ]
  },
  {
   "cell_type": "code",
   "execution_count": 6,
   "metadata": {},
   "outputs": [
    {
     "output_type": "execute_result",
     "data": {
      "text/plain": [
       "3012"
      ]
     },
     "metadata": {},
     "execution_count": 6
    }
   ],
   "source": [
    "# Math Methods on Series Object\n",
    "\n",
    "google.count() # count gives a number of rows in the series, excludes nulls or none unlike len()"
   ]
  },
  {
   "cell_type": "code",
   "execution_count": 7,
   "metadata": {},
   "outputs": [
    {
     "output_type": "execute_result",
     "data": {
      "text/plain": [
       "1006942.0"
      ]
     },
     "metadata": {},
     "execution_count": 7
    }
   ],
   "source": [
    "google.sum() # sum adds all of our values"
   ]
  },
  {
   "cell_type": "code",
   "execution_count": 8,
   "metadata": {},
   "outputs": [
    {
     "output_type": "execute_result",
     "data": {
      "text/plain": [
       "334.31009296148744"
      ]
     },
     "metadata": {},
     "execution_count": 8
    }
   ],
   "source": [
    "google.mean() # mean returns the total average of all values"
   ]
  },
  {
   "cell_type": "code",
   "execution_count": 10,
   "metadata": {},
   "outputs": [
    {
     "output_type": "execute_result",
     "data": {
      "text/plain": [
       "173.18720477113106"
      ]
     },
     "metadata": {},
     "execution_count": 10
    }
   ],
   "source": [
    "google.std() "
   ]
  },
  {
   "cell_type": "code",
   "execution_count": 11,
   "metadata": {},
   "outputs": [
    {
     "output_type": "execute_result",
     "data": {
      "text/plain": [
       "49.95"
      ]
     },
     "metadata": {},
     "execution_count": 11
    }
   ],
   "source": [
    "google.min()"
   ]
  },
  {
   "cell_type": "code",
   "execution_count": 12,
   "metadata": {},
   "outputs": [
    {
     "output_type": "execute_result",
     "data": {
      "text/plain": [
       "782.22"
      ]
     },
     "metadata": {},
     "execution_count": 12
    }
   ],
   "source": [
    "google.max()"
   ]
  },
  {
   "cell_type": "code",
   "execution_count": 13,
   "metadata": {},
   "outputs": [
    {
     "output_type": "execute_result",
     "data": {
      "text/plain": [
       "283.315"
      ]
     },
     "metadata": {},
     "execution_count": 13
    }
   ],
   "source": [
    "google.median()"
   ]
  },
  {
   "cell_type": "code",
   "execution_count": 14,
   "metadata": {},
   "outputs": [
    {
     "output_type": "execute_result",
     "data": {
      "text/plain": [
       "0    291.21\n",
       "dtype: float64"
      ]
     },
     "metadata": {},
     "execution_count": 14
    }
   ],
   "source": [
    "google.mode()"
   ]
  },
  {
   "cell_type": "code",
   "execution_count": 20,
   "metadata": {},
   "outputs": [
    {
     "output_type": "execute_result",
     "data": {
      "text/plain": [
       "count    3012.000000\n",
       "mean      334.310093\n",
       "std       173.187205\n",
       "min        49.950000\n",
       "25%       218.045000\n",
       "50%       283.315000\n",
       "75%       443.000000\n",
       "max       782.220000\n",
       "Name: Stock Price, dtype: float64"
      ]
     },
     "metadata": {},
     "execution_count": 20
    }
   ],
   "source": [
    "google.describe()"
   ]
  },
  {
   "cell_type": "code",
   "execution_count": 21,
   "metadata": {},
   "outputs": [],
   "source": [
    "# The .idxmax() and .idxmin() Methods"
   ]
  },
  {
   "cell_type": "code",
   "execution_count": 22,
   "metadata": {},
   "outputs": [
    {
     "output_type": "execute_result",
     "data": {
      "text/plain": [
       "782.22"
      ]
     },
     "metadata": {},
     "execution_count": 22
    }
   ],
   "source": [
    "google.max()"
   ]
  },
  {
   "cell_type": "code",
   "execution_count": 23,
   "metadata": {},
   "outputs": [
    {
     "output_type": "execute_result",
     "data": {
      "text/plain": [
       "49.95"
      ]
     },
     "metadata": {},
     "execution_count": 23
    }
   ],
   "source": [
    "google.min()"
   ]
  },
  {
   "cell_type": "code",
   "execution_count": 24,
   "metadata": {},
   "outputs": [
    {
     "output_type": "execute_result",
     "data": {
      "text/plain": [
       "3011"
      ]
     },
     "metadata": {},
     "execution_count": 24
    }
   ],
   "source": [
    "google.idxmax()"
   ]
  },
  {
   "cell_type": "code",
   "execution_count": 25,
   "metadata": {},
   "outputs": [
    {
     "output_type": "execute_result",
     "data": {
      "text/plain": [
       "782.22"
      ]
     },
     "metadata": {},
     "execution_count": 25
    }
   ],
   "source": [
    "google[3011]"
   ]
  },
  {
   "cell_type": "code",
   "execution_count": 26,
   "metadata": {},
   "outputs": [
    {
     "output_type": "execute_result",
     "data": {
      "text/plain": [
       "11"
      ]
     },
     "metadata": {},
     "execution_count": 26
    }
   ],
   "source": [
    "google.idxmin()"
   ]
  },
  {
   "cell_type": "code",
   "execution_count": 27,
   "metadata": {},
   "outputs": [
    {
     "output_type": "execute_result",
     "data": {
      "text/plain": [
       "49.95"
      ]
     },
     "metadata": {},
     "execution_count": 27
    }
   ],
   "source": [
    "google[11]"
   ]
  },
  {
   "cell_type": "code",
   "execution_count": 28,
   "metadata": {},
   "outputs": [
    {
     "output_type": "execute_result",
     "data": {
      "text/plain": [
       "49.95"
      ]
     },
     "metadata": {},
     "execution_count": 28
    }
   ],
   "source": [
    "google[google.idxmin()]"
   ]
  },
  {
   "cell_type": "code",
   "execution_count": 32,
   "metadata": {},
   "outputs": [
    {
     "output_type": "execute_result",
     "data": {
      "text/plain": [
       "Pokemon\n",
       "Bulbasaur     Grass\n",
       "Ivysaur       Grass\n",
       "Venusaur      Grass\n",
       "Charmander     Fire\n",
       "Charmeleon     Fire\n",
       "Name: Type, dtype: object"
      ]
     },
     "metadata": {},
     "execution_count": 32
    }
   ],
   "source": [
    "# The .value_counts() Method\n",
    "pokemon = pd.read_csv('../pandas_data/pokemon.csv', index_col=\"Pokemon\" ,squeeze=True)\n",
    "pokemon.head()"
   ]
  },
  {
   "cell_type": "code",
   "execution_count": 37,
   "metadata": {},
   "outputs": [
    {
     "output_type": "execute_result",
     "data": {
      "text/plain": [
       "721"
      ]
     },
     "metadata": {},
     "execution_count": 37
    }
   ],
   "source": [
    "pokemon.value_counts()\n",
    "pokemon.value_counts().sum()"
   ]
  },
  {
   "cell_type": "code",
   "execution_count": 36,
   "metadata": {},
   "outputs": [
    {
     "output_type": "execute_result",
     "data": {
      "text/plain": [
       "721"
      ]
     },
     "metadata": {},
     "execution_count": 36
    }
   ],
   "source": [
    "pokemon.count()"
   ]
  },
  {
   "cell_type": "code",
   "execution_count": 40,
   "metadata": {},
   "outputs": [
    {
     "output_type": "execute_result",
     "data": {
      "text/plain": [
       "0    50.12\n",
       "1    54.10\n",
       "2    54.65\n",
       "3    52.38\n",
       "4    52.95\n",
       "5    53.90\n",
       "Name: Stock Price, dtype: float64"
      ]
     },
     "metadata": {},
     "execution_count": 40
    }
   ],
   "source": [
    "pokemon.value_counts(ascending=True)\n",
    "google.head(6)"
   ]
  },
  {
   "cell_type": "code",
   "execution_count": 41,
   "metadata": {},
   "outputs": [],
   "source": [
    "def classify_performance(number):\n",
    "    if number < 300:\n",
    "        return \"OK\"\n",
    "    elif number >= 300 and number < 650:\n",
    "        return \"Good\"\n",
    "    else:\n",
    "        return \"Awesome!\""
   ]
  },
  {
   "cell_type": "code",
   "execution_count": 43,
   "metadata": {},
   "outputs": [
    {
     "output_type": "execute_result",
     "data": {
      "text/plain": [
       "3007    Awesome!\n",
       "3008    Awesome!\n",
       "3009    Awesome!\n",
       "3010    Awesome!\n",
       "3011    Awesome!\n",
       "Name: Stock Price, dtype: object"
      ]
     },
     "metadata": {},
     "execution_count": 43
    }
   ],
   "source": [
    "google.apply(classify_performance).tail()"
   ]
  },
  {
   "cell_type": "code",
   "execution_count": 44,
   "metadata": {},
   "outputs": [
    {
     "output_type": "execute_result",
     "data": {
      "text/plain": [
       "0    50.12\n",
       "1    54.10\n",
       "2    54.65\n",
       "3    52.38\n",
       "4    52.95\n",
       "5    53.90\n",
       "Name: Stock Price, dtype: float64"
      ]
     },
     "metadata": {},
     "execution_count": 44
    }
   ],
   "source": [
    "google.head(6)"
   ]
  },
  {
   "cell_type": "code",
   "execution_count": 47,
   "metadata": {},
   "outputs": [
    {
     "output_type": "execute_result",
     "data": {
      "text/plain": [
       "0        51.12\n",
       "1        55.10\n",
       "2        55.65\n",
       "3        53.38\n",
       "4        53.95\n",
       "         ...  \n",
       "3007    773.88\n",
       "3008    772.07\n",
       "3009    774.18\n",
       "3010    772.61\n",
       "3011    783.22\n",
       "Name: Stock Price, Length: 3012, dtype: float64"
      ]
     },
     "metadata": {},
     "execution_count": 47
    }
   ],
   "source": [
    "google.apply(lambda stock_price: stock_price + 1)"
   ]
  },
  {
   "cell_type": "code",
   "execution_count": 48,
   "metadata": {},
   "outputs": [],
   "source": [
    "# The .map() Method"
   ]
  },
  {
   "cell_type": "code",
   "execution_count": 52,
   "metadata": {},
   "outputs": [
    {
     "output_type": "execute_result",
     "data": {
      "text/plain": [
       "0     Bulbasaur\n",
       "1       Ivysaur\n",
       "2      Venusaur\n",
       "3    Charmander\n",
       "4    Charmeleon\n",
       "Name: Pokemon, dtype: object"
      ]
     },
     "metadata": {},
     "execution_count": 52
    }
   ],
   "source": [
    "pokemon_names = pd.read_csv('../pandas_data/pokemon.csv',usecols=[\"Pokemon\"], squeeze=True)\n",
    "pokemon_types = pd.read_csv('../pandas_data/pokemon.csv',index_col=\"Pokemon\", squeeze=True)\n",
    "pokemon_names.head()"
   ]
  },
  {
   "cell_type": "code",
   "execution_count": 53,
   "metadata": {},
   "outputs": [
    {
     "output_type": "execute_result",
     "data": {
      "text/plain": [
       "Pokemon\n",
       "Bulbasaur     Grass\n",
       "Ivysaur       Grass\n",
       "Venusaur      Grass\n",
       "Charmander     Fire\n",
       "Charmeleon     Fire\n",
       "Name: Type, dtype: object"
      ]
     },
     "metadata": {},
     "execution_count": 53
    }
   ],
   "source": [
    "pokemon_types.head()"
   ]
  },
  {
   "cell_type": "code",
   "execution_count": 55,
   "metadata": {},
   "outputs": [
    {
     "output_type": "execute_result",
     "data": {
      "text/plain": [
       "0        Grass\n",
       "1        Grass\n",
       "2        Grass\n",
       "3         Fire\n",
       "4         Fire\n",
       "        ...   \n",
       "716       Dark\n",
       "717     Dragon\n",
       "718       Rock\n",
       "719    Psychic\n",
       "720       Fire\n",
       "Name: Pokemon, Length: 721, dtype: object"
      ]
     },
     "metadata": {},
     "execution_count": 55
    }
   ],
   "source": [
    "\"\"\"\n",
    "  .map() method will loop through the pokemon_names series object by value and try to find a corresponding index of the \n",
    "   value in pokemon_types series object and return it in a new series object\n",
    "\"\"\"\n",
    "pokemon_names.map(pokemon_types)"
   ]
  },
  {
   "cell_type": "code",
   "execution_count": 56,
   "metadata": {},
   "outputs": [],
   "source": [
    "pokemon_names = pd.read_csv('../pandas_data/pokemon.csv',usecols=[\"Pokemon\"], squeeze=True)\n",
    "pokemon_types = pd.read_csv('../pandas_data/pokemon.csv',index_col=\"Pokemon\", squeeze=True).to_dict()"
   ]
  },
  {
   "cell_type": "code",
   "execution_count": 63,
   "metadata": {},
   "outputs": [
    {
     "output_type": "execute_result",
     "data": {
      "text/plain": [
       "0        Grass\n",
       "1        Grass\n",
       "2        Grass\n",
       "3         Fire\n",
       "4         Fire\n",
       "        ...   \n",
       "716       Dark\n",
       "717     Dragon\n",
       "718       Rock\n",
       "719    Psychic\n",
       "720       Fire\n",
       "Name: Pokemon, Length: 721, dtype: object"
      ]
     },
     "metadata": {},
     "execution_count": 63
    }
   ],
   "source": [
    "pokemon_types\n",
    "pokemon_names.map(pokemon_types)"
   ]
  },
  {
   "cell_type": "code",
   "execution_count": null,
   "metadata": {},
   "outputs": [],
   "source": []
  }
 ]
}