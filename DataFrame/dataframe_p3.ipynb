{
 "metadata": {
  "language_info": {
   "codemirror_mode": {
    "name": "ipython",
    "version": 3
   },
   "file_extension": ".py",
   "mimetype": "text/x-python",
   "name": "python",
   "nbconvert_exporter": "python",
   "pygments_lexer": "ipython3",
   "version": "3.7.6"
  },
  "orig_nbformat": 2,
  "kernelspec": {
   "name": "python376jvsc74a57bd01334010457180b265d09b56daeed883170adb1c65c35741b4ba4ec40109d9a77",
   "display_name": "Python 3.7.6 64-bit ('base': conda)"
  }
 },
 "nbformat": 4,
 "nbformat_minor": 2,
 "cells": [
  {
   "cell_type": "code",
   "execution_count": 2,
   "metadata": {},
   "outputs": [],
   "source": [
    "import pandas as pd"
   ]
  },
  {
   "cell_type": "code",
   "execution_count": 3,
   "metadata": {},
   "outputs": [],
   "source": [
    "df = pd.read_csv('../pandas_data/employees.csv')"
   ]
  },
  {
   "cell_type": "code",
   "execution_count": 4,
   "metadata": {},
   "outputs": [
    {
     "output_type": "execute_result",
     "data": {
      "text/plain": [
       "  First Name  Gender Start Date Last Login Time  Salary  Bonus %  \\\n",
       "0    Douglas    Male   8/6/1993        12:42 PM   97308    6.945   \n",
       "1     Thomas    Male  3/31/1996         6:53 AM   61933    4.170   \n",
       "2      Maria  Female  4/23/1993        11:17 AM  130590   11.858   \n",
       "\n",
       "  Senior Management       Team  \n",
       "0              True  Marketing  \n",
       "1              True        NaN  \n",
       "2             False    Finance  "
      ],
      "text/html": "<div>\n<style scoped>\n    .dataframe tbody tr th:only-of-type {\n        vertical-align: middle;\n    }\n\n    .dataframe tbody tr th {\n        vertical-align: top;\n    }\n\n    .dataframe thead th {\n        text-align: right;\n    }\n</style>\n<table border=\"1\" class=\"dataframe\">\n  <thead>\n    <tr style=\"text-align: right;\">\n      <th></th>\n      <th>First Name</th>\n      <th>Gender</th>\n      <th>Start Date</th>\n      <th>Last Login Time</th>\n      <th>Salary</th>\n      <th>Bonus %</th>\n      <th>Senior Management</th>\n      <th>Team</th>\n    </tr>\n  </thead>\n  <tbody>\n    <tr>\n      <th>0</th>\n      <td>Douglas</td>\n      <td>Male</td>\n      <td>8/6/1993</td>\n      <td>12:42 PM</td>\n      <td>97308</td>\n      <td>6.945</td>\n      <td>True</td>\n      <td>Marketing</td>\n    </tr>\n    <tr>\n      <th>1</th>\n      <td>Thomas</td>\n      <td>Male</td>\n      <td>3/31/1996</td>\n      <td>6:53 AM</td>\n      <td>61933</td>\n      <td>4.170</td>\n      <td>True</td>\n      <td>NaN</td>\n    </tr>\n    <tr>\n      <th>2</th>\n      <td>Maria</td>\n      <td>Female</td>\n      <td>4/23/1993</td>\n      <td>11:17 AM</td>\n      <td>130590</td>\n      <td>11.858</td>\n      <td>False</td>\n      <td>Finance</td>\n    </tr>\n  </tbody>\n</table>\n</div>"
     },
     "metadata": {},
     "execution_count": 4
    }
   ],
   "source": [
    "df.head(3)"
   ]
  },
  {
   "cell_type": "code",
   "execution_count": 5,
   "metadata": {},
   "outputs": [
    {
     "output_type": "stream",
     "name": "stdout",
     "text": [
      "<class 'pandas.core.frame.DataFrame'>\nRangeIndex: 1000 entries, 0 to 999\nData columns (total 8 columns):\n #   Column             Non-Null Count  Dtype  \n---  ------             --------------  -----  \n 0   First Name         933 non-null    object \n 1   Gender             855 non-null    object \n 2   Start Date         1000 non-null   object \n 3   Last Login Time    1000 non-null   object \n 4   Salary             1000 non-null   int64  \n 5   Bonus %            1000 non-null   float64\n 6   Senior Management  933 non-null    object \n 7   Team               957 non-null    object \ndtypes: float64(1), int64(1), object(6)\nmemory usage: 62.6+ KB\n"
     ]
    }
   ],
   "source": [
    "df.info()"
   ]
  },
  {
   "cell_type": "code",
   "execution_count": 6,
   "metadata": {},
   "outputs": [],
   "source": [
    "df['Start Date'] = pd.to_datetime(df['Start Date'])"
   ]
  },
  {
   "cell_type": "code",
   "execution_count": 7,
   "metadata": {},
   "outputs": [
    {
     "output_type": "execute_result",
     "data": {
      "text/plain": [
       "  First Name  Gender Start Date Last Login Time  Salary  Bonus %  \\\n",
       "0    Douglas    Male 1993-08-06        12:42 PM   97308    6.945   \n",
       "1     Thomas    Male 1996-03-31         6:53 AM   61933    4.170   \n",
       "2      Maria  Female 1993-04-23        11:17 AM  130590   11.858   \n",
       "3      Jerry    Male 2005-03-04         1:00 PM  138705    9.340   \n",
       "4      Larry    Male 1998-01-24         4:47 PM  101004    1.389   \n",
       "\n",
       "  Senior Management             Team  \n",
       "0              True        Marketing  \n",
       "1              True              NaN  \n",
       "2             False          Finance  \n",
       "3              True          Finance  \n",
       "4              True  Client Services  "
      ],
      "text/html": "<div>\n<style scoped>\n    .dataframe tbody tr th:only-of-type {\n        vertical-align: middle;\n    }\n\n    .dataframe tbody tr th {\n        vertical-align: top;\n    }\n\n    .dataframe thead th {\n        text-align: right;\n    }\n</style>\n<table border=\"1\" class=\"dataframe\">\n  <thead>\n    <tr style=\"text-align: right;\">\n      <th></th>\n      <th>First Name</th>\n      <th>Gender</th>\n      <th>Start Date</th>\n      <th>Last Login Time</th>\n      <th>Salary</th>\n      <th>Bonus %</th>\n      <th>Senior Management</th>\n      <th>Team</th>\n    </tr>\n  </thead>\n  <tbody>\n    <tr>\n      <th>0</th>\n      <td>Douglas</td>\n      <td>Male</td>\n      <td>1993-08-06</td>\n      <td>12:42 PM</td>\n      <td>97308</td>\n      <td>6.945</td>\n      <td>True</td>\n      <td>Marketing</td>\n    </tr>\n    <tr>\n      <th>1</th>\n      <td>Thomas</td>\n      <td>Male</td>\n      <td>1996-03-31</td>\n      <td>6:53 AM</td>\n      <td>61933</td>\n      <td>4.170</td>\n      <td>True</td>\n      <td>NaN</td>\n    </tr>\n    <tr>\n      <th>2</th>\n      <td>Maria</td>\n      <td>Female</td>\n      <td>1993-04-23</td>\n      <td>11:17 AM</td>\n      <td>130590</td>\n      <td>11.858</td>\n      <td>False</td>\n      <td>Finance</td>\n    </tr>\n    <tr>\n      <th>3</th>\n      <td>Jerry</td>\n      <td>Male</td>\n      <td>2005-03-04</td>\n      <td>1:00 PM</td>\n      <td>138705</td>\n      <td>9.340</td>\n      <td>True</td>\n      <td>Finance</td>\n    </tr>\n    <tr>\n      <th>4</th>\n      <td>Larry</td>\n      <td>Male</td>\n      <td>1998-01-24</td>\n      <td>4:47 PM</td>\n      <td>101004</td>\n      <td>1.389</td>\n      <td>True</td>\n      <td>Client Services</td>\n    </tr>\n  </tbody>\n</table>\n</div>"
     },
     "metadata": {},
     "execution_count": 7
    }
   ],
   "source": [
    "df.head()"
   ]
  },
  {
   "cell_type": "code",
   "execution_count": 8,
   "metadata": {},
   "outputs": [],
   "source": [
    "df['Last Login Time'] = pd.to_datetime(df['Last Login Time'])"
   ]
  },
  {
   "cell_type": "code",
   "execution_count": 9,
   "metadata": {},
   "outputs": [
    {
     "output_type": "execute_result",
     "data": {
      "text/plain": [
       "  First Name  Gender Start Date     Last Login Time  Salary  Bonus %  \\\n",
       "0    Douglas    Male 1993-08-06 2021-05-31 12:42:00   97308    6.945   \n",
       "1     Thomas    Male 1996-03-31 2021-05-31 06:53:00   61933    4.170   \n",
       "2      Maria  Female 1993-04-23 2021-05-31 11:17:00  130590   11.858   \n",
       "\n",
       "  Senior Management       Team  \n",
       "0              True  Marketing  \n",
       "1              True        NaN  \n",
       "2             False    Finance  "
      ],
      "text/html": "<div>\n<style scoped>\n    .dataframe tbody tr th:only-of-type {\n        vertical-align: middle;\n    }\n\n    .dataframe tbody tr th {\n        vertical-align: top;\n    }\n\n    .dataframe thead th {\n        text-align: right;\n    }\n</style>\n<table border=\"1\" class=\"dataframe\">\n  <thead>\n    <tr style=\"text-align: right;\">\n      <th></th>\n      <th>First Name</th>\n      <th>Gender</th>\n      <th>Start Date</th>\n      <th>Last Login Time</th>\n      <th>Salary</th>\n      <th>Bonus %</th>\n      <th>Senior Management</th>\n      <th>Team</th>\n    </tr>\n  </thead>\n  <tbody>\n    <tr>\n      <th>0</th>\n      <td>Douglas</td>\n      <td>Male</td>\n      <td>1993-08-06</td>\n      <td>2021-05-31 12:42:00</td>\n      <td>97308</td>\n      <td>6.945</td>\n      <td>True</td>\n      <td>Marketing</td>\n    </tr>\n    <tr>\n      <th>1</th>\n      <td>Thomas</td>\n      <td>Male</td>\n      <td>1996-03-31</td>\n      <td>2021-05-31 06:53:00</td>\n      <td>61933</td>\n      <td>4.170</td>\n      <td>True</td>\n      <td>NaN</td>\n    </tr>\n    <tr>\n      <th>2</th>\n      <td>Maria</td>\n      <td>Female</td>\n      <td>1993-04-23</td>\n      <td>2021-05-31 11:17:00</td>\n      <td>130590</td>\n      <td>11.858</td>\n      <td>False</td>\n      <td>Finance</td>\n    </tr>\n  </tbody>\n</table>\n</div>"
     },
     "metadata": {},
     "execution_count": 9
    }
   ],
   "source": [
    "df.head(3)"
   ]
  },
  {
   "cell_type": "code",
   "execution_count": 10,
   "metadata": {},
   "outputs": [],
   "source": [
    "df['Senior Management'] = df['Senior Management'].astype('bool')"
   ]
  },
  {
   "cell_type": "code",
   "execution_count": 11,
   "metadata": {},
   "outputs": [
    {
     "output_type": "stream",
     "name": "stdout",
     "text": [
      "<class 'pandas.core.frame.DataFrame'>\nRangeIndex: 1000 entries, 0 to 999\nData columns (total 8 columns):\n #   Column             Non-Null Count  Dtype         \n---  ------             --------------  -----         \n 0   First Name         933 non-null    object        \n 1   Gender             855 non-null    object        \n 2   Start Date         1000 non-null   datetime64[ns]\n 3   Last Login Time    1000 non-null   datetime64[ns]\n 4   Salary             1000 non-null   int64         \n 5   Bonus %            1000 non-null   float64       \n 6   Senior Management  1000 non-null   bool          \n 7   Team               957 non-null    object        \ndtypes: bool(1), datetime64[ns](2), float64(1), int64(1), object(3)\nmemory usage: 55.8+ KB\n"
     ]
    }
   ],
   "source": [
    "df.info()"
   ]
  },
  {
   "cell_type": "code",
   "execution_count": 12,
   "metadata": {},
   "outputs": [],
   "source": [
    "df['Gender'] = df['Gender'].astype('category')"
   ]
  },
  {
   "cell_type": "code",
   "execution_count": 13,
   "metadata": {},
   "outputs": [
    {
     "output_type": "stream",
     "name": "stdout",
     "text": [
      "<class 'pandas.core.frame.DataFrame'>\nRangeIndex: 1000 entries, 0 to 999\nData columns (total 8 columns):\n #   Column             Non-Null Count  Dtype         \n---  ------             --------------  -----         \n 0   First Name         933 non-null    object        \n 1   Gender             855 non-null    category      \n 2   Start Date         1000 non-null   datetime64[ns]\n 3   Last Login Time    1000 non-null   datetime64[ns]\n 4   Salary             1000 non-null   int64         \n 5   Bonus %            1000 non-null   float64       \n 6   Senior Management  1000 non-null   bool          \n 7   Team               957 non-null    object        \ndtypes: bool(1), category(1), datetime64[ns](2), float64(1), int64(1), object(2)\nmemory usage: 49.0+ KB\n"
     ]
    }
   ],
   "source": [
    "df.info()"
   ]
  },
  {
   "cell_type": "code",
   "execution_count": 14,
   "metadata": {},
   "outputs": [
    {
     "output_type": "execute_result",
     "data": {
      "text/plain": [
       "  First Name  Gender Start Date     Last Login Time  Salary  Bonus %  \\\n",
       "0    Douglas    Male 1993-08-06 2021-05-31 12:42:00   97308    6.945   \n",
       "1     Thomas    Male 1996-03-31 2021-05-31 06:53:00   61933    4.170   \n",
       "2      Maria  Female 1993-04-23 2021-05-31 11:17:00  130590   11.858   \n",
       "\n",
       "   Senior Management       Team  \n",
       "0               True  Marketing  \n",
       "1               True        NaN  \n",
       "2              False    Finance  "
      ],
      "text/html": "<div>\n<style scoped>\n    .dataframe tbody tr th:only-of-type {\n        vertical-align: middle;\n    }\n\n    .dataframe tbody tr th {\n        vertical-align: top;\n    }\n\n    .dataframe thead th {\n        text-align: right;\n    }\n</style>\n<table border=\"1\" class=\"dataframe\">\n  <thead>\n    <tr style=\"text-align: right;\">\n      <th></th>\n      <th>First Name</th>\n      <th>Gender</th>\n      <th>Start Date</th>\n      <th>Last Login Time</th>\n      <th>Salary</th>\n      <th>Bonus %</th>\n      <th>Senior Management</th>\n      <th>Team</th>\n    </tr>\n  </thead>\n  <tbody>\n    <tr>\n      <th>0</th>\n      <td>Douglas</td>\n      <td>Male</td>\n      <td>1993-08-06</td>\n      <td>2021-05-31 12:42:00</td>\n      <td>97308</td>\n      <td>6.945</td>\n      <td>True</td>\n      <td>Marketing</td>\n    </tr>\n    <tr>\n      <th>1</th>\n      <td>Thomas</td>\n      <td>Male</td>\n      <td>1996-03-31</td>\n      <td>2021-05-31 06:53:00</td>\n      <td>61933</td>\n      <td>4.170</td>\n      <td>True</td>\n      <td>NaN</td>\n    </tr>\n    <tr>\n      <th>2</th>\n      <td>Maria</td>\n      <td>Female</td>\n      <td>1993-04-23</td>\n      <td>2021-05-31 11:17:00</td>\n      <td>130590</td>\n      <td>11.858</td>\n      <td>False</td>\n      <td>Finance</td>\n    </tr>\n  </tbody>\n</table>\n</div>"
     },
     "metadata": {},
     "execution_count": 14
    }
   ],
   "source": [
    "df = pd.read_csv('../pandas_data/employees.csv', parse_dates=['Start Date','Last Login Time'])\n",
    "df['Senior Management'] = df['Senior Management'].astype('bool')\n",
    "df['Gender'] = df['Gender'].astype('category')\n",
    "df.head(3)"
   ]
  },
  {
   "cell_type": "code",
   "execution_count": 18,
   "metadata": {},
   "outputs": [
    {
     "output_type": "execute_result",
     "data": {
      "text/plain": [
       "    First Name Gender Start Date     Last Login Time  Salary  Bonus %  \\\n",
       "0      Douglas   Male 1993-08-06 2021-05-31 12:42:00   97308    6.945   \n",
       "1       Thomas   Male 1996-03-31 2021-05-31 06:53:00   61933    4.170   \n",
       "3        Jerry   Male 2005-03-04 2021-05-31 13:00:00  138705    9.340   \n",
       "4        Larry   Male 1998-01-24 2021-05-31 16:47:00  101004    1.389   \n",
       "5       Dennis   Male 1987-04-18 2021-05-31 01:35:00  115163   10.125   \n",
       "..         ...    ...        ...                 ...     ...      ...   \n",
       "994     George   Male 2013-06-21 2021-05-31 17:47:00   98874    4.479   \n",
       "996    Phillip   Male 1984-01-31 2021-05-31 06:30:00   42392   19.675   \n",
       "997    Russell   Male 2013-05-20 2021-05-31 12:39:00   96914    1.421   \n",
       "998      Larry   Male 2013-04-20 2021-05-31 16:45:00   60500   11.985   \n",
       "999     Albert   Male 2012-05-15 2021-05-31 18:24:00  129949   10.169   \n",
       "\n",
       "     Senior Management                  Team  \n",
       "0                 True             Marketing  \n",
       "1                 True                   NaN  \n",
       "3                 True               Finance  \n",
       "4                 True       Client Services  \n",
       "5                False                 Legal  \n",
       "..                 ...                   ...  \n",
       "994               True             Marketing  \n",
       "996              False               Finance  \n",
       "997              False               Product  \n",
       "998              False  Business Development  \n",
       "999               True                 Sales  \n",
       "\n",
       "[424 rows x 8 columns]"
      ],
      "text/html": "<div>\n<style scoped>\n    .dataframe tbody tr th:only-of-type {\n        vertical-align: middle;\n    }\n\n    .dataframe tbody tr th {\n        vertical-align: top;\n    }\n\n    .dataframe thead th {\n        text-align: right;\n    }\n</style>\n<table border=\"1\" class=\"dataframe\">\n  <thead>\n    <tr style=\"text-align: right;\">\n      <th></th>\n      <th>First Name</th>\n      <th>Gender</th>\n      <th>Start Date</th>\n      <th>Last Login Time</th>\n      <th>Salary</th>\n      <th>Bonus %</th>\n      <th>Senior Management</th>\n      <th>Team</th>\n    </tr>\n  </thead>\n  <tbody>\n    <tr>\n      <th>0</th>\n      <td>Douglas</td>\n      <td>Male</td>\n      <td>1993-08-06</td>\n      <td>2021-05-31 12:42:00</td>\n      <td>97308</td>\n      <td>6.945</td>\n      <td>True</td>\n      <td>Marketing</td>\n    </tr>\n    <tr>\n      <th>1</th>\n      <td>Thomas</td>\n      <td>Male</td>\n      <td>1996-03-31</td>\n      <td>2021-05-31 06:53:00</td>\n      <td>61933</td>\n      <td>4.170</td>\n      <td>True</td>\n      <td>NaN</td>\n    </tr>\n    <tr>\n      <th>3</th>\n      <td>Jerry</td>\n      <td>Male</td>\n      <td>2005-03-04</td>\n      <td>2021-05-31 13:00:00</td>\n      <td>138705</td>\n      <td>9.340</td>\n      <td>True</td>\n      <td>Finance</td>\n    </tr>\n    <tr>\n      <th>4</th>\n      <td>Larry</td>\n      <td>Male</td>\n      <td>1998-01-24</td>\n      <td>2021-05-31 16:47:00</td>\n      <td>101004</td>\n      <td>1.389</td>\n      <td>True</td>\n      <td>Client Services</td>\n    </tr>\n    <tr>\n      <th>5</th>\n      <td>Dennis</td>\n      <td>Male</td>\n      <td>1987-04-18</td>\n      <td>2021-05-31 01:35:00</td>\n      <td>115163</td>\n      <td>10.125</td>\n      <td>False</td>\n      <td>Legal</td>\n    </tr>\n    <tr>\n      <th>...</th>\n      <td>...</td>\n      <td>...</td>\n      <td>...</td>\n      <td>...</td>\n      <td>...</td>\n      <td>...</td>\n      <td>...</td>\n      <td>...</td>\n    </tr>\n    <tr>\n      <th>994</th>\n      <td>George</td>\n      <td>Male</td>\n      <td>2013-06-21</td>\n      <td>2021-05-31 17:47:00</td>\n      <td>98874</td>\n      <td>4.479</td>\n      <td>True</td>\n      <td>Marketing</td>\n    </tr>\n    <tr>\n      <th>996</th>\n      <td>Phillip</td>\n      <td>Male</td>\n      <td>1984-01-31</td>\n      <td>2021-05-31 06:30:00</td>\n      <td>42392</td>\n      <td>19.675</td>\n      <td>False</td>\n      <td>Finance</td>\n    </tr>\n    <tr>\n      <th>997</th>\n      <td>Russell</td>\n      <td>Male</td>\n      <td>2013-05-20</td>\n      <td>2021-05-31 12:39:00</td>\n      <td>96914</td>\n      <td>1.421</td>\n      <td>False</td>\n      <td>Product</td>\n    </tr>\n    <tr>\n      <th>998</th>\n      <td>Larry</td>\n      <td>Male</td>\n      <td>2013-04-20</td>\n      <td>2021-05-31 16:45:00</td>\n      <td>60500</td>\n      <td>11.985</td>\n      <td>False</td>\n      <td>Business Development</td>\n    </tr>\n    <tr>\n      <th>999</th>\n      <td>Albert</td>\n      <td>Male</td>\n      <td>2012-05-15</td>\n      <td>2021-05-31 18:24:00</td>\n      <td>129949</td>\n      <td>10.169</td>\n      <td>True</td>\n      <td>Sales</td>\n    </tr>\n  </tbody>\n</table>\n<p>424 rows × 8 columns</p>\n</div>"
     },
     "metadata": {},
     "execution_count": 18
    }
   ],
   "source": [
    "df[df['Gender'] == \"Male\"]"
   ]
  },
  {
   "cell_type": "code",
   "execution_count": 25,
   "metadata": {},
   "outputs": [
    {
     "output_type": "execute_result",
     "data": {
      "text/plain": [
       "    First Name  Gender Start Date     Last Login Time  Salary  Bonus %  \\\n",
       "2        Maria  Female 1993-04-23 2021-05-31 11:17:00  130590   11.858   \n",
       "3        Jerry    Male 2005-03-04 2021-05-31 13:00:00  138705    9.340   \n",
       "7          NaN  Female 2015-07-20 2021-05-31 10:43:00   45906   11.598   \n",
       "14    Kimberly  Female 1999-01-14 2021-05-31 07:13:00   41426   14.543   \n",
       "46       Bruce    Male 2009-11-28 2021-05-31 22:47:00  114796    6.796   \n",
       "..         ...     ...        ...                 ...     ...      ...   \n",
       "907  Elizabeth  Female 1998-07-27 2021-05-31 11:12:00  137144   10.081   \n",
       "954        Joe    Male 1980-01-19 2021-05-31 16:06:00  119667    1.148   \n",
       "987     Gloria  Female 2014-12-08 2021-05-31 05:08:00  136709   10.331   \n",
       "992    Anthony    Male 2011-10-16 2021-05-31 08:35:00  112769   11.625   \n",
       "996    Phillip    Male 1984-01-31 2021-05-31 06:30:00   42392   19.675   \n",
       "\n",
       "     Senior Management     Team  \n",
       "2                False  Finance  \n",
       "3                 True  Finance  \n",
       "7                 True  Finance  \n",
       "14                True  Finance  \n",
       "46               False  Finance  \n",
       "..                 ...      ...  \n",
       "907              False  Finance  \n",
       "954               True  Finance  \n",
       "987               True  Finance  \n",
       "992               True  Finance  \n",
       "996              False  Finance  \n",
       "\n",
       "[102 rows x 8 columns]"
      ],
      "text/html": "<div>\n<style scoped>\n    .dataframe tbody tr th:only-of-type {\n        vertical-align: middle;\n    }\n\n    .dataframe tbody tr th {\n        vertical-align: top;\n    }\n\n    .dataframe thead th {\n        text-align: right;\n    }\n</style>\n<table border=\"1\" class=\"dataframe\">\n  <thead>\n    <tr style=\"text-align: right;\">\n      <th></th>\n      <th>First Name</th>\n      <th>Gender</th>\n      <th>Start Date</th>\n      <th>Last Login Time</th>\n      <th>Salary</th>\n      <th>Bonus %</th>\n      <th>Senior Management</th>\n      <th>Team</th>\n    </tr>\n  </thead>\n  <tbody>\n    <tr>\n      <th>2</th>\n      <td>Maria</td>\n      <td>Female</td>\n      <td>1993-04-23</td>\n      <td>2021-05-31 11:17:00</td>\n      <td>130590</td>\n      <td>11.858</td>\n      <td>False</td>\n      <td>Finance</td>\n    </tr>\n    <tr>\n      <th>3</th>\n      <td>Jerry</td>\n      <td>Male</td>\n      <td>2005-03-04</td>\n      <td>2021-05-31 13:00:00</td>\n      <td>138705</td>\n      <td>9.340</td>\n      <td>True</td>\n      <td>Finance</td>\n    </tr>\n    <tr>\n      <th>7</th>\n      <td>NaN</td>\n      <td>Female</td>\n      <td>2015-07-20</td>\n      <td>2021-05-31 10:43:00</td>\n      <td>45906</td>\n      <td>11.598</td>\n      <td>True</td>\n      <td>Finance</td>\n    </tr>\n    <tr>\n      <th>14</th>\n      <td>Kimberly</td>\n      <td>Female</td>\n      <td>1999-01-14</td>\n      <td>2021-05-31 07:13:00</td>\n      <td>41426</td>\n      <td>14.543</td>\n      <td>True</td>\n      <td>Finance</td>\n    </tr>\n    <tr>\n      <th>46</th>\n      <td>Bruce</td>\n      <td>Male</td>\n      <td>2009-11-28</td>\n      <td>2021-05-31 22:47:00</td>\n      <td>114796</td>\n      <td>6.796</td>\n      <td>False</td>\n      <td>Finance</td>\n    </tr>\n    <tr>\n      <th>...</th>\n      <td>...</td>\n      <td>...</td>\n      <td>...</td>\n      <td>...</td>\n      <td>...</td>\n      <td>...</td>\n      <td>...</td>\n      <td>...</td>\n    </tr>\n    <tr>\n      <th>907</th>\n      <td>Elizabeth</td>\n      <td>Female</td>\n      <td>1998-07-27</td>\n      <td>2021-05-31 11:12:00</td>\n      <td>137144</td>\n      <td>10.081</td>\n      <td>False</td>\n      <td>Finance</td>\n    </tr>\n    <tr>\n      <th>954</th>\n      <td>Joe</td>\n      <td>Male</td>\n      <td>1980-01-19</td>\n      <td>2021-05-31 16:06:00</td>\n      <td>119667</td>\n      <td>1.148</td>\n      <td>True</td>\n      <td>Finance</td>\n    </tr>\n    <tr>\n      <th>987</th>\n      <td>Gloria</td>\n      <td>Female</td>\n      <td>2014-12-08</td>\n      <td>2021-05-31 05:08:00</td>\n      <td>136709</td>\n      <td>10.331</td>\n      <td>True</td>\n      <td>Finance</td>\n    </tr>\n    <tr>\n      <th>992</th>\n      <td>Anthony</td>\n      <td>Male</td>\n      <td>2011-10-16</td>\n      <td>2021-05-31 08:35:00</td>\n      <td>112769</td>\n      <td>11.625</td>\n      <td>True</td>\n      <td>Finance</td>\n    </tr>\n    <tr>\n      <th>996</th>\n      <td>Phillip</td>\n      <td>Male</td>\n      <td>1984-01-31</td>\n      <td>2021-05-31 06:30:00</td>\n      <td>42392</td>\n      <td>19.675</td>\n      <td>False</td>\n      <td>Finance</td>\n    </tr>\n  </tbody>\n</table>\n<p>102 rows × 8 columns</p>\n</div>"
     },
     "metadata": {},
     "execution_count": 25
    }
   ],
   "source": [
    "condition = df['Team'] == 'Finance'\n",
    "\n",
    "df[condition]"
   ]
  },
  {
   "cell_type": "code",
   "execution_count": 28,
   "metadata": {},
   "outputs": [
    {
     "output_type": "execute_result",
     "data": {
      "text/plain": [
       "    First Name  Gender Start Date     Last Login Time  Salary  Bonus %  \\\n",
       "0      Douglas    Male 1993-08-06 2021-05-31 12:42:00   97308    6.945   \n",
       "1       Thomas    Male 1996-03-31 2021-05-31 06:53:00   61933    4.170   \n",
       "3        Jerry    Male 2005-03-04 2021-05-31 13:00:00  138705    9.340   \n",
       "4        Larry    Male 1998-01-24 2021-05-31 16:47:00  101004    1.389   \n",
       "6         Ruby  Female 1987-08-17 2021-05-31 16:20:00   65476   10.012   \n",
       "..         ...     ...        ...                 ...     ...      ...   \n",
       "991       Rose  Female 2002-08-25 2021-05-31 05:12:00  134505   11.051   \n",
       "992    Anthony    Male 2011-10-16 2021-05-31 08:35:00  112769   11.625   \n",
       "993       Tina  Female 1997-05-15 2021-05-31 15:53:00   56450   19.040   \n",
       "994     George    Male 2013-06-21 2021-05-31 17:47:00   98874    4.479   \n",
       "999     Albert    Male 2012-05-15 2021-05-31 18:24:00  129949   10.169   \n",
       "\n",
       "     Senior Management             Team  \n",
       "0                 True        Marketing  \n",
       "1                 True              NaN  \n",
       "3                 True          Finance  \n",
       "4                 True  Client Services  \n",
       "6                 True          Product  \n",
       "..                 ...              ...  \n",
       "991               True        Marketing  \n",
       "992               True          Finance  \n",
       "993               True      Engineering  \n",
       "994               True        Marketing  \n",
       "999               True            Sales  \n",
       "\n",
       "[535 rows x 8 columns]"
      ],
      "text/html": "<div>\n<style scoped>\n    .dataframe tbody tr th:only-of-type {\n        vertical-align: middle;\n    }\n\n    .dataframe tbody tr th {\n        vertical-align: top;\n    }\n\n    .dataframe thead th {\n        text-align: right;\n    }\n</style>\n<table border=\"1\" class=\"dataframe\">\n  <thead>\n    <tr style=\"text-align: right;\">\n      <th></th>\n      <th>First Name</th>\n      <th>Gender</th>\n      <th>Start Date</th>\n      <th>Last Login Time</th>\n      <th>Salary</th>\n      <th>Bonus %</th>\n      <th>Senior Management</th>\n      <th>Team</th>\n    </tr>\n  </thead>\n  <tbody>\n    <tr>\n      <th>0</th>\n      <td>Douglas</td>\n      <td>Male</td>\n      <td>1993-08-06</td>\n      <td>2021-05-31 12:42:00</td>\n      <td>97308</td>\n      <td>6.945</td>\n      <td>True</td>\n      <td>Marketing</td>\n    </tr>\n    <tr>\n      <th>1</th>\n      <td>Thomas</td>\n      <td>Male</td>\n      <td>1996-03-31</td>\n      <td>2021-05-31 06:53:00</td>\n      <td>61933</td>\n      <td>4.170</td>\n      <td>True</td>\n      <td>NaN</td>\n    </tr>\n    <tr>\n      <th>3</th>\n      <td>Jerry</td>\n      <td>Male</td>\n      <td>2005-03-04</td>\n      <td>2021-05-31 13:00:00</td>\n      <td>138705</td>\n      <td>9.340</td>\n      <td>True</td>\n      <td>Finance</td>\n    </tr>\n    <tr>\n      <th>4</th>\n      <td>Larry</td>\n      <td>Male</td>\n      <td>1998-01-24</td>\n      <td>2021-05-31 16:47:00</td>\n      <td>101004</td>\n      <td>1.389</td>\n      <td>True</td>\n      <td>Client Services</td>\n    </tr>\n    <tr>\n      <th>6</th>\n      <td>Ruby</td>\n      <td>Female</td>\n      <td>1987-08-17</td>\n      <td>2021-05-31 16:20:00</td>\n      <td>65476</td>\n      <td>10.012</td>\n      <td>True</td>\n      <td>Product</td>\n    </tr>\n    <tr>\n      <th>...</th>\n      <td>...</td>\n      <td>...</td>\n      <td>...</td>\n      <td>...</td>\n      <td>...</td>\n      <td>...</td>\n      <td>...</td>\n      <td>...</td>\n    </tr>\n    <tr>\n      <th>991</th>\n      <td>Rose</td>\n      <td>Female</td>\n      <td>2002-08-25</td>\n      <td>2021-05-31 05:12:00</td>\n      <td>134505</td>\n      <td>11.051</td>\n      <td>True</td>\n      <td>Marketing</td>\n    </tr>\n    <tr>\n      <th>992</th>\n      <td>Anthony</td>\n      <td>Male</td>\n      <td>2011-10-16</td>\n      <td>2021-05-31 08:35:00</td>\n      <td>112769</td>\n      <td>11.625</td>\n      <td>True</td>\n      <td>Finance</td>\n    </tr>\n    <tr>\n      <th>993</th>\n      <td>Tina</td>\n      <td>Female</td>\n      <td>1997-05-15</td>\n      <td>2021-05-31 15:53:00</td>\n      <td>56450</td>\n      <td>19.040</td>\n      <td>True</td>\n      <td>Engineering</td>\n    </tr>\n    <tr>\n      <th>994</th>\n      <td>George</td>\n      <td>Male</td>\n      <td>2013-06-21</td>\n      <td>2021-05-31 17:47:00</td>\n      <td>98874</td>\n      <td>4.479</td>\n      <td>True</td>\n      <td>Marketing</td>\n    </tr>\n    <tr>\n      <th>999</th>\n      <td>Albert</td>\n      <td>Male</td>\n      <td>2012-05-15</td>\n      <td>2021-05-31 18:24:00</td>\n      <td>129949</td>\n      <td>10.169</td>\n      <td>True</td>\n      <td>Sales</td>\n    </tr>\n  </tbody>\n</table>\n<p>535 rows × 8 columns</p>\n</div>"
     },
     "metadata": {},
     "execution_count": 28
    }
   ],
   "source": [
    "df[df['Senior Management']]"
   ]
  },
  {
   "cell_type": "code",
   "execution_count": 30,
   "metadata": {},
   "outputs": [
    {
     "output_type": "execute_result",
     "data": {
      "text/plain": [
       "    First Name  Gender Start Date     Last Login Time  Salary  Bonus %  \\\n",
       "1       Thomas    Male 1996-03-31 2021-05-31 06:53:00   61933    4.170   \n",
       "2        Maria  Female 1993-04-23 2021-05-31 11:17:00  130590   11.858   \n",
       "3        Jerry    Male 2005-03-04 2021-05-31 13:00:00  138705    9.340   \n",
       "4        Larry    Male 1998-01-24 2021-05-31 16:47:00  101004    1.389   \n",
       "5       Dennis    Male 1987-04-18 2021-05-31 01:35:00  115163   10.125   \n",
       "..         ...     ...        ...                 ...     ...      ...   \n",
       "995      Henry     NaN 2014-11-23 2021-05-31 06:09:00  132483   16.655   \n",
       "996    Phillip    Male 1984-01-31 2021-05-31 06:30:00   42392   19.675   \n",
       "997    Russell    Male 2013-05-20 2021-05-31 12:39:00   96914    1.421   \n",
       "998      Larry    Male 2013-04-20 2021-05-31 16:45:00   60500   11.985   \n",
       "999     Albert    Male 2012-05-15 2021-05-31 18:24:00  129949   10.169   \n",
       "\n",
       "     Senior Management                  Team  \n",
       "1                 True                   NaN  \n",
       "2                False               Finance  \n",
       "3                 True               Finance  \n",
       "4                 True       Client Services  \n",
       "5                False                 Legal  \n",
       "..                 ...                   ...  \n",
       "995              False          Distribution  \n",
       "996              False               Finance  \n",
       "997              False               Product  \n",
       "998              False  Business Development  \n",
       "999               True                 Sales  \n",
       "\n",
       "[902 rows x 8 columns]"
      ],
      "text/html": "<div>\n<style scoped>\n    .dataframe tbody tr th:only-of-type {\n        vertical-align: middle;\n    }\n\n    .dataframe tbody tr th {\n        vertical-align: top;\n    }\n\n    .dataframe thead th {\n        text-align: right;\n    }\n</style>\n<table border=\"1\" class=\"dataframe\">\n  <thead>\n    <tr style=\"text-align: right;\">\n      <th></th>\n      <th>First Name</th>\n      <th>Gender</th>\n      <th>Start Date</th>\n      <th>Last Login Time</th>\n      <th>Salary</th>\n      <th>Bonus %</th>\n      <th>Senior Management</th>\n      <th>Team</th>\n    </tr>\n  </thead>\n  <tbody>\n    <tr>\n      <th>1</th>\n      <td>Thomas</td>\n      <td>Male</td>\n      <td>1996-03-31</td>\n      <td>2021-05-31 06:53:00</td>\n      <td>61933</td>\n      <td>4.170</td>\n      <td>True</td>\n      <td>NaN</td>\n    </tr>\n    <tr>\n      <th>2</th>\n      <td>Maria</td>\n      <td>Female</td>\n      <td>1993-04-23</td>\n      <td>2021-05-31 11:17:00</td>\n      <td>130590</td>\n      <td>11.858</td>\n      <td>False</td>\n      <td>Finance</td>\n    </tr>\n    <tr>\n      <th>3</th>\n      <td>Jerry</td>\n      <td>Male</td>\n      <td>2005-03-04</td>\n      <td>2021-05-31 13:00:00</td>\n      <td>138705</td>\n      <td>9.340</td>\n      <td>True</td>\n      <td>Finance</td>\n    </tr>\n    <tr>\n      <th>4</th>\n      <td>Larry</td>\n      <td>Male</td>\n      <td>1998-01-24</td>\n      <td>2021-05-31 16:47:00</td>\n      <td>101004</td>\n      <td>1.389</td>\n      <td>True</td>\n      <td>Client Services</td>\n    </tr>\n    <tr>\n      <th>5</th>\n      <td>Dennis</td>\n      <td>Male</td>\n      <td>1987-04-18</td>\n      <td>2021-05-31 01:35:00</td>\n      <td>115163</td>\n      <td>10.125</td>\n      <td>False</td>\n      <td>Legal</td>\n    </tr>\n    <tr>\n      <th>...</th>\n      <td>...</td>\n      <td>...</td>\n      <td>...</td>\n      <td>...</td>\n      <td>...</td>\n      <td>...</td>\n      <td>...</td>\n      <td>...</td>\n    </tr>\n    <tr>\n      <th>995</th>\n      <td>Henry</td>\n      <td>NaN</td>\n      <td>2014-11-23</td>\n      <td>2021-05-31 06:09:00</td>\n      <td>132483</td>\n      <td>16.655</td>\n      <td>False</td>\n      <td>Distribution</td>\n    </tr>\n    <tr>\n      <th>996</th>\n      <td>Phillip</td>\n      <td>Male</td>\n      <td>1984-01-31</td>\n      <td>2021-05-31 06:30:00</td>\n      <td>42392</td>\n      <td>19.675</td>\n      <td>False</td>\n      <td>Finance</td>\n    </tr>\n    <tr>\n      <th>997</th>\n      <td>Russell</td>\n      <td>Male</td>\n      <td>2013-05-20</td>\n      <td>2021-05-31 12:39:00</td>\n      <td>96914</td>\n      <td>1.421</td>\n      <td>False</td>\n      <td>Product</td>\n    </tr>\n    <tr>\n      <th>998</th>\n      <td>Larry</td>\n      <td>Male</td>\n      <td>2013-04-20</td>\n      <td>2021-05-31 16:45:00</td>\n      <td>60500</td>\n      <td>11.985</td>\n      <td>False</td>\n      <td>Business Development</td>\n    </tr>\n    <tr>\n      <th>999</th>\n      <td>Albert</td>\n      <td>Male</td>\n      <td>2012-05-15</td>\n      <td>2021-05-31 18:24:00</td>\n      <td>129949</td>\n      <td>10.169</td>\n      <td>True</td>\n      <td>Sales</td>\n    </tr>\n  </tbody>\n</table>\n<p>902 rows × 8 columns</p>\n</div>"
     },
     "metadata": {},
     "execution_count": 30
    }
   ],
   "source": [
    "df[df['Team'] != 'Marketing']"
   ]
  },
  {
   "cell_type": "code",
   "execution_count": 53,
   "metadata": {},
   "outputs": [
    {
     "output_type": "execute_result",
     "data": {
      "text/plain": [
       "    First Name  Gender Start Date     Last Login Time  Salary  Bonus %  \\\n",
       "4        Larry    Male 1998-01-24 2021-05-31 16:47:00  101004    1.389   \n",
       "15     Lillian  Female 2016-06-05 2021-05-31 06:09:00   59414    1.256   \n",
       "58     Theresa  Female 2010-04-11 2021-05-31 07:18:00   72670    1.481   \n",
       "77     Charles    Male 2004-09-14 2021-05-31 20:13:00  107391    1.260   \n",
       "175     Willie    Male 1998-02-17 2021-05-31 20:20:00  146651    1.451   \n",
       "\n",
       "     Senior Management             Team  \n",
       "4                 True  Client Services  \n",
       "15               False          Product  \n",
       "58                True      Engineering  \n",
       "77                True        Marketing  \n",
       "175               True      Engineering  "
      ],
      "text/html": "<div>\n<style scoped>\n    .dataframe tbody tr th:only-of-type {\n        vertical-align: middle;\n    }\n\n    .dataframe tbody tr th {\n        vertical-align: top;\n    }\n\n    .dataframe thead th {\n        text-align: right;\n    }\n</style>\n<table border=\"1\" class=\"dataframe\">\n  <thead>\n    <tr style=\"text-align: right;\">\n      <th></th>\n      <th>First Name</th>\n      <th>Gender</th>\n      <th>Start Date</th>\n      <th>Last Login Time</th>\n      <th>Salary</th>\n      <th>Bonus %</th>\n      <th>Senior Management</th>\n      <th>Team</th>\n    </tr>\n  </thead>\n  <tbody>\n    <tr>\n      <th>4</th>\n      <td>Larry</td>\n      <td>Male</td>\n      <td>1998-01-24</td>\n      <td>2021-05-31 16:47:00</td>\n      <td>101004</td>\n      <td>1.389</td>\n      <td>True</td>\n      <td>Client Services</td>\n    </tr>\n    <tr>\n      <th>15</th>\n      <td>Lillian</td>\n      <td>Female</td>\n      <td>2016-06-05</td>\n      <td>2021-05-31 06:09:00</td>\n      <td>59414</td>\n      <td>1.256</td>\n      <td>False</td>\n      <td>Product</td>\n    </tr>\n    <tr>\n      <th>58</th>\n      <td>Theresa</td>\n      <td>Female</td>\n      <td>2010-04-11</td>\n      <td>2021-05-31 07:18:00</td>\n      <td>72670</td>\n      <td>1.481</td>\n      <td>True</td>\n      <td>Engineering</td>\n    </tr>\n    <tr>\n      <th>77</th>\n      <td>Charles</td>\n      <td>Male</td>\n      <td>2004-09-14</td>\n      <td>2021-05-31 20:13:00</td>\n      <td>107391</td>\n      <td>1.260</td>\n      <td>True</td>\n      <td>Marketing</td>\n    </tr>\n    <tr>\n      <th>175</th>\n      <td>Willie</td>\n      <td>Male</td>\n      <td>1998-02-17</td>\n      <td>2021-05-31 20:20:00</td>\n      <td>146651</td>\n      <td>1.451</td>\n      <td>True</td>\n      <td>Engineering</td>\n    </tr>\n  </tbody>\n</table>\n</div>"
     },
     "metadata": {},
     "execution_count": 53
    }
   ],
   "source": [
    "df[df['Salary'] > 110000]\n",
    "df[df['Bonus %'] < 1.5].head()"
   ]
  },
  {
   "cell_type": "code",
   "execution_count": 45,
   "metadata": {},
   "outputs": [
    {
     "output_type": "execute_result",
     "data": {
      "text/plain": [
       "    First Name  Gender Start Date     Last Login Time  Salary  Bonus %  \\\n",
       "10      Louise  Female 1980-08-12 2021-05-31 09:01:00   63241   15.132   \n",
       "12     Brandon    Male 1980-12-01 2021-05-31 01:08:00  112807   17.492   \n",
       "18       Diana  Female 1981-10-23 2021-05-31 10:27:00  132940   19.082   \n",
       "28       Terry    Male 1981-11-27 2021-05-31 18:30:00  124008   13.464   \n",
       "37       Linda  Female 1981-10-19 2021-05-31 20:49:00   57427    9.557   \n",
       "..         ...     ...        ...                 ...     ...      ...   \n",
       "982       Rose  Female 1982-04-06 2021-05-31 10:43:00   91411    8.639   \n",
       "983       John    Male 1982-12-23 2021-05-31 22:35:00  146907   11.738   \n",
       "985    Stephen     NaN 1983-07-10 2021-05-31 20:10:00   85668    1.909   \n",
       "986      Donna  Female 1982-11-26 2021-05-31 07:04:00   82871   17.999   \n",
       "996    Phillip    Male 1984-01-31 2021-05-31 06:30:00   42392   19.675   \n",
       "\n",
       "     Senior Management             Team  \n",
       "10                True              NaN  \n",
       "12                True  Human Resources  \n",
       "18               False  Client Services  \n",
       "28                True  Client Services  \n",
       "37                True  Client Services  \n",
       "..                 ...              ...  \n",
       "982               True  Human Resources  \n",
       "983              False      Engineering  \n",
       "985              False            Legal  \n",
       "986              False        Marketing  \n",
       "996              False          Finance  \n",
       "\n",
       "[133 rows x 8 columns]"
      ],
      "text/html": "<div>\n<style scoped>\n    .dataframe tbody tr th:only-of-type {\n        vertical-align: middle;\n    }\n\n    .dataframe tbody tr th {\n        vertical-align: top;\n    }\n\n    .dataframe thead th {\n        text-align: right;\n    }\n</style>\n<table border=\"1\" class=\"dataframe\">\n  <thead>\n    <tr style=\"text-align: right;\">\n      <th></th>\n      <th>First Name</th>\n      <th>Gender</th>\n      <th>Start Date</th>\n      <th>Last Login Time</th>\n      <th>Salary</th>\n      <th>Bonus %</th>\n      <th>Senior Management</th>\n      <th>Team</th>\n    </tr>\n  </thead>\n  <tbody>\n    <tr>\n      <th>10</th>\n      <td>Louise</td>\n      <td>Female</td>\n      <td>1980-08-12</td>\n      <td>2021-05-31 09:01:00</td>\n      <td>63241</td>\n      <td>15.132</td>\n      <td>True</td>\n      <td>NaN</td>\n    </tr>\n    <tr>\n      <th>12</th>\n      <td>Brandon</td>\n      <td>Male</td>\n      <td>1980-12-01</td>\n      <td>2021-05-31 01:08:00</td>\n      <td>112807</td>\n      <td>17.492</td>\n      <td>True</td>\n      <td>Human Resources</td>\n    </tr>\n    <tr>\n      <th>18</th>\n      <td>Diana</td>\n      <td>Female</td>\n      <td>1981-10-23</td>\n      <td>2021-05-31 10:27:00</td>\n      <td>132940</td>\n      <td>19.082</td>\n      <td>False</td>\n      <td>Client Services</td>\n    </tr>\n    <tr>\n      <th>28</th>\n      <td>Terry</td>\n      <td>Male</td>\n      <td>1981-11-27</td>\n      <td>2021-05-31 18:30:00</td>\n      <td>124008</td>\n      <td>13.464</td>\n      <td>True</td>\n      <td>Client Services</td>\n    </tr>\n    <tr>\n      <th>37</th>\n      <td>Linda</td>\n      <td>Female</td>\n      <td>1981-10-19</td>\n      <td>2021-05-31 20:49:00</td>\n      <td>57427</td>\n      <td>9.557</td>\n      <td>True</td>\n      <td>Client Services</td>\n    </tr>\n    <tr>\n      <th>...</th>\n      <td>...</td>\n      <td>...</td>\n      <td>...</td>\n      <td>...</td>\n      <td>...</td>\n      <td>...</td>\n      <td>...</td>\n      <td>...</td>\n    </tr>\n    <tr>\n      <th>982</th>\n      <td>Rose</td>\n      <td>Female</td>\n      <td>1982-04-06</td>\n      <td>2021-05-31 10:43:00</td>\n      <td>91411</td>\n      <td>8.639</td>\n      <td>True</td>\n      <td>Human Resources</td>\n    </tr>\n    <tr>\n      <th>983</th>\n      <td>John</td>\n      <td>Male</td>\n      <td>1982-12-23</td>\n      <td>2021-05-31 22:35:00</td>\n      <td>146907</td>\n      <td>11.738</td>\n      <td>False</td>\n      <td>Engineering</td>\n    </tr>\n    <tr>\n      <th>985</th>\n      <td>Stephen</td>\n      <td>NaN</td>\n      <td>1983-07-10</td>\n      <td>2021-05-31 20:10:00</td>\n      <td>85668</td>\n      <td>1.909</td>\n      <td>False</td>\n      <td>Legal</td>\n    </tr>\n    <tr>\n      <th>986</th>\n      <td>Donna</td>\n      <td>Female</td>\n      <td>1982-11-26</td>\n      <td>2021-05-31 07:04:00</td>\n      <td>82871</td>\n      <td>17.999</td>\n      <td>False</td>\n      <td>Marketing</td>\n    </tr>\n    <tr>\n      <th>996</th>\n      <td>Phillip</td>\n      <td>Male</td>\n      <td>1984-01-31</td>\n      <td>2021-05-31 06:30:00</td>\n      <td>42392</td>\n      <td>19.675</td>\n      <td>False</td>\n      <td>Finance</td>\n    </tr>\n  </tbody>\n</table>\n<p>133 rows × 8 columns</p>\n</div>"
     },
     "metadata": {},
     "execution_count": 45
    }
   ],
   "source": [
    "condition = df['Start Date'] <= '1985-01-01'\n",
    "df[condition]"
   ]
  },
  {
   "cell_type": "code",
   "execution_count": 46,
   "metadata": {},
   "outputs": [],
   "source": [
    "# Filter with More then one condition (AND)"
   ]
  },
  {
   "cell_type": "code",
   "execution_count": 51,
   "metadata": {},
   "outputs": [
    {
     "output_type": "execute_result",
     "data": {
      "text/plain": [
       "   First Name Gender Start Date     Last Login Time  Salary  Bonus %  \\\n",
       "0     Douglas   Male 1993-08-06 2021-05-31 12:42:00   97308    6.945   \n",
       "21    Matthew   Male 1995-09-05 2021-05-31 02:12:00  100612   13.645   \n",
       "26      Craig   Male 2000-02-27 2021-05-31 07:45:00   37598    7.757   \n",
       "\n",
       "    Senior Management       Team  \n",
       "0                True  Marketing  \n",
       "21              False  Marketing  \n",
       "26               True  Marketing  "
      ],
      "text/html": "<div>\n<style scoped>\n    .dataframe tbody tr th:only-of-type {\n        vertical-align: middle;\n    }\n\n    .dataframe tbody tr th {\n        vertical-align: top;\n    }\n\n    .dataframe thead th {\n        text-align: right;\n    }\n</style>\n<table border=\"1\" class=\"dataframe\">\n  <thead>\n    <tr style=\"text-align: right;\">\n      <th></th>\n      <th>First Name</th>\n      <th>Gender</th>\n      <th>Start Date</th>\n      <th>Last Login Time</th>\n      <th>Salary</th>\n      <th>Bonus %</th>\n      <th>Senior Management</th>\n      <th>Team</th>\n    </tr>\n  </thead>\n  <tbody>\n    <tr>\n      <th>0</th>\n      <td>Douglas</td>\n      <td>Male</td>\n      <td>1993-08-06</td>\n      <td>2021-05-31 12:42:00</td>\n      <td>97308</td>\n      <td>6.945</td>\n      <td>True</td>\n      <td>Marketing</td>\n    </tr>\n    <tr>\n      <th>21</th>\n      <td>Matthew</td>\n      <td>Male</td>\n      <td>1995-09-05</td>\n      <td>2021-05-31 02:12:00</td>\n      <td>100612</td>\n      <td>13.645</td>\n      <td>False</td>\n      <td>Marketing</td>\n    </tr>\n    <tr>\n      <th>26</th>\n      <td>Craig</td>\n      <td>Male</td>\n      <td>2000-02-27</td>\n      <td>2021-05-31 07:45:00</td>\n      <td>37598</td>\n      <td>7.757</td>\n      <td>True</td>\n      <td>Marketing</td>\n    </tr>\n  </tbody>\n</table>\n</div>"
     },
     "metadata": {},
     "execution_count": 51
    }
   ],
   "source": [
    "condition1 = df['Gender'] == 'Male'\n",
    "condition2 = df['Team'] == 'Marketing'\n",
    "df[condition1 & condition2].head(3)\n"
   ]
  },
  {
   "cell_type": "code",
   "execution_count": 52,
   "metadata": {},
   "outputs": [],
   "source": [
    "# Filter with More than One Condition (OR)"
   ]
  },
  {
   "cell_type": "code",
   "execution_count": 54,
   "metadata": {},
   "outputs": [
    {
     "output_type": "execute_result",
     "data": {
      "text/plain": [
       "  First Name  Gender Start Date     Last Login Time  Salary  Bonus %  \\\n",
       "0    Douglas    Male 1993-08-06 2021-05-31 12:42:00   97308    6.945   \n",
       "1     Thomas    Male 1996-03-31 2021-05-31 06:53:00   61933    4.170   \n",
       "2      Maria  Female 1993-04-23 2021-05-31 11:17:00  130590   11.858   \n",
       "\n",
       "   Senior Management       Team  \n",
       "0               True  Marketing  \n",
       "1               True        NaN  \n",
       "2              False    Finance  "
      ],
      "text/html": "<div>\n<style scoped>\n    .dataframe tbody tr th:only-of-type {\n        vertical-align: middle;\n    }\n\n    .dataframe tbody tr th {\n        vertical-align: top;\n    }\n\n    .dataframe thead th {\n        text-align: right;\n    }\n</style>\n<table border=\"1\" class=\"dataframe\">\n  <thead>\n    <tr style=\"text-align: right;\">\n      <th></th>\n      <th>First Name</th>\n      <th>Gender</th>\n      <th>Start Date</th>\n      <th>Last Login Time</th>\n      <th>Salary</th>\n      <th>Bonus %</th>\n      <th>Senior Management</th>\n      <th>Team</th>\n    </tr>\n  </thead>\n  <tbody>\n    <tr>\n      <th>0</th>\n      <td>Douglas</td>\n      <td>Male</td>\n      <td>1993-08-06</td>\n      <td>2021-05-31 12:42:00</td>\n      <td>97308</td>\n      <td>6.945</td>\n      <td>True</td>\n      <td>Marketing</td>\n    </tr>\n    <tr>\n      <th>1</th>\n      <td>Thomas</td>\n      <td>Male</td>\n      <td>1996-03-31</td>\n      <td>2021-05-31 06:53:00</td>\n      <td>61933</td>\n      <td>4.170</td>\n      <td>True</td>\n      <td>NaN</td>\n    </tr>\n    <tr>\n      <th>2</th>\n      <td>Maria</td>\n      <td>Female</td>\n      <td>1993-04-23</td>\n      <td>2021-05-31 11:17:00</td>\n      <td>130590</td>\n      <td>11.858</td>\n      <td>False</td>\n      <td>Finance</td>\n    </tr>\n  </tbody>\n</table>\n</div>"
     },
     "metadata": {},
     "execution_count": 54
    }
   ],
   "source": [
    "df = pd.read_csv('../pandas_data/employees.csv', parse_dates=['Start Date','Last Login Time'])\n",
    "df['Senior Management'] = df['Senior Management'].astype('bool')\n",
    "df['Gender'] = df['Gender'].astype('category')\n",
    "df.head(3)"
   ]
  },
  {
   "cell_type": "code",
   "execution_count": 60,
   "metadata": {},
   "outputs": [
    {
     "output_type": "execute_result",
     "data": {
      "text/plain": [
       "  First Name Gender Start Date     Last Login Time  Salary  Bonus %  \\\n",
       "0    Douglas   Male 1993-08-06 2021-05-31 12:42:00   97308    6.945   \n",
       "1     Thomas   Male 1996-03-31 2021-05-31 06:53:00   61933    4.170   \n",
       "3      Jerry   Male 2005-03-04 2021-05-31 13:00:00  138705    9.340   \n",
       "4      Larry   Male 1998-01-24 2021-05-31 16:47:00  101004    1.389   \n",
       "5     Dennis   Male 1987-04-18 2021-05-31 01:35:00  115163   10.125   \n",
       "\n",
       "   Senior Management             Team  \n",
       "0               True        Marketing  \n",
       "1               True              NaN  \n",
       "3               True          Finance  \n",
       "4               True  Client Services  \n",
       "5              False            Legal  "
      ],
      "text/html": "<div>\n<style scoped>\n    .dataframe tbody tr th:only-of-type {\n        vertical-align: middle;\n    }\n\n    .dataframe tbody tr th {\n        vertical-align: top;\n    }\n\n    .dataframe thead th {\n        text-align: right;\n    }\n</style>\n<table border=\"1\" class=\"dataframe\">\n  <thead>\n    <tr style=\"text-align: right;\">\n      <th></th>\n      <th>First Name</th>\n      <th>Gender</th>\n      <th>Start Date</th>\n      <th>Last Login Time</th>\n      <th>Salary</th>\n      <th>Bonus %</th>\n      <th>Senior Management</th>\n      <th>Team</th>\n    </tr>\n  </thead>\n  <tbody>\n    <tr>\n      <th>0</th>\n      <td>Douglas</td>\n      <td>Male</td>\n      <td>1993-08-06</td>\n      <td>2021-05-31 12:42:00</td>\n      <td>97308</td>\n      <td>6.945</td>\n      <td>True</td>\n      <td>Marketing</td>\n    </tr>\n    <tr>\n      <th>1</th>\n      <td>Thomas</td>\n      <td>Male</td>\n      <td>1996-03-31</td>\n      <td>2021-05-31 06:53:00</td>\n      <td>61933</td>\n      <td>4.170</td>\n      <td>True</td>\n      <td>NaN</td>\n    </tr>\n    <tr>\n      <th>3</th>\n      <td>Jerry</td>\n      <td>Male</td>\n      <td>2005-03-04</td>\n      <td>2021-05-31 13:00:00</td>\n      <td>138705</td>\n      <td>9.340</td>\n      <td>True</td>\n      <td>Finance</td>\n    </tr>\n    <tr>\n      <th>4</th>\n      <td>Larry</td>\n      <td>Male</td>\n      <td>1998-01-24</td>\n      <td>2021-05-31 16:47:00</td>\n      <td>101004</td>\n      <td>1.389</td>\n      <td>True</td>\n      <td>Client Services</td>\n    </tr>\n    <tr>\n      <th>5</th>\n      <td>Dennis</td>\n      <td>Male</td>\n      <td>1987-04-18</td>\n      <td>2021-05-31 01:35:00</td>\n      <td>115163</td>\n      <td>10.125</td>\n      <td>False</td>\n      <td>Legal</td>\n    </tr>\n  </tbody>\n</table>\n</div>"
     },
     "metadata": {},
     "execution_count": 60
    }
   ],
   "source": [
    "condition1 = df['Senior Management']\n",
    "condition2 = df['Start Date'] < '1990-01-01'\n",
    "df[condition1 | condition2].head()"
   ]
  },
  {
   "cell_type": "code",
   "execution_count": 64,
   "metadata": {},
   "outputs": [],
   "source": [
    "condition1 = df['First Name'] == 'Robert'\n",
    "condition2 = df['Team'] == 'Client Services'\n",
    "condition3 = df['Start Date'] == '2016-06-01'"
   ]
  },
  {
   "cell_type": "code",
   "execution_count": 65,
   "metadata": {},
   "outputs": [
    {
     "output_type": "execute_result",
     "data": {
      "text/plain": [
       "    First Name Gender Start Date     Last Login Time  Salary  Bonus %  \\\n",
       "387     Robert   Male 1994-10-29 2021-05-31 04:26:00  123294   19.894   \n",
       "\n",
       "     Senior Management             Team  \n",
       "387              False  Client Services  "
      ],
      "text/html": "<div>\n<style scoped>\n    .dataframe tbody tr th:only-of-type {\n        vertical-align: middle;\n    }\n\n    .dataframe tbody tr th {\n        vertical-align: top;\n    }\n\n    .dataframe thead th {\n        text-align: right;\n    }\n</style>\n<table border=\"1\" class=\"dataframe\">\n  <thead>\n    <tr style=\"text-align: right;\">\n      <th></th>\n      <th>First Name</th>\n      <th>Gender</th>\n      <th>Start Date</th>\n      <th>Last Login Time</th>\n      <th>Salary</th>\n      <th>Bonus %</th>\n      <th>Senior Management</th>\n      <th>Team</th>\n    </tr>\n  </thead>\n  <tbody>\n    <tr>\n      <th>387</th>\n      <td>Robert</td>\n      <td>Male</td>\n      <td>1994-10-29</td>\n      <td>2021-05-31 04:26:00</td>\n      <td>123294</td>\n      <td>19.894</td>\n      <td>False</td>\n      <td>Client Services</td>\n    </tr>\n  </tbody>\n</table>\n</div>"
     },
     "metadata": {},
     "execution_count": 65
    }
   ],
   "source": [
    "df[(condition1 & condition2) | condition3]"
   ]
  },
  {
   "cell_type": "code",
   "execution_count": 66,
   "metadata": {},
   "outputs": [],
   "source": [
    "# The .isin() Method"
   ]
  },
  {
   "cell_type": "code",
   "execution_count": 70,
   "metadata": {},
   "outputs": [],
   "source": [
    "condition1 = df['Team'] == \"Legal\"\n",
    "condition2 = df['Team'] == \"Sales\"\n",
    "condition3 = df['Team'] == \"Product\""
   ]
  },
  {
   "cell_type": "code",
   "execution_count": 79,
   "metadata": {},
   "outputs": [
    {
     "output_type": "execute_result",
     "data": {
      "text/plain": [
       "    First Name  Gender Start Date     Last Login Time  Salary  Bonus %  \\\n",
       "0      Douglas    Male 1993-08-06 2021-05-31 12:42:00   97308    6.945   \n",
       "5       Dennis    Male 1987-04-18 2021-05-31 01:35:00  115163   10.125   \n",
       "6         Ruby  Female 1987-08-17 2021-05-31 16:20:00   65476   10.012   \n",
       "11       Julie  Female 1997-10-26 2021-05-31 15:19:00  102508   12.637   \n",
       "15     Lillian  Female 2016-06-05 2021-05-31 06:09:00   59414    1.256   \n",
       "..         ...     ...        ...                 ...     ...      ...   \n",
       "986      Donna  Female 1982-11-26 2021-05-31 07:04:00   82871   17.999   \n",
       "989     Justin     NaN 1991-02-10 2021-05-31 16:58:00   38344    3.794   \n",
       "991       Rose  Female 2002-08-25 2021-05-31 05:12:00  134505   11.051   \n",
       "994     George    Male 2013-06-21 2021-05-31 17:47:00   98874    4.479   \n",
       "997    Russell    Male 2013-05-20 2021-05-31 12:39:00   96914    1.421   \n",
       "\n",
       "     Senior Management       Team  \n",
       "0                 True  Marketing  \n",
       "5                False      Legal  \n",
       "6                 True    Product  \n",
       "11                True      Legal  \n",
       "15               False    Product  \n",
       "..                 ...        ...  \n",
       "986              False  Marketing  \n",
       "989              False      Legal  \n",
       "991               True  Marketing  \n",
       "994               True  Marketing  \n",
       "997              False    Product  \n",
       "\n",
       "[281 rows x 8 columns]"
      ],
      "text/html": "<div>\n<style scoped>\n    .dataframe tbody tr th:only-of-type {\n        vertical-align: middle;\n    }\n\n    .dataframe tbody tr th {\n        vertical-align: top;\n    }\n\n    .dataframe thead th {\n        text-align: right;\n    }\n</style>\n<table border=\"1\" class=\"dataframe\">\n  <thead>\n    <tr style=\"text-align: right;\">\n      <th></th>\n      <th>First Name</th>\n      <th>Gender</th>\n      <th>Start Date</th>\n      <th>Last Login Time</th>\n      <th>Salary</th>\n      <th>Bonus %</th>\n      <th>Senior Management</th>\n      <th>Team</th>\n    </tr>\n  </thead>\n  <tbody>\n    <tr>\n      <th>0</th>\n      <td>Douglas</td>\n      <td>Male</td>\n      <td>1993-08-06</td>\n      <td>2021-05-31 12:42:00</td>\n      <td>97308</td>\n      <td>6.945</td>\n      <td>True</td>\n      <td>Marketing</td>\n    </tr>\n    <tr>\n      <th>5</th>\n      <td>Dennis</td>\n      <td>Male</td>\n      <td>1987-04-18</td>\n      <td>2021-05-31 01:35:00</td>\n      <td>115163</td>\n      <td>10.125</td>\n      <td>False</td>\n      <td>Legal</td>\n    </tr>\n    <tr>\n      <th>6</th>\n      <td>Ruby</td>\n      <td>Female</td>\n      <td>1987-08-17</td>\n      <td>2021-05-31 16:20:00</td>\n      <td>65476</td>\n      <td>10.012</td>\n      <td>True</td>\n      <td>Product</td>\n    </tr>\n    <tr>\n      <th>11</th>\n      <td>Julie</td>\n      <td>Female</td>\n      <td>1997-10-26</td>\n      <td>2021-05-31 15:19:00</td>\n      <td>102508</td>\n      <td>12.637</td>\n      <td>True</td>\n      <td>Legal</td>\n    </tr>\n    <tr>\n      <th>15</th>\n      <td>Lillian</td>\n      <td>Female</td>\n      <td>2016-06-05</td>\n      <td>2021-05-31 06:09:00</td>\n      <td>59414</td>\n      <td>1.256</td>\n      <td>False</td>\n      <td>Product</td>\n    </tr>\n    <tr>\n      <th>...</th>\n      <td>...</td>\n      <td>...</td>\n      <td>...</td>\n      <td>...</td>\n      <td>...</td>\n      <td>...</td>\n      <td>...</td>\n      <td>...</td>\n    </tr>\n    <tr>\n      <th>986</th>\n      <td>Donna</td>\n      <td>Female</td>\n      <td>1982-11-26</td>\n      <td>2021-05-31 07:04:00</td>\n      <td>82871</td>\n      <td>17.999</td>\n      <td>False</td>\n      <td>Marketing</td>\n    </tr>\n    <tr>\n      <th>989</th>\n      <td>Justin</td>\n      <td>NaN</td>\n      <td>1991-02-10</td>\n      <td>2021-05-31 16:58:00</td>\n      <td>38344</td>\n      <td>3.794</td>\n      <td>False</td>\n      <td>Legal</td>\n    </tr>\n    <tr>\n      <th>991</th>\n      <td>Rose</td>\n      <td>Female</td>\n      <td>2002-08-25</td>\n      <td>2021-05-31 05:12:00</td>\n      <td>134505</td>\n      <td>11.051</td>\n      <td>True</td>\n      <td>Marketing</td>\n    </tr>\n    <tr>\n      <th>994</th>\n      <td>George</td>\n      <td>Male</td>\n      <td>2013-06-21</td>\n      <td>2021-05-31 17:47:00</td>\n      <td>98874</td>\n      <td>4.479</td>\n      <td>True</td>\n      <td>Marketing</td>\n    </tr>\n    <tr>\n      <th>997</th>\n      <td>Russell</td>\n      <td>Male</td>\n      <td>2013-05-20</td>\n      <td>2021-05-31 12:39:00</td>\n      <td>96914</td>\n      <td>1.421</td>\n      <td>False</td>\n      <td>Product</td>\n    </tr>\n  </tbody>\n</table>\n<p>281 rows × 8 columns</p>\n</div>"
     },
     "metadata": {},
     "execution_count": 79
    }
   ],
   "source": [
    "df[condition1 | condition2 | condition3]\n",
    "condition = df['Team'].isin(['Legal','Product','Marketing']) # Best practice\n",
    "\n",
    "df[condition]"
   ]
  },
  {
   "cell_type": "code",
   "execution_count": null,
   "metadata": {},
   "outputs": [],
   "source": []
  }
 ]
}