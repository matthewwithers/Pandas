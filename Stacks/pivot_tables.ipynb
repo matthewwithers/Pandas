{
 "metadata": {
  "language_info": {
   "codemirror_mode": {
    "name": "ipython",
    "version": 3
   },
   "file_extension": ".py",
   "mimetype": "text/x-python",
   "name": "python",
   "nbconvert_exporter": "python",
   "pygments_lexer": "ipython3",
   "version": "3.7.6"
  },
  "orig_nbformat": 2,
  "kernelspec": {
   "name": "python376jvsc74a57bd01334010457180b265d09b56daeed883170adb1c65c35741b4ba4ec40109d9a77",
   "display_name": "Python 3.7.6 64-bit ('base': conda)"
  }
 },
 "nbformat": 4,
 "nbformat_minor": 2,
 "cells": [
  {
   "cell_type": "code",
   "execution_count": 2,
   "metadata": {},
   "outputs": [
    {
     "output_type": "execute_result",
     "data": {
      "text/plain": [
       "  First Name  Gender      City Frequency     Item  Spend\n",
       "0      Wanda  Female  Stamford    Weekly   Burger  15.66\n",
       "1       Eric    Male  Stamford     Daily  Chalupa  10.56\n",
       "2    Charles    Male  New York     Never    Sushi  42.14"
      ],
      "text/html": "<div>\n<style scoped>\n    .dataframe tbody tr th:only-of-type {\n        vertical-align: middle;\n    }\n\n    .dataframe tbody tr th {\n        vertical-align: top;\n    }\n\n    .dataframe thead th {\n        text-align: right;\n    }\n</style>\n<table border=\"1\" class=\"dataframe\">\n  <thead>\n    <tr style=\"text-align: right;\">\n      <th></th>\n      <th>First Name</th>\n      <th>Gender</th>\n      <th>City</th>\n      <th>Frequency</th>\n      <th>Item</th>\n      <th>Spend</th>\n    </tr>\n  </thead>\n  <tbody>\n    <tr>\n      <th>0</th>\n      <td>Wanda</td>\n      <td>Female</td>\n      <td>Stamford</td>\n      <td>Weekly</td>\n      <td>Burger</td>\n      <td>15.66</td>\n    </tr>\n    <tr>\n      <th>1</th>\n      <td>Eric</td>\n      <td>Male</td>\n      <td>Stamford</td>\n      <td>Daily</td>\n      <td>Chalupa</td>\n      <td>10.56</td>\n    </tr>\n    <tr>\n      <th>2</th>\n      <td>Charles</td>\n      <td>Male</td>\n      <td>New York</td>\n      <td>Never</td>\n      <td>Sushi</td>\n      <td>42.14</td>\n    </tr>\n  </tbody>\n</table>\n</div>"
     },
     "metadata": {},
     "execution_count": 2
    }
   ],
   "source": [
    "import pandas as pd \n",
    "foods = pd.read_csv('../Files/foods.csv')\n",
    "foods.head(3)"
   ]
  },
  {
   "cell_type": "code",
   "execution_count": 16,
   "metadata": {},
   "outputs": [
    {
     "output_type": "execute_result",
     "data": {
      "text/plain": [
       "City              New York  Philadelphia  Stamford\n",
       "Gender Item                                       \n",
       "Female Burger         2.25          1.97      6.24\n",
       "       Burrito        1.02          1.04      1.18\n",
       "       Chalupa        1.96          9.35      9.09\n",
       "       Donut          3.15          2.13      1.68\n",
       "       Ice Cream     13.39          7.61      8.80\n",
       "       Sushi          2.52         11.68      8.20\n",
       "Male   Burger         5.43          1.71      2.83\n",
       "       Burrito       15.90          8.58      3.64\n",
       "       Chalupa       11.61          1.94     10.56\n",
       "       Donut          1.49          1.26      6.63\n",
       "       Ice Cream     14.06          4.89      3.43\n",
       "       Sushi          3.28          2.01     32.15"
      ],
      "text/html": "<div>\n<style scoped>\n    .dataframe tbody tr th:only-of-type {\n        vertical-align: middle;\n    }\n\n    .dataframe tbody tr th {\n        vertical-align: top;\n    }\n\n    .dataframe thead th {\n        text-align: right;\n    }\n</style>\n<table border=\"1\" class=\"dataframe\">\n  <thead>\n    <tr style=\"text-align: right;\">\n      <th></th>\n      <th>City</th>\n      <th>New York</th>\n      <th>Philadelphia</th>\n      <th>Stamford</th>\n    </tr>\n    <tr>\n      <th>Gender</th>\n      <th>Item</th>\n      <th></th>\n      <th></th>\n      <th></th>\n    </tr>\n  </thead>\n  <tbody>\n    <tr>\n      <th rowspan=\"6\" valign=\"top\">Female</th>\n      <th>Burger</th>\n      <td>2.25</td>\n      <td>1.97</td>\n      <td>6.24</td>\n    </tr>\n    <tr>\n      <th>Burrito</th>\n      <td>1.02</td>\n      <td>1.04</td>\n      <td>1.18</td>\n    </tr>\n    <tr>\n      <th>Chalupa</th>\n      <td>1.96</td>\n      <td>9.35</td>\n      <td>9.09</td>\n    </tr>\n    <tr>\n      <th>Donut</th>\n      <td>3.15</td>\n      <td>2.13</td>\n      <td>1.68</td>\n    </tr>\n    <tr>\n      <th>Ice Cream</th>\n      <td>13.39</td>\n      <td>7.61</td>\n      <td>8.80</td>\n    </tr>\n    <tr>\n      <th>Sushi</th>\n      <td>2.52</td>\n      <td>11.68</td>\n      <td>8.20</td>\n    </tr>\n    <tr>\n      <th rowspan=\"6\" valign=\"top\">Male</th>\n      <th>Burger</th>\n      <td>5.43</td>\n      <td>1.71</td>\n      <td>2.83</td>\n    </tr>\n    <tr>\n      <th>Burrito</th>\n      <td>15.90</td>\n      <td>8.58</td>\n      <td>3.64</td>\n    </tr>\n    <tr>\n      <th>Chalupa</th>\n      <td>11.61</td>\n      <td>1.94</td>\n      <td>10.56</td>\n    </tr>\n    <tr>\n      <th>Donut</th>\n      <td>1.49</td>\n      <td>1.26</td>\n      <td>6.63</td>\n    </tr>\n    <tr>\n      <th>Ice Cream</th>\n      <td>14.06</td>\n      <td>4.89</td>\n      <td>3.43</td>\n    </tr>\n    <tr>\n      <th>Sushi</th>\n      <td>3.28</td>\n      <td>2.01</td>\n      <td>32.15</td>\n    </tr>\n  </tbody>\n</table>\n</div>"
     },
     "metadata": {},
     "execution_count": 16
    }
   ],
   "source": [
    "foods.pivot_table(values=\"Spend\",index=\"Gender\",aggfunc=\"sum\")\n",
    "foods.pivot_table(values=\"Spend\",index=\"Item\",aggfunc=\"mean\")\n",
    "foods.pivot_table(values=\"Spend\",index=\"City\",aggfunc=\"mean\")\n",
    "foods.pivot_table(values=\"Spend\",index=[\"Gender\",\"Item\"], columns=[\"City\"] , aggfunc=\"max\")\n",
    "foods.pivot_table(values=\"Spend\",index=[\"Gender\",\"Item\"], columns=[\"City\"] , aggfunc=\"min\")"
   ]
  },
  {
   "cell_type": "code",
   "execution_count": 17,
   "metadata": {},
   "outputs": [
    {
     "output_type": "execute_result",
     "data": {
      "text/plain": [
       "City              New York  Philadelphia  Stamford\n",
       "Gender Item                                       \n",
       "Female Burger         2.25          1.97      6.24\n",
       "       Burrito        1.02          1.04      1.18\n",
       "       Chalupa        1.96          9.35      9.09\n",
       "       Donut          3.15          2.13      1.68\n",
       "       Ice Cream     13.39          7.61      8.80\n",
       "       Sushi          2.52         11.68      8.20\n",
       "Male   Burger         5.43          1.71      2.83\n",
       "       Burrito       15.90          8.58      3.64\n",
       "       Chalupa       11.61          1.94     10.56\n",
       "       Donut          1.49          1.26      6.63\n",
       "       Ice Cream     14.06          4.89      3.43\n",
       "       Sushi          3.28          2.01     32.15"
      ],
      "text/html": "<div>\n<style scoped>\n    .dataframe tbody tr th:only-of-type {\n        vertical-align: middle;\n    }\n\n    .dataframe tbody tr th {\n        vertical-align: top;\n    }\n\n    .dataframe thead th {\n        text-align: right;\n    }\n</style>\n<table border=\"1\" class=\"dataframe\">\n  <thead>\n    <tr style=\"text-align: right;\">\n      <th></th>\n      <th>City</th>\n      <th>New York</th>\n      <th>Philadelphia</th>\n      <th>Stamford</th>\n    </tr>\n    <tr>\n      <th>Gender</th>\n      <th>Item</th>\n      <th></th>\n      <th></th>\n      <th></th>\n    </tr>\n  </thead>\n  <tbody>\n    <tr>\n      <th rowspan=\"6\" valign=\"top\">Female</th>\n      <th>Burger</th>\n      <td>2.25</td>\n      <td>1.97</td>\n      <td>6.24</td>\n    </tr>\n    <tr>\n      <th>Burrito</th>\n      <td>1.02</td>\n      <td>1.04</td>\n      <td>1.18</td>\n    </tr>\n    <tr>\n      <th>Chalupa</th>\n      <td>1.96</td>\n      <td>9.35</td>\n      <td>9.09</td>\n    </tr>\n    <tr>\n      <th>Donut</th>\n      <td>3.15</td>\n      <td>2.13</td>\n      <td>1.68</td>\n    </tr>\n    <tr>\n      <th>Ice Cream</th>\n      <td>13.39</td>\n      <td>7.61</td>\n      <td>8.80</td>\n    </tr>\n    <tr>\n      <th>Sushi</th>\n      <td>2.52</td>\n      <td>11.68</td>\n      <td>8.20</td>\n    </tr>\n    <tr>\n      <th rowspan=\"6\" valign=\"top\">Male</th>\n      <th>Burger</th>\n      <td>5.43</td>\n      <td>1.71</td>\n      <td>2.83</td>\n    </tr>\n    <tr>\n      <th>Burrito</th>\n      <td>15.90</td>\n      <td>8.58</td>\n      <td>3.64</td>\n    </tr>\n    <tr>\n      <th>Chalupa</th>\n      <td>11.61</td>\n      <td>1.94</td>\n      <td>10.56</td>\n    </tr>\n    <tr>\n      <th>Donut</th>\n      <td>1.49</td>\n      <td>1.26</td>\n      <td>6.63</td>\n    </tr>\n    <tr>\n      <th>Ice Cream</th>\n      <td>14.06</td>\n      <td>4.89</td>\n      <td>3.43</td>\n    </tr>\n    <tr>\n      <th>Sushi</th>\n      <td>3.28</td>\n      <td>2.01</td>\n      <td>32.15</td>\n    </tr>\n  </tbody>\n</table>\n</div>"
     },
     "metadata": {},
     "execution_count": 17
    }
   ],
   "source": [
    "pd.pivot_table(foods, values=\"Spend\",index=[\"Gender\",\"Item\"], columns=[\"City\"] , aggfunc=\"min\")"
   ]
  },
  {
   "cell_type": "code",
   "execution_count": null,
   "metadata": {},
   "outputs": [],
   "source": []
  }
 ]
}