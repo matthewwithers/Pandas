{
 "metadata": {
  "language_info": {
   "codemirror_mode": {
    "name": "ipython",
    "version": 3
   },
   "file_extension": ".py",
   "mimetype": "text/x-python",
   "name": "python",
   "nbconvert_exporter": "python",
   "pygments_lexer": "ipython3",
   "version": "3.7.6"
  },
  "orig_nbformat": 2,
  "kernelspec": {
   "name": "python376jvsc74a57bd01334010457180b265d09b56daeed883170adb1c65c35741b4ba4ec40109d9a77",
   "display_name": "Python 3.7.6 64-bit ('base': conda)"
  }
 },
 "nbformat": 4,
 "nbformat_minor": 2,
 "cells": [
  {
   "cell_type": "code",
   "execution_count": 2,
   "metadata": {},
   "outputs": [],
   "source": [
    "import pandas as pd \n",
    "week1 = pd.read_csv('../Files/Restaurant - Week 1 Sales.csv')\n",
    "week2 = pd.read_csv('../Files/Restaurant - Week 2 Sales.csv')\n",
    "customers = pd.read_csv('../Files/Restaurant - Customers.csv', index_col=\"ID\")\n",
    "foods = pd.read_csv('../Files/Restaurant - Foods.csv', index_col='Food ID')\n",
    "satisfaction = pd.read_csv('../Files/Restaurant - Week 1 Satisfaction.csv')"
   ]
  },
  {
   "cell_type": "code",
   "execution_count": 3,
   "metadata": {},
   "outputs": [
    {
     "output_type": "execute_result",
     "data": {
      "text/plain": [
       "   Customer ID  Food ID\n",
       "0          537        9\n",
       "1           97        4\n",
       "2          658        1"
      ],
      "text/html": "<div>\n<style scoped>\n    .dataframe tbody tr th:only-of-type {\n        vertical-align: middle;\n    }\n\n    .dataframe tbody tr th {\n        vertical-align: top;\n    }\n\n    .dataframe thead th {\n        text-align: right;\n    }\n</style>\n<table border=\"1\" class=\"dataframe\">\n  <thead>\n    <tr style=\"text-align: right;\">\n      <th></th>\n      <th>Customer ID</th>\n      <th>Food ID</th>\n    </tr>\n  </thead>\n  <tbody>\n    <tr>\n      <th>0</th>\n      <td>537</td>\n      <td>9</td>\n    </tr>\n    <tr>\n      <th>1</th>\n      <td>97</td>\n      <td>4</td>\n    </tr>\n    <tr>\n      <th>2</th>\n      <td>658</td>\n      <td>1</td>\n    </tr>\n  </tbody>\n</table>\n</div>"
     },
     "metadata": {},
     "execution_count": 3
    }
   ],
   "source": [
    "week1.head(3)"
   ]
  },
  {
   "cell_type": "code",
   "execution_count": 4,
   "metadata": {},
   "outputs": [
    {
     "output_type": "execute_result",
     "data": {
      "text/plain": [
       "   First Name Last Name  Gender  Company                     Occupation\n",
       "ID                                                                     \n",
       "1      Joseph   Perkins    Male  Dynazzy  Community Outreach Specialist\n",
       "2    Jennifer   Alvarez  Female     DabZ        Senior Quality Engineer\n",
       "3       Roger     Black    Male  Tagfeed              Account Executive"
      ],
      "text/html": "<div>\n<style scoped>\n    .dataframe tbody tr th:only-of-type {\n        vertical-align: middle;\n    }\n\n    .dataframe tbody tr th {\n        vertical-align: top;\n    }\n\n    .dataframe thead th {\n        text-align: right;\n    }\n</style>\n<table border=\"1\" class=\"dataframe\">\n  <thead>\n    <tr style=\"text-align: right;\">\n      <th></th>\n      <th>First Name</th>\n      <th>Last Name</th>\n      <th>Gender</th>\n      <th>Company</th>\n      <th>Occupation</th>\n    </tr>\n    <tr>\n      <th>ID</th>\n      <th></th>\n      <th></th>\n      <th></th>\n      <th></th>\n      <th></th>\n    </tr>\n  </thead>\n  <tbody>\n    <tr>\n      <th>1</th>\n      <td>Joseph</td>\n      <td>Perkins</td>\n      <td>Male</td>\n      <td>Dynazzy</td>\n      <td>Community Outreach Specialist</td>\n    </tr>\n    <tr>\n      <th>2</th>\n      <td>Jennifer</td>\n      <td>Alvarez</td>\n      <td>Female</td>\n      <td>DabZ</td>\n      <td>Senior Quality Engineer</td>\n    </tr>\n    <tr>\n      <th>3</th>\n      <td>Roger</td>\n      <td>Black</td>\n      <td>Male</td>\n      <td>Tagfeed</td>\n      <td>Account Executive</td>\n    </tr>\n  </tbody>\n</table>\n</div>"
     },
     "metadata": {},
     "execution_count": 4
    }
   ],
   "source": [
    "customers.head(3)"
   ]
  },
  {
   "cell_type": "code",
   "execution_count": 5,
   "metadata": {},
   "outputs": [
    {
     "output_type": "execute_result",
     "data": {
      "text/plain": [
       "     Customer ID  Food ID First Name Last Name  Gender    Company  \\\n",
       "0            537        9     Cheryl   Carroll  Female   Zoombeat   \n",
       "1             97        4     Amanda   Watkins  Female        Ozu   \n",
       "2            658        1    Patrick      Webb    Male  Browsebug   \n",
       "3            202        2      Louis  Campbell    Male  Rhynoodle   \n",
       "4            155        9    Carolyn      Diaz  Female   Gigazoom   \n",
       "..           ...      ...        ...       ...     ...        ...   \n",
       "245          413        9      Diane    Bailey  Female    Wikibox   \n",
       "246          926        6       Anne    Wagner  Female      Skyba   \n",
       "247          134        3      Diana      Hall  Female      Quinu   \n",
       "248          396        6       Juan    Romero    Male    Zoonder   \n",
       "249          535       10      Nancy       Cox  Female     Trudeo   \n",
       "\n",
       "                        Occupation  \n",
       "0                 Registered Nurse  \n",
       "1              Account Coordinator  \n",
       "2    Community Outreach Specialist  \n",
       "3       Account Representative III  \n",
       "4       Database Administrator III  \n",
       "..                             ...  \n",
       "245               Technical Writer  \n",
       "246                Legal Assistant  \n",
       "247              Financial Advisor  \n",
       "248             Analyst Programmer  \n",
       "249             Research Associate  \n",
       "\n",
       "[250 rows x 7 columns]"
      ],
      "text/html": "<div>\n<style scoped>\n    .dataframe tbody tr th:only-of-type {\n        vertical-align: middle;\n    }\n\n    .dataframe tbody tr th {\n        vertical-align: top;\n    }\n\n    .dataframe thead th {\n        text-align: right;\n    }\n</style>\n<table border=\"1\" class=\"dataframe\">\n  <thead>\n    <tr style=\"text-align: right;\">\n      <th></th>\n      <th>Customer ID</th>\n      <th>Food ID</th>\n      <th>First Name</th>\n      <th>Last Name</th>\n      <th>Gender</th>\n      <th>Company</th>\n      <th>Occupation</th>\n    </tr>\n  </thead>\n  <tbody>\n    <tr>\n      <th>0</th>\n      <td>537</td>\n      <td>9</td>\n      <td>Cheryl</td>\n      <td>Carroll</td>\n      <td>Female</td>\n      <td>Zoombeat</td>\n      <td>Registered Nurse</td>\n    </tr>\n    <tr>\n      <th>1</th>\n      <td>97</td>\n      <td>4</td>\n      <td>Amanda</td>\n      <td>Watkins</td>\n      <td>Female</td>\n      <td>Ozu</td>\n      <td>Account Coordinator</td>\n    </tr>\n    <tr>\n      <th>2</th>\n      <td>658</td>\n      <td>1</td>\n      <td>Patrick</td>\n      <td>Webb</td>\n      <td>Male</td>\n      <td>Browsebug</td>\n      <td>Community Outreach Specialist</td>\n    </tr>\n    <tr>\n      <th>3</th>\n      <td>202</td>\n      <td>2</td>\n      <td>Louis</td>\n      <td>Campbell</td>\n      <td>Male</td>\n      <td>Rhynoodle</td>\n      <td>Account Representative III</td>\n    </tr>\n    <tr>\n      <th>4</th>\n      <td>155</td>\n      <td>9</td>\n      <td>Carolyn</td>\n      <td>Diaz</td>\n      <td>Female</td>\n      <td>Gigazoom</td>\n      <td>Database Administrator III</td>\n    </tr>\n    <tr>\n      <th>...</th>\n      <td>...</td>\n      <td>...</td>\n      <td>...</td>\n      <td>...</td>\n      <td>...</td>\n      <td>...</td>\n      <td>...</td>\n    </tr>\n    <tr>\n      <th>245</th>\n      <td>413</td>\n      <td>9</td>\n      <td>Diane</td>\n      <td>Bailey</td>\n      <td>Female</td>\n      <td>Wikibox</td>\n      <td>Technical Writer</td>\n    </tr>\n    <tr>\n      <th>246</th>\n      <td>926</td>\n      <td>6</td>\n      <td>Anne</td>\n      <td>Wagner</td>\n      <td>Female</td>\n      <td>Skyba</td>\n      <td>Legal Assistant</td>\n    </tr>\n    <tr>\n      <th>247</th>\n      <td>134</td>\n      <td>3</td>\n      <td>Diana</td>\n      <td>Hall</td>\n      <td>Female</td>\n      <td>Quinu</td>\n      <td>Financial Advisor</td>\n    </tr>\n    <tr>\n      <th>248</th>\n      <td>396</td>\n      <td>6</td>\n      <td>Juan</td>\n      <td>Romero</td>\n      <td>Male</td>\n      <td>Zoonder</td>\n      <td>Analyst Programmer</td>\n    </tr>\n    <tr>\n      <th>249</th>\n      <td>535</td>\n      <td>10</td>\n      <td>Nancy</td>\n      <td>Cox</td>\n      <td>Female</td>\n      <td>Trudeo</td>\n      <td>Research Associate</td>\n    </tr>\n  </tbody>\n</table>\n<p>250 rows × 7 columns</p>\n</div>"
     },
     "metadata": {},
     "execution_count": 5
    }
   ],
   "source": [
    "pd.merge(left=week1,right=customers, how='left', left_on='Customer ID', right_on='ID')"
   ]
  },
  {
   "cell_type": "code",
   "execution_count": null,
   "metadata": {},
   "outputs": [],
   "source": []
  }
 ]
}