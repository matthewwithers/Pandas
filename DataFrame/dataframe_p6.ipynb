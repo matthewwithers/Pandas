{
 "metadata": {
  "language_info": {
   "codemirror_mode": {
    "name": "ipython",
    "version": 3
   },
   "file_extension": ".py",
   "mimetype": "text/x-python",
   "name": "python",
   "nbconvert_exporter": "python",
   "pygments_lexer": "ipython3",
   "version": "3.7.6"
  },
  "orig_nbformat": 2,
  "kernelspec": {
   "name": "python376jvsc74a57bd01334010457180b265d09b56daeed883170adb1c65c35741b4ba4ec40109d9a77",
   "display_name": "Python 3.7.6 64-bit ('base': conda)"
  }
 },
 "nbformat": 4,
 "nbformat_minor": 2,
 "cells": [
  {
   "cell_type": "code",
   "execution_count": 59,
   "metadata": {},
   "outputs": [
    {
     "output_type": "execute_result",
     "data": {
      "text/plain": [
       "                  Year         Actor         Director  Box Office  Budget  \\\n",
       "Film                                                                        \n",
       "A View to a Kill  1985   Roger Moore        John Glen       275.2    54.5   \n",
       "Casino Royale     2006  Daniel Craig  Martin Campbell       581.5   145.3   \n",
       "Casino Royale     1967   David Niven       Ken Hughes       315.0    85.0   \n",
       "\n",
       "                  Bond Actor Salary  \n",
       "Film                                 \n",
       "A View to a Kill                9.1  \n",
       "Casino Royale                   3.3  \n",
       "Casino Royale                   NaN  "
      ],
      "text/html": "<div>\n<style scoped>\n    .dataframe tbody tr th:only-of-type {\n        vertical-align: middle;\n    }\n\n    .dataframe tbody tr th {\n        vertical-align: top;\n    }\n\n    .dataframe thead th {\n        text-align: right;\n    }\n</style>\n<table border=\"1\" class=\"dataframe\">\n  <thead>\n    <tr style=\"text-align: right;\">\n      <th></th>\n      <th>Year</th>\n      <th>Actor</th>\n      <th>Director</th>\n      <th>Box Office</th>\n      <th>Budget</th>\n      <th>Bond Actor Salary</th>\n    </tr>\n    <tr>\n      <th>Film</th>\n      <th></th>\n      <th></th>\n      <th></th>\n      <th></th>\n      <th></th>\n      <th></th>\n    </tr>\n  </thead>\n  <tbody>\n    <tr>\n      <th>A View to a Kill</th>\n      <td>1985</td>\n      <td>Roger Moore</td>\n      <td>John Glen</td>\n      <td>275.2</td>\n      <td>54.5</td>\n      <td>9.1</td>\n    </tr>\n    <tr>\n      <th>Casino Royale</th>\n      <td>2006</td>\n      <td>Daniel Craig</td>\n      <td>Martin Campbell</td>\n      <td>581.5</td>\n      <td>145.3</td>\n      <td>3.3</td>\n    </tr>\n    <tr>\n      <th>Casino Royale</th>\n      <td>1967</td>\n      <td>David Niven</td>\n      <td>Ken Hughes</td>\n      <td>315.0</td>\n      <td>85.0</td>\n      <td>NaN</td>\n    </tr>\n  </tbody>\n</table>\n</div>"
     },
     "metadata": {},
     "execution_count": 59
    }
   ],
   "source": [
    "import pandas as pd \n",
    "bond = pd.read_csv('../pandas_data/jamesbond.csv', index_col=\"Film\")\n",
    "bond.sort_index(inplace=True)\n",
    "bond.head(3)"
   ]
  },
  {
   "cell_type": "code",
   "execution_count": 60,
   "metadata": {},
   "outputs": [],
   "source": [
    "# Rename index labels or columns in a dataframe\n",
    "bond.rename(mapper= {\n",
    "    \"GoldenEye\": \"Golden Eye\",\n",
    "    \"The World Is Not Enough\": \"Best Bond Movie Ever\"\n",
    "})\n",
    "\n",
    "bond.rename(mapper= {\n",
    "    \"GoldenEye\": \"Golden Eye\",\n",
    "    \"The World Is Not Enough\": \"Best Bond Movie Ever\"\n",
    "}, axis=0)\n",
    "\n",
    "bond.rename(mapper= {\n",
    "    \"GoldenEye\": \"Golden Eye\",\n",
    "    \"The World Is Not Enough\": \"Best Bond Movie Ever\"\n",
    "}, axis='rows')\n",
    "\n",
    "bond.rename(mapper= {\n",
    "    \"GoldenEye\": \"Golden Eye\",\n",
    "    \"The World Is Not Enough\": \"Best Bond Movie Ever\"\n",
    "}, axis='index')\n",
    "\n",
    "bond.rename(index= {\n",
    "    \"GoldenEye\": \"Golden Eye\",\n",
    "    \"The World Is Not Enough\": \"Best Bond Movie Ever\"\n",
    "}, inplace=True)"
   ]
  },
  {
   "cell_type": "code",
   "execution_count": 61,
   "metadata": {},
   "outputs": [
    {
     "output_type": "execute_result",
     "data": {
      "text/plain": [
       "                      Year           Actor         Director  Box Office  \\\n",
       "Film                                                                      \n",
       "A View to a Kill      1985     Roger Moore        John Glen       275.2   \n",
       "Casino Royale         2006    Daniel Craig  Martin Campbell       581.5   \n",
       "Casino Royale         1967     David Niven       Ken Hughes       315.0   \n",
       "Diamonds Are Forever  1971    Sean Connery     Guy Hamilton       442.5   \n",
       "Die Another Day       2002  Pierce Brosnan     Lee Tamahori       465.4   \n",
       "\n",
       "                      Budget  Bond Actor Salary  \n",
       "Film                                             \n",
       "A View to a Kill        54.5                9.1  \n",
       "Casino Royale          145.3                3.3  \n",
       "Casino Royale           85.0                NaN  \n",
       "Diamonds Are Forever    34.7                5.8  \n",
       "Die Another Day        154.2               17.9  "
      ],
      "text/html": "<div>\n<style scoped>\n    .dataframe tbody tr th:only-of-type {\n        vertical-align: middle;\n    }\n\n    .dataframe tbody tr th {\n        vertical-align: top;\n    }\n\n    .dataframe thead th {\n        text-align: right;\n    }\n</style>\n<table border=\"1\" class=\"dataframe\">\n  <thead>\n    <tr style=\"text-align: right;\">\n      <th></th>\n      <th>Year</th>\n      <th>Actor</th>\n      <th>Director</th>\n      <th>Box Office</th>\n      <th>Budget</th>\n      <th>Bond Actor Salary</th>\n    </tr>\n    <tr>\n      <th>Film</th>\n      <th></th>\n      <th></th>\n      <th></th>\n      <th></th>\n      <th></th>\n      <th></th>\n    </tr>\n  </thead>\n  <tbody>\n    <tr>\n      <th>A View to a Kill</th>\n      <td>1985</td>\n      <td>Roger Moore</td>\n      <td>John Glen</td>\n      <td>275.2</td>\n      <td>54.5</td>\n      <td>9.1</td>\n    </tr>\n    <tr>\n      <th>Casino Royale</th>\n      <td>2006</td>\n      <td>Daniel Craig</td>\n      <td>Martin Campbell</td>\n      <td>581.5</td>\n      <td>145.3</td>\n      <td>3.3</td>\n    </tr>\n    <tr>\n      <th>Casino Royale</th>\n      <td>1967</td>\n      <td>David Niven</td>\n      <td>Ken Hughes</td>\n      <td>315.0</td>\n      <td>85.0</td>\n      <td>NaN</td>\n    </tr>\n    <tr>\n      <th>Diamonds Are Forever</th>\n      <td>1971</td>\n      <td>Sean Connery</td>\n      <td>Guy Hamilton</td>\n      <td>442.5</td>\n      <td>34.7</td>\n      <td>5.8</td>\n    </tr>\n    <tr>\n      <th>Die Another Day</th>\n      <td>2002</td>\n      <td>Pierce Brosnan</td>\n      <td>Lee Tamahori</td>\n      <td>465.4</td>\n      <td>154.2</td>\n      <td>17.9</td>\n    </tr>\n  </tbody>\n</table>\n</div>"
     },
     "metadata": {},
     "execution_count": 61
    }
   ],
   "source": [
    "bond.head()"
   ]
  },
  {
   "cell_type": "code",
   "execution_count": 62,
   "metadata": {},
   "outputs": [],
   "source": [
    "bond.rename(mapper={\n",
    "    \"Year\":\"Release Date\",\n",
    "    \"Box Office\":\"Revenue\"\n",
    "}, axis=\"columns\")\n",
    "\n",
    "bond.rename(mapper={\n",
    "    \"Year\":\"Release Date\",\n",
    "    \"Box Office\":\"Revenue\"\n",
    "}, axis=1)\n",
    "\n",
    "bond.rename(columns={\n",
    "    \"Year\":\"Release Date\",\n",
    "    \"Box Office\":\"Revenue\"\n",
    "}, inplace=True)"
   ]
  },
  {
   "cell_type": "code",
   "execution_count": 63,
   "metadata": {},
   "outputs": [
    {
     "output_type": "execute_result",
     "data": {
      "text/plain": [
       "                      Release Date           Actor         Director  Revenue  \\\n",
       "Film                                                                           \n",
       "A View to a Kill              1985     Roger Moore        John Glen    275.2   \n",
       "Casino Royale                 2006    Daniel Craig  Martin Campbell    581.5   \n",
       "Casino Royale                 1967     David Niven       Ken Hughes    315.0   \n",
       "Diamonds Are Forever          1971    Sean Connery     Guy Hamilton    442.5   \n",
       "Die Another Day               2002  Pierce Brosnan     Lee Tamahori    465.4   \n",
       "\n",
       "                      Budget  Bond Actor Salary  \n",
       "Film                                             \n",
       "A View to a Kill        54.5                9.1  \n",
       "Casino Royale          145.3                3.3  \n",
       "Casino Royale           85.0                NaN  \n",
       "Diamonds Are Forever    34.7                5.8  \n",
       "Die Another Day        154.2               17.9  "
      ],
      "text/html": "<div>\n<style scoped>\n    .dataframe tbody tr th:only-of-type {\n        vertical-align: middle;\n    }\n\n    .dataframe tbody tr th {\n        vertical-align: top;\n    }\n\n    .dataframe thead th {\n        text-align: right;\n    }\n</style>\n<table border=\"1\" class=\"dataframe\">\n  <thead>\n    <tr style=\"text-align: right;\">\n      <th></th>\n      <th>Release Date</th>\n      <th>Actor</th>\n      <th>Director</th>\n      <th>Revenue</th>\n      <th>Budget</th>\n      <th>Bond Actor Salary</th>\n    </tr>\n    <tr>\n      <th>Film</th>\n      <th></th>\n      <th></th>\n      <th></th>\n      <th></th>\n      <th></th>\n      <th></th>\n    </tr>\n  </thead>\n  <tbody>\n    <tr>\n      <th>A View to a Kill</th>\n      <td>1985</td>\n      <td>Roger Moore</td>\n      <td>John Glen</td>\n      <td>275.2</td>\n      <td>54.5</td>\n      <td>9.1</td>\n    </tr>\n    <tr>\n      <th>Casino Royale</th>\n      <td>2006</td>\n      <td>Daniel Craig</td>\n      <td>Martin Campbell</td>\n      <td>581.5</td>\n      <td>145.3</td>\n      <td>3.3</td>\n    </tr>\n    <tr>\n      <th>Casino Royale</th>\n      <td>1967</td>\n      <td>David Niven</td>\n      <td>Ken Hughes</td>\n      <td>315.0</td>\n      <td>85.0</td>\n      <td>NaN</td>\n    </tr>\n    <tr>\n      <th>Diamonds Are Forever</th>\n      <td>1971</td>\n      <td>Sean Connery</td>\n      <td>Guy Hamilton</td>\n      <td>442.5</td>\n      <td>34.7</td>\n      <td>5.8</td>\n    </tr>\n    <tr>\n      <th>Die Another Day</th>\n      <td>2002</td>\n      <td>Pierce Brosnan</td>\n      <td>Lee Tamahori</td>\n      <td>465.4</td>\n      <td>154.2</td>\n      <td>17.9</td>\n    </tr>\n  </tbody>\n</table>\n</div>"
     },
     "metadata": {},
     "execution_count": 63
    }
   ],
   "source": [
    "bond.head()"
   ]
  },
  {
   "cell_type": "code",
   "execution_count": 64,
   "metadata": {},
   "outputs": [],
   "source": [
    "bond.columns = ['Year of Release','Actor','Director','Gross','Cost','Salary']"
   ]
  },
  {
   "cell_type": "code",
   "execution_count": 65,
   "metadata": {},
   "outputs": [
    {
     "output_type": "execute_result",
     "data": {
      "text/plain": [
       "                      Year of Release           Actor         Director  Gross  \\\n",
       "Film                                                                            \n",
       "A View to a Kill                 1985     Roger Moore        John Glen  275.2   \n",
       "Casino Royale                    2006    Daniel Craig  Martin Campbell  581.5   \n",
       "Casino Royale                    1967     David Niven       Ken Hughes  315.0   \n",
       "Diamonds Are Forever             1971    Sean Connery     Guy Hamilton  442.5   \n",
       "Die Another Day                  2002  Pierce Brosnan     Lee Tamahori  465.4   \n",
       "\n",
       "                       Cost  Salary  \n",
       "Film                                 \n",
       "A View to a Kill       54.5     9.1  \n",
       "Casino Royale         145.3     3.3  \n",
       "Casino Royale          85.0     NaN  \n",
       "Diamonds Are Forever   34.7     5.8  \n",
       "Die Another Day       154.2    17.9  "
      ],
      "text/html": "<div>\n<style scoped>\n    .dataframe tbody tr th:only-of-type {\n        vertical-align: middle;\n    }\n\n    .dataframe tbody tr th {\n        vertical-align: top;\n    }\n\n    .dataframe thead th {\n        text-align: right;\n    }\n</style>\n<table border=\"1\" class=\"dataframe\">\n  <thead>\n    <tr style=\"text-align: right;\">\n      <th></th>\n      <th>Year of Release</th>\n      <th>Actor</th>\n      <th>Director</th>\n      <th>Gross</th>\n      <th>Cost</th>\n      <th>Salary</th>\n    </tr>\n    <tr>\n      <th>Film</th>\n      <th></th>\n      <th></th>\n      <th></th>\n      <th></th>\n      <th></th>\n      <th></th>\n    </tr>\n  </thead>\n  <tbody>\n    <tr>\n      <th>A View to a Kill</th>\n      <td>1985</td>\n      <td>Roger Moore</td>\n      <td>John Glen</td>\n      <td>275.2</td>\n      <td>54.5</td>\n      <td>9.1</td>\n    </tr>\n    <tr>\n      <th>Casino Royale</th>\n      <td>2006</td>\n      <td>Daniel Craig</td>\n      <td>Martin Campbell</td>\n      <td>581.5</td>\n      <td>145.3</td>\n      <td>3.3</td>\n    </tr>\n    <tr>\n      <th>Casino Royale</th>\n      <td>1967</td>\n      <td>David Niven</td>\n      <td>Ken Hughes</td>\n      <td>315.0</td>\n      <td>85.0</td>\n      <td>NaN</td>\n    </tr>\n    <tr>\n      <th>Diamonds Are Forever</th>\n      <td>1971</td>\n      <td>Sean Connery</td>\n      <td>Guy Hamilton</td>\n      <td>442.5</td>\n      <td>34.7</td>\n      <td>5.8</td>\n    </tr>\n    <tr>\n      <th>Die Another Day</th>\n      <td>2002</td>\n      <td>Pierce Brosnan</td>\n      <td>Lee Tamahori</td>\n      <td>465.4</td>\n      <td>154.2</td>\n      <td>17.9</td>\n    </tr>\n  </tbody>\n</table>\n</div>"
     },
     "metadata": {},
     "execution_count": 65
    }
   ],
   "source": [
    "bond.head()"
   ]
  },
  {
   "cell_type": "code",
   "execution_count": 73,
   "metadata": {},
   "outputs": [
    {
     "output_type": "execute_result",
     "data": {
      "text/plain": [
       "                  Year         Actor         Director  Box Office  Budget  \\\n",
       "Film                                                                        \n",
       "A View to a Kill  1985   Roger Moore        John Glen       275.2    54.5   \n",
       "Casino Royale     2006  Daniel Craig  Martin Campbell       581.5   145.3   \n",
       "Casino Royale     1967   David Niven       Ken Hughes       315.0    85.0   \n",
       "\n",
       "                  Bond Actor Salary  \n",
       "Film                                 \n",
       "A View to a Kill                9.1  \n",
       "Casino Royale                   3.3  \n",
       "Casino Royale                   NaN  "
      ],
      "text/html": "<div>\n<style scoped>\n    .dataframe tbody tr th:only-of-type {\n        vertical-align: middle;\n    }\n\n    .dataframe tbody tr th {\n        vertical-align: top;\n    }\n\n    .dataframe thead th {\n        text-align: right;\n    }\n</style>\n<table border=\"1\" class=\"dataframe\">\n  <thead>\n    <tr style=\"text-align: right;\">\n      <th></th>\n      <th>Year</th>\n      <th>Actor</th>\n      <th>Director</th>\n      <th>Box Office</th>\n      <th>Budget</th>\n      <th>Bond Actor Salary</th>\n    </tr>\n    <tr>\n      <th>Film</th>\n      <th></th>\n      <th></th>\n      <th></th>\n      <th></th>\n      <th></th>\n      <th></th>\n    </tr>\n  </thead>\n  <tbody>\n    <tr>\n      <th>A View to a Kill</th>\n      <td>1985</td>\n      <td>Roger Moore</td>\n      <td>John Glen</td>\n      <td>275.2</td>\n      <td>54.5</td>\n      <td>9.1</td>\n    </tr>\n    <tr>\n      <th>Casino Royale</th>\n      <td>2006</td>\n      <td>Daniel Craig</td>\n      <td>Martin Campbell</td>\n      <td>581.5</td>\n      <td>145.3</td>\n      <td>3.3</td>\n    </tr>\n    <tr>\n      <th>Casino Royale</th>\n      <td>1967</td>\n      <td>David Niven</td>\n      <td>Ken Hughes</td>\n      <td>315.0</td>\n      <td>85.0</td>\n      <td>NaN</td>\n    </tr>\n  </tbody>\n</table>\n</div>"
     },
     "metadata": {},
     "execution_count": 73
    }
   ],
   "source": [
    "bond = pd.read_csv('../pandas_data/jamesbond.csv', index_col=\"Film\")\n",
    "bond.sort_index(inplace=True)\n",
    "bond.head(3)"
   ]
  },
  {
   "cell_type": "code",
   "execution_count": 67,
   "metadata": {},
   "outputs": [],
   "source": [
    "# Delete Rows or Columns from a Dataframe"
   ]
  },
  {
   "cell_type": "code",
   "execution_count": 74,
   "metadata": {},
   "outputs": [],
   "source": [
    "# bond.drop(['A View to a Kill','Die Another Day','From Russia with Love','Casino Royale'])\n",
    "# bond.drop(['Box Office','Bond Actor Salary','Actor'], axis='columns', inplace=True)\n",
    "# actor = bond.pop('Actor')\n"
   ]
  },
  {
   "cell_type": "code",
   "execution_count": 75,
   "metadata": {},
   "outputs": [],
   "source": [
    "del bond['Director']"
   ]
  },
  {
   "cell_type": "code",
   "execution_count": 77,
   "metadata": {},
   "outputs": [
    {
     "output_type": "execute_result",
     "data": {
      "text/plain": [
       "                  Year        Actor  Box Office  Budget  Bond Actor Salary\n",
       "Film                                                                      \n",
       "A View to a Kill  1985  Roger Moore       275.2    54.5                9.1"
      ],
      "text/html": "<div>\n<style scoped>\n    .dataframe tbody tr th:only-of-type {\n        vertical-align: middle;\n    }\n\n    .dataframe tbody tr th {\n        vertical-align: top;\n    }\n\n    .dataframe thead th {\n        text-align: right;\n    }\n</style>\n<table border=\"1\" class=\"dataframe\">\n  <thead>\n    <tr style=\"text-align: right;\">\n      <th></th>\n      <th>Year</th>\n      <th>Actor</th>\n      <th>Box Office</th>\n      <th>Budget</th>\n      <th>Bond Actor Salary</th>\n    </tr>\n    <tr>\n      <th>Film</th>\n      <th></th>\n      <th></th>\n      <th></th>\n      <th></th>\n      <th></th>\n    </tr>\n  </thead>\n  <tbody>\n    <tr>\n      <th>A View to a Kill</th>\n      <td>1985</td>\n      <td>Roger Moore</td>\n      <td>275.2</td>\n      <td>54.5</td>\n      <td>9.1</td>\n    </tr>\n  </tbody>\n</table>\n</div>"
     },
     "metadata": {},
     "execution_count": 77
    }
   ],
   "source": [
    "bond.head(1)"
   ]
  },
  {
   "cell_type": "code",
   "execution_count": 78,
   "metadata": {},
   "outputs": [
    {
     "output_type": "execute_result",
     "data": {
      "text/plain": [
       "                                          Actor  Box Office  Budget  \\\n",
       "Film                                                                  \n",
       "A View to a Kill                    Roger Moore       275.2    54.5   \n",
       "Casino Royale                      Daniel Craig       581.5   145.3   \n",
       "Casino Royale                       David Niven       315.0    85.0   \n",
       "Diamonds Are Forever               Sean Connery       442.5    34.7   \n",
       "Die Another Day                  Pierce Brosnan       465.4   154.2   \n",
       "Dr. No                             Sean Connery       448.8     7.0   \n",
       "For Your Eyes Only                  Roger Moore       449.4    60.2   \n",
       "From Russia with Love              Sean Connery       543.8    12.6   \n",
       "GoldenEye                        Pierce Brosnan       518.5    76.9   \n",
       "Goldfinger                         Sean Connery       820.4    18.6   \n",
       "Licence to Kill                  Timothy Dalton       250.9    56.7   \n",
       "Live and Let Die                    Roger Moore       460.3    30.8   \n",
       "Moonraker                           Roger Moore       535.0    91.5   \n",
       "Never Say Never Again              Sean Connery       380.0    86.0   \n",
       "Octopussy                           Roger Moore       373.8    53.9   \n",
       "On Her Majesty's Secret Service  George Lazenby       291.5    37.3   \n",
       "Quantum of Solace                  Daniel Craig       514.2   181.4   \n",
       "Skyfall                            Daniel Craig       943.5   170.2   \n",
       "Spectre                            Daniel Craig       726.7   206.3   \n",
       "The Living Daylights             Timothy Dalton       313.5    68.8   \n",
       "The Man with the Golden Gun         Roger Moore       334.0    27.7   \n",
       "The Spy Who Loved Me                Roger Moore       533.0    45.1   \n",
       "The World Is Not Enough          Pierce Brosnan       439.5   158.3   \n",
       "Thunderball                        Sean Connery       848.1    41.9   \n",
       "Tomorrow Never Dies              Pierce Brosnan       463.2   133.9   \n",
       "You Only Live Twice                Sean Connery       514.2    59.9   \n",
       "\n",
       "                                 Bond Actor Salary  \n",
       "Film                                                \n",
       "A View to a Kill                               9.1  \n",
       "Casino Royale                                  3.3  \n",
       "Casino Royale                                  NaN  \n",
       "Diamonds Are Forever                           5.8  \n",
       "Die Another Day                               17.9  \n",
       "Dr. No                                         0.6  \n",
       "For Your Eyes Only                             NaN  \n",
       "From Russia with Love                          1.6  \n",
       "GoldenEye                                      5.1  \n",
       "Goldfinger                                     3.2  \n",
       "Licence to Kill                                7.9  \n",
       "Live and Let Die                               NaN  \n",
       "Moonraker                                      NaN  \n",
       "Never Say Never Again                          NaN  \n",
       "Octopussy                                      7.8  \n",
       "On Her Majesty's Secret Service                0.6  \n",
       "Quantum of Solace                              8.1  \n",
       "Skyfall                                       14.5  \n",
       "Spectre                                        NaN  \n",
       "The Living Daylights                           5.2  \n",
       "The Man with the Golden Gun                    NaN  \n",
       "The Spy Who Loved Me                           NaN  \n",
       "The World Is Not Enough                       13.5  \n",
       "Thunderball                                    4.7  \n",
       "Tomorrow Never Dies                           10.0  \n",
       "You Only Live Twice                            4.4  "
      ],
      "text/html": "<div>\n<style scoped>\n    .dataframe tbody tr th:only-of-type {\n        vertical-align: middle;\n    }\n\n    .dataframe tbody tr th {\n        vertical-align: top;\n    }\n\n    .dataframe thead th {\n        text-align: right;\n    }\n</style>\n<table border=\"1\" class=\"dataframe\">\n  <thead>\n    <tr style=\"text-align: right;\">\n      <th></th>\n      <th>Actor</th>\n      <th>Box Office</th>\n      <th>Budget</th>\n      <th>Bond Actor Salary</th>\n    </tr>\n    <tr>\n      <th>Film</th>\n      <th></th>\n      <th></th>\n      <th></th>\n      <th></th>\n    </tr>\n  </thead>\n  <tbody>\n    <tr>\n      <th>A View to a Kill</th>\n      <td>Roger Moore</td>\n      <td>275.2</td>\n      <td>54.5</td>\n      <td>9.1</td>\n    </tr>\n    <tr>\n      <th>Casino Royale</th>\n      <td>Daniel Craig</td>\n      <td>581.5</td>\n      <td>145.3</td>\n      <td>3.3</td>\n    </tr>\n    <tr>\n      <th>Casino Royale</th>\n      <td>David Niven</td>\n      <td>315.0</td>\n      <td>85.0</td>\n      <td>NaN</td>\n    </tr>\n    <tr>\n      <th>Diamonds Are Forever</th>\n      <td>Sean Connery</td>\n      <td>442.5</td>\n      <td>34.7</td>\n      <td>5.8</td>\n    </tr>\n    <tr>\n      <th>Die Another Day</th>\n      <td>Pierce Brosnan</td>\n      <td>465.4</td>\n      <td>154.2</td>\n      <td>17.9</td>\n    </tr>\n    <tr>\n      <th>Dr. No</th>\n      <td>Sean Connery</td>\n      <td>448.8</td>\n      <td>7.0</td>\n      <td>0.6</td>\n    </tr>\n    <tr>\n      <th>For Your Eyes Only</th>\n      <td>Roger Moore</td>\n      <td>449.4</td>\n      <td>60.2</td>\n      <td>NaN</td>\n    </tr>\n    <tr>\n      <th>From Russia with Love</th>\n      <td>Sean Connery</td>\n      <td>543.8</td>\n      <td>12.6</td>\n      <td>1.6</td>\n    </tr>\n    <tr>\n      <th>GoldenEye</th>\n      <td>Pierce Brosnan</td>\n      <td>518.5</td>\n      <td>76.9</td>\n      <td>5.1</td>\n    </tr>\n    <tr>\n      <th>Goldfinger</th>\n      <td>Sean Connery</td>\n      <td>820.4</td>\n      <td>18.6</td>\n      <td>3.2</td>\n    </tr>\n    <tr>\n      <th>Licence to Kill</th>\n      <td>Timothy Dalton</td>\n      <td>250.9</td>\n      <td>56.7</td>\n      <td>7.9</td>\n    </tr>\n    <tr>\n      <th>Live and Let Die</th>\n      <td>Roger Moore</td>\n      <td>460.3</td>\n      <td>30.8</td>\n      <td>NaN</td>\n    </tr>\n    <tr>\n      <th>Moonraker</th>\n      <td>Roger Moore</td>\n      <td>535.0</td>\n      <td>91.5</td>\n      <td>NaN</td>\n    </tr>\n    <tr>\n      <th>Never Say Never Again</th>\n      <td>Sean Connery</td>\n      <td>380.0</td>\n      <td>86.0</td>\n      <td>NaN</td>\n    </tr>\n    <tr>\n      <th>Octopussy</th>\n      <td>Roger Moore</td>\n      <td>373.8</td>\n      <td>53.9</td>\n      <td>7.8</td>\n    </tr>\n    <tr>\n      <th>On Her Majesty's Secret Service</th>\n      <td>George Lazenby</td>\n      <td>291.5</td>\n      <td>37.3</td>\n      <td>0.6</td>\n    </tr>\n    <tr>\n      <th>Quantum of Solace</th>\n      <td>Daniel Craig</td>\n      <td>514.2</td>\n      <td>181.4</td>\n      <td>8.1</td>\n    </tr>\n    <tr>\n      <th>Skyfall</th>\n      <td>Daniel Craig</td>\n      <td>943.5</td>\n      <td>170.2</td>\n      <td>14.5</td>\n    </tr>\n    <tr>\n      <th>Spectre</th>\n      <td>Daniel Craig</td>\n      <td>726.7</td>\n      <td>206.3</td>\n      <td>NaN</td>\n    </tr>\n    <tr>\n      <th>The Living Daylights</th>\n      <td>Timothy Dalton</td>\n      <td>313.5</td>\n      <td>68.8</td>\n      <td>5.2</td>\n    </tr>\n    <tr>\n      <th>The Man with the Golden Gun</th>\n      <td>Roger Moore</td>\n      <td>334.0</td>\n      <td>27.7</td>\n      <td>NaN</td>\n    </tr>\n    <tr>\n      <th>The Spy Who Loved Me</th>\n      <td>Roger Moore</td>\n      <td>533.0</td>\n      <td>45.1</td>\n      <td>NaN</td>\n    </tr>\n    <tr>\n      <th>The World Is Not Enough</th>\n      <td>Pierce Brosnan</td>\n      <td>439.5</td>\n      <td>158.3</td>\n      <td>13.5</td>\n    </tr>\n    <tr>\n      <th>Thunderball</th>\n      <td>Sean Connery</td>\n      <td>848.1</td>\n      <td>41.9</td>\n      <td>4.7</td>\n    </tr>\n    <tr>\n      <th>Tomorrow Never Dies</th>\n      <td>Pierce Brosnan</td>\n      <td>463.2</td>\n      <td>133.9</td>\n      <td>10.0</td>\n    </tr>\n    <tr>\n      <th>You Only Live Twice</th>\n      <td>Sean Connery</td>\n      <td>514.2</td>\n      <td>59.9</td>\n      <td>4.4</td>\n    </tr>\n  </tbody>\n</table>\n</div>"
     },
     "metadata": {},
     "execution_count": 78
    }
   ],
   "source": [
    "del bond['Year']\n",
    "bond"
   ]
  },
  {
   "cell_type": "code",
   "execution_count": null,
   "metadata": {},
   "outputs": [],
   "source": []
  }
 ]
}