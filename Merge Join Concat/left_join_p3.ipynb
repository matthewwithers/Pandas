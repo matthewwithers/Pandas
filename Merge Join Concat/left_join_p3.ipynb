{
 "metadata": {
  "language_info": {
   "codemirror_mode": {
    "name": "ipython",
    "version": 3
   },
   "file_extension": ".py",
   "mimetype": "text/x-python",
   "name": "python",
   "nbconvert_exporter": "python",
   "pygments_lexer": "ipython3",
   "version": "3.7.6"
  },
  "orig_nbformat": 2,
  "kernelspec": {
   "name": "python376jvsc74a57bd01334010457180b265d09b56daeed883170adb1c65c35741b4ba4ec40109d9a77",
   "display_name": "Python 3.7.6 64-bit ('base': conda)"
  }
 },
 "nbformat": 4,
 "nbformat_minor": 2,
 "cells": [
  {
   "cell_type": "code",
   "execution_count": 15,
   "metadata": {},
   "outputs": [],
   "source": [
    "import pandas as pd \n",
    "week1 = pd.read_csv('../Files/Restaurant - Week 1 Sales.csv')\n",
    "week2 = pd.read_csv('../Files/Restaurant - Week 2 Sales.csv')\n",
    "customers = pd.read_csv('../Files/Restaurant - Customers.csv', index_col=\"ID\")\n",
    "foods = pd.read_csv('../Files/Restaurant - Foods.csv', index_col='Food ID')"
   ]
  },
  {
   "cell_type": "code",
   "execution_count": 16,
   "metadata": {},
   "outputs": [],
   "source": [
    "# merge by Index with the left_index and right_index"
   ]
  },
  {
   "cell_type": "code",
   "execution_count": 17,
   "metadata": {},
   "outputs": [
    {
     "output_type": "execute_result",
     "data": {
      "text/plain": [
       "        Food Item  Price\n",
       "Food ID                 \n",
       "1           Sushi   3.99\n",
       "2         Burrito   9.99\n",
       "3            Taco   2.99"
      ],
      "text/html": "<div>\n<style scoped>\n    .dataframe tbody tr th:only-of-type {\n        vertical-align: middle;\n    }\n\n    .dataframe tbody tr th {\n        vertical-align: top;\n    }\n\n    .dataframe thead th {\n        text-align: right;\n    }\n</style>\n<table border=\"1\" class=\"dataframe\">\n  <thead>\n    <tr style=\"text-align: right;\">\n      <th></th>\n      <th>Food Item</th>\n      <th>Price</th>\n    </tr>\n    <tr>\n      <th>Food ID</th>\n      <th></th>\n      <th></th>\n    </tr>\n  </thead>\n  <tbody>\n    <tr>\n      <th>1</th>\n      <td>Sushi</td>\n      <td>3.99</td>\n    </tr>\n    <tr>\n      <th>2</th>\n      <td>Burrito</td>\n      <td>9.99</td>\n    </tr>\n    <tr>\n      <th>3</th>\n      <td>Taco</td>\n      <td>2.99</td>\n    </tr>\n  </tbody>\n</table>\n</div>"
     },
     "metadata": {},
     "execution_count": 17
    }
   ],
   "source": [
    "foods.head(3)"
   ]
  },
  {
   "cell_type": "code",
   "execution_count": 18,
   "metadata": {},
   "outputs": [
    {
     "output_type": "execute_result",
     "data": {
      "text/plain": [
       "   First Name Last Name  Gender  Company                     Occupation\n",
       "ID                                                                     \n",
       "1      Joseph   Perkins    Male  Dynazzy  Community Outreach Specialist\n",
       "2    Jennifer   Alvarez  Female     DabZ        Senior Quality Engineer\n",
       "3       Roger     Black    Male  Tagfeed              Account Executive"
      ],
      "text/html": "<div>\n<style scoped>\n    .dataframe tbody tr th:only-of-type {\n        vertical-align: middle;\n    }\n\n    .dataframe tbody tr th {\n        vertical-align: top;\n    }\n\n    .dataframe thead th {\n        text-align: right;\n    }\n</style>\n<table border=\"1\" class=\"dataframe\">\n  <thead>\n    <tr style=\"text-align: right;\">\n      <th></th>\n      <th>First Name</th>\n      <th>Last Name</th>\n      <th>Gender</th>\n      <th>Company</th>\n      <th>Occupation</th>\n    </tr>\n    <tr>\n      <th>ID</th>\n      <th></th>\n      <th></th>\n      <th></th>\n      <th></th>\n      <th></th>\n    </tr>\n  </thead>\n  <tbody>\n    <tr>\n      <th>1</th>\n      <td>Joseph</td>\n      <td>Perkins</td>\n      <td>Male</td>\n      <td>Dynazzy</td>\n      <td>Community Outreach Specialist</td>\n    </tr>\n    <tr>\n      <th>2</th>\n      <td>Jennifer</td>\n      <td>Alvarez</td>\n      <td>Female</td>\n      <td>DabZ</td>\n      <td>Senior Quality Engineer</td>\n    </tr>\n    <tr>\n      <th>3</th>\n      <td>Roger</td>\n      <td>Black</td>\n      <td>Male</td>\n      <td>Tagfeed</td>\n      <td>Account Executive</td>\n    </tr>\n  </tbody>\n</table>\n</div>"
     },
     "metadata": {},
     "execution_count": 18
    }
   ],
   "source": [
    "customers.head(3)"
   ]
  },
  {
   "cell_type": "code",
   "execution_count": 19,
   "metadata": {},
   "outputs": [
    {
     "output_type": "execute_result",
     "data": {
      "text/plain": [
       "   Customer ID  Food ID\n",
       "0          537        9\n",
       "1           97        4\n",
       "2          658        1"
      ],
      "text/html": "<div>\n<style scoped>\n    .dataframe tbody tr th:only-of-type {\n        vertical-align: middle;\n    }\n\n    .dataframe tbody tr th {\n        vertical-align: top;\n    }\n\n    .dataframe thead th {\n        text-align: right;\n    }\n</style>\n<table border=\"1\" class=\"dataframe\">\n  <thead>\n    <tr style=\"text-align: right;\">\n      <th></th>\n      <th>Customer ID</th>\n      <th>Food ID</th>\n    </tr>\n  </thead>\n  <tbody>\n    <tr>\n      <th>0</th>\n      <td>537</td>\n      <td>9</td>\n    </tr>\n    <tr>\n      <th>1</th>\n      <td>97</td>\n      <td>4</td>\n    </tr>\n    <tr>\n      <th>2</th>\n      <td>658</td>\n      <td>1</td>\n    </tr>\n  </tbody>\n</table>\n</div>"
     },
     "metadata": {},
     "execution_count": 19
    }
   ],
   "source": [
    "week1.head(3)"
   ]
  },
  {
   "cell_type": "code",
   "execution_count": 27,
   "metadata": {},
   "outputs": [],
   "source": [
    "sales = week1.merge(customers, how='left', left_on = 'Customer ID', right_index=True)"
   ]
  },
  {
   "cell_type": "code",
   "execution_count": 28,
   "metadata": {},
   "outputs": [
    {
     "output_type": "execute_result",
     "data": {
      "text/plain": [
       "   Customer ID  Food ID First Name Last Name  Gender    Company  \\\n",
       "0          537        9     Cheryl   Carroll  Female   Zoombeat   \n",
       "1           97        4     Amanda   Watkins  Female        Ozu   \n",
       "2          658        1    Patrick      Webb    Male  Browsebug   \n",
       "3          202        2      Louis  Campbell    Male  Rhynoodle   \n",
       "4          155        9    Carolyn      Diaz  Female   Gigazoom   \n",
       "\n",
       "                      Occupation  \n",
       "0               Registered Nurse  \n",
       "1            Account Coordinator  \n",
       "2  Community Outreach Specialist  \n",
       "3     Account Representative III  \n",
       "4     Database Administrator III  "
      ],
      "text/html": "<div>\n<style scoped>\n    .dataframe tbody tr th:only-of-type {\n        vertical-align: middle;\n    }\n\n    .dataframe tbody tr th {\n        vertical-align: top;\n    }\n\n    .dataframe thead th {\n        text-align: right;\n    }\n</style>\n<table border=\"1\" class=\"dataframe\">\n  <thead>\n    <tr style=\"text-align: right;\">\n      <th></th>\n      <th>Customer ID</th>\n      <th>Food ID</th>\n      <th>First Name</th>\n      <th>Last Name</th>\n      <th>Gender</th>\n      <th>Company</th>\n      <th>Occupation</th>\n    </tr>\n  </thead>\n  <tbody>\n    <tr>\n      <th>0</th>\n      <td>537</td>\n      <td>9</td>\n      <td>Cheryl</td>\n      <td>Carroll</td>\n      <td>Female</td>\n      <td>Zoombeat</td>\n      <td>Registered Nurse</td>\n    </tr>\n    <tr>\n      <th>1</th>\n      <td>97</td>\n      <td>4</td>\n      <td>Amanda</td>\n      <td>Watkins</td>\n      <td>Female</td>\n      <td>Ozu</td>\n      <td>Account Coordinator</td>\n    </tr>\n    <tr>\n      <th>2</th>\n      <td>658</td>\n      <td>1</td>\n      <td>Patrick</td>\n      <td>Webb</td>\n      <td>Male</td>\n      <td>Browsebug</td>\n      <td>Community Outreach Specialist</td>\n    </tr>\n    <tr>\n      <th>3</th>\n      <td>202</td>\n      <td>2</td>\n      <td>Louis</td>\n      <td>Campbell</td>\n      <td>Male</td>\n      <td>Rhynoodle</td>\n      <td>Account Representative III</td>\n    </tr>\n    <tr>\n      <th>4</th>\n      <td>155</td>\n      <td>9</td>\n      <td>Carolyn</td>\n      <td>Diaz</td>\n      <td>Female</td>\n      <td>Gigazoom</td>\n      <td>Database Administrator III</td>\n    </tr>\n  </tbody>\n</table>\n</div>"
     },
     "metadata": {},
     "execution_count": 28
    }
   ],
   "source": [
    "sales.head()"
   ]
  },
  {
   "cell_type": "code",
   "execution_count": 30,
   "metadata": {},
   "outputs": [],
   "source": [
    "sales = sales.merge(foods, how='left', left_on='Food ID', right_index=True)"
   ]
  },
  {
   "cell_type": "code",
   "execution_count": 32,
   "metadata": {},
   "outputs": [
    {
     "output_type": "execute_result",
     "data": {
      "text/plain": [
       "   Customer ID  Food ID First Name Last Name  Gender    Company  \\\n",
       "0          537        9     Cheryl   Carroll  Female   Zoombeat   \n",
       "1           97        4     Amanda   Watkins  Female        Ozu   \n",
       "2          658        1    Patrick      Webb    Male  Browsebug   \n",
       "3          202        2      Louis  Campbell    Male  Rhynoodle   \n",
       "4          155        9    Carolyn      Diaz  Female   Gigazoom   \n",
       "\n",
       "                      Occupation   Food Item  Price  \n",
       "0               Registered Nurse       Donut   0.99  \n",
       "1            Account Coordinator  Quesadilla   4.25  \n",
       "2  Community Outreach Specialist       Sushi   3.99  \n",
       "3     Account Representative III     Burrito   9.99  \n",
       "4     Database Administrator III       Donut   0.99  "
      ],
      "text/html": "<div>\n<style scoped>\n    .dataframe tbody tr th:only-of-type {\n        vertical-align: middle;\n    }\n\n    .dataframe tbody tr th {\n        vertical-align: top;\n    }\n\n    .dataframe thead th {\n        text-align: right;\n    }\n</style>\n<table border=\"1\" class=\"dataframe\">\n  <thead>\n    <tr style=\"text-align: right;\">\n      <th></th>\n      <th>Customer ID</th>\n      <th>Food ID</th>\n      <th>First Name</th>\n      <th>Last Name</th>\n      <th>Gender</th>\n      <th>Company</th>\n      <th>Occupation</th>\n      <th>Food Item</th>\n      <th>Price</th>\n    </tr>\n  </thead>\n  <tbody>\n    <tr>\n      <th>0</th>\n      <td>537</td>\n      <td>9</td>\n      <td>Cheryl</td>\n      <td>Carroll</td>\n      <td>Female</td>\n      <td>Zoombeat</td>\n      <td>Registered Nurse</td>\n      <td>Donut</td>\n      <td>0.99</td>\n    </tr>\n    <tr>\n      <th>1</th>\n      <td>97</td>\n      <td>4</td>\n      <td>Amanda</td>\n      <td>Watkins</td>\n      <td>Female</td>\n      <td>Ozu</td>\n      <td>Account Coordinator</td>\n      <td>Quesadilla</td>\n      <td>4.25</td>\n    </tr>\n    <tr>\n      <th>2</th>\n      <td>658</td>\n      <td>1</td>\n      <td>Patrick</td>\n      <td>Webb</td>\n      <td>Male</td>\n      <td>Browsebug</td>\n      <td>Community Outreach Specialist</td>\n      <td>Sushi</td>\n      <td>3.99</td>\n    </tr>\n    <tr>\n      <th>3</th>\n      <td>202</td>\n      <td>2</td>\n      <td>Louis</td>\n      <td>Campbell</td>\n      <td>Male</td>\n      <td>Rhynoodle</td>\n      <td>Account Representative III</td>\n      <td>Burrito</td>\n      <td>9.99</td>\n    </tr>\n    <tr>\n      <th>4</th>\n      <td>155</td>\n      <td>9</td>\n      <td>Carolyn</td>\n      <td>Diaz</td>\n      <td>Female</td>\n      <td>Gigazoom</td>\n      <td>Database Administrator III</td>\n      <td>Donut</td>\n      <td>0.99</td>\n    </tr>\n  </tbody>\n</table>\n</div>"
     },
     "metadata": {},
     "execution_count": 32
    }
   ],
   "source": [
    "sales.head()"
   ]
  },
  {
   "cell_type": "code",
   "execution_count": 33,
   "metadata": {},
   "outputs": [
    {
     "output_type": "execute_result",
     "data": {
      "text/plain": [
       "   Customer ID  Food ID\n",
       "0          537        9\n",
       "1           97        4\n",
       "2          658        1"
      ],
      "text/html": "<div>\n<style scoped>\n    .dataframe tbody tr th:only-of-type {\n        vertical-align: middle;\n    }\n\n    .dataframe tbody tr th {\n        vertical-align: top;\n    }\n\n    .dataframe thead th {\n        text-align: right;\n    }\n</style>\n<table border=\"1\" class=\"dataframe\">\n  <thead>\n    <tr style=\"text-align: right;\">\n      <th></th>\n      <th>Customer ID</th>\n      <th>Food ID</th>\n    </tr>\n  </thead>\n  <tbody>\n    <tr>\n      <th>0</th>\n      <td>537</td>\n      <td>9</td>\n    </tr>\n    <tr>\n      <th>1</th>\n      <td>97</td>\n      <td>4</td>\n    </tr>\n    <tr>\n      <th>2</th>\n      <td>658</td>\n      <td>1</td>\n    </tr>\n  </tbody>\n</table>\n</div>"
     },
     "metadata": {},
     "execution_count": 33
    }
   ],
   "source": [
    "week1.head(3)"
   ]
  },
  {
   "cell_type": "code",
   "execution_count": 34,
   "metadata": {},
   "outputs": [
    {
     "output_type": "execute_result",
     "data": {
      "text/plain": [
       "   Customer ID  Food ID\n",
       "0          688       10\n",
       "1          813        7\n",
       "2          495       10"
      ],
      "text/html": "<div>\n<style scoped>\n    .dataframe tbody tr th:only-of-type {\n        vertical-align: middle;\n    }\n\n    .dataframe tbody tr th {\n        vertical-align: top;\n    }\n\n    .dataframe thead th {\n        text-align: right;\n    }\n</style>\n<table border=\"1\" class=\"dataframe\">\n  <thead>\n    <tr style=\"text-align: right;\">\n      <th></th>\n      <th>Customer ID</th>\n      <th>Food ID</th>\n    </tr>\n  </thead>\n  <tbody>\n    <tr>\n      <th>0</th>\n      <td>688</td>\n      <td>10</td>\n    </tr>\n    <tr>\n      <th>1</th>\n      <td>813</td>\n      <td>7</td>\n    </tr>\n    <tr>\n      <th>2</th>\n      <td>495</td>\n      <td>10</td>\n    </tr>\n  </tbody>\n</table>\n</div>"
     },
     "metadata": {},
     "execution_count": 34
    }
   ],
   "source": [
    "week2.head(3)"
   ]
  },
  {
   "cell_type": "code",
   "execution_count": 36,
   "metadata": {},
   "outputs": [
    {
     "output_type": "execute_result",
     "data": {
      "text/plain": [
       "     Customer ID - Week 1  Food ID - Week 1  Customer ID - Week 2  \\\n",
       "0                     537                 9                   688   \n",
       "1                      97                 4                   813   \n",
       "2                     658                 1                   495   \n",
       "3                     202                 2                   189   \n",
       "4                     155                 9                   267   \n",
       "..                    ...               ...                   ...   \n",
       "245                   413                 9                   783   \n",
       "246                   926                 6                   556   \n",
       "247                   134                 3                   547   \n",
       "248                   396                 6                   252   \n",
       "249                   535                10                   249   \n",
       "\n",
       "     Food ID - Week 2  \n",
       "0                  10  \n",
       "1                   7  \n",
       "2                  10  \n",
       "3                   5  \n",
       "4                   3  \n",
       "..                ...  \n",
       "245                10  \n",
       "246                10  \n",
       "247                 9  \n",
       "248                 9  \n",
       "249                 6  \n",
       "\n",
       "[250 rows x 4 columns]"
      ],
      "text/html": "<div>\n<style scoped>\n    .dataframe tbody tr th:only-of-type {\n        vertical-align: middle;\n    }\n\n    .dataframe tbody tr th {\n        vertical-align: top;\n    }\n\n    .dataframe thead th {\n        text-align: right;\n    }\n</style>\n<table border=\"1\" class=\"dataframe\">\n  <thead>\n    <tr style=\"text-align: right;\">\n      <th></th>\n      <th>Customer ID - Week 1</th>\n      <th>Food ID - Week 1</th>\n      <th>Customer ID - Week 2</th>\n      <th>Food ID - Week 2</th>\n    </tr>\n  </thead>\n  <tbody>\n    <tr>\n      <th>0</th>\n      <td>537</td>\n      <td>9</td>\n      <td>688</td>\n      <td>10</td>\n    </tr>\n    <tr>\n      <th>1</th>\n      <td>97</td>\n      <td>4</td>\n      <td>813</td>\n      <td>7</td>\n    </tr>\n    <tr>\n      <th>2</th>\n      <td>658</td>\n      <td>1</td>\n      <td>495</td>\n      <td>10</td>\n    </tr>\n    <tr>\n      <th>3</th>\n      <td>202</td>\n      <td>2</td>\n      <td>189</td>\n      <td>5</td>\n    </tr>\n    <tr>\n      <th>4</th>\n      <td>155</td>\n      <td>9</td>\n      <td>267</td>\n      <td>3</td>\n    </tr>\n    <tr>\n      <th>...</th>\n      <td>...</td>\n      <td>...</td>\n      <td>...</td>\n      <td>...</td>\n    </tr>\n    <tr>\n      <th>245</th>\n      <td>413</td>\n      <td>9</td>\n      <td>783</td>\n      <td>10</td>\n    </tr>\n    <tr>\n      <th>246</th>\n      <td>926</td>\n      <td>6</td>\n      <td>556</td>\n      <td>10</td>\n    </tr>\n    <tr>\n      <th>247</th>\n      <td>134</td>\n      <td>3</td>\n      <td>547</td>\n      <td>9</td>\n    </tr>\n    <tr>\n      <th>248</th>\n      <td>396</td>\n      <td>6</td>\n      <td>252</td>\n      <td>9</td>\n    </tr>\n    <tr>\n      <th>249</th>\n      <td>535</td>\n      <td>10</td>\n      <td>249</td>\n      <td>6</td>\n    </tr>\n  </tbody>\n</table>\n<p>250 rows × 4 columns</p>\n</div>"
     },
     "metadata": {},
     "execution_count": 36
    }
   ],
   "source": [
    "week1.merge(week2, how='left', left_index=True, right_index=True, suffixes=[' - Week 1', ' - Week 2'])"
   ]
  },
  {
   "cell_type": "code",
   "execution_count": null,
   "metadata": {},
   "outputs": [],
   "source": []
  }
 ]
}