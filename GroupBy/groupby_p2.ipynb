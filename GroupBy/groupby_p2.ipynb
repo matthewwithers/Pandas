{
 "metadata": {
  "language_info": {
   "codemirror_mode": {
    "name": "ipython",
    "version": 3
   },
   "file_extension": ".py",
   "mimetype": "text/x-python",
   "name": "python",
   "nbconvert_exporter": "python",
   "pygments_lexer": "ipython3",
   "version": "3.7.6"
  },
  "orig_nbformat": 2,
  "kernelspec": {
   "name": "python376jvsc74a57bd01334010457180b265d09b56daeed883170adb1c65c35741b4ba4ec40109d9a77",
   "display_name": "Python 3.7.6 64-bit ('base': conda)"
  }
 },
 "nbformat": 4,
 "nbformat_minor": 2,
 "cells": [
  {
   "cell_type": "code",
   "execution_count": 1,
   "metadata": {},
   "outputs": [
    {
     "output_type": "execute_result",
     "data": {
      "text/plain": [
       "          Company      Sector                     Industry         Location  \\\n",
       "Rank                                                                          \n",
       "1         Walmart   Retailing        General Merchandisers  Bentonville, AR   \n",
       "2     Exxon Mobil      Energy           Petroleum Refining       Irving, TX   \n",
       "3           Apple  Technology  Computers, Office Equipment    Cupertino, CA   \n",
       "\n",
       "      Revenue  Profits  Employees  \n",
       "Rank                               \n",
       "1      482130    14694    2300000  \n",
       "2      246204    16150      75600  \n",
       "3      233715    53394     110000  "
      ],
      "text/html": "<div>\n<style scoped>\n    .dataframe tbody tr th:only-of-type {\n        vertical-align: middle;\n    }\n\n    .dataframe tbody tr th {\n        vertical-align: top;\n    }\n\n    .dataframe thead th {\n        text-align: right;\n    }\n</style>\n<table border=\"1\" class=\"dataframe\">\n  <thead>\n    <tr style=\"text-align: right;\">\n      <th></th>\n      <th>Company</th>\n      <th>Sector</th>\n      <th>Industry</th>\n      <th>Location</th>\n      <th>Revenue</th>\n      <th>Profits</th>\n      <th>Employees</th>\n    </tr>\n    <tr>\n      <th>Rank</th>\n      <th></th>\n      <th></th>\n      <th></th>\n      <th></th>\n      <th></th>\n      <th></th>\n      <th></th>\n    </tr>\n  </thead>\n  <tbody>\n    <tr>\n      <th>1</th>\n      <td>Walmart</td>\n      <td>Retailing</td>\n      <td>General Merchandisers</td>\n      <td>Bentonville, AR</td>\n      <td>482130</td>\n      <td>14694</td>\n      <td>2300000</td>\n    </tr>\n    <tr>\n      <th>2</th>\n      <td>Exxon Mobil</td>\n      <td>Energy</td>\n      <td>Petroleum Refining</td>\n      <td>Irving, TX</td>\n      <td>246204</td>\n      <td>16150</td>\n      <td>75600</td>\n    </tr>\n    <tr>\n      <th>3</th>\n      <td>Apple</td>\n      <td>Technology</td>\n      <td>Computers, Office Equipment</td>\n      <td>Cupertino, CA</td>\n      <td>233715</td>\n      <td>53394</td>\n      <td>110000</td>\n    </tr>\n  </tbody>\n</table>\n</div>"
     },
     "metadata": {},
     "execution_count": 1
    }
   ],
   "source": [
    "import pandas as pd \n",
    "fortune = pd.read_csv('../Files/fortune1000.csv', index_col=\"Rank\")\n",
    "sectors = fortune.groupby(\"Sector\")\n",
    "fortune.head(3)"
   ]
  },
  {
   "cell_type": "code",
   "execution_count": 3,
   "metadata": {},
   "outputs": [
    {
     "output_type": "execute_result",
     "data": {
      "text/plain": [
       "21"
      ]
     },
     "metadata": {},
     "execution_count": 3
    }
   ],
   "source": [
    "len(fortune) # num of rows\n",
    "len(sectors) # num of groupings"
   ]
  },
  {
   "cell_type": "code",
   "execution_count": 4,
   "metadata": {},
   "outputs": [
    {
     "output_type": "execute_result",
     "data": {
      "text/plain": [
       "21"
      ]
     },
     "metadata": {},
     "execution_count": 4
    }
   ],
   "source": [
    "fortune['Sector'].nunique()"
   ]
  },
  {
   "cell_type": "code",
   "execution_count": 7,
   "metadata": {},
   "outputs": [
    {
     "output_type": "execute_result",
     "data": {
      "text/plain": [
       "Sector\n",
       "Aerospace & Defense              20\n",
       "Apparel                          15\n",
       "Business Services                51\n",
       "Chemicals                        30\n",
       "Energy                          122\n",
       "Engineering & Construction       26\n",
       "Financials                      139\n",
       "Food and Drug Stores             15\n",
       "Food, Beverages & Tobacco        43\n",
       "Health Care                      75\n",
       "Hotels, Resturants & Leisure     25\n",
       "Household Products               28\n",
       "Industrials                      46\n",
       "Materials                        43\n",
       "Media                            25\n",
       "Motor Vehicles & Parts           24\n",
       "Retailing                        80\n",
       "Technology                      102\n",
       "Telecommunications               15\n",
       "Transportation                   36\n",
       "Wholesalers                      40\n",
       "dtype: int64"
      ]
     },
     "metadata": {},
     "execution_count": 7
    }
   ],
   "source": [
    "sectors.size()"
   ]
  },
  {
   "cell_type": "code",
   "execution_count": 8,
   "metadata": {},
   "outputs": [
    {
     "output_type": "execute_result",
     "data": {
      "text/plain": [
       "Financials                      139\n",
       "Energy                          122\n",
       "Technology                      102\n",
       "Retailing                        80\n",
       "Health Care                      75\n",
       "Business Services                51\n",
       "Industrials                      46\n",
       "Food, Beverages & Tobacco        43\n",
       "Materials                        43\n",
       "Wholesalers                      40\n",
       "Transportation                   36\n",
       "Chemicals                        30\n",
       "Household Products               28\n",
       "Engineering & Construction       26\n",
       "Media                            25\n",
       "Hotels, Resturants & Leisure     25\n",
       "Motor Vehicles & Parts           24\n",
       "Aerospace & Defense              20\n",
       "Telecommunications               15\n",
       "Food and Drug Stores             15\n",
       "Apparel                          15\n",
       "Name: Sector, dtype: int64"
      ]
     },
     "metadata": {},
     "execution_count": 8
    }
   ],
   "source": [
    "fortune['Sector'].value_counts()"
   ]
  },
  {
   "cell_type": "code",
   "execution_count": 11,
   "metadata": {},
   "outputs": [
    {
     "output_type": "execute_result",
     "data": {
      "text/plain": [
       "                                                        Company  \\\n",
       "Sector                                                            \n",
       "Aerospace & Defense                       Delta Tucker Holdings   \n",
       "Apparel                                                   Guess   \n",
       "Business Services                         DeVry Education Group   \n",
       "Chemicals                                           H.B. Fuller   \n",
       "Energy                                Portland General Electric   \n",
       "Engineering & Construction                         MDC Holdings   \n",
       "Financials                           New York Community Bancorp   \n",
       "Food and Drug Stores                                     Fred’s   \n",
       "Food, Beverages & Tobacco            Alliance One International   \n",
       "Health Care                                  Providence Service   \n",
       "Hotels, Resturants & Leisure                            Wendy’s   \n",
       "Household Products                                       Revlon   \n",
       "Industrials                                   Briggs & Stratton   \n",
       "Materials                            Schnitzer Steel Industries   \n",
       "Media                                                    Cenveo   \n",
       "Motor Vehicles & Parts            Allison Transmission Holdings   \n",
       "Retailing                                  99 Cents Only Stores   \n",
       "Technology                                          F5 Networks   \n",
       "Telecommunications                                      Equinix   \n",
       "Transportation                Roadrunner Transportation Systems   \n",
       "Wholesalers                                   BlueLinx Holdings   \n",
       "\n",
       "                                                                Industry  \\\n",
       "Sector                                                                     \n",
       "Aerospace & Defense                                Aerospace and Defense   \n",
       "Apparel                                                          Apparel   \n",
       "Business Services                                              Education   \n",
       "Chemicals                                                      Chemicals   \n",
       "Energy                                       Utilities: Gas and Electric   \n",
       "Engineering & Construction                                  Homebuilders   \n",
       "Financials                                              Commercial Banks   \n",
       "Food and Drug Stores                                Food and Drug Stores   \n",
       "Food, Beverages & Tobacco                                        Tobacco   \n",
       "Health Care                     Health Care: Pharmacy and Other Services   \n",
       "Hotels, Resturants & Leisure                               Food Services   \n",
       "Household Products                       Household and Personal Products   \n",
       "Industrials                                         Industrial Machinery   \n",
       "Materials                                                         Metals   \n",
       "Media                                               Publishing, Printing   \n",
       "Motor Vehicles & Parts                          Motor Vehicles and Parts   \n",
       "Retailing                                     Specialty Retailers: Other   \n",
       "Technology                    Network and Other Communications Equipment   \n",
       "Telecommunications                                    Telecommunications   \n",
       "Transportation                              Transportation and Logistics   \n",
       "Wholesalers                                     Wholesalers: Diversified   \n",
       "\n",
       "                                       Location  Revenue  Profits  Employees  \n",
       "Sector                                                                        \n",
       "Aerospace & Defense                  McLean, VA     1923     -133      12000  \n",
       "Apparel                         Los Angeles, CA     2204       82      13500  \n",
       "Business Services             Downers Grove, IL     1910      140      11770  \n",
       "Chemicals                          St. Paul, MN     2084       87       4425  \n",
       "Energy                             Portland, OR     1898      172       2646  \n",
       "Engineering & Construction           Denver, CO     1909       66       1225  \n",
       "Financials                         Westbury, NY     1902      -47       3448  \n",
       "Food and Drug Stores                Memphis, TN     2151       -7       7103  \n",
       "Food, Beverages & Tobacco       Morrisville, NC     2066      -15       6835  \n",
       "Health Care                          Tucson, AZ     1987       84       9072  \n",
       "Hotels, Resturants & Leisure         Dublin, OH     1896      161      21200  \n",
       "Household Products                 New York, NY     1914       56       5700  \n",
       "Industrials                       Wauwatosa, WI     1895       46       5480  \n",
       "Materials                          Portland, OR     1924     -197       2955  \n",
       "Media                              Stamford, CT     1921      -31       7300  \n",
       "Motor Vehicles & Parts         Indianaoplis, IN     1986      182       2700  \n",
       "Retailing                          Commerce, CA     1999     -232      18200  \n",
       "Technology                          Seattle, WA     1920      365       4178  \n",
       "Telecommunications             Redwood City, CA     2726      188       5042  \n",
       "Transportation                       Cudahy, WI     1995       48       4502  \n",
       "Wholesalers                         Atlanta, GA     1917      -12       1600  "
      ],
      "text/html": "<div>\n<style scoped>\n    .dataframe tbody tr th:only-of-type {\n        vertical-align: middle;\n    }\n\n    .dataframe tbody tr th {\n        vertical-align: top;\n    }\n\n    .dataframe thead th {\n        text-align: right;\n    }\n</style>\n<table border=\"1\" class=\"dataframe\">\n  <thead>\n    <tr style=\"text-align: right;\">\n      <th></th>\n      <th>Company</th>\n      <th>Industry</th>\n      <th>Location</th>\n      <th>Revenue</th>\n      <th>Profits</th>\n      <th>Employees</th>\n    </tr>\n    <tr>\n      <th>Sector</th>\n      <th></th>\n      <th></th>\n      <th></th>\n      <th></th>\n      <th></th>\n      <th></th>\n    </tr>\n  </thead>\n  <tbody>\n    <tr>\n      <th>Aerospace &amp; Defense</th>\n      <td>Delta Tucker Holdings</td>\n      <td>Aerospace and Defense</td>\n      <td>McLean, VA</td>\n      <td>1923</td>\n      <td>-133</td>\n      <td>12000</td>\n    </tr>\n    <tr>\n      <th>Apparel</th>\n      <td>Guess</td>\n      <td>Apparel</td>\n      <td>Los Angeles, CA</td>\n      <td>2204</td>\n      <td>82</td>\n      <td>13500</td>\n    </tr>\n    <tr>\n      <th>Business Services</th>\n      <td>DeVry Education Group</td>\n      <td>Education</td>\n      <td>Downers Grove, IL</td>\n      <td>1910</td>\n      <td>140</td>\n      <td>11770</td>\n    </tr>\n    <tr>\n      <th>Chemicals</th>\n      <td>H.B. Fuller</td>\n      <td>Chemicals</td>\n      <td>St. Paul, MN</td>\n      <td>2084</td>\n      <td>87</td>\n      <td>4425</td>\n    </tr>\n    <tr>\n      <th>Energy</th>\n      <td>Portland General Electric</td>\n      <td>Utilities: Gas and Electric</td>\n      <td>Portland, OR</td>\n      <td>1898</td>\n      <td>172</td>\n      <td>2646</td>\n    </tr>\n    <tr>\n      <th>Engineering &amp; Construction</th>\n      <td>MDC Holdings</td>\n      <td>Homebuilders</td>\n      <td>Denver, CO</td>\n      <td>1909</td>\n      <td>66</td>\n      <td>1225</td>\n    </tr>\n    <tr>\n      <th>Financials</th>\n      <td>New York Community Bancorp</td>\n      <td>Commercial Banks</td>\n      <td>Westbury, NY</td>\n      <td>1902</td>\n      <td>-47</td>\n      <td>3448</td>\n    </tr>\n    <tr>\n      <th>Food and Drug Stores</th>\n      <td>Fred’s</td>\n      <td>Food and Drug Stores</td>\n      <td>Memphis, TN</td>\n      <td>2151</td>\n      <td>-7</td>\n      <td>7103</td>\n    </tr>\n    <tr>\n      <th>Food, Beverages &amp; Tobacco</th>\n      <td>Alliance One International</td>\n      <td>Tobacco</td>\n      <td>Morrisville, NC</td>\n      <td>2066</td>\n      <td>-15</td>\n      <td>6835</td>\n    </tr>\n    <tr>\n      <th>Health Care</th>\n      <td>Providence Service</td>\n      <td>Health Care: Pharmacy and Other Services</td>\n      <td>Tucson, AZ</td>\n      <td>1987</td>\n      <td>84</td>\n      <td>9072</td>\n    </tr>\n    <tr>\n      <th>Hotels, Resturants &amp; Leisure</th>\n      <td>Wendy’s</td>\n      <td>Food Services</td>\n      <td>Dublin, OH</td>\n      <td>1896</td>\n      <td>161</td>\n      <td>21200</td>\n    </tr>\n    <tr>\n      <th>Household Products</th>\n      <td>Revlon</td>\n      <td>Household and Personal Products</td>\n      <td>New York, NY</td>\n      <td>1914</td>\n      <td>56</td>\n      <td>5700</td>\n    </tr>\n    <tr>\n      <th>Industrials</th>\n      <td>Briggs &amp; Stratton</td>\n      <td>Industrial Machinery</td>\n      <td>Wauwatosa, WI</td>\n      <td>1895</td>\n      <td>46</td>\n      <td>5480</td>\n    </tr>\n    <tr>\n      <th>Materials</th>\n      <td>Schnitzer Steel Industries</td>\n      <td>Metals</td>\n      <td>Portland, OR</td>\n      <td>1924</td>\n      <td>-197</td>\n      <td>2955</td>\n    </tr>\n    <tr>\n      <th>Media</th>\n      <td>Cenveo</td>\n      <td>Publishing, Printing</td>\n      <td>Stamford, CT</td>\n      <td>1921</td>\n      <td>-31</td>\n      <td>7300</td>\n    </tr>\n    <tr>\n      <th>Motor Vehicles &amp; Parts</th>\n      <td>Allison Transmission Holdings</td>\n      <td>Motor Vehicles and Parts</td>\n      <td>Indianaoplis, IN</td>\n      <td>1986</td>\n      <td>182</td>\n      <td>2700</td>\n    </tr>\n    <tr>\n      <th>Retailing</th>\n      <td>99 Cents Only Stores</td>\n      <td>Specialty Retailers: Other</td>\n      <td>Commerce, CA</td>\n      <td>1999</td>\n      <td>-232</td>\n      <td>18200</td>\n    </tr>\n    <tr>\n      <th>Technology</th>\n      <td>F5 Networks</td>\n      <td>Network and Other Communications Equipment</td>\n      <td>Seattle, WA</td>\n      <td>1920</td>\n      <td>365</td>\n      <td>4178</td>\n    </tr>\n    <tr>\n      <th>Telecommunications</th>\n      <td>Equinix</td>\n      <td>Telecommunications</td>\n      <td>Redwood City, CA</td>\n      <td>2726</td>\n      <td>188</td>\n      <td>5042</td>\n    </tr>\n    <tr>\n      <th>Transportation</th>\n      <td>Roadrunner Transportation Systems</td>\n      <td>Transportation and Logistics</td>\n      <td>Cudahy, WI</td>\n      <td>1995</td>\n      <td>48</td>\n      <td>4502</td>\n    </tr>\n    <tr>\n      <th>Wholesalers</th>\n      <td>BlueLinx Holdings</td>\n      <td>Wholesalers: Diversified</td>\n      <td>Atlanta, GA</td>\n      <td>1917</td>\n      <td>-12</td>\n      <td>1600</td>\n    </tr>\n  </tbody>\n</table>\n</div>"
     },
     "metadata": {},
     "execution_count": 11
    }
   ],
   "source": [
    "sectors.first()\n",
    "sectors.last()"
   ]
  },
  {
   "cell_type": "code",
   "execution_count": 14,
   "metadata": {},
   "outputs": [
    {
     "output_type": "execute_result",
     "data": {
      "text/plain": [
       "{'Aerospace & Defense': Int64Index([ 24,  45,  60,  88, 118, 120, 209, 245, 282, 378, 389, 490, 560,\n",
       "             605, 785, 788, 836, 903, 958, 987],\n",
       "            dtype='int64', name='Rank'),\n",
       " 'Apparel': Int64Index([91, 231, 340, 354, 448, 547, 575, 597, 683, 695, 726, 794, 877,\n",
       "             882, 917],\n",
       "            dtype='int64', name='Rank'),\n",
       " 'Business Services': Int64Index([144, 186, 199, 204, 221, 248, 249, 294, 307, 312, 355, 392, 404,\n",
       "             440, 467, 468, 481, 485, 492, 503, 545, 626, 635, 652, 677, 694,\n",
       "             714, 729, 734, 735, 737, 744, 767, 776, 777, 783, 791, 792, 796,\n",
       "             801, 803, 816, 819, 820, 869, 870, 886, 939, 951, 952, 993],\n",
       "            dtype='int64', name='Rank'),\n",
       " 'Chemicals': Int64Index([ 56, 101, 182, 189, 206, 253, 262, 277, 288, 296, 316, 538, 549,\n",
       "             555, 566, 580, 613, 624, 654, 668, 717, 720, 724, 758, 761, 829,\n",
       "             865, 898, 934, 949],\n",
       "            dtype='int64', name='Rank'),\n",
       " 'Energy': Int64Index([  2,  14,  30,  32,  42,  65,  90,  95,  98, 104,\n",
       "             ...\n",
       "             953, 955, 962, 966, 980, 981, 983, 995, 997, 997],\n",
       "            dtype='int64', name='Rank', length=122),\n",
       " 'Engineering & Construction': Int64Index([155, 156, 235, 260, 301, 314, 352, 381, 433, 478, 498, 501, 516,\n",
       "             572, 576, 640, 719, 738, 822, 863, 874, 892, 929, 963, 985, 994],\n",
       "            dtype='int64', name='Rank'),\n",
       " 'Financials': Int64Index([  4,  16,  23,  26,  27,  29,  35,  40,  43,  49,\n",
       "             ...\n",
       "             920, 923, 925, 926, 936, 938, 959, 976, 988, 996],\n",
       "            dtype='int64', name='Rank', length=139),\n",
       " 'Food and Drug Stores': Int64Index([7, 17, 19, 87, 107, 160, 181, 595, 614, 631, 669, 756, 809, 849,\n",
       "             928],\n",
       "            dtype='int64', name='Rank'),\n",
       " 'Food, Beverages & Tobacco': Int64Index([ 41,  44,  62,  66,  84,  94, 106, 149, 153, 161, 176, 207, 215,\n",
       "             242, 266, 304, 336, 337, 362, 397, 413, 429, 452, 456, 460, 535,\n",
       "             542, 567, 574, 587, 608, 615, 636, 664, 686, 702, 770, 787, 795,\n",
       "             804, 889, 902, 954],\n",
       "            dtype='int64', name='Rank'),\n",
       " 'Health Care': Int64Index([  5,   6,  12,  21,  22,  33,  39,  46,  52,  55,  63,  72,  79,\n",
       "              86, 123, 124, 125, 130, 138, 140, 141, 168, 172, 200, 201, 202,\n",
       "             263, 268, 278, 286, 287, 290, 291, 305, 325, 358, 359, 372, 420,\n",
       "             430, 431, 447, 457, 465, 469, 515, 527, 537, 553, 559, 583, 618,\n",
       "             629, 661, 684, 693, 697, 708, 746, 749, 766, 775, 790, 799, 815,\n",
       "             818, 845, 868, 881, 883, 935, 960, 965, 977, 978],\n",
       "            dtype='int64', name='Rank'),\n",
       " 'Hotels, Resturants & Leisure': Int64Index([109, 146, 195, 218, 241, 254, 309, 371, 444, 466, 534, 546, 557,\n",
       "             562, 585, 731, 763, 764, 779, 797, 895, 915, 918, 941, 999],\n",
       "            dtype='int64', name='Rank'),\n",
       " 'Household Products': Int64Index([ 34, 151, 174, 256, 261, 328, 338, 345, 370, 434, 441, 450, 455,\n",
       "             533, 550, 554, 601, 665, 699, 716, 856, 890, 900, 907, 932, 950,\n",
       "             967, 992],\n",
       "            dtype='int64', name='Rank'),\n",
       " 'Industrials': Int64Index([  11,   59,   75,   93,   97,  128,  134,  148,  211,  224,  360,\n",
       "              377,  396,  412,  419,  539,  544,  596,  622,  623,  630,  645,\n",
       "              655,  658,  666,  674,  690,  757,  782,  789,  806,  813,  823,\n",
       "              831,  832,  835,  841,  847,  866,  867,  873,  887,  942,  947,\n",
       "              964, 1000],\n",
       "            dtype='int64', name='Rank'),\n",
       " 'Materials': Int64Index([126, 127, 170, 244, 251, 303, 321, 341, 356, 373, 375, 383, 417,\n",
       "             418, 426, 435, 446, 480, 489, 514, 518, 577, 586, 616, 617, 620,\n",
       "             625, 628, 637, 639, 641, 660, 667, 687, 691, 751, 774, 793, 857,\n",
       "             885, 911, 982, 986],\n",
       "            dtype='int64', name='Rank'),\n",
       " 'Media': Int64Index([ 53,  96,  99, 203, 213, 255, 327, 366, 406, 414, 525, 530, 681,\n",
       "             705, 707, 722, 741, 752, 759, 762, 821, 913, 968, 969, 989],\n",
       "            dtype='int64', name='Rank'),\n",
       " 'Motor Vehicles & Parts': Int64Index([  8,   9,  70, 147, 154, 169, 281, 310, 334, 339, 424, 428, 470,\n",
       "             588, 591, 604, 647, 670, 718, 739, 811, 957, 961, 979],\n",
       "            dtype='int64', name='Rank'),\n",
       " 'Retailing': Int64Index([  1,  15,  28,  38,  47,  71,  89, 103, 111, 132, 136, 139, 143,\n",
       "             145, 177, 180, 191, 196, 197, 228, 234, 237, 238, 240, 258, 267,\n",
       "             269, 280, 293, 297, 299, 302, 330, 342, 346, 361, 365, 374, 379,\n",
       "             380, 393, 415, 427, 439, 495, 500, 502, 511, 512, 517, 523, 582,\n",
       "             592, 602, 607, 610, 621, 643, 644, 648, 657, 675, 689, 721, 748,\n",
       "             771, 773, 807, 812, 824, 825, 827, 840, 876, 894, 899, 922, 937,\n",
       "             940, 973],\n",
       "            dtype='int64', name='Rank'),\n",
       " 'Technology': Int64Index([  3,  18,  20,  25,  31,  36,  51,  54,  77, 110,\n",
       "             ...\n",
       "             931, 943, 944, 946, 956, 970, 971, 975, 984, 990],\n",
       "            dtype='int64', name='Rank', length=102),\n",
       " 'Telecommunications': Int64Index([10, 13, 37, 116, 159, 187, 292, 333, 399, 443, 461, 496, 526, 619,\n",
       "             786],\n",
       "            dtype='int64', name='Rank'),\n",
       " 'Transportation': Int64Index([ 48,  58,  67,  68,  80, 129, 142, 208, 239, 270, 353, 390, 395,\n",
       "             405, 407, 416, 432, 459, 521, 528, 570, 578, 642, 672, 709, 713,\n",
       "             740, 800, 814, 858, 884, 930, 933, 945, 972, 974],\n",
       "            dtype='int64', name='Rank'),\n",
       " 'Wholesalers': Int64Index([ 57,  64,  92, 102, 108, 119, 122, 167, 183, 185, 212, 276, 285,\n",
       "             315, 317, 320, 323, 335, 351, 357, 369, 391, 423, 463, 474, 477,\n",
       "             484, 564, 581, 599, 627, 653, 685, 727, 747, 780, 808, 837, 875,\n",
       "             991],\n",
       "            dtype='int64', name='Rank')}"
      ]
     },
     "metadata": {},
     "execution_count": 14
    }
   ],
   "source": [
    "sectors.groups"
   ]
  },
  {
   "cell_type": "code",
   "execution_count": 15,
   "metadata": {},
   "outputs": [
    {
     "output_type": "execute_result",
     "data": {
      "text/plain": [
       "Company                     Boeing\n",
       "Sector         Aerospace & Defense\n",
       "Industry     Aerospace and Defense\n",
       "Location               Chicago, IL\n",
       "Revenue                      96114\n",
       "Profits                       5176\n",
       "Employees                   161400\n",
       "Name: 24, dtype: object"
      ]
     },
     "metadata": {},
     "execution_count": 15
    }
   ],
   "source": [
    "fortune.loc[24]"
   ]
  },
  {
   "cell_type": "code",
   "execution_count": 16,
   "metadata": {},
   "outputs": [
    {
     "output_type": "execute_result",
     "data": {
      "text/plain": [
       "Company        United Technologies\n",
       "Sector         Aerospace & Defense\n",
       "Industry     Aerospace and Defense\n",
       "Location            Farmington, CT\n",
       "Revenue                      61047\n",
       "Profits                       7608\n",
       "Employees                   197200\n",
       "Name: 45, dtype: object"
      ]
     },
     "metadata": {},
     "execution_count": 16
    }
   ],
   "source": [
    "fortune.loc[45]"
   ]
  },
  {
   "cell_type": "code",
   "execution_count": null,
   "metadata": {},
   "outputs": [],
   "source": []
  }
 ]
}