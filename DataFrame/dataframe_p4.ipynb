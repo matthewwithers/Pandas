{
 "metadata": {
  "language_info": {
   "codemirror_mode": {
    "name": "ipython",
    "version": 3
   },
   "file_extension": ".py",
   "mimetype": "text/x-python",
   "name": "python",
   "nbconvert_exporter": "python",
   "pygments_lexer": "ipython3",
   "version": "3.7.6"
  },
  "orig_nbformat": 2,
  "kernelspec": {
   "name": "python376jvsc74a57bd01334010457180b265d09b56daeed883170adb1c65c35741b4ba4ec40109d9a77",
   "display_name": "Python 3.7.6 64-bit ('base': conda)"
  }
 },
 "nbformat": 4,
 "nbformat_minor": 2,
 "cells": [
  {
   "cell_type": "code",
   "execution_count": 1,
   "metadata": {},
   "outputs": [
    {
     "output_type": "execute_result",
     "data": {
      "text/plain": [
       "  First Name  Gender Start Date     Last Login Time  Salary  Bonus %  \\\n",
       "0    Douglas    Male 1993-08-06 2021-05-31 12:42:00   97308    6.945   \n",
       "1     Thomas    Male 1996-03-31 2021-05-31 06:53:00   61933    4.170   \n",
       "2      Maria  Female 1993-04-23 2021-05-31 11:17:00  130590   11.858   \n",
       "\n",
       "   Senior Management       Team  \n",
       "0               True  Marketing  \n",
       "1               True        NaN  \n",
       "2              False    Finance  "
      ],
      "text/html": "<div>\n<style scoped>\n    .dataframe tbody tr th:only-of-type {\n        vertical-align: middle;\n    }\n\n    .dataframe tbody tr th {\n        vertical-align: top;\n    }\n\n    .dataframe thead th {\n        text-align: right;\n    }\n</style>\n<table border=\"1\" class=\"dataframe\">\n  <thead>\n    <tr style=\"text-align: right;\">\n      <th></th>\n      <th>First Name</th>\n      <th>Gender</th>\n      <th>Start Date</th>\n      <th>Last Login Time</th>\n      <th>Salary</th>\n      <th>Bonus %</th>\n      <th>Senior Management</th>\n      <th>Team</th>\n    </tr>\n  </thead>\n  <tbody>\n    <tr>\n      <th>0</th>\n      <td>Douglas</td>\n      <td>Male</td>\n      <td>1993-08-06</td>\n      <td>2021-05-31 12:42:00</td>\n      <td>97308</td>\n      <td>6.945</td>\n      <td>True</td>\n      <td>Marketing</td>\n    </tr>\n    <tr>\n      <th>1</th>\n      <td>Thomas</td>\n      <td>Male</td>\n      <td>1996-03-31</td>\n      <td>2021-05-31 06:53:00</td>\n      <td>61933</td>\n      <td>4.170</td>\n      <td>True</td>\n      <td>NaN</td>\n    </tr>\n    <tr>\n      <th>2</th>\n      <td>Maria</td>\n      <td>Female</td>\n      <td>1993-04-23</td>\n      <td>2021-05-31 11:17:00</td>\n      <td>130590</td>\n      <td>11.858</td>\n      <td>False</td>\n      <td>Finance</td>\n    </tr>\n  </tbody>\n</table>\n</div>"
     },
     "metadata": {},
     "execution_count": 1
    }
   ],
   "source": [
    "import pandas as pd\n",
    "df = pd.read_csv('../Files/employees.csv', parse_dates=['Start Date','Last Login Time'])\n",
    "df['Senior Management'] = df['Senior Management'].astype('bool')\n",
    "df['Gender'] = df['Gender'].astype('category')\n",
    "df.head(3)"
   ]
  },
  {
   "cell_type": "code",
   "execution_count": 2,
   "metadata": {},
   "outputs": [
    {
     "output_type": "execute_result",
     "data": {
      "text/plain": [
       "    First Name  Gender Start Date     Last Login Time  Salary  Bonus %  \\\n",
       "0      Douglas    Male 1993-08-06 2021-05-31 12:42:00   97308    6.945   \n",
       "1       Thomas    Male 1996-03-31 2021-05-31 06:53:00   61933    4.170   \n",
       "2        Maria  Female 1993-04-23 2021-05-31 11:17:00  130590   11.858   \n",
       "3        Jerry    Male 2005-03-04 2021-05-31 13:00:00  138705    9.340   \n",
       "4        Larry    Male 1998-01-24 2021-05-31 16:47:00  101004    1.389   \n",
       "..         ...     ...        ...                 ...     ...      ...   \n",
       "994     George    Male 2013-06-21 2021-05-31 17:47:00   98874    4.479   \n",
       "996    Phillip    Male 1984-01-31 2021-05-31 06:30:00   42392   19.675   \n",
       "997    Russell    Male 2013-05-20 2021-05-31 12:39:00   96914    1.421   \n",
       "998      Larry    Male 2013-04-20 2021-05-31 16:45:00   60500   11.985   \n",
       "999     Albert    Male 2012-05-15 2021-05-31 18:24:00  129949   10.169   \n",
       "\n",
       "     Senior Management                  Team  \n",
       "0                 True             Marketing  \n",
       "1                 True                   NaN  \n",
       "2                False               Finance  \n",
       "3                 True               Finance  \n",
       "4                 True       Client Services  \n",
       "..                 ...                   ...  \n",
       "994               True             Marketing  \n",
       "996              False               Finance  \n",
       "997              False               Product  \n",
       "998              False  Business Development  \n",
       "999               True                 Sales  \n",
       "\n",
       "[855 rows x 8 columns]"
      ],
      "text/html": "<div>\n<style scoped>\n    .dataframe tbody tr th:only-of-type {\n        vertical-align: middle;\n    }\n\n    .dataframe tbody tr th {\n        vertical-align: top;\n    }\n\n    .dataframe thead th {\n        text-align: right;\n    }\n</style>\n<table border=\"1\" class=\"dataframe\">\n  <thead>\n    <tr style=\"text-align: right;\">\n      <th></th>\n      <th>First Name</th>\n      <th>Gender</th>\n      <th>Start Date</th>\n      <th>Last Login Time</th>\n      <th>Salary</th>\n      <th>Bonus %</th>\n      <th>Senior Management</th>\n      <th>Team</th>\n    </tr>\n  </thead>\n  <tbody>\n    <tr>\n      <th>0</th>\n      <td>Douglas</td>\n      <td>Male</td>\n      <td>1993-08-06</td>\n      <td>2021-05-31 12:42:00</td>\n      <td>97308</td>\n      <td>6.945</td>\n      <td>True</td>\n      <td>Marketing</td>\n    </tr>\n    <tr>\n      <th>1</th>\n      <td>Thomas</td>\n      <td>Male</td>\n      <td>1996-03-31</td>\n      <td>2021-05-31 06:53:00</td>\n      <td>61933</td>\n      <td>4.170</td>\n      <td>True</td>\n      <td>NaN</td>\n    </tr>\n    <tr>\n      <th>2</th>\n      <td>Maria</td>\n      <td>Female</td>\n      <td>1993-04-23</td>\n      <td>2021-05-31 11:17:00</td>\n      <td>130590</td>\n      <td>11.858</td>\n      <td>False</td>\n      <td>Finance</td>\n    </tr>\n    <tr>\n      <th>3</th>\n      <td>Jerry</td>\n      <td>Male</td>\n      <td>2005-03-04</td>\n      <td>2021-05-31 13:00:00</td>\n      <td>138705</td>\n      <td>9.340</td>\n      <td>True</td>\n      <td>Finance</td>\n    </tr>\n    <tr>\n      <th>4</th>\n      <td>Larry</td>\n      <td>Male</td>\n      <td>1998-01-24</td>\n      <td>2021-05-31 16:47:00</td>\n      <td>101004</td>\n      <td>1.389</td>\n      <td>True</td>\n      <td>Client Services</td>\n    </tr>\n    <tr>\n      <th>...</th>\n      <td>...</td>\n      <td>...</td>\n      <td>...</td>\n      <td>...</td>\n      <td>...</td>\n      <td>...</td>\n      <td>...</td>\n      <td>...</td>\n    </tr>\n    <tr>\n      <th>994</th>\n      <td>George</td>\n      <td>Male</td>\n      <td>2013-06-21</td>\n      <td>2021-05-31 17:47:00</td>\n      <td>98874</td>\n      <td>4.479</td>\n      <td>True</td>\n      <td>Marketing</td>\n    </tr>\n    <tr>\n      <th>996</th>\n      <td>Phillip</td>\n      <td>Male</td>\n      <td>1984-01-31</td>\n      <td>2021-05-31 06:30:00</td>\n      <td>42392</td>\n      <td>19.675</td>\n      <td>False</td>\n      <td>Finance</td>\n    </tr>\n    <tr>\n      <th>997</th>\n      <td>Russell</td>\n      <td>Male</td>\n      <td>2013-05-20</td>\n      <td>2021-05-31 12:39:00</td>\n      <td>96914</td>\n      <td>1.421</td>\n      <td>False</td>\n      <td>Product</td>\n    </tr>\n    <tr>\n      <th>998</th>\n      <td>Larry</td>\n      <td>Male</td>\n      <td>2013-04-20</td>\n      <td>2021-05-31 16:45:00</td>\n      <td>60500</td>\n      <td>11.985</td>\n      <td>False</td>\n      <td>Business Development</td>\n    </tr>\n    <tr>\n      <th>999</th>\n      <td>Albert</td>\n      <td>Male</td>\n      <td>2012-05-15</td>\n      <td>2021-05-31 18:24:00</td>\n      <td>129949</td>\n      <td>10.169</td>\n      <td>True</td>\n      <td>Sales</td>\n    </tr>\n  </tbody>\n</table>\n<p>855 rows × 8 columns</p>\n</div>"
     },
     "metadata": {},
     "execution_count": 2
    }
   ],
   "source": [
    "conditon1 = df['Team'].isnull()\n",
    "df[conditon1]\n",
    "\n",
    "condition2 = df['Gender'].notnull()\n",
    "df[condition2]"
   ]
  },
  {
   "cell_type": "code",
   "execution_count": 3,
   "metadata": {},
   "outputs": [],
   "source": [
    "# The .between() Method"
   ]
  },
  {
   "cell_type": "code",
   "execution_count": 4,
   "metadata": {},
   "outputs": [
    {
     "output_type": "execute_result",
     "data": {
      "text/plain": [
       "    First Name  Gender Start Date     Last Login Time  Salary  Bonus %  \\\n",
       "88       Donna  Female 1991-11-27 2021-05-31 13:59:00   64088    6.155   \n",
       "704     Thomas    Male 1991-09-07 2021-05-31 09:51:00   65251   11.211   \n",
       "909     Donald    Male 1991-08-01 2021-05-31 02:25:00   61999    6.466   \n",
       "\n",
       "     Senior Management          Team  \n",
       "88                True         Legal  \n",
       "704              False  Distribution  \n",
       "909              False       Product  "
      ],
      "text/html": "<div>\n<style scoped>\n    .dataframe tbody tr th:only-of-type {\n        vertical-align: middle;\n    }\n\n    .dataframe tbody tr th {\n        vertical-align: top;\n    }\n\n    .dataframe thead th {\n        text-align: right;\n    }\n</style>\n<table border=\"1\" class=\"dataframe\">\n  <thead>\n    <tr style=\"text-align: right;\">\n      <th></th>\n      <th>First Name</th>\n      <th>Gender</th>\n      <th>Start Date</th>\n      <th>Last Login Time</th>\n      <th>Salary</th>\n      <th>Bonus %</th>\n      <th>Senior Management</th>\n      <th>Team</th>\n    </tr>\n  </thead>\n  <tbody>\n    <tr>\n      <th>88</th>\n      <td>Donna</td>\n      <td>Female</td>\n      <td>1991-11-27</td>\n      <td>2021-05-31 13:59:00</td>\n      <td>64088</td>\n      <td>6.155</td>\n      <td>True</td>\n      <td>Legal</td>\n    </tr>\n    <tr>\n      <th>704</th>\n      <td>Thomas</td>\n      <td>Male</td>\n      <td>1991-09-07</td>\n      <td>2021-05-31 09:51:00</td>\n      <td>65251</td>\n      <td>11.211</td>\n      <td>False</td>\n      <td>Distribution</td>\n    </tr>\n    <tr>\n      <th>909</th>\n      <td>Donald</td>\n      <td>Male</td>\n      <td>1991-08-01</td>\n      <td>2021-05-31 02:25:00</td>\n      <td>61999</td>\n      <td>6.466</td>\n      <td>False</td>\n      <td>Product</td>\n    </tr>\n  </tbody>\n</table>\n</div>"
     },
     "metadata": {},
     "execution_count": 4
    }
   ],
   "source": [
    "condition = df['Salary'].between(60000,70000)\n",
    "df[condition]\n",
    "\n",
    "df[df['Bonus %'].between(2.0,5.0)]\n",
    "df[df['Start Date'].between('1991-01-01','1992-01-01') & df['Salary'].between(60000,70000)]"
   ]
  },
  {
   "cell_type": "code",
   "execution_count": 5,
   "metadata": {},
   "outputs": [
    {
     "output_type": "execute_result",
     "data": {
      "text/plain": [
       "    First Name  Gender Start Date     Last Login Time  Salary  Bonus %  \\\n",
       "2        Maria  Female 1993-04-23 2021-05-31 11:17:00  130590   11.858   \n",
       "7          NaN  Female 2015-07-20 2021-05-31 10:43:00   45906   11.598   \n",
       "10      Louise  Female 1980-08-12 2021-05-31 09:01:00   63241   15.132   \n",
       "18       Diana  Female 1981-10-23 2021-05-31 10:27:00  132940   19.082   \n",
       "33        Jean  Female 1993-12-18 2021-05-31 09:07:00  119082   16.180   \n",
       "..         ...     ...        ...                 ...     ...      ...   \n",
       "963        Ann  Female 1994-09-23 2021-05-31 11:15:00   89443   17.940   \n",
       "977      Sarah  Female 1995-12-04 2021-05-31 09:16:00  124566    5.949   \n",
       "982       Rose  Female 1982-04-06 2021-05-31 10:43:00   91411    8.639   \n",
       "988      Alice  Female 2004-10-05 2021-05-31 09:34:00   47638   11.209   \n",
       "992    Anthony    Male 2011-10-16 2021-05-31 08:35:00  112769   11.625   \n",
       "\n",
       "     Senior Management                  Team  \n",
       "2                False               Finance  \n",
       "7                 True               Finance  \n",
       "10                True                   NaN  \n",
       "18               False       Client Services  \n",
       "33               False  Business Development  \n",
       "..                 ...                   ...  \n",
       "963               True                 Sales  \n",
       "977              False               Product  \n",
       "982               True       Human Resources  \n",
       "988              False       Human Resources  \n",
       "992               True               Finance  \n",
       "\n",
       "[136 rows x 8 columns]"
      ],
      "text/html": "<div>\n<style scoped>\n    .dataframe tbody tr th:only-of-type {\n        vertical-align: middle;\n    }\n\n    .dataframe tbody tr th {\n        vertical-align: top;\n    }\n\n    .dataframe thead th {\n        text-align: right;\n    }\n</style>\n<table border=\"1\" class=\"dataframe\">\n  <thead>\n    <tr style=\"text-align: right;\">\n      <th></th>\n      <th>First Name</th>\n      <th>Gender</th>\n      <th>Start Date</th>\n      <th>Last Login Time</th>\n      <th>Salary</th>\n      <th>Bonus %</th>\n      <th>Senior Management</th>\n      <th>Team</th>\n    </tr>\n  </thead>\n  <tbody>\n    <tr>\n      <th>2</th>\n      <td>Maria</td>\n      <td>Female</td>\n      <td>1993-04-23</td>\n      <td>2021-05-31 11:17:00</td>\n      <td>130590</td>\n      <td>11.858</td>\n      <td>False</td>\n      <td>Finance</td>\n    </tr>\n    <tr>\n      <th>7</th>\n      <td>NaN</td>\n      <td>Female</td>\n      <td>2015-07-20</td>\n      <td>2021-05-31 10:43:00</td>\n      <td>45906</td>\n      <td>11.598</td>\n      <td>True</td>\n      <td>Finance</td>\n    </tr>\n    <tr>\n      <th>10</th>\n      <td>Louise</td>\n      <td>Female</td>\n      <td>1980-08-12</td>\n      <td>2021-05-31 09:01:00</td>\n      <td>63241</td>\n      <td>15.132</td>\n      <td>True</td>\n      <td>NaN</td>\n    </tr>\n    <tr>\n      <th>18</th>\n      <td>Diana</td>\n      <td>Female</td>\n      <td>1981-10-23</td>\n      <td>2021-05-31 10:27:00</td>\n      <td>132940</td>\n      <td>19.082</td>\n      <td>False</td>\n      <td>Client Services</td>\n    </tr>\n    <tr>\n      <th>33</th>\n      <td>Jean</td>\n      <td>Female</td>\n      <td>1993-12-18</td>\n      <td>2021-05-31 09:07:00</td>\n      <td>119082</td>\n      <td>16.180</td>\n      <td>False</td>\n      <td>Business Development</td>\n    </tr>\n    <tr>\n      <th>...</th>\n      <td>...</td>\n      <td>...</td>\n      <td>...</td>\n      <td>...</td>\n      <td>...</td>\n      <td>...</td>\n      <td>...</td>\n      <td>...</td>\n    </tr>\n    <tr>\n      <th>963</th>\n      <td>Ann</td>\n      <td>Female</td>\n      <td>1994-09-23</td>\n      <td>2021-05-31 11:15:00</td>\n      <td>89443</td>\n      <td>17.940</td>\n      <td>True</td>\n      <td>Sales</td>\n    </tr>\n    <tr>\n      <th>977</th>\n      <td>Sarah</td>\n      <td>Female</td>\n      <td>1995-12-04</td>\n      <td>2021-05-31 09:16:00</td>\n      <td>124566</td>\n      <td>5.949</td>\n      <td>False</td>\n      <td>Product</td>\n    </tr>\n    <tr>\n      <th>982</th>\n      <td>Rose</td>\n      <td>Female</td>\n      <td>1982-04-06</td>\n      <td>2021-05-31 10:43:00</td>\n      <td>91411</td>\n      <td>8.639</td>\n      <td>True</td>\n      <td>Human Resources</td>\n    </tr>\n    <tr>\n      <th>988</th>\n      <td>Alice</td>\n      <td>Female</td>\n      <td>2004-10-05</td>\n      <td>2021-05-31 09:34:00</td>\n      <td>47638</td>\n      <td>11.209</td>\n      <td>False</td>\n      <td>Human Resources</td>\n    </tr>\n    <tr>\n      <th>992</th>\n      <td>Anthony</td>\n      <td>Male</td>\n      <td>2011-10-16</td>\n      <td>2021-05-31 08:35:00</td>\n      <td>112769</td>\n      <td>11.625</td>\n      <td>True</td>\n      <td>Finance</td>\n    </tr>\n  </tbody>\n</table>\n<p>136 rows × 8 columns</p>\n</div>"
     },
     "metadata": {},
     "execution_count": 5
    }
   ],
   "source": [
    "df[df['Last Login Time'].between('08:30AM','12:00PM')]"
   ]
  },
  {
   "cell_type": "code",
   "execution_count": 6,
   "metadata": {},
   "outputs": [],
   "source": [
    "# .duplicated() Method"
   ]
  },
  {
   "cell_type": "code",
   "execution_count": 7,
   "metadata": {},
   "outputs": [
    {
     "output_type": "execute_result",
     "data": {
      "text/plain": [
       "    First Name Gender Start Date     Last Login Time  Salary  Bonus %  \\\n",
       "101      Aaron   Male 2012-02-17 2021-05-31 10:20:00   61602   11.849   \n",
       "327      Aaron   Male 1994-01-29 2021-05-31 18:48:00   58755    5.097   \n",
       "440      Aaron   Male 1990-07-22 2021-05-31 14:53:00   52119   11.343   \n",
       "\n",
       "     Senior Management             Team  \n",
       "101               True        Marketing  \n",
       "327               True        Marketing  \n",
       "440               True  Client Services  "
      ],
      "text/html": "<div>\n<style scoped>\n    .dataframe tbody tr th:only-of-type {\n        vertical-align: middle;\n    }\n\n    .dataframe tbody tr th {\n        vertical-align: top;\n    }\n\n    .dataframe thead th {\n        text-align: right;\n    }\n</style>\n<table border=\"1\" class=\"dataframe\">\n  <thead>\n    <tr style=\"text-align: right;\">\n      <th></th>\n      <th>First Name</th>\n      <th>Gender</th>\n      <th>Start Date</th>\n      <th>Last Login Time</th>\n      <th>Salary</th>\n      <th>Bonus %</th>\n      <th>Senior Management</th>\n      <th>Team</th>\n    </tr>\n  </thead>\n  <tbody>\n    <tr>\n      <th>101</th>\n      <td>Aaron</td>\n      <td>Male</td>\n      <td>2012-02-17</td>\n      <td>2021-05-31 10:20:00</td>\n      <td>61602</td>\n      <td>11.849</td>\n      <td>True</td>\n      <td>Marketing</td>\n    </tr>\n    <tr>\n      <th>327</th>\n      <td>Aaron</td>\n      <td>Male</td>\n      <td>1994-01-29</td>\n      <td>2021-05-31 18:48:00</td>\n      <td>58755</td>\n      <td>5.097</td>\n      <td>True</td>\n      <td>Marketing</td>\n    </tr>\n    <tr>\n      <th>440</th>\n      <td>Aaron</td>\n      <td>Male</td>\n      <td>1990-07-22</td>\n      <td>2021-05-31 14:53:00</td>\n      <td>52119</td>\n      <td>11.343</td>\n      <td>True</td>\n      <td>Client Services</td>\n    </tr>\n  </tbody>\n</table>\n</div>"
     },
     "metadata": {},
     "execution_count": 7
    }
   ],
   "source": [
    "df = pd.read_csv('../Files/employees.csv', parse_dates=['Start Date','Last Login Time'])\n",
    "df['Senior Management'] = df['Senior Management'].astype('bool')\n",
    "df['Gender'] = df['Gender'].astype('category')\n",
    "df.sort_values(\"First Name\", inplace=True)\n",
    "df.head(3)"
   ]
  },
  {
   "cell_type": "code",
   "execution_count": 8,
   "metadata": {},
   "outputs": [
    {
     "output_type": "execute_result",
     "data": {
      "text/plain": [
       "1000"
      ]
     },
     "metadata": {},
     "execution_count": 8
    }
   ],
   "source": [
    "df[df['First Name'].duplicated() == False]\n",
    "df2 = df[~df['First Name'].duplicated(keep=False)]\n",
    "df2.sort_values(['Start Date','First Name'],ascending=[False,True])\n",
    "\n",
    "len(df)"
   ]
  },
  {
   "cell_type": "code",
   "execution_count": 9,
   "metadata": {},
   "outputs": [
    {
     "output_type": "execute_result",
     "data": {
      "text/plain": [
       "1000"
      ]
     },
     "metadata": {},
     "execution_count": 9
    }
   ],
   "source": [
    "len(df.drop_duplicates())"
   ]
  },
  {
   "cell_type": "code",
   "execution_count": 11,
   "metadata": {},
   "outputs": [
    {
     "output_type": "execute_result",
     "data": {
      "text/plain": [
       "    First Name  Gender Start Date     Last Login Time  Salary  Bonus %  \\\n",
       "101      Aaron    Male 2012-02-17 2021-05-31 10:20:00   61602   11.849   \n",
       "327      Aaron    Male 1994-01-29 2021-05-31 18:48:00   58755    5.097   \n",
       "440      Aaron    Male 1990-07-22 2021-05-31 14:53:00   52119   11.343   \n",
       "937      Aaron     NaN 1986-01-22 2021-05-31 19:39:00   63126   18.424   \n",
       "137       Adam    Male 2011-05-21 2021-05-31 01:45:00   95327   15.120   \n",
       "..         ...     ...        ...                 ...     ...      ...   \n",
       "902        NaN    Male 2001-05-23 2021-05-31 19:52:00  103877    6.322   \n",
       "925        NaN  Female 2000-08-23 2021-05-31 16:19:00   95866   19.388   \n",
       "946        NaN  Female 1985-09-15 2021-05-31 01:50:00  133472   16.941   \n",
       "947        NaN    Male 2012-07-30 2021-05-31 15:07:00  107351    5.329   \n",
       "951        NaN  Female 2010-09-14 2021-05-31 05:19:00  143638    9.662   \n",
       "\n",
       "     Senior Management             Team  \n",
       "101               True        Marketing  \n",
       "327               True        Marketing  \n",
       "440               True  Client Services  \n",
       "937              False  Client Services  \n",
       "137              False     Distribution  \n",
       "..                 ...              ...  \n",
       "902               True     Distribution  \n",
       "925               True            Sales  \n",
       "946               True     Distribution  \n",
       "947               True        Marketing  \n",
       "951               True              NaN  \n",
       "\n",
       "[1000 rows x 8 columns]"
      ],
      "text/html": "<div>\n<style scoped>\n    .dataframe tbody tr th:only-of-type {\n        vertical-align: middle;\n    }\n\n    .dataframe tbody tr th {\n        vertical-align: top;\n    }\n\n    .dataframe thead th {\n        text-align: right;\n    }\n</style>\n<table border=\"1\" class=\"dataframe\">\n  <thead>\n    <tr style=\"text-align: right;\">\n      <th></th>\n      <th>First Name</th>\n      <th>Gender</th>\n      <th>Start Date</th>\n      <th>Last Login Time</th>\n      <th>Salary</th>\n      <th>Bonus %</th>\n      <th>Senior Management</th>\n      <th>Team</th>\n    </tr>\n  </thead>\n  <tbody>\n    <tr>\n      <th>101</th>\n      <td>Aaron</td>\n      <td>Male</td>\n      <td>2012-02-17</td>\n      <td>2021-05-31 10:20:00</td>\n      <td>61602</td>\n      <td>11.849</td>\n      <td>True</td>\n      <td>Marketing</td>\n    </tr>\n    <tr>\n      <th>327</th>\n      <td>Aaron</td>\n      <td>Male</td>\n      <td>1994-01-29</td>\n      <td>2021-05-31 18:48:00</td>\n      <td>58755</td>\n      <td>5.097</td>\n      <td>True</td>\n      <td>Marketing</td>\n    </tr>\n    <tr>\n      <th>440</th>\n      <td>Aaron</td>\n      <td>Male</td>\n      <td>1990-07-22</td>\n      <td>2021-05-31 14:53:00</td>\n      <td>52119</td>\n      <td>11.343</td>\n      <td>True</td>\n      <td>Client Services</td>\n    </tr>\n    <tr>\n      <th>937</th>\n      <td>Aaron</td>\n      <td>NaN</td>\n      <td>1986-01-22</td>\n      <td>2021-05-31 19:39:00</td>\n      <td>63126</td>\n      <td>18.424</td>\n      <td>False</td>\n      <td>Client Services</td>\n    </tr>\n    <tr>\n      <th>137</th>\n      <td>Adam</td>\n      <td>Male</td>\n      <td>2011-05-21</td>\n      <td>2021-05-31 01:45:00</td>\n      <td>95327</td>\n      <td>15.120</td>\n      <td>False</td>\n      <td>Distribution</td>\n    </tr>\n    <tr>\n      <th>...</th>\n      <td>...</td>\n      <td>...</td>\n      <td>...</td>\n      <td>...</td>\n      <td>...</td>\n      <td>...</td>\n      <td>...</td>\n      <td>...</td>\n    </tr>\n    <tr>\n      <th>902</th>\n      <td>NaN</td>\n      <td>Male</td>\n      <td>2001-05-23</td>\n      <td>2021-05-31 19:52:00</td>\n      <td>103877</td>\n      <td>6.322</td>\n      <td>True</td>\n      <td>Distribution</td>\n    </tr>\n    <tr>\n      <th>925</th>\n      <td>NaN</td>\n      <td>Female</td>\n      <td>2000-08-23</td>\n      <td>2021-05-31 16:19:00</td>\n      <td>95866</td>\n      <td>19.388</td>\n      <td>True</td>\n      <td>Sales</td>\n    </tr>\n    <tr>\n      <th>946</th>\n      <td>NaN</td>\n      <td>Female</td>\n      <td>1985-09-15</td>\n      <td>2021-05-31 01:50:00</td>\n      <td>133472</td>\n      <td>16.941</td>\n      <td>True</td>\n      <td>Distribution</td>\n    </tr>\n    <tr>\n      <th>947</th>\n      <td>NaN</td>\n      <td>Male</td>\n      <td>2012-07-30</td>\n      <td>2021-05-31 15:07:00</td>\n      <td>107351</td>\n      <td>5.329</td>\n      <td>True</td>\n      <td>Marketing</td>\n    </tr>\n    <tr>\n      <th>951</th>\n      <td>NaN</td>\n      <td>Female</td>\n      <td>2010-09-14</td>\n      <td>2021-05-31 05:19:00</td>\n      <td>143638</td>\n      <td>9.662</td>\n      <td>True</td>\n      <td>NaN</td>\n    </tr>\n  </tbody>\n</table>\n<p>1000 rows × 8 columns</p>\n</div>"
     },
     "metadata": {},
     "execution_count": 11
    }
   ],
   "source": [
    "df.drop_duplicates()"
   ]
  },
  {
   "cell_type": "code",
   "execution_count": 15,
   "metadata": {},
   "outputs": [
    {
     "output_type": "execute_result",
     "data": {
      "text/plain": [
       "    First Name  Gender Start Date     Last Login Time  Salary  Bonus %  \\\n",
       "8       Angela  Female 2005-11-22 2021-05-31 06:29:00   95570   18.523   \n",
       "688      Brian    Male 2007-04-07 2021-05-31 22:47:00   93901   17.821   \n",
       "190      Carol  Female 1996-03-19 2021-05-31 03:39:00   57783    9.129   \n",
       "887      David    Male 2009-12-05 2021-05-31 08:48:00   92242   15.407   \n",
       "5       Dennis    Male 1987-04-18 2021-05-31 01:35:00  115163   10.125   \n",
       "495     Eugene    Male 1984-05-24 2021-05-31 10:54:00   81077    2.117   \n",
       "33        Jean  Female 1993-12-18 2021-05-31 09:07:00  119082   16.180   \n",
       "832      Keith    Male 2003-02-12 2021-05-31 15:02:00  120672   19.467   \n",
       "291      Tammy  Female 1984-11-11 2021-05-31 10:30:00  132839   17.463   \n",
       "\n",
       "     Senior Management                  Team  \n",
       "8                 True           Engineering  \n",
       "688               True                 Legal  \n",
       "190              False               Finance  \n",
       "887              False                 Legal  \n",
       "5                False                 Legal  \n",
       "495              False                 Sales  \n",
       "33               False  Business Development  \n",
       "832              False                 Legal  \n",
       "291               True       Client Services  "
      ],
      "text/html": "<div>\n<style scoped>\n    .dataframe tbody tr th:only-of-type {\n        vertical-align: middle;\n    }\n\n    .dataframe tbody tr th {\n        vertical-align: top;\n    }\n\n    .dataframe thead th {\n        text-align: right;\n    }\n</style>\n<table border=\"1\" class=\"dataframe\">\n  <thead>\n    <tr style=\"text-align: right;\">\n      <th></th>\n      <th>First Name</th>\n      <th>Gender</th>\n      <th>Start Date</th>\n      <th>Last Login Time</th>\n      <th>Salary</th>\n      <th>Bonus %</th>\n      <th>Senior Management</th>\n      <th>Team</th>\n    </tr>\n  </thead>\n  <tbody>\n    <tr>\n      <th>8</th>\n      <td>Angela</td>\n      <td>Female</td>\n      <td>2005-11-22</td>\n      <td>2021-05-31 06:29:00</td>\n      <td>95570</td>\n      <td>18.523</td>\n      <td>True</td>\n      <td>Engineering</td>\n    </tr>\n    <tr>\n      <th>688</th>\n      <td>Brian</td>\n      <td>Male</td>\n      <td>2007-04-07</td>\n      <td>2021-05-31 22:47:00</td>\n      <td>93901</td>\n      <td>17.821</td>\n      <td>True</td>\n      <td>Legal</td>\n    </tr>\n    <tr>\n      <th>190</th>\n      <td>Carol</td>\n      <td>Female</td>\n      <td>1996-03-19</td>\n      <td>2021-05-31 03:39:00</td>\n      <td>57783</td>\n      <td>9.129</td>\n      <td>False</td>\n      <td>Finance</td>\n    </tr>\n    <tr>\n      <th>887</th>\n      <td>David</td>\n      <td>Male</td>\n      <td>2009-12-05</td>\n      <td>2021-05-31 08:48:00</td>\n      <td>92242</td>\n      <td>15.407</td>\n      <td>False</td>\n      <td>Legal</td>\n    </tr>\n    <tr>\n      <th>5</th>\n      <td>Dennis</td>\n      <td>Male</td>\n      <td>1987-04-18</td>\n      <td>2021-05-31 01:35:00</td>\n      <td>115163</td>\n      <td>10.125</td>\n      <td>False</td>\n      <td>Legal</td>\n    </tr>\n    <tr>\n      <th>495</th>\n      <td>Eugene</td>\n      <td>Male</td>\n      <td>1984-05-24</td>\n      <td>2021-05-31 10:54:00</td>\n      <td>81077</td>\n      <td>2.117</td>\n      <td>False</td>\n      <td>Sales</td>\n    </tr>\n    <tr>\n      <th>33</th>\n      <td>Jean</td>\n      <td>Female</td>\n      <td>1993-12-18</td>\n      <td>2021-05-31 09:07:00</td>\n      <td>119082</td>\n      <td>16.180</td>\n      <td>False</td>\n      <td>Business Development</td>\n    </tr>\n    <tr>\n      <th>832</th>\n      <td>Keith</td>\n      <td>Male</td>\n      <td>2003-02-12</td>\n      <td>2021-05-31 15:02:00</td>\n      <td>120672</td>\n      <td>19.467</td>\n      <td>False</td>\n      <td>Legal</td>\n    </tr>\n    <tr>\n      <th>291</th>\n      <td>Tammy</td>\n      <td>Female</td>\n      <td>1984-11-11</td>\n      <td>2021-05-31 10:30:00</td>\n      <td>132839</td>\n      <td>17.463</td>\n      <td>True</td>\n      <td>Client Services</td>\n    </tr>\n  </tbody>\n</table>\n</div>"
     },
     "metadata": {},
     "execution_count": 15
    }
   ],
   "source": [
    "df.drop_duplicates(subset=[\"First Name\"], keep=False)"
   ]
  },
  {
   "cell_type": "code",
   "execution_count": 22,
   "metadata": {},
   "outputs": [],
   "source": [
    "df.drop_duplicates(subset=['First Name','Team'], inplace=True)"
   ]
  },
  {
   "cell_type": "code",
   "execution_count": 24,
   "metadata": {},
   "outputs": [
    {
     "output_type": "execute_result",
     "data": {
      "text/plain": [
       "    First Name Gender Start Date     Last Login Time  Salary  Bonus %  \\\n",
       "101      Aaron   Male 2012-02-17 2021-05-31 10:20:00   61602   11.849   \n",
       "440      Aaron   Male 1990-07-22 2021-05-31 14:53:00   52119   11.343   \n",
       "137       Adam   Male 2011-05-21 2021-05-31 01:45:00   95327   15.120   \n",
       "141       Adam   Male 1990-12-24 2021-05-31 20:57:00  110194   14.727   \n",
       "302       Adam   Male 2007-07-05 2021-05-31 11:59:00   71276    5.027   \n",
       "\n",
       "     Senior Management             Team  \n",
       "101               True        Marketing  \n",
       "440               True  Client Services  \n",
       "137              False     Distribution  \n",
       "141               True          Product  \n",
       "302               True  Human Resources  "
      ],
      "text/html": "<div>\n<style scoped>\n    .dataframe tbody tr th:only-of-type {\n        vertical-align: middle;\n    }\n\n    .dataframe tbody tr th {\n        vertical-align: top;\n    }\n\n    .dataframe thead th {\n        text-align: right;\n    }\n</style>\n<table border=\"1\" class=\"dataframe\">\n  <thead>\n    <tr style=\"text-align: right;\">\n      <th></th>\n      <th>First Name</th>\n      <th>Gender</th>\n      <th>Start Date</th>\n      <th>Last Login Time</th>\n      <th>Salary</th>\n      <th>Bonus %</th>\n      <th>Senior Management</th>\n      <th>Team</th>\n    </tr>\n  </thead>\n  <tbody>\n    <tr>\n      <th>101</th>\n      <td>Aaron</td>\n      <td>Male</td>\n      <td>2012-02-17</td>\n      <td>2021-05-31 10:20:00</td>\n      <td>61602</td>\n      <td>11.849</td>\n      <td>True</td>\n      <td>Marketing</td>\n    </tr>\n    <tr>\n      <th>440</th>\n      <td>Aaron</td>\n      <td>Male</td>\n      <td>1990-07-22</td>\n      <td>2021-05-31 14:53:00</td>\n      <td>52119</td>\n      <td>11.343</td>\n      <td>True</td>\n      <td>Client Services</td>\n    </tr>\n    <tr>\n      <th>137</th>\n      <td>Adam</td>\n      <td>Male</td>\n      <td>2011-05-21</td>\n      <td>2021-05-31 01:45:00</td>\n      <td>95327</td>\n      <td>15.120</td>\n      <td>False</td>\n      <td>Distribution</td>\n    </tr>\n    <tr>\n      <th>141</th>\n      <td>Adam</td>\n      <td>Male</td>\n      <td>1990-12-24</td>\n      <td>2021-05-31 20:57:00</td>\n      <td>110194</td>\n      <td>14.727</td>\n      <td>True</td>\n      <td>Product</td>\n    </tr>\n    <tr>\n      <th>302</th>\n      <td>Adam</td>\n      <td>Male</td>\n      <td>2007-07-05</td>\n      <td>2021-05-31 11:59:00</td>\n      <td>71276</td>\n      <td>5.027</td>\n      <td>True</td>\n      <td>Human Resources</td>\n    </tr>\n  </tbody>\n</table>\n</div>"
     },
     "metadata": {},
     "execution_count": 24
    }
   ],
   "source": [
    "df.head()"
   ]
  },
  {
   "cell_type": "code",
   "execution_count": 25,
   "metadata": {},
   "outputs": [
    {
     "output_type": "execute_result",
     "data": {
      "text/plain": [
       "769"
      ]
     },
     "metadata": {},
     "execution_count": 25
    }
   ],
   "source": [
    "len(df)"
   ]
  },
  {
   "cell_type": "code",
   "execution_count": 26,
   "metadata": {},
   "outputs": [],
   "source": [
    "# The .unique() and .nunique() Methods"
   ]
  },
  {
   "cell_type": "code",
   "execution_count": 27,
   "metadata": {},
   "outputs": [
    {
     "output_type": "execute_result",
     "data": {
      "text/plain": [
       "    First Name Gender Start Date     Last Login Time  Salary  Bonus %  \\\n",
       "101      Aaron   Male 2012-02-17 2021-05-31 10:20:00   61602   11.849   \n",
       "327      Aaron   Male 1994-01-29 2021-05-31 18:48:00   58755    5.097   \n",
       "440      Aaron   Male 1990-07-22 2021-05-31 14:53:00   52119   11.343   \n",
       "\n",
       "     Senior Management             Team  \n",
       "101               True        Marketing  \n",
       "327               True        Marketing  \n",
       "440               True  Client Services  "
      ],
      "text/html": "<div>\n<style scoped>\n    .dataframe tbody tr th:only-of-type {\n        vertical-align: middle;\n    }\n\n    .dataframe tbody tr th {\n        vertical-align: top;\n    }\n\n    .dataframe thead th {\n        text-align: right;\n    }\n</style>\n<table border=\"1\" class=\"dataframe\">\n  <thead>\n    <tr style=\"text-align: right;\">\n      <th></th>\n      <th>First Name</th>\n      <th>Gender</th>\n      <th>Start Date</th>\n      <th>Last Login Time</th>\n      <th>Salary</th>\n      <th>Bonus %</th>\n      <th>Senior Management</th>\n      <th>Team</th>\n    </tr>\n  </thead>\n  <tbody>\n    <tr>\n      <th>101</th>\n      <td>Aaron</td>\n      <td>Male</td>\n      <td>2012-02-17</td>\n      <td>2021-05-31 10:20:00</td>\n      <td>61602</td>\n      <td>11.849</td>\n      <td>True</td>\n      <td>Marketing</td>\n    </tr>\n    <tr>\n      <th>327</th>\n      <td>Aaron</td>\n      <td>Male</td>\n      <td>1994-01-29</td>\n      <td>2021-05-31 18:48:00</td>\n      <td>58755</td>\n      <td>5.097</td>\n      <td>True</td>\n      <td>Marketing</td>\n    </tr>\n    <tr>\n      <th>440</th>\n      <td>Aaron</td>\n      <td>Male</td>\n      <td>1990-07-22</td>\n      <td>2021-05-31 14:53:00</td>\n      <td>52119</td>\n      <td>11.343</td>\n      <td>True</td>\n      <td>Client Services</td>\n    </tr>\n  </tbody>\n</table>\n</div>"
     },
     "metadata": {},
     "execution_count": 27
    }
   ],
   "source": [
    "df = pd.read_csv('../Files/employees.csv', parse_dates=['Start Date','Last Login Time'])\n",
    "df['Senior Management'] = df['Senior Management'].astype('bool')\n",
    "df['Gender'] = df['Gender'].astype('category')\n",
    "df.sort_values(\"First Name\", inplace=True)\n",
    "df.head(3)"
   ]
  },
  {
   "cell_type": "code",
   "execution_count": 29,
   "metadata": {},
   "outputs": [
    {
     "output_type": "execute_result",
     "data": {
      "text/plain": [
       "[Male, NaN, Female]\n",
       "Categories (2, object): [Male, Female]"
      ]
     },
     "metadata": {},
     "execution_count": 29
    }
   ],
   "source": [
    "df['Gender'].unique()"
   ]
  },
  {
   "cell_type": "code",
   "execution_count": 34,
   "metadata": {},
   "outputs": [
    {
     "output_type": "execute_result",
     "data": {
      "text/plain": [
       "11"
      ]
     },
     "metadata": {},
     "execution_count": 34
    }
   ],
   "source": [
    "len(df['Team'].unique())"
   ]
  },
  {
   "cell_type": "code",
   "execution_count": 37,
   "metadata": {},
   "outputs": [
    {
     "output_type": "execute_result",
     "data": {
      "text/plain": [
       "10"
      ]
     },
     "metadata": {},
     "execution_count": 37
    }
   ],
   "source": [
    "df['Team'].nunique(dropna=False)\n",
    "df['Team'].nunique()"
   ]
  },
  {
   "cell_type": "code",
   "execution_count": null,
   "metadata": {},
   "outputs": [],
   "source": []
  }
 ]
}