{
 "metadata": {
  "language_info": {
   "codemirror_mode": {
    "name": "ipython",
    "version": 3
   },
   "file_extension": ".py",
   "mimetype": "text/x-python",
   "name": "python",
   "nbconvert_exporter": "python",
   "pygments_lexer": "ipython3",
   "version": "3.7.6"
  },
  "orig_nbformat": 2,
  "kernelspec": {
   "name": "python376jvsc74a57bd01334010457180b265d09b56daeed883170adb1c65c35741b4ba4ec40109d9a77",
   "display_name": "Python 3.7.6 64-bit ('base': conda)"
  }
 },
 "nbformat": 4,
 "nbformat_minor": 2,
 "cells": [
  {
   "cell_type": "code",
   "execution_count": 7,
   "metadata": {},
   "outputs": [
    {
     "output_type": "execute_result",
     "data": {
      "text/plain": [
       "          Company      Sector                     Industry         Location  \\\n",
       "Rank                                                                          \n",
       "1         Walmart   Retailing        General Merchandisers  Bentonville, AR   \n",
       "2     Exxon Mobil      Energy           Petroleum Refining       Irving, TX   \n",
       "3           Apple  Technology  Computers, Office Equipment    Cupertino, CA   \n",
       "\n",
       "      Revenue  Profits  Employees  \n",
       "Rank                               \n",
       "1      482130    14694    2300000  \n",
       "2      246204    16150      75600  \n",
       "3      233715    53394     110000  "
      ],
      "text/html": "<div>\n<style scoped>\n    .dataframe tbody tr th:only-of-type {\n        vertical-align: middle;\n    }\n\n    .dataframe tbody tr th {\n        vertical-align: top;\n    }\n\n    .dataframe thead th {\n        text-align: right;\n    }\n</style>\n<table border=\"1\" class=\"dataframe\">\n  <thead>\n    <tr style=\"text-align: right;\">\n      <th></th>\n      <th>Company</th>\n      <th>Sector</th>\n      <th>Industry</th>\n      <th>Location</th>\n      <th>Revenue</th>\n      <th>Profits</th>\n      <th>Employees</th>\n    </tr>\n    <tr>\n      <th>Rank</th>\n      <th></th>\n      <th></th>\n      <th></th>\n      <th></th>\n      <th></th>\n      <th></th>\n      <th></th>\n    </tr>\n  </thead>\n  <tbody>\n    <tr>\n      <th>1</th>\n      <td>Walmart</td>\n      <td>Retailing</td>\n      <td>General Merchandisers</td>\n      <td>Bentonville, AR</td>\n      <td>482130</td>\n      <td>14694</td>\n      <td>2300000</td>\n    </tr>\n    <tr>\n      <th>2</th>\n      <td>Exxon Mobil</td>\n      <td>Energy</td>\n      <td>Petroleum Refining</td>\n      <td>Irving, TX</td>\n      <td>246204</td>\n      <td>16150</td>\n      <td>75600</td>\n    </tr>\n    <tr>\n      <th>3</th>\n      <td>Apple</td>\n      <td>Technology</td>\n      <td>Computers, Office Equipment</td>\n      <td>Cupertino, CA</td>\n      <td>233715</td>\n      <td>53394</td>\n      <td>110000</td>\n    </tr>\n  </tbody>\n</table>\n</div>"
     },
     "metadata": {},
     "execution_count": 7
    }
   ],
   "source": [
    "import pandas as pd \n",
    "fortune = pd.read_csv('../Files/fortune1000.csv', index_col=\"Rank\")\n",
    "sectors = fortune.groupby(\"Sector\")\n",
    "fortune.head(3)"
   ]
  },
  {
   "cell_type": "code",
   "execution_count": 8,
   "metadata": {},
   "outputs": [
    {
     "output_type": "execute_result",
     "data": {
      "text/plain": [
       "pandas.core.frame.DataFrame"
      ]
     },
     "metadata": {},
     "execution_count": 8
    }
   ],
   "source": [
    "type(fortune)"
   ]
  },
  {
   "cell_type": "code",
   "execution_count": 9,
   "metadata": {},
   "outputs": [
    {
     "output_type": "execute_result",
     "data": {
      "text/plain": [
       "pandas.core.groupby.generic.DataFrameGroupBy"
      ]
     },
     "metadata": {},
     "execution_count": 9
    }
   ],
   "source": [
    "type(sectors)"
   ]
  },
  {
   "cell_type": "code",
   "execution_count": 10,
   "metadata": {},
   "outputs": [
    {
     "output_type": "execute_result",
     "data": {
      "text/plain": [
       "<pandas.core.groupby.generic.DataFrameGroupBy object at 0x7fedd16ee7d0>"
      ]
     },
     "metadata": {},
     "execution_count": 10
    }
   ],
   "source": [
    "sectors"
   ]
  },
  {
   "cell_type": "code",
   "execution_count": null,
   "metadata": {},
   "outputs": [],
   "source": []
  }
 ]
}