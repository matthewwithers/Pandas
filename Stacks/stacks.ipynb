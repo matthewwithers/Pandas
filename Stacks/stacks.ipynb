{
 "metadata": {
  "language_info": {
   "codemirror_mode": {
    "name": "ipython",
    "version": 3
   },
   "file_extension": ".py",
   "mimetype": "text/x-python",
   "name": "python",
   "nbconvert_exporter": "python",
   "pygments_lexer": "ipython3",
   "version": "3.7.6"
  },
  "orig_nbformat": 2,
  "kernelspec": {
   "name": "python376jvsc74a57bd01334010457180b265d09b56daeed883170adb1c65c35741b4ba4ec40109d9a77",
   "display_name": "Python 3.7.6 64-bit ('base': conda)"
  }
 },
 "nbformat": 4,
 "nbformat_minor": 2,
 "cells": [
  {
   "cell_type": "code",
   "execution_count": 2,
   "metadata": {},
   "outputs": [
    {
     "output_type": "execute_result",
     "data": {
      "text/plain": [
       "                        Population           GDP\n",
       "country    year                                 \n",
       "Arab World 2015-01-01  392022276.0  2.530102e+12\n",
       "           2014-01-01  384222592.0  2.873600e+12\n",
       "           2013-01-01  376504253.0  2.846994e+12"
      ],
      "text/html": "<div>\n<style scoped>\n    .dataframe tbody tr th:only-of-type {\n        vertical-align: middle;\n    }\n\n    .dataframe tbody tr th {\n        vertical-align: top;\n    }\n\n    .dataframe thead th {\n        text-align: right;\n    }\n</style>\n<table border=\"1\" class=\"dataframe\">\n  <thead>\n    <tr style=\"text-align: right;\">\n      <th></th>\n      <th></th>\n      <th>Population</th>\n      <th>GDP</th>\n    </tr>\n    <tr>\n      <th>country</th>\n      <th>year</th>\n      <th></th>\n      <th></th>\n    </tr>\n  </thead>\n  <tbody>\n    <tr>\n      <th rowspan=\"3\" valign=\"top\">Arab World</th>\n      <th>2015-01-01</th>\n      <td>392022276.0</td>\n      <td>2.530102e+12</td>\n    </tr>\n    <tr>\n      <th>2014-01-01</th>\n      <td>384222592.0</td>\n      <td>2.873600e+12</td>\n    </tr>\n    <tr>\n      <th>2013-01-01</th>\n      <td>376504253.0</td>\n      <td>2.846994e+12</td>\n    </tr>\n  </tbody>\n</table>\n</div>"
     },
     "metadata": {},
     "execution_count": 2
    }
   ],
   "source": [
    "import pandas as pd \n",
    "world = pd.read_csv('../Files/worldstats.csv', index_col=['country','year'], parse_dates=['year'])\n",
    "world.head(3)"
   ]
  },
  {
   "cell_type": "code",
   "execution_count": 3,
   "metadata": {},
   "outputs": [
    {
     "output_type": "execute_result",
     "data": {
      "text/plain": [
       "                                             0\n",
       "country    year                               \n",
       "Arab World 2015-01-01 Population  3.920223e+08\n",
       "                      GDP         2.530102e+12\n",
       "           2014-01-01 Population  3.842226e+08\n",
       "                      GDP         2.873600e+12\n",
       "           2013-01-01 Population  3.765043e+08\n",
       "...                                        ...\n",
       "Zimbabwe   1962-01-01 GDP         1.117602e+09\n",
       "           1961-01-01 Population  3.876638e+06\n",
       "                      GDP         1.096647e+09\n",
       "           1960-01-01 Population  3.752390e+06\n",
       "                      GDP         1.052990e+09\n",
       "\n",
       "[22422 rows x 1 columns]"
      ],
      "text/html": "<div>\n<style scoped>\n    .dataframe tbody tr th:only-of-type {\n        vertical-align: middle;\n    }\n\n    .dataframe tbody tr th {\n        vertical-align: top;\n    }\n\n    .dataframe thead th {\n        text-align: right;\n    }\n</style>\n<table border=\"1\" class=\"dataframe\">\n  <thead>\n    <tr style=\"text-align: right;\">\n      <th></th>\n      <th></th>\n      <th></th>\n      <th>0</th>\n    </tr>\n    <tr>\n      <th>country</th>\n      <th>year</th>\n      <th></th>\n      <th></th>\n    </tr>\n  </thead>\n  <tbody>\n    <tr>\n      <th rowspan=\"5\" valign=\"top\">Arab World</th>\n      <th rowspan=\"2\" valign=\"top\">2015-01-01</th>\n      <th>Population</th>\n      <td>3.920223e+08</td>\n    </tr>\n    <tr>\n      <th>GDP</th>\n      <td>2.530102e+12</td>\n    </tr>\n    <tr>\n      <th rowspan=\"2\" valign=\"top\">2014-01-01</th>\n      <th>Population</th>\n      <td>3.842226e+08</td>\n    </tr>\n    <tr>\n      <th>GDP</th>\n      <td>2.873600e+12</td>\n    </tr>\n    <tr>\n      <th>2013-01-01</th>\n      <th>Population</th>\n      <td>3.765043e+08</td>\n    </tr>\n    <tr>\n      <th>...</th>\n      <th>...</th>\n      <th>...</th>\n      <td>...</td>\n    </tr>\n    <tr>\n      <th rowspan=\"5\" valign=\"top\">Zimbabwe</th>\n      <th>1962-01-01</th>\n      <th>GDP</th>\n      <td>1.117602e+09</td>\n    </tr>\n    <tr>\n      <th rowspan=\"2\" valign=\"top\">1961-01-01</th>\n      <th>Population</th>\n      <td>3.876638e+06</td>\n    </tr>\n    <tr>\n      <th>GDP</th>\n      <td>1.096647e+09</td>\n    </tr>\n    <tr>\n      <th rowspan=\"2\" valign=\"top\">1960-01-01</th>\n      <th>Population</th>\n      <td>3.752390e+06</td>\n    </tr>\n    <tr>\n      <th>GDP</th>\n      <td>1.052990e+09</td>\n    </tr>\n  </tbody>\n</table>\n<p>22422 rows × 1 columns</p>\n</div>"
     },
     "metadata": {},
     "execution_count": 3
    }
   ],
   "source": [
    "type(world.stack())\n",
    "world.stack().to_frame() # convert series to dataframe"
   ]
  },
  {
   "cell_type": "code",
   "execution_count": 4,
   "metadata": {},
   "outputs": [
    {
     "output_type": "execute_result",
     "data": {
      "text/plain": [
       "                        Population           GDP\n",
       "country    year                                 \n",
       "Arab World 2015-01-01  392022276.0  2.530102e+12\n",
       "           2014-01-01  384222592.0  2.873600e+12\n",
       "           2013-01-01  376504253.0  2.846994e+12"
      ],
      "text/html": "<div>\n<style scoped>\n    .dataframe tbody tr th:only-of-type {\n        vertical-align: middle;\n    }\n\n    .dataframe tbody tr th {\n        vertical-align: top;\n    }\n\n    .dataframe thead th {\n        text-align: right;\n    }\n</style>\n<table border=\"1\" class=\"dataframe\">\n  <thead>\n    <tr style=\"text-align: right;\">\n      <th></th>\n      <th></th>\n      <th>Population</th>\n      <th>GDP</th>\n    </tr>\n    <tr>\n      <th>country</th>\n      <th>year</th>\n      <th></th>\n      <th></th>\n    </tr>\n  </thead>\n  <tbody>\n    <tr>\n      <th rowspan=\"3\" valign=\"top\">Arab World</th>\n      <th>2015-01-01</th>\n      <td>392022276.0</td>\n      <td>2.530102e+12</td>\n    </tr>\n    <tr>\n      <th>2014-01-01</th>\n      <td>384222592.0</td>\n      <td>2.873600e+12</td>\n    </tr>\n    <tr>\n      <th>2013-01-01</th>\n      <td>376504253.0</td>\n      <td>2.846994e+12</td>\n    </tr>\n  </tbody>\n</table>\n</div>"
     },
     "metadata": {},
     "execution_count": 4
    }
   ],
   "source": [
    "# The .unstack() Method\n",
    "world = pd.read_csv('../Files/worldstats.csv', index_col=['country','year'], parse_dates=['year'])\n",
    "world.head(3)"
   ]
  },
  {
   "cell_type": "code",
   "execution_count": 5,
   "metadata": {},
   "outputs": [],
   "source": [
    "s = world.stack()"
   ]
  },
  {
   "cell_type": "code",
   "execution_count": 6,
   "metadata": {},
   "outputs": [
    {
     "output_type": "execute_result",
     "data": {
      "text/plain": [
       "country     year                  \n",
       "Arab World  2015-01-01  Population    3.920223e+08\n",
       "                        GDP           2.530102e+12\n",
       "            2014-01-01  Population    3.842226e+08\n",
       "dtype: float64"
      ]
     },
     "metadata": {},
     "execution_count": 6
    }
   ],
   "source": [
    "s.head(3)"
   ]
  },
  {
   "cell_type": "code",
   "execution_count": 7,
   "metadata": {},
   "outputs": [
    {
     "output_type": "execute_result",
     "data": {
      "text/plain": [
       "            year        country           \n",
       "Population  1960-01-01  Afghanistan           8.994793e+06\n",
       "                        Albania                        NaN\n",
       "                        Algeria               1.112489e+07\n",
       "                        Andorra                        NaN\n",
       "                        Angola                         NaN\n",
       "                                                  ...     \n",
       "GDP         2015-01-01  West Bank and Gaza    1.267740e+10\n",
       "                        World                 7.343364e+13\n",
       "                        Yemen, Rep.                    NaN\n",
       "                        Zambia                2.120156e+10\n",
       "                        Zimbabwe              1.389294e+10\n",
       "Length: 28224, dtype: float64"
      ]
     },
     "metadata": {},
     "execution_count": 7
    }
   ],
   "source": [
    "s.unstack().unstack().unstack()"
   ]
  },
  {
   "cell_type": "code",
   "execution_count": 8,
   "metadata": {},
   "outputs": [
    {
     "output_type": "execute_result",
     "data": {
      "text/plain": [
       "                        Population           GDP\n",
       "country    year                                 \n",
       "Arab World 2015-01-01  392022276.0  2.530102e+12\n",
       "           2014-01-01  384222592.0  2.873600e+12\n",
       "           2013-01-01  376504253.0  2.846994e+12"
      ],
      "text/html": "<div>\n<style scoped>\n    .dataframe tbody tr th:only-of-type {\n        vertical-align: middle;\n    }\n\n    .dataframe tbody tr th {\n        vertical-align: top;\n    }\n\n    .dataframe thead th {\n        text-align: right;\n    }\n</style>\n<table border=\"1\" class=\"dataframe\">\n  <thead>\n    <tr style=\"text-align: right;\">\n      <th></th>\n      <th></th>\n      <th>Population</th>\n      <th>GDP</th>\n    </tr>\n    <tr>\n      <th>country</th>\n      <th>year</th>\n      <th></th>\n      <th></th>\n    </tr>\n  </thead>\n  <tbody>\n    <tr>\n      <th rowspan=\"3\" valign=\"top\">Arab World</th>\n      <th>2015-01-01</th>\n      <td>392022276.0</td>\n      <td>2.530102e+12</td>\n    </tr>\n    <tr>\n      <th>2014-01-01</th>\n      <td>384222592.0</td>\n      <td>2.873600e+12</td>\n    </tr>\n    <tr>\n      <th>2013-01-01</th>\n      <td>376504253.0</td>\n      <td>2.846994e+12</td>\n    </tr>\n  </tbody>\n</table>\n</div>"
     },
     "metadata": {},
     "execution_count": 8
    }
   ],
   "source": [
    "world = pd.read_csv('../Files/worldstats.csv', index_col=['country','year'], parse_dates=['year'])\n",
    "world.head(3)"
   ]
  },
  {
   "cell_type": "code",
   "execution_count": 9,
   "metadata": {},
   "outputs": [
    {
     "output_type": "execute_result",
     "data": {
      "text/plain": [
       "country     year                  \n",
       "Arab World  2015-01-01  Population    3.920223e+08\n",
       "                        GDP           2.530102e+12\n",
       "            2014-01-01  Population    3.842226e+08\n",
       "dtype: float64"
      ]
     },
     "metadata": {},
     "execution_count": 9
    }
   ],
   "source": [
    "s = world.stack()\n",
    "s.head(3)"
   ]
  },
  {
   "cell_type": "code",
   "execution_count": 10,
   "metadata": {},
   "outputs": [
    {
     "output_type": "execute_result",
     "data": {
      "text/plain": [
       "country                 Afghanistan       Albania       Algeria       Andorra  \\\n",
       "year                                                                            \n",
       "1960-01-01 Population  8.994793e+06           NaN  1.112489e+07           NaN   \n",
       "           GDP         5.377778e+08           NaN  2.723638e+09           NaN   \n",
       "1961-01-01 Population  9.164945e+06           NaN  1.140486e+07           NaN   \n",
       "           GDP         5.488889e+08           NaN  2.434767e+09           NaN   \n",
       "1962-01-01 Population  9.343772e+06           NaN  1.169015e+07           NaN   \n",
       "...                             ...           ...           ...           ...   \n",
       "2013-01-01 GDP         2.004633e+10  1.278103e+10  2.097035e+11  3.249101e+09   \n",
       "2014-01-01 Population  3.162751e+07  2.893654e+06  3.893433e+07           NaN   \n",
       "           GDP         2.005019e+10  1.327796e+10  2.135185e+11           NaN   \n",
       "2015-01-01 Population  3.252656e+07  2.889167e+06  3.966652e+07           NaN   \n",
       "           GDP         1.919944e+10  1.145560e+10  1.668386e+11           NaN   \n",
       "\n",
       "country                      Angola  Antigua and Barbuda    Arab World  \\\n",
       "year                                                                     \n",
       "1960-01-01 Population           NaN                  NaN           NaN   \n",
       "           GDP                  NaN                  NaN           NaN   \n",
       "1961-01-01 Population           NaN                  NaN           NaN   \n",
       "           GDP                  NaN                  NaN           NaN   \n",
       "1962-01-01 Population           NaN                  NaN           NaN   \n",
       "...                             ...                  ...           ...   \n",
       "2013-01-01 GDP         1.249121e+11         1.200588e+09  2.846994e+12   \n",
       "2014-01-01 Population  2.422752e+07         9.090000e+04  3.842226e+08   \n",
       "           GDP         1.267751e+11         1.220976e+09  2.873600e+12   \n",
       "2015-01-01 Population  2.502197e+07         9.181800e+04  3.920223e+08   \n",
       "           GDP         1.026431e+11         1.297285e+09  2.530102e+12   \n",
       "\n",
       "country                   Argentina       Armenia  Aruba  ...    Uzbekistan  \\\n",
       "year                                                      ...                 \n",
       "1960-01-01 Population           NaN           NaN    NaN  ...           NaN   \n",
       "           GDP                  NaN           NaN    NaN  ...           NaN   \n",
       "1961-01-01 Population           NaN           NaN    NaN  ...           NaN   \n",
       "           GDP                  NaN           NaN    NaN  ...           NaN   \n",
       "1962-01-01 Population  2.128768e+07           NaN    NaN  ...           NaN   \n",
       "...                             ...           ...    ...  ...           ...   \n",
       "2013-01-01 GDP         6.239320e+11  1.112147e+10    NaN  ...  5.679566e+10   \n",
       "2014-01-01 Population  4.298003e+07  3.006154e+06    NaN  ...  3.075770e+07   \n",
       "           GDP         5.480549e+11  1.164444e+10    NaN  ...  6.313285e+10   \n",
       "2015-01-01 Population           NaN  3.017712e+06    NaN  ...  3.129950e+07   \n",
       "           GDP                  NaN  1.056140e+10    NaN  ...  6.673280e+10   \n",
       "\n",
       "country                     Vanuatu  Venezuela, RB       Vietnam  \\\n",
       "year                                                               \n",
       "1960-01-01 Population           NaN   8.146845e+06           NaN   \n",
       "           GDP                  NaN   8.607600e+09           NaN   \n",
       "1961-01-01 Population           NaN   8.461684e+06           NaN   \n",
       "           GDP                  NaN   8.923367e+09           NaN   \n",
       "1962-01-01 Population           NaN   8.790590e+06           NaN   \n",
       "...                             ...            ...           ...   \n",
       "2013-01-01 GDP         8.017876e+08   3.713366e+11  1.712220e+11   \n",
       "2014-01-01 Population  2.588830e+05            NaN  9.072890e+07   \n",
       "           GDP         8.149546e+08            NaN  1.862047e+11   \n",
       "2015-01-01 Population           NaN            NaN  9.170380e+07   \n",
       "           GDP                  NaN            NaN  1.935994e+11   \n",
       "\n",
       "country                Virgin Islands (U.S.)  West Bank and Gaza  \\\n",
       "year                                                               \n",
       "1960-01-01 Population                32000.0                 NaN   \n",
       "           GDP                    24200000.0                 NaN   \n",
       "1961-01-01 Population                34100.0                 NaN   \n",
       "           GDP                    25700000.0                 NaN   \n",
       "1962-01-01 Population                36300.0                 NaN   \n",
       "...                                      ...                 ...   \n",
       "2013-01-01 GDP                           NaN        1.247600e+10   \n",
       "2014-01-01 Population                    NaN        4.294682e+06   \n",
       "           GDP                           NaN        1.271560e+10   \n",
       "2015-01-01 Population                    NaN        4.422143e+06   \n",
       "           GDP                           NaN        1.267740e+10   \n",
       "\n",
       "country                       World   Yemen, Rep.        Zambia      Zimbabwe  \n",
       "year                                                                           \n",
       "1960-01-01 Population  3.035056e+09           NaN  3.049586e+06  3.752390e+06  \n",
       "           GDP         1.364643e+12           NaN  6.987397e+08  1.052990e+09  \n",
       "1961-01-01 Population  3.076121e+09           NaN  3.142848e+06  3.876638e+06  \n",
       "           GDP         1.420440e+12           NaN  6.823597e+08  1.096647e+09  \n",
       "1962-01-01 Population  3.129064e+09           NaN  3.240664e+06  4.006262e+06  \n",
       "...                             ...           ...           ...           ...  \n",
       "2013-01-01 GDP         7.643132e+13  3.595450e+10  2.804552e+10  1.349023e+10  \n",
       "2014-01-01 Population  7.260780e+09           NaN  1.572134e+07  1.524586e+07  \n",
       "           GDP         7.810634e+13           NaN  2.713464e+10  1.419691e+10  \n",
       "2015-01-01 Population  7.346633e+09           NaN  1.621177e+07  1.560275e+07  \n",
       "           GDP         7.343364e+13           NaN  2.120156e+10  1.389294e+10  \n",
       "\n",
       "[112 rows x 252 columns]"
      ],
      "text/html": "<div>\n<style scoped>\n    .dataframe tbody tr th:only-of-type {\n        vertical-align: middle;\n    }\n\n    .dataframe tbody tr th {\n        vertical-align: top;\n    }\n\n    .dataframe thead th {\n        text-align: right;\n    }\n</style>\n<table border=\"1\" class=\"dataframe\">\n  <thead>\n    <tr style=\"text-align: right;\">\n      <th></th>\n      <th>country</th>\n      <th>Afghanistan</th>\n      <th>Albania</th>\n      <th>Algeria</th>\n      <th>Andorra</th>\n      <th>Angola</th>\n      <th>Antigua and Barbuda</th>\n      <th>Arab World</th>\n      <th>Argentina</th>\n      <th>Armenia</th>\n      <th>Aruba</th>\n      <th>...</th>\n      <th>Uzbekistan</th>\n      <th>Vanuatu</th>\n      <th>Venezuela, RB</th>\n      <th>Vietnam</th>\n      <th>Virgin Islands (U.S.)</th>\n      <th>West Bank and Gaza</th>\n      <th>World</th>\n      <th>Yemen, Rep.</th>\n      <th>Zambia</th>\n      <th>Zimbabwe</th>\n    </tr>\n    <tr>\n      <th>year</th>\n      <th></th>\n      <th></th>\n      <th></th>\n      <th></th>\n      <th></th>\n      <th></th>\n      <th></th>\n      <th></th>\n      <th></th>\n      <th></th>\n      <th></th>\n      <th></th>\n      <th></th>\n      <th></th>\n      <th></th>\n      <th></th>\n      <th></th>\n      <th></th>\n      <th></th>\n      <th></th>\n      <th></th>\n      <th></th>\n    </tr>\n  </thead>\n  <tbody>\n    <tr>\n      <th rowspan=\"2\" valign=\"top\">1960-01-01</th>\n      <th>Population</th>\n      <td>8.994793e+06</td>\n      <td>NaN</td>\n      <td>1.112489e+07</td>\n      <td>NaN</td>\n      <td>NaN</td>\n      <td>NaN</td>\n      <td>NaN</td>\n      <td>NaN</td>\n      <td>NaN</td>\n      <td>NaN</td>\n      <td>...</td>\n      <td>NaN</td>\n      <td>NaN</td>\n      <td>8.146845e+06</td>\n      <td>NaN</td>\n      <td>32000.0</td>\n      <td>NaN</td>\n      <td>3.035056e+09</td>\n      <td>NaN</td>\n      <td>3.049586e+06</td>\n      <td>3.752390e+06</td>\n    </tr>\n    <tr>\n      <th>GDP</th>\n      <td>5.377778e+08</td>\n      <td>NaN</td>\n      <td>2.723638e+09</td>\n      <td>NaN</td>\n      <td>NaN</td>\n      <td>NaN</td>\n      <td>NaN</td>\n      <td>NaN</td>\n      <td>NaN</td>\n      <td>NaN</td>\n      <td>...</td>\n      <td>NaN</td>\n      <td>NaN</td>\n      <td>8.607600e+09</td>\n      <td>NaN</td>\n      <td>24200000.0</td>\n      <td>NaN</td>\n      <td>1.364643e+12</td>\n      <td>NaN</td>\n      <td>6.987397e+08</td>\n      <td>1.052990e+09</td>\n    </tr>\n    <tr>\n      <th rowspan=\"2\" valign=\"top\">1961-01-01</th>\n      <th>Population</th>\n      <td>9.164945e+06</td>\n      <td>NaN</td>\n      <td>1.140486e+07</td>\n      <td>NaN</td>\n      <td>NaN</td>\n      <td>NaN</td>\n      <td>NaN</td>\n      <td>NaN</td>\n      <td>NaN</td>\n      <td>NaN</td>\n      <td>...</td>\n      <td>NaN</td>\n      <td>NaN</td>\n      <td>8.461684e+06</td>\n      <td>NaN</td>\n      <td>34100.0</td>\n      <td>NaN</td>\n      <td>3.076121e+09</td>\n      <td>NaN</td>\n      <td>3.142848e+06</td>\n      <td>3.876638e+06</td>\n    </tr>\n    <tr>\n      <th>GDP</th>\n      <td>5.488889e+08</td>\n      <td>NaN</td>\n      <td>2.434767e+09</td>\n      <td>NaN</td>\n      <td>NaN</td>\n      <td>NaN</td>\n      <td>NaN</td>\n      <td>NaN</td>\n      <td>NaN</td>\n      <td>NaN</td>\n      <td>...</td>\n      <td>NaN</td>\n      <td>NaN</td>\n      <td>8.923367e+09</td>\n      <td>NaN</td>\n      <td>25700000.0</td>\n      <td>NaN</td>\n      <td>1.420440e+12</td>\n      <td>NaN</td>\n      <td>6.823597e+08</td>\n      <td>1.096647e+09</td>\n    </tr>\n    <tr>\n      <th>1962-01-01</th>\n      <th>Population</th>\n      <td>9.343772e+06</td>\n      <td>NaN</td>\n      <td>1.169015e+07</td>\n      <td>NaN</td>\n      <td>NaN</td>\n      <td>NaN</td>\n      <td>NaN</td>\n      <td>2.128768e+07</td>\n      <td>NaN</td>\n      <td>NaN</td>\n      <td>...</td>\n      <td>NaN</td>\n      <td>NaN</td>\n      <td>8.790590e+06</td>\n      <td>NaN</td>\n      <td>36300.0</td>\n      <td>NaN</td>\n      <td>3.129064e+09</td>\n      <td>NaN</td>\n      <td>3.240664e+06</td>\n      <td>4.006262e+06</td>\n    </tr>\n    <tr>\n      <th>...</th>\n      <th>...</th>\n      <td>...</td>\n      <td>...</td>\n      <td>...</td>\n      <td>...</td>\n      <td>...</td>\n      <td>...</td>\n      <td>...</td>\n      <td>...</td>\n      <td>...</td>\n      <td>...</td>\n      <td>...</td>\n      <td>...</td>\n      <td>...</td>\n      <td>...</td>\n      <td>...</td>\n      <td>...</td>\n      <td>...</td>\n      <td>...</td>\n      <td>...</td>\n      <td>...</td>\n      <td>...</td>\n    </tr>\n    <tr>\n      <th>2013-01-01</th>\n      <th>GDP</th>\n      <td>2.004633e+10</td>\n      <td>1.278103e+10</td>\n      <td>2.097035e+11</td>\n      <td>3.249101e+09</td>\n      <td>1.249121e+11</td>\n      <td>1.200588e+09</td>\n      <td>2.846994e+12</td>\n      <td>6.239320e+11</td>\n      <td>1.112147e+10</td>\n      <td>NaN</td>\n      <td>...</td>\n      <td>5.679566e+10</td>\n      <td>8.017876e+08</td>\n      <td>3.713366e+11</td>\n      <td>1.712220e+11</td>\n      <td>NaN</td>\n      <td>1.247600e+10</td>\n      <td>7.643132e+13</td>\n      <td>3.595450e+10</td>\n      <td>2.804552e+10</td>\n      <td>1.349023e+10</td>\n    </tr>\n    <tr>\n      <th rowspan=\"2\" valign=\"top\">2014-01-01</th>\n      <th>Population</th>\n      <td>3.162751e+07</td>\n      <td>2.893654e+06</td>\n      <td>3.893433e+07</td>\n      <td>NaN</td>\n      <td>2.422752e+07</td>\n      <td>9.090000e+04</td>\n      <td>3.842226e+08</td>\n      <td>4.298003e+07</td>\n      <td>3.006154e+06</td>\n      <td>NaN</td>\n      <td>...</td>\n      <td>3.075770e+07</td>\n      <td>2.588830e+05</td>\n      <td>NaN</td>\n      <td>9.072890e+07</td>\n      <td>NaN</td>\n      <td>4.294682e+06</td>\n      <td>7.260780e+09</td>\n      <td>NaN</td>\n      <td>1.572134e+07</td>\n      <td>1.524586e+07</td>\n    </tr>\n    <tr>\n      <th>GDP</th>\n      <td>2.005019e+10</td>\n      <td>1.327796e+10</td>\n      <td>2.135185e+11</td>\n      <td>NaN</td>\n      <td>1.267751e+11</td>\n      <td>1.220976e+09</td>\n      <td>2.873600e+12</td>\n      <td>5.480549e+11</td>\n      <td>1.164444e+10</td>\n      <td>NaN</td>\n      <td>...</td>\n      <td>6.313285e+10</td>\n      <td>8.149546e+08</td>\n      <td>NaN</td>\n      <td>1.862047e+11</td>\n      <td>NaN</td>\n      <td>1.271560e+10</td>\n      <td>7.810634e+13</td>\n      <td>NaN</td>\n      <td>2.713464e+10</td>\n      <td>1.419691e+10</td>\n    </tr>\n    <tr>\n      <th rowspan=\"2\" valign=\"top\">2015-01-01</th>\n      <th>Population</th>\n      <td>3.252656e+07</td>\n      <td>2.889167e+06</td>\n      <td>3.966652e+07</td>\n      <td>NaN</td>\n      <td>2.502197e+07</td>\n      <td>9.181800e+04</td>\n      <td>3.920223e+08</td>\n      <td>NaN</td>\n      <td>3.017712e+06</td>\n      <td>NaN</td>\n      <td>...</td>\n      <td>3.129950e+07</td>\n      <td>NaN</td>\n      <td>NaN</td>\n      <td>9.170380e+07</td>\n      <td>NaN</td>\n      <td>4.422143e+06</td>\n      <td>7.346633e+09</td>\n      <td>NaN</td>\n      <td>1.621177e+07</td>\n      <td>1.560275e+07</td>\n    </tr>\n    <tr>\n      <th>GDP</th>\n      <td>1.919944e+10</td>\n      <td>1.145560e+10</td>\n      <td>1.668386e+11</td>\n      <td>NaN</td>\n      <td>1.026431e+11</td>\n      <td>1.297285e+09</td>\n      <td>2.530102e+12</td>\n      <td>NaN</td>\n      <td>1.056140e+10</td>\n      <td>NaN</td>\n      <td>...</td>\n      <td>6.673280e+10</td>\n      <td>NaN</td>\n      <td>NaN</td>\n      <td>1.935994e+11</td>\n      <td>NaN</td>\n      <td>1.267740e+10</td>\n      <td>7.343364e+13</td>\n      <td>NaN</td>\n      <td>2.120156e+10</td>\n      <td>1.389294e+10</td>\n    </tr>\n  </tbody>\n</table>\n<p>112 rows × 252 columns</p>\n</div>"
     },
     "metadata": {},
     "execution_count": 10
    }
   ],
   "source": [
    "s.unstack(-1)\n",
    "s.unstack(2)\n",
    "\n",
    "s.unstack(-2)\n",
    "s.unstack(1)\n",
    "\n",
    "s.unstack(-3)\n",
    "s.unstack(0)\n",
    "\n",
    "s.unstack('year')\n",
    "s.unstack('country')"
   ]
  },
  {
   "cell_type": "code",
   "execution_count": 12,
   "metadata": {},
   "outputs": [
    {
     "output_type": "execute_result",
     "data": {
      "text/plain": [
       "country     year                  \n",
       "Arab World  2015-01-01  Population    3.920223e+08\n",
       "                        GDP           2.530102e+12\n",
       "            2014-01-01  Population    3.842226e+08\n",
       "dtype: float64"
      ]
     },
     "metadata": {},
     "execution_count": 12
    }
   ],
   "source": [
    "# The .unstack() Method\n",
    "world = pd.read_csv('../Files/worldstats.csv', index_col=['country','year'], parse_dates=['year'])\n",
    "s = world.stack()\n",
    "s.head(3)"
   ]
  },
  {
   "cell_type": "code",
   "execution_count": 16,
   "metadata": {},
   "outputs": [
    {
     "output_type": "execute_result",
     "data": {
      "text/plain": [
       "year          2015-01-01    2014-01-01    2013-01-01    2012-01-01  \\\n",
       "country       Arab World    Arab World    Arab World    Arab World   \n",
       "Population  3.920223e+08  3.842226e+08  3.765043e+08  3.688026e+08   \n",
       "GDP         2.530102e+12  2.873600e+12  2.846994e+12  2.773270e+12   \n",
       "\n",
       "year          2011-01-01    2010-01-01    2009-01-01    2008-01-01  \\\n",
       "country       Arab World    Arab World    Arab World    Arab World   \n",
       "Population  3.610318e+08  3.531122e+08  3.450542e+08  3.368865e+08   \n",
       "GDP         2.497945e+12  2.103825e+12  1.798878e+12  2.081343e+12   \n",
       "\n",
       "year          2007-01-01    2006-01-01  ...    1969-01-01    1968-01-01  \\\n",
       "country       Arab World    Arab World  ...      Zimbabwe      Zimbabwe   \n",
       "Population  3.287666e+08  3.209067e+08  ...  5.036321e+06  4.874113e+06   \n",
       "GDP         1.641666e+12  1.404190e+12  ...  1.747999e+09  1.479600e+09   \n",
       "\n",
       "year          1967-01-01    1966-01-01    1965-01-01    1964-01-01  \\\n",
       "country         Zimbabwe      Zimbabwe      Zimbabwe      Zimbabwe   \n",
       "Population  4.718612e+06  4.568320e+06  4.422132e+06  4.279561e+06   \n",
       "GDP         1.397002e+09  1.281750e+09  1.311436e+09  1.217138e+09   \n",
       "\n",
       "year          1963-01-01    1962-01-01    1961-01-01    1960-01-01  \n",
       "country         Zimbabwe      Zimbabwe      Zimbabwe      Zimbabwe  \n",
       "Population  4.140804e+06  4.006262e+06  3.876638e+06  3.752390e+06  \n",
       "GDP         1.159512e+09  1.117602e+09  1.096647e+09  1.052990e+09  \n",
       "\n",
       "[2 rows x 11211 columns]"
      ],
      "text/html": "<div>\n<style scoped>\n    .dataframe tbody tr th:only-of-type {\n        vertical-align: middle;\n    }\n\n    .dataframe tbody tr th {\n        vertical-align: top;\n    }\n\n    .dataframe thead tr th {\n        text-align: left;\n    }\n</style>\n<table border=\"1\" class=\"dataframe\">\n  <thead>\n    <tr>\n      <th>year</th>\n      <th>2015-01-01</th>\n      <th>2014-01-01</th>\n      <th>2013-01-01</th>\n      <th>2012-01-01</th>\n      <th>2011-01-01</th>\n      <th>2010-01-01</th>\n      <th>2009-01-01</th>\n      <th>2008-01-01</th>\n      <th>2007-01-01</th>\n      <th>2006-01-01</th>\n      <th>...</th>\n      <th>1969-01-01</th>\n      <th>1968-01-01</th>\n      <th>1967-01-01</th>\n      <th>1966-01-01</th>\n      <th>1965-01-01</th>\n      <th>1964-01-01</th>\n      <th>1963-01-01</th>\n      <th>1962-01-01</th>\n      <th>1961-01-01</th>\n      <th>1960-01-01</th>\n    </tr>\n    <tr>\n      <th>country</th>\n      <th>Arab World</th>\n      <th>Arab World</th>\n      <th>Arab World</th>\n      <th>Arab World</th>\n      <th>Arab World</th>\n      <th>Arab World</th>\n      <th>Arab World</th>\n      <th>Arab World</th>\n      <th>Arab World</th>\n      <th>Arab World</th>\n      <th>...</th>\n      <th>Zimbabwe</th>\n      <th>Zimbabwe</th>\n      <th>Zimbabwe</th>\n      <th>Zimbabwe</th>\n      <th>Zimbabwe</th>\n      <th>Zimbabwe</th>\n      <th>Zimbabwe</th>\n      <th>Zimbabwe</th>\n      <th>Zimbabwe</th>\n      <th>Zimbabwe</th>\n    </tr>\n  </thead>\n  <tbody>\n    <tr>\n      <th>Population</th>\n      <td>3.920223e+08</td>\n      <td>3.842226e+08</td>\n      <td>3.765043e+08</td>\n      <td>3.688026e+08</td>\n      <td>3.610318e+08</td>\n      <td>3.531122e+08</td>\n      <td>3.450542e+08</td>\n      <td>3.368865e+08</td>\n      <td>3.287666e+08</td>\n      <td>3.209067e+08</td>\n      <td>...</td>\n      <td>5.036321e+06</td>\n      <td>4.874113e+06</td>\n      <td>4.718612e+06</td>\n      <td>4.568320e+06</td>\n      <td>4.422132e+06</td>\n      <td>4.279561e+06</td>\n      <td>4.140804e+06</td>\n      <td>4.006262e+06</td>\n      <td>3.876638e+06</td>\n      <td>3.752390e+06</td>\n    </tr>\n    <tr>\n      <th>GDP</th>\n      <td>2.530102e+12</td>\n      <td>2.873600e+12</td>\n      <td>2.846994e+12</td>\n      <td>2.773270e+12</td>\n      <td>2.497945e+12</td>\n      <td>2.103825e+12</td>\n      <td>1.798878e+12</td>\n      <td>2.081343e+12</td>\n      <td>1.641666e+12</td>\n      <td>1.404190e+12</td>\n      <td>...</td>\n      <td>1.747999e+09</td>\n      <td>1.479600e+09</td>\n      <td>1.397002e+09</td>\n      <td>1.281750e+09</td>\n      <td>1.311436e+09</td>\n      <td>1.217138e+09</td>\n      <td>1.159512e+09</td>\n      <td>1.117602e+09</td>\n      <td>1.096647e+09</td>\n      <td>1.052990e+09</td>\n    </tr>\n  </tbody>\n</table>\n<p>2 rows × 11211 columns</p>\n</div>"
     },
     "metadata": {},
     "execution_count": 16
    }
   ],
   "source": [
    "s.unstack(level=[1,0])\n",
    "s.unstack(level=['year','country'])"
   ]
  },
  {
   "cell_type": "code",
   "execution_count": 17,
   "metadata": {},
   "outputs": [
    {
     "output_type": "execute_result",
     "data": {
      "text/plain": [
       "country       Arab World                                            \\\n",
       "year          2015-01-01    2014-01-01    2013-01-01    2012-01-01   \n",
       "Population  3.920223e+08  3.842226e+08  3.765043e+08  3.688026e+08   \n",
       "GDP         2.530102e+12  2.873600e+12  2.846994e+12  2.773270e+12   \n",
       "\n",
       "country                                                             \\\n",
       "year          2011-01-01    2010-01-01    2009-01-01    2008-01-01   \n",
       "Population  3.610318e+08  3.531122e+08  3.450542e+08  3.368865e+08   \n",
       "GDP         2.497945e+12  2.103825e+12  1.798878e+12  2.081343e+12   \n",
       "\n",
       "country                                 ...      Zimbabwe                \\\n",
       "year          2007-01-01    2006-01-01  ...    1969-01-01    1968-01-01   \n",
       "Population  3.287666e+08  3.209067e+08  ...  5.036321e+06  4.874113e+06   \n",
       "GDP         1.641666e+12  1.404190e+12  ...  1.747999e+09  1.479600e+09   \n",
       "\n",
       "country                                                             \\\n",
       "year          1967-01-01    1966-01-01    1965-01-01    1964-01-01   \n",
       "Population  4.718612e+06  4.568320e+06  4.422132e+06  4.279561e+06   \n",
       "GDP         1.397002e+09  1.281750e+09  1.311436e+09  1.217138e+09   \n",
       "\n",
       "country                                                             \n",
       "year          1963-01-01    1962-01-01    1961-01-01    1960-01-01  \n",
       "Population  4.140804e+06  4.006262e+06  3.876638e+06  3.752390e+06  \n",
       "GDP         1.159512e+09  1.117602e+09  1.096647e+09  1.052990e+09  \n",
       "\n",
       "[2 rows x 11211 columns]"
      ],
      "text/html": "<div>\n<style scoped>\n    .dataframe tbody tr th:only-of-type {\n        vertical-align: middle;\n    }\n\n    .dataframe tbody tr th {\n        vertical-align: top;\n    }\n\n    .dataframe thead tr th {\n        text-align: left;\n    }\n</style>\n<table border=\"1\" class=\"dataframe\">\n  <thead>\n    <tr>\n      <th>country</th>\n      <th colspan=\"10\" halign=\"left\">Arab World</th>\n      <th>...</th>\n      <th colspan=\"10\" halign=\"left\">Zimbabwe</th>\n    </tr>\n    <tr>\n      <th>year</th>\n      <th>2015-01-01</th>\n      <th>2014-01-01</th>\n      <th>2013-01-01</th>\n      <th>2012-01-01</th>\n      <th>2011-01-01</th>\n      <th>2010-01-01</th>\n      <th>2009-01-01</th>\n      <th>2008-01-01</th>\n      <th>2007-01-01</th>\n      <th>2006-01-01</th>\n      <th>...</th>\n      <th>1969-01-01</th>\n      <th>1968-01-01</th>\n      <th>1967-01-01</th>\n      <th>1966-01-01</th>\n      <th>1965-01-01</th>\n      <th>1964-01-01</th>\n      <th>1963-01-01</th>\n      <th>1962-01-01</th>\n      <th>1961-01-01</th>\n      <th>1960-01-01</th>\n    </tr>\n  </thead>\n  <tbody>\n    <tr>\n      <th>Population</th>\n      <td>3.920223e+08</td>\n      <td>3.842226e+08</td>\n      <td>3.765043e+08</td>\n      <td>3.688026e+08</td>\n      <td>3.610318e+08</td>\n      <td>3.531122e+08</td>\n      <td>3.450542e+08</td>\n      <td>3.368865e+08</td>\n      <td>3.287666e+08</td>\n      <td>3.209067e+08</td>\n      <td>...</td>\n      <td>5.036321e+06</td>\n      <td>4.874113e+06</td>\n      <td>4.718612e+06</td>\n      <td>4.568320e+06</td>\n      <td>4.422132e+06</td>\n      <td>4.279561e+06</td>\n      <td>4.140804e+06</td>\n      <td>4.006262e+06</td>\n      <td>3.876638e+06</td>\n      <td>3.752390e+06</td>\n    </tr>\n    <tr>\n      <th>GDP</th>\n      <td>2.530102e+12</td>\n      <td>2.873600e+12</td>\n      <td>2.846994e+12</td>\n      <td>2.773270e+12</td>\n      <td>2.497945e+12</td>\n      <td>2.103825e+12</td>\n      <td>1.798878e+12</td>\n      <td>2.081343e+12</td>\n      <td>1.641666e+12</td>\n      <td>1.404190e+12</td>\n      <td>...</td>\n      <td>1.747999e+09</td>\n      <td>1.479600e+09</td>\n      <td>1.397002e+09</td>\n      <td>1.281750e+09</td>\n      <td>1.311436e+09</td>\n      <td>1.217138e+09</td>\n      <td>1.159512e+09</td>\n      <td>1.117602e+09</td>\n      <td>1.096647e+09</td>\n      <td>1.052990e+09</td>\n    </tr>\n  </tbody>\n</table>\n<p>2 rows × 11211 columns</p>\n</div>"
     },
     "metadata": {},
     "execution_count": 17
    }
   ],
   "source": [
    "s.unstack(level=[0,1])\n",
    "s.unstack(level=['country','year'])"
   ]
  },
  {
   "cell_type": "code",
   "execution_count": 20,
   "metadata": {},
   "outputs": [],
   "source": [
    "s = s.unstack('year', fill_value=0)"
   ]
  },
  {
   "cell_type": "code",
   "execution_count": null,
   "metadata": {},
   "outputs": [],
   "source": []
  }
 ]
}